{
 "cells": [
  {
   "cell_type": "markdown",
   "id": "9fdaa66c",
   "metadata": {},
   "source": [
    "## Assignment - 23\n"
   ]
  },
  {
   "cell_type": "markdown",
   "id": "b1293915",
   "metadata": {},
   "source": [
    "#### 1. What is the result of the code, and why?\n",
    "#### &gt;&gt;&gt; def func(a, b=6, c=8):\n",
    "#### print(a, b, c)\n",
    "#### &gt;&gt;&gt; func(1, 2)"
   ]
  },
  {
   "cell_type": "code",
   "execution_count": 1,
   "id": "53116636",
   "metadata": {},
   "outputs": [
    {
     "name": "stdout",
     "output_type": "stream",
     "text": [
      "1 2 8\n"
     ]
    }
   ],
   "source": [
    "def func(a, b=6, c=8):\n",
    "    \n",
    "    print(a, b, c)\n",
    "    \n",
    "func(1,2)"
   ]
  },
  {
   "cell_type": "markdown",
   "id": "b630bb1a",
   "metadata": {},
   "source": [
    "    In the above function there is one positional argument (a) and 2 keyword arguments(b and c). When the function is called, positional argument 'a' takes the value '1' and keyword argument 'b' takes the value '2'. Since only two values are passed, keyword argument 'c' takes the default value '8'."
   ]
  },
  {
   "cell_type": "markdown",
   "id": "7b2bb95a",
   "metadata": {},
   "source": [
    "#### 2. What is the result of this code, and why?\n",
    "#### &gt;&gt;&gt; def func(a, b, c=5):\n",
    "#### print(a, b, c)\n",
    "#### &gt;&gt;&gt; func(1, c=3, b=2)"
   ]
  },
  {
   "cell_type": "code",
   "execution_count": 2,
   "id": "814f911e",
   "metadata": {},
   "outputs": [
    {
     "name": "stdout",
     "output_type": "stream",
     "text": [
      "1 2 3\n"
     ]
    }
   ],
   "source": [
    "def func(a, b, c=5):\n",
    "    \n",
    "    print(a, b, c)\n",
    "    \n",
    "func(1, c=3, b=2)"
   ]
  },
  {
   "cell_type": "markdown",
   "id": "b3b965a2",
   "metadata": {},
   "source": [
    "    In the above function there are two positional arguments (a and b) and 1 keyword argument (c). When the function is called, positional argument 'a' takes the value '1' and  positional argument 'b' is assigned a value '2'. Also keyword argument 'c' is assigned the value '3'. The keyword aarguments can be assigned in any order."
   ]
  },
  {
   "cell_type": "markdown",
   "id": "d44a498a",
   "metadata": {},
   "source": [
    "#### 3. How about this code: what is its result, and why?\n",
    "#### &gt;&gt;&gt; def func(a, *pargs):\n",
    "#### print(a, pargs)\n",
    "#### &gt;&gt;&gt; func(1, 2, 3)"
   ]
  },
  {
   "cell_type": "code",
   "execution_count": 5,
   "id": "32cacec7",
   "metadata": {},
   "outputs": [
    {
     "name": "stdout",
     "output_type": "stream",
     "text": [
      "1 (2, 3)\n"
     ]
    }
   ],
   "source": [
    "def func(a, *pargs):\n",
    "    print(a, pargs)\n",
    "    \n",
    "func(1, 2, 3)"
   ]
  },
  {
   "cell_type": "markdown",
   "id": "7c778d9c",
   "metadata": {},
   "source": [
    "    *pargs returns a tuple as the output. And we can pass any number of arguments to *pargs. Here 2 variable arguments are passed and we get a 2-tuple."
   ]
  },
  {
   "cell_type": "markdown",
   "id": "864ebbe6",
   "metadata": {},
   "source": [
    "#### 4. What does this code print, and why?\n",
    "#### &gt;&gt;&gt; def func(a, **kargs):\n",
    "#### print(a, kargs)\n",
    "#### &gt;&gt;&gt; func(a=1, c=3, b=2)"
   ]
  },
  {
   "cell_type": "code",
   "execution_count": 6,
   "id": "73659273",
   "metadata": {},
   "outputs": [
    {
     "name": "stdout",
     "output_type": "stream",
     "text": [
      "1 {'c': 3, 'b': 2}\n"
     ]
    }
   ],
   "source": [
    "def func(a, **kargs):\n",
    "    print(a, kargs)\n",
    "    \n",
    "func(a=1, c=3, b=2)"
   ]
  },
  {
   "cell_type": "markdown",
   "id": "6cec81d0",
   "metadata": {},
   "source": [
    "    **kargs returns a dictionary as the output. In the above function, 'a' is assigned the value '1'. 'b' and 'c' are assigned the values '2' and '3' respectively and returned as a dictionary. "
   ]
  },
  {
   "cell_type": "markdown",
   "id": "ce137f19",
   "metadata": {},
   "source": [
    "#### 5. What gets printed by this, and explain?\n",
    "#### &gt;&gt;&gt; def func(a, b, c=8, d=5): print(a, b, c, d)\n",
    "#### &gt;&gt;&gt; func(1, *(5, 6))"
   ]
  },
  {
   "cell_type": "code",
   "execution_count": 7,
   "id": "3224c9ca",
   "metadata": {},
   "outputs": [
    {
     "name": "stdout",
     "output_type": "stream",
     "text": [
      "1 5 6 5\n"
     ]
    }
   ],
   "source": [
    "def func(a, b, c=8, d=5):\n",
    "    print(a, b, c, d)\n",
    "    \n",
    "func(1, *(5, 6))"
   ]
  },
  {
   "cell_type": "markdown",
   "id": "f4698c87",
   "metadata": {},
   "source": [
    "    * is used to unpack the tuple values. In the above function positional argument 'a' is assigned the value '1'. \n",
    "    *(5, 6) unpacks values 5 and 6 and they are assigned to 'b' and 'c' respectively. Keyword argument 'd' takes the default value '5' given in the function."
   ]
  },
  {
   "cell_type": "markdown",
   "id": "17e5f92d",
   "metadata": {},
   "source": [
    "#### 6. what is the result of this, and explain?\n",
    "#### &gt;&gt;&gt; def func(a, b, c): a = 2; b[0] = &#39;x&#39;; c[&#39;a&#39;] = &#39;y&#39;\n",
    "#### &gt;&gt;&gt; l=1; m=[1]; n={&#39;a&#39;:0}\n",
    "#### &gt;&gt;&gt; func(l, m, n)\n",
    "#### &gt;&gt;&gt; l, m, n"
   ]
  },
  {
   "cell_type": "code",
   "execution_count": 8,
   "id": "8a1d9752",
   "metadata": {},
   "outputs": [
    {
     "data": {
      "text/plain": [
       "(1, ['x'], {'a': 'y'})"
      ]
     },
     "execution_count": 8,
     "metadata": {},
     "output_type": "execute_result"
    }
   ],
   "source": [
    "def func(a, b, c):\n",
    "    a=2\n",
    "    b[0] = 'x'\n",
    "    c['a'] = 'y'\n",
    "\n",
    "l = 1\n",
    "m = [1]\n",
    "n = {'a': 0}\n",
    "\n",
    "func(l, m, n)\n",
    "\n",
    "l, m, n"
   ]
  },
  {
   "cell_type": "markdown",
   "id": "6e3254f0",
   "metadata": {},
   "source": [
    "    In the above function, a variable, a list and a dictionary is passed as the argument to the function.\n",
    "    The argument 'l' is assigned the value 1 and it remains unchanged.\n",
    "    m is a list and hence it is mutable. Hence when it is passed to the function, 0th index of m gets updated to 'x'.\n",
    "    n is a dictionary and it is also mutable. Hence the value assigned to key 'a' gets updated to 'y'."
   ]
  }
 ],
 "metadata": {
  "kernelspec": {
   "display_name": "Python 3",
   "language": "python",
   "name": "python3"
  },
  "language_info": {
   "codemirror_mode": {
    "name": "ipython",
    "version": 3
   },
   "file_extension": ".py",
   "mimetype": "text/x-python",
   "name": "python",
   "nbconvert_exporter": "python",
   "pygments_lexer": "ipython3",
   "version": "3.8.8"
  }
 },
 "nbformat": 4,
 "nbformat_minor": 5
}
