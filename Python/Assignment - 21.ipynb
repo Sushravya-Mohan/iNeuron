{
 "cells": [
  {
   "cell_type": "markdown",
   "id": "9fdaa66c",
   "metadata": {},
   "source": [
    "## Assignment - 21"
   ]
  },
  {
   "cell_type": "markdown",
   "id": "b1293915",
   "metadata": {},
   "source": [
    "#### 1. Add the current date to the text file today.txt as a string."
   ]
  },
  {
   "cell_type": "code",
   "execution_count": 10,
   "id": "53116636",
   "metadata": {},
   "outputs": [
    {
     "name": "stdout",
     "output_type": "stream",
     "text": [
      "<_io.TextIOWrapper name='today.txt' mode='w+' encoding='cp1252'>\n"
     ]
    }
   ],
   "source": [
    "from datetime import date\n",
    "\n",
    "today = str(date.today())\n",
    "\n",
    "f = open('today.txt','w+')\n",
    "f.write(today)\n",
    "\n",
    "print(f)"
   ]
  },
  {
   "cell_type": "markdown",
   "id": "7b2bb95a",
   "metadata": {},
   "source": [
    "#### 2. Read the text file today.txt into the string today_string"
   ]
  },
  {
   "cell_type": "code",
   "execution_count": 11,
   "id": "814f911e",
   "metadata": {},
   "outputs": [
    {
     "name": "stdout",
     "output_type": "stream",
     "text": [
      "2021-12-08\n"
     ]
    }
   ],
   "source": [
    "f = open('today.txt','r+')\n",
    "today_string = f.read()\n",
    "\n",
    "print(today_string)"
   ]
  },
  {
   "cell_type": "markdown",
   "id": "d44a498a",
   "metadata": {},
   "source": [
    "#### 3. Parse the date from today_string."
   ]
  },
  {
   "cell_type": "code",
   "execution_count": 18,
   "id": "32cacec7",
   "metadata": {},
   "outputs": [
    {
     "name": "stdout",
     "output_type": "stream",
     "text": [
      "2021-12-08 00:00:00\n"
     ]
    }
   ],
   "source": [
    "import datetime\n",
    "\n",
    "parse = datetime.datetime.strptime(today_string, '%Y-%m-%d')\n",
    "print(parse)"
   ]
  },
  {
   "cell_type": "markdown",
   "id": "864ebbe6",
   "metadata": {},
   "source": [
    "#### 4. List the files in your current directory"
   ]
  },
  {
   "cell_type": "code",
   "execution_count": 20,
   "id": "73659273",
   "metadata": {},
   "outputs": [
    {
     "data": {
      "text/plain": [
       "['.ipynb_checkpoints',\n",
       " '1- Print statement.ipynb',\n",
       " '19.2.MySQL',\n",
       " '2- Conditional statement.ipynb',\n",
       " '3- Strings, Indexing.ipynb',\n",
       " '4 - String and list manipulation.ipynb',\n",
       " '5 - List manipulation and List Comprehension.ipynb',\n",
       " '6 - Tuple, Set, Dictionary.ipynb',\n",
       " '7 - Functions (P1).ipynb',\n",
       " '8 - Functions(P2).ipynb',\n",
       " 'Abstraction and Inheritance.ipynb',\n",
       " 'Assignment - 1.ipynb',\n",
       " 'Assignment - 10.ipynb',\n",
       " 'Assignment - 11.ipynb',\n",
       " 'Assignment - 12.ipynb',\n",
       " 'Assignment - 13.ipynb',\n",
       " 'Assignment - 14.ipynb',\n",
       " 'Assignment - 15.ipynb',\n",
       " 'Assignment - 16.ipynb',\n",
       " 'Assignment - 17.ipynb',\n",
       " 'Assignment - 18.ipynb',\n",
       " 'Assignment - 19.ipynb',\n",
       " 'Assignment - 2.ipynb',\n",
       " 'Assignment - 20.ipynb',\n",
       " 'Assignment - 21.ipynb',\n",
       " 'Assignment - 22.ipynb',\n",
       " 'Assignment - 23.ipynb',\n",
       " 'Assignment - 24.ipynb',\n",
       " 'Assignment - 25.ipynb',\n",
       " 'Assignment - 3.ipynb',\n",
       " 'Assignment - 4.ipynb',\n",
       " 'Assignment - 7.ipynb',\n",
       " 'Assignment - 8.ipynb',\n",
       " 'Assignment - 9.ipynb',\n",
       " 'books.csv',\n",
       " 'books.db',\n",
       " 'Cassandra.ipynb',\n",
       " 'Connecting SQL to Python.ipynb',\n",
       " 'FoldersforPython',\n",
       " 'Introduction to MongoDB and Mongo APIs.ipynb',\n",
       " 'logging and debuging.ipynb',\n",
       " 'Power BI',\n",
       " 'Programming Assignment - 1.ipynb',\n",
       " 'Programming Assignment - 10.ipynb',\n",
       " 'Programming Assignment - 11.ipynb',\n",
       " 'Programming Assignment - 12.ipynb',\n",
       " 'Programming Assignment - 13.ipynb',\n",
       " 'Programming Assignment - 14.ipynb',\n",
       " 'Programming Assignment - 15.ipynb',\n",
       " 'Programming Assignment - 16.ipynb',\n",
       " 'Programming Assignment - 17.ipynb',\n",
       " 'Programming Assignment - 18.ipynb',\n",
       " 'Programming Assignment - 19.ipynb',\n",
       " 'Programming Assignment - 2.ipynb',\n",
       " 'Programming Assignment - 20.ipynb',\n",
       " 'Programming Assignment - 3.ipynb',\n",
       " 'Programming Assignment - 4.ipynb',\n",
       " 'Programming Assignment - 5.ipynb',\n",
       " 'Programming Assignment - 6.ipynb',\n",
       " 'Programming Assignment - 7.ipynb',\n",
       " 'Programming Assignment - 8.ipynb',\n",
       " 'Programming Assignment - 9.ipynb',\n",
       " 'Reusing Classes, Functions and Methods.ipynb',\n",
       " 'secure-connect-test.zip',\n",
       " 'test.txt',\n",
       " 'today.txt',\n",
       " 'Untitled.ipynb',\n",
       " 'zoo.py',\n",
       " '__pycache__']"
      ]
     },
     "execution_count": 20,
     "metadata": {},
     "output_type": "execute_result"
    }
   ],
   "source": [
    "import os\n",
    "\n",
    "os.listdir('.')"
   ]
  },
  {
   "cell_type": "markdown",
   "id": "ce137f19",
   "metadata": {},
   "source": [
    "#### 5. Create a list of all of the files in your parent directory (minimum five files should be available)."
   ]
  },
  {
   "cell_type": "code",
   "execution_count": 21,
   "id": "3224c9ca",
   "metadata": {},
   "outputs": [
    {
     "data": {
      "text/plain": [
       "['.ipynb_checkpoints',\n",
       " 'client_secret.json',\n",
       " 'Daily Analysis',\n",
       " 'Data Files',\n",
       " 'error-report_500646247418_aee09ddf-a057-4b06-bf27-4b5ff19d816d_0ca4bdbe-0406-402e-ad3e-39b7a56d015b.csv',\n",
       " 'Google Sheets API.ipynb',\n",
       " 'Google.ipynb',\n",
       " 'keys.json',\n",
       " 'Meesho.ipynb',\n",
       " 'Personal',\n",
       " 'Sales Report',\n",
       " 'Testing - Google APIs.ipynb',\n",
       " 'token_sheets_v4.pickle',\n",
       " 'Verify - Sheet1.csv']"
      ]
     },
     "execution_count": 21,
     "metadata": {},
     "output_type": "execute_result"
    }
   ],
   "source": [
    "import os\n",
    "\n",
    "os.listdir('..')"
   ]
  },
  {
   "cell_type": "markdown",
   "id": "17e5f92d",
   "metadata": {},
   "source": [
    "#### 6. Use multiprocessing to create three separate processes. Make each one wait a random number of seconds between one and five, print the current time, and then exit."
   ]
  },
  {
   "cell_type": "code",
   "execution_count": 57,
   "id": "8a1d9752",
   "metadata": {},
   "outputs": [],
   "source": [
    "import multiprocessing\n",
    "import datetime\n",
    "import time\n",
    "import random\n",
    "\n",
    "def current_time(wait_time):\n",
    "    time.sleep(wait_time)\n",
    "    print('Wait', wait_time, 's. Current time is', datetime.time.now())\n",
    "    \n",
    "if __name__ == '__main__':\n",
    "    for n in range(3):\n",
    "        wait_time = random.choice(range(1, 5))\n",
    "        proces = multiprocessing.Process(target = current_time, args = (wait_time, ))\n",
    "        proces.start()"
   ]
  },
  {
   "cell_type": "code",
   "execution_count": 58,
   "id": "26dea89f",
   "metadata": {},
   "outputs": [
    {
     "name": "stdout",
     "output_type": "stream",
     "text": [
      "Wait 1 s. Current time is 2021-12-08 20:34:36.306878\n",
      "Wait 1 s. Current time is 2021-12-08 20:34:36.306878\n",
      "Wait 2 s. Current time is 2021-12-08 20:34:37.306713\n"
     ]
    }
   ],
   "source": [
    "!python multi.py"
   ]
  },
  {
   "cell_type": "markdown",
   "id": "be5a8ed8",
   "metadata": {},
   "source": [
    "#### 7. Create a date object of your day of birth."
   ]
  },
  {
   "cell_type": "code",
   "execution_count": 59,
   "id": "9115807f",
   "metadata": {},
   "outputs": [
    {
     "data": {
      "text/plain": [
       "datetime.date(1992, 7, 17)"
      ]
     },
     "execution_count": 59,
     "metadata": {},
     "output_type": "execute_result"
    }
   ],
   "source": [
    "birthday = date(1992,7,17)\n",
    "birthday"
   ]
  },
  {
   "cell_type": "markdown",
   "id": "512f2bab",
   "metadata": {},
   "source": [
    "#### 8. What day of the week was your day of birth?"
   ]
  },
  {
   "cell_type": "code",
   "execution_count": 61,
   "id": "4d96551b",
   "metadata": {},
   "outputs": [
    {
     "data": {
      "text/plain": [
       "4"
      ]
     },
     "execution_count": 61,
     "metadata": {},
     "output_type": "execute_result"
    }
   ],
   "source": [
    "week = birthday.weekday()\n",
    "week"
   ]
  },
  {
   "cell_type": "markdown",
   "id": "745746b2",
   "metadata": {},
   "source": [
    "#### 9. When will you be (or when were you) 10,000 days old?"
   ]
  },
  {
   "cell_type": "code",
   "execution_count": 62,
   "id": "90826f87",
   "metadata": {},
   "outputs": [
    {
     "data": {
      "text/plain": [
       "datetime.date(2019, 12, 3)"
      ]
     },
     "execution_count": 62,
     "metadata": {},
     "output_type": "execute_result"
    }
   ],
   "source": [
    "from datetime import timedelta\n",
    "\n",
    "old_10000 = birthday + timedelta(days=10000)\n",
    "old_10000"
   ]
  },
  {
   "cell_type": "code",
   "execution_count": null,
   "id": "aaba8775",
   "metadata": {},
   "outputs": [],
   "source": []
  }
 ],
 "metadata": {
  "kernelspec": {
   "display_name": "Python 3",
   "language": "python",
   "name": "python3"
  },
  "language_info": {
   "codemirror_mode": {
    "name": "ipython",
    "version": 3
   },
   "file_extension": ".py",
   "mimetype": "text/x-python",
   "name": "python",
   "nbconvert_exporter": "python",
   "pygments_lexer": "ipython3",
   "version": "3.8.8"
  }
 },
 "nbformat": 4,
 "nbformat_minor": 5
}
