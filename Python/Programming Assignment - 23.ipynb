{
 "cells": [
  {
   "cell_type": "markdown",
   "id": "e5299a8e",
   "metadata": {},
   "source": [
    "# Assignment - 23\n"
   ]
  },
  {
   "cell_type": "markdown",
   "id": "f986057e",
   "metadata": {},
   "source": [
    "#### 1. Create a function that takes a number as an argument and returns True or False depending on whether the number is symmetrical or not. A number is symmetrical when it is the same as its reverse."
   ]
  },
  {
   "cell_type": "code",
   "execution_count": 4,
   "id": "1574b0f1",
   "metadata": {},
   "outputs": [
    {
     "name": "stdout",
     "output_type": "stream",
     "text": [
      "True\n",
      "False\n",
      "True\n",
      "False\n",
      "True\n"
     ]
    }
   ],
   "source": [
    "def is_symmetrical(num):\n",
    "    \n",
    "    rev_num = str(num)[::-1]\n",
    "    \n",
    "    if str(num) == rev_num:\n",
    "        print(True)\n",
    "    else:\n",
    "        print(False)\n",
    "        \n",
    "is_symmetrical(7227)\n",
    "is_symmetrical(12567)\n",
    "is_symmetrical(44444444)\n",
    "is_symmetrical(9939)\n",
    "is_symmetrical(1112111)"
   ]
  },
  {
   "cell_type": "markdown",
   "id": "cf4899c7",
   "metadata": {},
   "source": [
    "   #### 2. Given a string of numbers separated by a comma and space, return the product of the numbers."
   ]
  },
  {
   "cell_type": "code",
   "execution_count": 7,
   "id": "ead9b83c",
   "metadata": {},
   "outputs": [
    {
     "name": "stdout",
     "output_type": "stream",
     "text": [
      "6\n",
      "24\n",
      "0\n",
      "-20\n"
     ]
    }
   ],
   "source": [
    "def multiply_nums(num_str):\n",
    "    p = 1\n",
    "    l = num_str.split(\", \")\n",
    "    \n",
    "    for i in l:\n",
    "        p = p * int(i)\n",
    "        \n",
    "    print(p)\n",
    "    \n",
    "multiply_nums(\"2, 3\")\n",
    "multiply_nums(\"1, 2, 3, 4\")\n",
    "multiply_nums(\"54, 75, 453, 0\")\n",
    "multiply_nums(\"10, -2\")"
   ]
  },
  {
   "cell_type": "markdown",
   "id": "ad8249ef",
   "metadata": {},
   "source": [
    "#### 3. Create a function that squares every digit of a number."
   ]
  },
  {
   "cell_type": "code",
   "execution_count": 12,
   "id": "c8a94cde",
   "metadata": {},
   "outputs": [
    {
     "name": "stdout",
     "output_type": "stream",
     "text": [
      "811181\n",
      "416649\n",
      "9414\n"
     ]
    }
   ],
   "source": [
    "def square_digits(num):\n",
    "    \n",
    "    lst = [i for i in str(num)]\n",
    "    sq_lst = []\n",
    "    \n",
    "    for i in lst:\n",
    "        sq = int(i)**2\n",
    "        sq = str(sq)\n",
    "        sq_lst.append(sq)\n",
    "    \n",
    "    join_str = \"\".join(sq_lst)\n",
    "    fin_num = int(join_str)\n",
    "    print(fin_num)\n",
    "    \n",
    "square_digits(9119)\n",
    "square_digits(2483)\n",
    "square_digits(3212)       \n",
    "    "
   ]
  },
  {
   "cell_type": "markdown",
   "id": "a9af6e3c",
   "metadata": {},
   "source": [
    "#### 4. Create a function that sorts a list and removes all duplicate items from it."
   ]
  },
  {
   "cell_type": "code",
   "execution_count": 13,
   "id": "0bc71353",
   "metadata": {},
   "outputs": [
    {
     "name": "stdout",
     "output_type": "stream",
     "text": [
      "[1, 3, 5]\n",
      "[4]\n",
      "[5, 7, 8, 9, 10, 15]\n",
      "[3, 2, 1]\n"
     ]
    }
   ],
   "source": [
    "def setify(lst):\n",
    "    \n",
    "    new_lst = []\n",
    "    \n",
    "    for i in lst:\n",
    "        if i not in new_lst:\n",
    "            new_lst.append(i)\n",
    "        else:\n",
    "            pass\n",
    "    \n",
    "    print(new_lst)\n",
    "\n",
    "setify([1, 3, 3, 5, 5])\n",
    "setify([4, 4, 4, 4])\n",
    "setify([5, 7, 8, 9, 10, 15])\n",
    "setify([3, 3, 3, 2, 1])"
   ]
  },
  {
   "cell_type": "markdown",
   "id": "34f4f3ab",
   "metadata": {},
   "source": [
    "#### 5. Create a function that returns the mean of all digits."
   ]
  },
  {
   "cell_type": "code",
   "execution_count": 16,
   "id": "28250c9b",
   "metadata": {},
   "outputs": [
    {
     "name": "stdout",
     "output_type": "stream",
     "text": [
      "3\n",
      "3\n",
      "6\n",
      "2\n"
     ]
    }
   ],
   "source": [
    "def mean(num):\n",
    "    \n",
    "    num_str = str(num)\n",
    "    s = 0\n",
    "    l = len(num_str)\n",
    "    \n",
    "    for i in num_str:\n",
    "        s += int(i)\n",
    "        \n",
    "    m = int(s/l)\n",
    "    \n",
    "    print(m)\n",
    "    \n",
    "mean(42)\n",
    "mean(12345)\n",
    "mean(666)\n",
    "mean(512)"
   ]
  },
  {
   "cell_type": "code",
   "execution_count": null,
   "id": "6818b528",
   "metadata": {},
   "outputs": [],
   "source": []
  }
 ],
 "metadata": {
  "kernelspec": {
   "display_name": "Python 3",
   "language": "python",
   "name": "python3"
  },
  "language_info": {
   "codemirror_mode": {
    "name": "ipython",
    "version": 3
   },
   "file_extension": ".py",
   "mimetype": "text/x-python",
   "name": "python",
   "nbconvert_exporter": "python",
   "pygments_lexer": "ipython3",
   "version": "3.8.8"
  }
 },
 "nbformat": 4,
 "nbformat_minor": 5
}
