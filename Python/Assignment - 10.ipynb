{
 "cells": [
  {
   "cell_type": "markdown",
   "id": "650e6adf",
   "metadata": {},
   "source": [
    "# Assignment - 10\n",
    "\n"
   ]
  },
  {
   "cell_type": "markdown",
   "id": "21929d0b",
   "metadata": {},
   "source": [
    "#### 1. How do you distinguish between shutil.copy() and shutil.copytree()?"
   ]
  },
  {
   "cell_type": "markdown",
   "id": "3788357a",
   "metadata": {},
   "source": [
    "    shutil.copy() will copy a single file from path source to folder at path destination\n",
    "    shutil.copytree() will copy an entire folder and every folder and file contained in it"
   ]
  },
  {
   "cell_type": "markdown",
   "id": "8be63d44",
   "metadata": {},
   "source": [
    "#### 2. What function is used to rename files?"
   ]
  },
  {
   "cell_type": "markdown",
   "id": "67ca7f97",
   "metadata": {},
   "source": [
    "    Files can be renamed using os.rename() or shutil.move() functions"
   ]
  },
  {
   "cell_type": "markdown",
   "id": "8e5d6e20",
   "metadata": {},
   "source": [
    "#### 3. What is the difference between the delete functions in the send2trash and shutil modules?"
   ]
  },
  {
   "cell_type": "markdown",
   "id": "3dbfe8ac",
   "metadata": {},
   "source": [
    "     The delete function in the shutil module irreversibly deletes files and folders whereas the delete function in the send2trash module will send files and folders to computer's trash or recycle bin instead of permanently deleting them."
   ]
  },
  {
   "cell_type": "markdown",
   "id": "56e8c39d",
   "metadata": {},
   "source": [
    "#### 4. ZipFile objects have a close() method just like File objects’ close() method. What ZipFile method is equivalent to File objects’ open() method?"
   ]
  },
  {
   "cell_type": "markdown",
   "id": "7e939eae",
   "metadata": {},
   "source": [
    "      The zipfile.ZipFile() function is equivalent to the open() function.\n",
    "      The first argument is the file name and the second argument is the mode in which the file has to be opened."
   ]
  },
  {
   "cell_type": "markdown",
   "id": "9850c649",
   "metadata": {},
   "source": [
    "#### 5. Create a programme that searches a folder tree for files with a certain file extension (such as .pdf or .jpg). Copy these files from whatever location they are in to a new folder."
   ]
  },
  {
   "cell_type": "code",
   "execution_count": 5,
   "id": "ceff2d52",
   "metadata": {},
   "outputs": [],
   "source": [
    "import os, shutil\n",
    "\n",
    "def search_copy(folder, extensions, destination):\n",
    "    folder = os.path.abspath(folder)\n",
    "    destination = os.path.abspath(destination)\n",
    "    for foldername, subfolders, filenames in os.walk(folder):\n",
    "        for filename in filenames:\n",
    "            name, extension = os.path.splitext(filename)\n",
    "            if extension in extensions:\n",
    "                fileAbsPath = foldername + os.path.sep + filename\n",
    "                shutil.copy(fileAbsPath, destination)\n",
    "\n",
    "extensions = ['.pdf', '.jpg']\n",
    "folder = 'C:\\\\Users\\\\Sushravya\\\\Desktop\\\\Test'\n",
    "destination = 'C:\\\\Users\\\\Sushravya\\\\Desktop\\\\Destination'\n",
    "\n",
    "search_copy(folder, extensions, destination)"
   ]
  }
 ],
 "metadata": {
  "kernelspec": {
   "display_name": "Python 3",
   "language": "python",
   "name": "python3"
  },
  "language_info": {
   "codemirror_mode": {
    "name": "ipython",
    "version": 3
   },
   "file_extension": ".py",
   "mimetype": "text/x-python",
   "name": "python",
   "nbconvert_exporter": "python",
   "pygments_lexer": "ipython3",
   "version": "3.8.8"
  }
 },
 "nbformat": 4,
 "nbformat_minor": 5
}
