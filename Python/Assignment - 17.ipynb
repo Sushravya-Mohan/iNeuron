{
 "cells": [
  {
   "cell_type": "markdown",
   "id": "650e6adf",
   "metadata": {},
   "source": [
    "# Assignment - 17\n",
    "\n"
   ]
  },
  {
   "cell_type": "markdown",
   "id": "21929d0b",
   "metadata": {},
   "source": [
    "#### 1. Assign the value 7 to the variable guess_me. Then, write the conditional tests (if, else, and elif) to print the string &#39;too low&#39; if guess_me is less than 7, &#39;too high&#39; if greater than 7, and &#39;just right&#39; if equal to 7."
   ]
  },
  {
   "cell_type": "code",
   "execution_count": 1,
   "id": "356cd758",
   "metadata": {},
   "outputs": [
    {
     "name": "stdout",
     "output_type": "stream",
     "text": [
      "just right\n"
     ]
    }
   ],
   "source": [
    "guess_me = 7\n",
    "\n",
    "if guess_me < 7:\n",
    "    print('too low')\n",
    "elif guess_me > 7:\n",
    "    print('too high')\n",
    "else:\n",
    "    print('just right')"
   ]
  },
  {
   "cell_type": "markdown",
   "id": "8be63d44",
   "metadata": {},
   "source": [
    "#### 2. Assign the value 7 to the variable guess_me and the value 1 to the variable start. Write a while loop that compares start with guess_me. Print too low if start is less than guess me. If start equals guess_me, print &#39;found it!&#39; and exit the loop. If start is greater than guess_me, print &#39;oops&#39; and exit the loop. Increment start at the end of the loop."
   ]
  },
  {
   "cell_type": "code",
   "execution_count": 3,
   "id": "c4214364",
   "metadata": {},
   "outputs": [
    {
     "name": "stdout",
     "output_type": "stream",
     "text": [
      "too low\n",
      "too low\n",
      "too low\n",
      "too low\n",
      "too low\n",
      "too low\n",
      "found it\n"
     ]
    }
   ],
   "source": [
    "guess_me = 7\n",
    "start = 1\n",
    "\n",
    "while True:\n",
    "    \n",
    "    if start < guess_me:\n",
    "        print('too low')\n",
    "        \n",
    "    elif start == guess_me:\n",
    "        print('found it')\n",
    "        break\n",
    "        \n",
    "    else:\n",
    "        print('oops')\n",
    "        break\n",
    "        \n",
    "    start += 1"
   ]
  },
  {
   "cell_type": "markdown",
   "id": "8e5d6e20",
   "metadata": {},
   "source": [
    "#### 3. Print the following values of the list [3, 2, 1, 0] using a for loop."
   ]
  },
  {
   "cell_type": "code",
   "execution_count": 10,
   "id": "a6152309",
   "metadata": {},
   "outputs": [
    {
     "name": "stdout",
     "output_type": "stream",
     "text": [
      "3\n",
      "2\n",
      "1\n",
      "0\n"
     ]
    }
   ],
   "source": [
    "l = [3, 2, 1, 0]\n",
    "\n",
    "for i in l:\n",
    "    print(i)"
   ]
  },
  {
   "cell_type": "markdown",
   "id": "56e8c39d",
   "metadata": {},
   "source": [
    "#### 4. Use a list comprehension to make a list of the even numbers in range(10)"
   ]
  },
  {
   "cell_type": "code",
   "execution_count": 12,
   "id": "d678c1cf",
   "metadata": {},
   "outputs": [
    {
     "name": "stdout",
     "output_type": "stream",
     "text": [
      "[0, 2, 4, 6, 8]\n"
     ]
    }
   ],
   "source": [
    "even = [i for i in range(10) if i%2 == 0]\n",
    "\n",
    "print(even)"
   ]
  },
  {
   "cell_type": "markdown",
   "id": "9850c649",
   "metadata": {},
   "source": [
    "#### 5. Use a dictionary comprehension to create the dictionary squares. Use range(10) to return the keys, and use the square of each key as its value."
   ]
  },
  {
   "cell_type": "code",
   "execution_count": 16,
   "id": "dab5e4dc",
   "metadata": {},
   "outputs": [
    {
     "name": "stdout",
     "output_type": "stream",
     "text": [
      "{0: 0, 1: 1, 2: 4, 3: 9, 4: 16, 5: 25, 6: 36, 7: 49, 8: 64, 9: 81}\n"
     ]
    }
   ],
   "source": [
    "square = {i:i*i for i in range(10)}\n",
    "\n",
    "print(square)"
   ]
  },
  {
   "cell_type": "markdown",
   "id": "6f95cd47",
   "metadata": {},
   "source": [
    "#### 6. Construct the set odd from the odd numbers in the range using a set comprehension (10)."
   ]
  },
  {
   "cell_type": "code",
   "execution_count": 17,
   "id": "b78478aa",
   "metadata": {},
   "outputs": [
    {
     "name": "stdout",
     "output_type": "stream",
     "text": [
      "{1, 3, 5, 7, 9}\n"
     ]
    }
   ],
   "source": [
    "odd = {i for i in range(10) if i%2 == 1}\n",
    "\n",
    "print(odd)"
   ]
  },
  {
   "cell_type": "markdown",
   "id": "df90fe34",
   "metadata": {},
   "source": [
    "#### 7. Use a generator comprehension to return the string &#39;Got &#39; and a number for the numbers in range(10). Iterate through this by using a for loop."
   ]
  },
  {
   "cell_type": "code",
   "execution_count": 19,
   "id": "78e996f3",
   "metadata": {},
   "outputs": [
    {
     "name": "stdout",
     "output_type": "stream",
     "text": [
      "Got0\n",
      "Got1\n",
      "Got2\n",
      "Got3\n",
      "Got4\n",
      "Got5\n",
      "Got6\n",
      "Got7\n",
      "Got8\n",
      "Got9\n"
     ]
    }
   ],
   "source": [
    "string = ('Got' + str(n) for n in range(10))\n",
    "\n",
    "for i in string:\n",
    "    print(i)"
   ]
  },
  {
   "cell_type": "markdown",
   "id": "0bbb0d28",
   "metadata": {},
   "source": [
    "#### 8. Define a function called good that returns the list [&#39;Harry&#39;, &#39;Ron&#39;, &#39;Hermione&#39;]."
   ]
  },
  {
   "cell_type": "code",
   "execution_count": 21,
   "id": "f602c334",
   "metadata": {},
   "outputs": [
    {
     "name": "stdout",
     "output_type": "stream",
     "text": [
      "['Harry', 'Ron', 'Hermoine']\n"
     ]
    }
   ],
   "source": [
    "def good():\n",
    "    return ['Harry', 'Ron', 'Hermoine']\n",
    "\n",
    "print(good())"
   ]
  },
  {
   "cell_type": "markdown",
   "id": "5e003ac6",
   "metadata": {},
   "source": [
    "#### 9. Define a generator function called get_odds that returns the odd numbers from range(10). Use a for loop to find and print the third value returned."
   ]
  },
  {
   "cell_type": "code",
   "execution_count": 22,
   "id": "a35e358f",
   "metadata": {},
   "outputs": [
    {
     "name": "stdout",
     "output_type": "stream",
     "text": [
      "5\n"
     ]
    }
   ],
   "source": [
    "get_odds = [num for num in range(10) if num%2 == 1]\n",
    "\n",
    "for i in range(len(get_odds)):\n",
    "    \n",
    "    if i == 2:\n",
    "        print(get_odds[i])"
   ]
  },
  {
   "cell_type": "markdown",
   "id": "4d150976",
   "metadata": {},
   "source": [
    "#### 10. Define an exception called OopsException. Raise this exception to see what happens. Then write the code to catch this exception and print &#39;Caught an oops&#39;."
   ]
  },
  {
   "cell_type": "code",
   "execution_count": 29,
   "id": "843dd731",
   "metadata": {},
   "outputs": [
    {
     "name": "stdout",
     "output_type": "stream",
     "text": [
      "Caught an oops\n"
     ]
    }
   ],
   "source": [
    "class OopsException(Exception):\n",
    "    pass\n",
    "\n",
    "def exception(a):\n",
    "    if a != 2:\n",
    "        raise OopsException(a)\n",
    "        \n",
    "try:\n",
    "    exception(3)\n",
    "except OopsException as e:\n",
    "    print('Caught an oops')"
   ]
  },
  {
   "cell_type": "markdown",
   "id": "da6963f2",
   "metadata": {},
   "source": [
    "#### 11. Use zip() to make a dictionary called movies that pairs these lists: titles = [&#39;Creature of Habit&#39;, &#39;Crewel Fate&#39;] and plots = [&#39;A nun turns into a monster&#39;, &#39;A haunted yarn shop&#39;]."
   ]
  },
  {
   "cell_type": "code",
   "execution_count": 31,
   "id": "cc2386b2",
   "metadata": {},
   "outputs": [
    {
     "name": "stdout",
     "output_type": "stream",
     "text": [
      "{'Creature of Habit': 'A nun turns into a monster', 'Crewel Fate': 'A haunted yarn shop'}\n"
     ]
    }
   ],
   "source": [
    "titles = ['Creature of Habit', 'Crewel Fate']\n",
    "plots = ['A nun turns into a monster', 'A haunted yarn shop']\n",
    "\n",
    "movies = dict(zip(titles, plots))\n",
    "\n",
    "print(movies)"
   ]
  }
 ],
 "metadata": {
  "kernelspec": {
   "display_name": "Python 3",
   "language": "python",
   "name": "python3"
  },
  "language_info": {
   "codemirror_mode": {
    "name": "ipython",
    "version": 3
   },
   "file_extension": ".py",
   "mimetype": "text/x-python",
   "name": "python",
   "nbconvert_exporter": "python",
   "pygments_lexer": "ipython3",
   "version": "3.8.8"
  }
 },
 "nbformat": 4,
 "nbformat_minor": 5
}
