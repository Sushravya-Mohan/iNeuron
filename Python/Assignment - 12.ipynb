{
 "cells": [
  {
   "cell_type": "markdown",
   "id": "650e6adf",
   "metadata": {},
   "source": [
    "# Assignment - 12\n",
    "\n"
   ]
  },
  {
   "cell_type": "markdown",
   "id": "21929d0b",
   "metadata": {},
   "source": [
    "#### 1. In what modes should the PdfFileReader() and PdfFileWriter() File objects will be opened?"
   ]
  },
  {
   "cell_type": "markdown",
   "id": "51ad0af5",
   "metadata": {},
   "source": [
    "    PdfFileReader() should be opened in Read-binary (rb) mode\n",
    "    PdfFileWriter() should be opened in Write-binary(wb) mode"
   ]
  },
  {
   "cell_type": "markdown",
   "id": "8be63d44",
   "metadata": {},
   "source": [
    "#### 2. From a PdfFileReader object, how do you get a Page object for page 5?"
   ]
  },
  {
   "cell_type": "markdown",
   "id": "03390804",
   "metadata": {},
   "source": [
    "    Calling getPage(4) will return Page object for page 5, since page 0 is the first page"
   ]
  },
  {
   "cell_type": "markdown",
   "id": "8e5d6e20",
   "metadata": {},
   "source": [
    "#### 3. What PdfFileReader variable stores the number of pages in the PDF document?"
   ]
  },
  {
   "cell_type": "markdown",
   "id": "7032d9f7",
   "metadata": {},
   "source": [
    "    The numPages variale stores the number of pages in the PDF document"
   ]
  },
  {
   "cell_type": "markdown",
   "id": "56e8c39d",
   "metadata": {},
   "source": [
    "#### 4. If a PdfFileReader object’s PDF is encrypted with the password swordfish, what must you do before you can obtain Page objects from it?"
   ]
  },
  {
   "cell_type": "markdown",
   "id": "b6dd3486",
   "metadata": {},
   "source": [
    "     If PDF is encrypted with password, call decrypt('swordfish')"
   ]
  },
  {
   "cell_type": "markdown",
   "id": "9850c649",
   "metadata": {},
   "source": [
    "#### 5. What methods do you use to rotate a page?"
   ]
  },
  {
   "cell_type": "markdown",
   "id": "853f5eb4",
   "metadata": {},
   "source": [
    "        We can use the rotateClockwise() and rotateCounterClockwise() methods by passing the degree of rotation required as integer"
   ]
  },
  {
   "cell_type": "markdown",
   "id": "6f95cd47",
   "metadata": {},
   "source": [
    "#### 6. What is the difference between a Run object and a Paragraph object?"
   ]
  },
  {
   "cell_type": "markdown",
   "id": "7c9abda7",
   "metadata": {},
   "source": [
    "     A document contains multiple paragraphs. A paragraph contains multiple runs.\n",
    "     Runs are adjoining group of objects in a paragraph."
   ]
  },
  {
   "cell_type": "markdown",
   "id": "df90fe34",
   "metadata": {},
   "source": [
    "#### 7. How do you obtain a list of Paragraph objects for a Document object that’s stored in a variable named doc? "
   ]
  },
  {
   "cell_type": "markdown",
   "id": "9c578f51",
   "metadata": {},
   "source": [
    "        We can use doc.paragraphs"
   ]
  },
  {
   "cell_type": "markdown",
   "id": "437d5cae",
   "metadata": {},
   "source": [
    "#### 8. What type of object has bold, underline, italic, strike, and outline variables?"
   ]
  },
  {
   "cell_type": "markdown",
   "id": "c79bc3af",
   "metadata": {},
   "source": [
    "    A run object has these variables"
   ]
  },
  {
   "cell_type": "markdown",
   "id": "a2b63cff",
   "metadata": {},
   "source": [
    "#### 9. What is the difference between False, True, and None for the bold variable?"
   ]
  },
  {
   "cell_type": "markdown",
   "id": "0a508df9",
   "metadata": {},
   "source": [
    "    True makes the run object always bold.\n",
    "    False makes the run object always not bold.\n",
    "    None makes the run object use style's bold setting."
   ]
  },
  {
   "cell_type": "markdown",
   "id": "65c964ea",
   "metadata": {},
   "source": [
    "#### 10. How do you create a Document object for a new Word document?"
   ]
  },
  {
   "cell_type": "markdown",
   "id": "25ccc2e7",
   "metadata": {},
   "source": [
    "     Use the docs.Document() function"
   ]
  },
  {
   "cell_type": "markdown",
   "id": "b39661ac",
   "metadata": {},
   "source": [
    "#### 11. How do you add a paragraph with the text &#39;Hello, there!&#39; to a Document object stored in a variable named doc?"
   ]
  },
  {
   "cell_type": "markdown",
   "id": "5f6fbac6",
   "metadata": {},
   "source": [
    "    By using doc.add_paragraph('Hello, there!'), a paragraph with the text 'Hello, there!' can be added to a document object"
   ]
  },
  {
   "cell_type": "markdown",
   "id": "a27b21a7",
   "metadata": {},
   "source": [
    "#### 12. What integers represent the levels of headings available in Word documents?"
   ]
  },
  {
   "cell_type": "markdown",
   "id": "f22728e2",
   "metadata": {},
   "source": [
    "    The integers 0, 1, 2, 3 and 4 represent the levels of headings available in Word documents"
   ]
  }
 ],
 "metadata": {
  "kernelspec": {
   "display_name": "Python 3",
   "language": "python",
   "name": "python3"
  },
  "language_info": {
   "codemirror_mode": {
    "name": "ipython",
    "version": 3
   },
   "file_extension": ".py",
   "mimetype": "text/x-python",
   "name": "python",
   "nbconvert_exporter": "python",
   "pygments_lexer": "ipython3",
   "version": "3.8.8"
  }
 },
 "nbformat": 4,
 "nbformat_minor": 5
}
