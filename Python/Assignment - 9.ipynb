{
 "cells": [
  {
   "cell_type": "markdown",
   "id": "650e6adf",
   "metadata": {},
   "source": [
    "# Assignment - 9\n",
    "\n"
   ]
  },
  {
   "cell_type": "markdown",
   "id": "21929d0b",
   "metadata": {},
   "source": [
    "#### 1. To what does a relative path refer?"
   ]
  },
  {
   "cell_type": "markdown",
   "id": "3788357a",
   "metadata": {},
   "source": [
    "    The relative path refers to the current working directory."
   ]
  },
  {
   "cell_type": "markdown",
   "id": "8be63d44",
   "metadata": {},
   "source": [
    "#### 2. What does an absolute path start with your operating system?"
   ]
  },
  {
   "cell_type": "markdown",
   "id": "67ca7f97",
   "metadata": {},
   "source": [
    "    Absolute paths start with the root folder like C:\\\\"
   ]
  },
  {
   "cell_type": "markdown",
   "id": "8e5d6e20",
   "metadata": {},
   "source": [
    "#### 3. What do the functions os.getcwd() and os.chdir() do?"
   ]
  },
  {
   "cell_type": "markdown",
   "id": "3dbfe8ac",
   "metadata": {},
   "source": [
    "     The function os.getcwd() gives us the path of the current working directory\n",
    "     The function os.chdir() changes the current working directory "
   ]
  },
  {
   "cell_type": "markdown",
   "id": "56e8c39d",
   "metadata": {},
   "source": [
    "#### 4. What are the . and .. folders?"
   ]
  },
  {
   "cell_type": "markdown",
   "id": "7e939eae",
   "metadata": {},
   "source": [
    "    .  folder is the current folder \n",
    "    .. folder is the parent folder"
   ]
  },
  {
   "cell_type": "markdown",
   "id": "9850c649",
   "metadata": {},
   "source": [
    "#### 5. In C:\\bacon\\eggs\\spam.txt, which part is the dir name, and which part is the base name?"
   ]
  },
  {
   "cell_type": "markdown",
   "id": "d878d427",
   "metadata": {},
   "source": [
    "    C:\\bacon\\eggs is the dir name\n",
    "    spam.txt is the base name"
   ]
  },
  {
   "cell_type": "markdown",
   "id": "64913e84",
   "metadata": {},
   "source": [
    "#### 6. What are the three “mode” arguments that can be passed to the open() function?"
   ]
  },
  {
   "cell_type": "markdown",
   "id": "eb27133c",
   "metadata": {},
   "source": [
    "     The three 'mode' arguments that can be passed to the open() function\n",
    "     \n",
    "     'r' - Read mode\n",
    "     'w' - Write mode\n",
    "     'a' - Append mode"
   ]
  },
  {
   "cell_type": "markdown",
   "id": "2205a8fb",
   "metadata": {},
   "source": [
    "#### 7. What happens if an existing file is opened in write mode?"
   ]
  },
  {
   "cell_type": "markdown",
   "id": "861e0021",
   "metadata": {},
   "source": [
    "     If an existing file is opened in write mode, the data inside the file is erased and the file will be overwritten"
   ]
  },
  {
   "cell_type": "markdown",
   "id": "bcf5db74",
   "metadata": {},
   "source": [
    "#### 8. How do you tell the difference between read() and readlines()?"
   ]
  },
  {
   "cell_type": "markdown",
   "id": "50721168",
   "metadata": {},
   "source": [
    "    read()      - Returns entire content of the file as a single string\n",
    "    readlines() - Returns list of strings where each string is a line in the file"
   ]
  },
  {
   "cell_type": "markdown",
   "id": "4a759b89",
   "metadata": {},
   "source": [
    "#### 9. What data structure does a shelf value resemble?"
   ]
  },
  {
   "cell_type": "markdown",
   "id": "96d9d393",
   "metadata": {},
   "source": [
    "    The shelf value resembles a dictionary value. It has keys and values"
   ]
  }
 ],
 "metadata": {
  "kernelspec": {
   "display_name": "Python 3",
   "language": "python",
   "name": "python3"
  },
  "language_info": {
   "codemirror_mode": {
    "name": "ipython",
    "version": 3
   },
   "file_extension": ".py",
   "mimetype": "text/x-python",
   "name": "python",
   "nbconvert_exporter": "python",
   "pygments_lexer": "ipython3",
   "version": "3.8.8"
  }
 },
 "nbformat": 4,
 "nbformat_minor": 5
}
