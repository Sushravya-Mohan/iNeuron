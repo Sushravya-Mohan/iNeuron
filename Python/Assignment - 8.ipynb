{
 "cells": [
  {
   "cell_type": "markdown",
   "id": "650e6adf",
   "metadata": {},
   "source": [
    "# Assignment - 8\n",
    "\n"
   ]
  },
  {
   "cell_type": "markdown",
   "id": "21929d0b",
   "metadata": {},
   "source": [
    "#### 1. Is the Python Standard Library included with PyInputPlus?"
   ]
  },
  {
   "cell_type": "markdown",
   "id": "3788357a",
   "metadata": {},
   "source": [
    "    PyInputPlus is not included in the Python standard library. We can install it using pip."
   ]
  },
  {
   "cell_type": "markdown",
   "id": "8be63d44",
   "metadata": {},
   "source": [
    "#### 2. Why is PyInputPlus commonly imported with import pyinputplus as pypi?"
   ]
  },
  {
   "cell_type": "markdown",
   "id": "67ca7f97",
   "metadata": {},
   "source": [
    "    pyinputplus is commonly imported as pypi because it is easier to use 'pypi' everytime we want to call the PyInputPlus function as we need not type the entire module name."
   ]
  },
  {
   "cell_type": "markdown",
   "id": "8e5d6e20",
   "metadata": {},
   "source": [
    "#### 3. How do you distinguish between inputInt() and inputFloat()?"
   ]
  },
  {
   "cell_type": "markdown",
   "id": "3dbfe8ac",
   "metadata": {},
   "source": [
    "    inputInt(): This accepts an integer value as input and returns an integer value as output.\n",
    "    inputFloat(): This accepts either integer or float value as input and returns float valueas output."
   ]
  },
  {
   "cell_type": "code",
   "execution_count": 15,
   "id": "9eae2eb6",
   "metadata": {},
   "outputs": [
    {
     "name": "stdout",
     "output_type": "stream",
     "text": [
      "4.5\n",
      "'4.5' is not an integer.\n",
      "6\n"
     ]
    },
    {
     "data": {
      "text/plain": [
       "6"
      ]
     },
     "execution_count": 15,
     "metadata": {},
     "output_type": "execute_result"
    }
   ],
   "source": [
    "import pyinputplus as pypi\n",
    "\n",
    "pypi.inputInt()"
   ]
  },
  {
   "cell_type": "code",
   "execution_count": 17,
   "id": "1caae1d7",
   "metadata": {},
   "outputs": [
    {
     "name": "stdout",
     "output_type": "stream",
     "text": [
      "6.7\n"
     ]
    },
    {
     "data": {
      "text/plain": [
       "6.7"
      ]
     },
     "execution_count": 17,
     "metadata": {},
     "output_type": "execute_result"
    }
   ],
   "source": [
    "pypi.inputFloat()"
   ]
  },
  {
   "cell_type": "markdown",
   "id": "56e8c39d",
   "metadata": {},
   "source": [
    "#### 4. Using PyInputPlus, how do you ensure that the user enters a whole number between 0 and 99?"
   ]
  },
  {
   "cell_type": "markdown",
   "id": "7e939eae",
   "metadata": {},
   "source": [
    "    We can use the match.group() method to get the strings that match the pattern"
   ]
  },
  {
   "cell_type": "code",
   "execution_count": 14,
   "id": "1b67dbdc",
   "metadata": {},
   "outputs": [
    {
     "name": "stdout",
     "output_type": "stream",
     "text": [
      "-3\n",
      "Number must be at minimum 0.\n",
      "101\n",
      "Number must be at maximum 99.\n",
      "5\n"
     ]
    },
    {
     "data": {
      "text/plain": [
       "5"
      ]
     },
     "execution_count": 14,
     "metadata": {},
     "output_type": "execute_result"
    }
   ],
   "source": [
    "pypi.inputNum(min=0, max=99)"
   ]
  },
  {
   "cell_type": "markdown",
   "id": "9850c649",
   "metadata": {},
   "source": [
    "#### 5. What is transferred to the keyword arguments allowRegexes and blockRegexes?"
   ]
  },
  {
   "cell_type": "markdown",
   "id": "d878d427",
   "metadata": {},
   "source": [
    "    The regular expressions are used to specify if a particular input is allowed or not.\n",
    "    allowRegexes is used to specify the list of regular expression strings that can be allowed as input.\n",
    "    blockRegexes is used to specify the list of regular expression strings that cannot be allowed as input."
   ]
  },
  {
   "cell_type": "markdown",
   "id": "64913e84",
   "metadata": {},
   "source": [
    "#### 6. If a blank input is entered three times, what does inputStr(limit=3) do?"
   ]
  },
  {
   "cell_type": "markdown",
   "id": "eb27133c",
   "metadata": {},
   "source": [
    "    It will thrown an exception called RetryLimitException"
   ]
  },
  {
   "cell_type": "markdown",
   "id": "2205a8fb",
   "metadata": {},
   "source": [
    "#### 7. If blank input is entered three times, what does inputStr(limit=3, default=&#39;hello&#39;) do?"
   ]
  },
  {
   "cell_type": "markdown",
   "id": "861e0021",
   "metadata": {},
   "source": [
    "     If the blank input is entered three times, the inputStr(limit=3, default='hello') returns the default value 'hello' instead of throwing an exception."
   ]
  }
 ],
 "metadata": {
  "kernelspec": {
   "display_name": "Python 3",
   "language": "python",
   "name": "python3"
  },
  "language_info": {
   "codemirror_mode": {
    "name": "ipython",
    "version": 3
   },
   "file_extension": ".py",
   "mimetype": "text/x-python",
   "name": "python",
   "nbconvert_exporter": "python",
   "pygments_lexer": "ipython3",
   "version": "3.8.8"
  }
 },
 "nbformat": 4,
 "nbformat_minor": 5
}
