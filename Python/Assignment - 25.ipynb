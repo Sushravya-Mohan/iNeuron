{
 "cells": [
  {
   "cell_type": "markdown",
   "id": "9fdaa66c",
   "metadata": {},
   "source": [
    "## Assignment - 25\n"
   ]
  },
  {
   "cell_type": "markdown",
   "id": "b1293915",
   "metadata": {},
   "source": [
    "#### 1. What is the difference between enclosing a list comprehension in square brackets and parentheses?"
   ]
  },
  {
   "cell_type": "markdown",
   "id": "8689c3ad",
   "metadata": {},
   "source": [
    "      Enclosing a list comprehension in square brackets returns a list whereas enclosing a list comprehension in parentheses returns a generator object."
   ]
  },
  {
   "cell_type": "code",
   "execution_count": 2,
   "id": "cd98bc0f",
   "metadata": {},
   "outputs": [
    {
     "name": "stdout",
     "output_type": "stream",
     "text": [
      "['d', 'j', 's', 'a', 'h', 'd']\n",
      "<generator object <genexpr> at 0x000001C7B2D53E40>\n",
      "<class 'list'>\n",
      "<class 'generator'>\n"
     ]
    }
   ],
   "source": [
    "a = [i for i in 'djsahd']\n",
    "b = (i for i in 'dajhid')\n",
    "\n",
    "print(a)\n",
    "print(b)\n",
    "\n",
    "print(type(a))\n",
    "print(type(b))"
   ]
  },
  {
   "cell_type": "markdown",
   "id": "7b2bb95a",
   "metadata": {},
   "source": [
    "#### 2. What is the relationship between generators and iterators?"
   ]
  },
  {
   "cell_type": "markdown",
   "id": "d7274397",
   "metadata": {},
   "source": [
    "    Iterator is used to iterate over iterable objects like list, tuple, sets.\n",
    "    iter() is used to create an iterator\n",
    "    next() is used to call the next element in the iterable object.\n",
    "    \n",
    "      Generators are one way to create iterators. Generator uses the keyword \"yeild\" to return sequence of data in iterable format.\n",
    "    next() is used to get the output of the generator function.\n",
    "    \n",
    "    Every generator is an iterator.\n",
    "    "
   ]
  },
  {
   "cell_type": "markdown",
   "id": "d44a498a",
   "metadata": {},
   "source": [
    "#### 3. What are the signs that a function is a generator function?"
   ]
  },
  {
   "cell_type": "markdown",
   "id": "77c0d9ad",
   "metadata": {},
   "source": [
    "    If a function contains atleast one \"yield\" statement, then the function becomes a generator function."
   ]
  },
  {
   "cell_type": "markdown",
   "id": "864ebbe6",
   "metadata": {},
   "source": [
    "#### 4. What is the purpose of a yield statement?"
   ]
  },
  {
   "cell_type": "markdown",
   "id": "9e8584ac",
   "metadata": {},
   "source": [
    "    Yield statement returns the value of a function by maintaining the state of the local variable of the function.\n",
    "    Return function, stops the execution of the function and returns the value whereas yield statement does not stop the execution of the generator function. It just pauses it.\n",
    "    "
   ]
  },
  {
   "cell_type": "markdown",
   "id": "ce137f19",
   "metadata": {},
   "source": [
    "#### 5. What is the relationship between map calls and list comprehensions? Make a comparison and contrast between the two."
   ]
  },
  {
   "cell_type": "markdown",
   "id": "bcf54922",
   "metadata": {},
   "source": [
    "    map() function returns a map object after applying the given function to each item of the iterable \n",
    "    (list, tuple, set etc).\n",
    "    It is easier to use map() on an already defined function.\n",
    "    \n",
    "    List comprehension is generally used as a substitute of for loop. \n",
    "    It can also be used as a substitute of lambda and map() function.\n",
    "    \n",
    "    Comparison between map() and list comprehension:\n",
    "    \n",
    "    1. It is easier to read list comprehension when compared to map.\n",
    "    2. In list comprehension, we can filter the values. In map we cannot filter values.\n",
    "    3. It is easier to use list comprehension when a list of values is required as the output as map returns a map object.\n",
    "    4. List comprehension is better to use when expressions are very long.\n",
    "    5. Map is better to use when a predefined function exists.\n",
    "    "
   ]
  }
 ],
 "metadata": {
  "kernelspec": {
   "display_name": "Python 3",
   "language": "python",
   "name": "python3"
  },
  "language_info": {
   "codemirror_mode": {
    "name": "ipython",
    "version": 3
   },
   "file_extension": ".py",
   "mimetype": "text/x-python",
   "name": "python",
   "nbconvert_exporter": "python",
   "pygments_lexer": "ipython3",
   "version": "3.8.8"
  }
 },
 "nbformat": 4,
 "nbformat_minor": 5
}
