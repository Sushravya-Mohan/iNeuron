{
 "cells": [
  {
   "cell_type": "markdown",
   "id": "9fdaa66c",
   "metadata": {},
   "source": [
    "## Assignment - 24\n"
   ]
  },
  {
   "cell_type": "markdown",
   "id": "b1293915",
   "metadata": {},
   "source": [
    "#### 1. What is the relationship between def statements and lambda expressions ?"
   ]
  },
  {
   "cell_type": "markdown",
   "id": "ca38aca4",
   "metadata": {},
   "source": [
    "    Def functions creates a function object and binds it to a name. Functions break the program to smaller parts and make the program more organized. They can be called anywhere.\n",
    "    \n",
    "    Lambda expressions consist of one expression but any number of arguments. Lambda expressions cannot contain any statements. They return a function object and can be used only in the block they are created."
   ]
  },
  {
   "cell_type": "markdown",
   "id": "7b2bb95a",
   "metadata": {},
   "source": [
    "#### 2. What is the benefit of lambda?"
   ]
  },
  {
   "cell_type": "markdown",
   "id": "7cdc6402",
   "metadata": {},
   "source": [
    "    Lambda functions are used to call functions which require function objects as argument.\n",
    "    Lambda functions are inline functions and can be used for repetitive function calls.\n",
    "    Lambda functions can be passed without being assigned to a variable.\n",
    "    Lambda functions are relatively simpler and much easier to read than function."
   ]
  },
  {
   "cell_type": "markdown",
   "id": "d44a498a",
   "metadata": {},
   "source": [
    "#### 3. Compare and contrast map, filter, and reduce."
   ]
  },
  {
   "cell_type": "markdown",
   "id": "1c5f0347",
   "metadata": {},
   "source": [
    "    map() function iterates through all the items in the givem iterable and executes the function that is passed as an argument on each of the item.\n",
    "    Syntax : map(function, *iterables)\n",
    "    \n",
    "    filter() function performs simliar to map() function but returns a list that contains the elements which satisfy a certain condition. i.e it returns the elements for which the function returns True\n",
    "    Syntax: filter(function, *iterables)\n",
    "    \n",
    "    reduce() calls the function that is passed for the first two items in the sequence. Now the result returned by the function is used to call the third value in the sequence. This process is continued till we have gone through all the elements in the sequence. reduce() return a single value.\n",
    "    Syntax: reduce(function, sequence[,initial]) \n",
    "    "
   ]
  },
  {
   "cell_type": "markdown",
   "id": "864ebbe6",
   "metadata": {},
   "source": [
    "#### 4. What are function annotations, and how are they used?"
   ]
  },
  {
   "cell_type": "markdown",
   "id": "225104c8",
   "metadata": {},
   "source": [
    "    Function annotations are python expressions that are associated with various parts of functions. \n",
    "    They are evaluated only at compile time and python does not attach any meaning to annotations.\n",
    "    Function annotations do not have any significant meaning associated with them.\n",
    "    They are used to collect information about the type of parameters and the return type of the function.\n",
    "    If the annotationsa re string based, they provide help messages at compile timing regarding the functionalities.\n",
    "    \n",
    "    Syntax: def func(a:'int') -> 'int':\n",
    "                pass\n",
    "                \n",
    "                "
   ]
  },
  {
   "cell_type": "markdown",
   "id": "ce137f19",
   "metadata": {},
   "source": [
    "#### 5. What are recursive functions, and how are they used?"
   ]
  },
  {
   "cell_type": "markdown",
   "id": "af9727b3",
   "metadata": {},
   "source": [
    "    Recursive function is a function which calls itself. \n",
    "    Using recursive function a complicated function can be split down into smaller sub-problems.\n",
    "    The recursive function will have a base condition that stops the recursion.\n",
    "    Python interpreter limits the depth of recursion to avoid infinite recursions."
   ]
  },
  {
   "cell_type": "markdown",
   "id": "b526f65f",
   "metadata": {},
   "source": [
    "#### 6. What are some general design guidelines for coding functions?"
   ]
  },
  {
   "cell_type": "markdown",
   "id": "d55b869d",
   "metadata": {},
   "source": [
    "    1. Use 4-space indentations and no tabs.\n",
    "    2. Use docstrings.\n",
    "    3. Wrap lines so that they do not exceed character limit of 79.\n",
    "    4. Use regular and updated comments.\n",
    "    5. Using trailing commas is mandatory in case of tuples ('tuple',) and is encouraged in other cases.\n",
    "    6. Use python's default 'UTF-8' or 'ASCII' encodings.\n",
    "    7. Use spaces around comas and after operators but not directly inside brackets.\n",
    "    8. Naming conventions should be followed to make the program less complex and more readable.\n",
    "    9. 'l', 'O' and 'I' should not be used as single character variable names.\n",
    "    10. ASCII characters should not be used in identifiers.\n",
    "    11. The classes and functions should be named consistently.\n",
    "    12. While naming functions of methods, always use self as the first argument."
   ]
  },
  {
   "cell_type": "markdown",
   "id": "dabd85bc",
   "metadata": {},
   "source": [
    "#### 7. Name three or more ways that functions can communicate results to a caller."
   ]
  },
  {
   "cell_type": "markdown",
   "id": "9604b143",
   "metadata": {},
   "source": [
    "    Functions can return following results to the caller:\n",
    "    \n",
    "    1. Single value (int, float, string, boolean etc)\n",
    "    2. List\n",
    "    3. Tuple\n",
    "    4. Dictionary\n",
    "    5. Function object\n",
    "    6. Class object"
   ]
  }
 ],
 "metadata": {
  "kernelspec": {
   "display_name": "Python 3",
   "language": "python",
   "name": "python3"
  },
  "language_info": {
   "codemirror_mode": {
    "name": "ipython",
    "version": 3
   },
   "file_extension": ".py",
   "mimetype": "text/x-python",
   "name": "python",
   "nbconvert_exporter": "python",
   "pygments_lexer": "ipython3",
   "version": "3.8.8"
  }
 },
 "nbformat": 4,
 "nbformat_minor": 5
}
