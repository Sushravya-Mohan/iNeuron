{
 "cells": [
  {
   "cell_type": "markdown",
   "id": "9fdaa66c",
   "metadata": {},
   "source": [
    "## Assignment - 22"
   ]
  },
  {
   "cell_type": "markdown",
   "id": "b1293915",
   "metadata": {},
   "source": [
    "#### 1. What is the result of the code, and explain?\n",
    "#### &gt;&gt;&gt; X = &#39;iNeuron&#39;\n",
    "#### &gt;&gt;&gt; def func():\n",
    "#### print(X)\n",
    "#### &gt;&gt;&gt; func()"
   ]
  },
  {
   "cell_type": "code",
   "execution_count": 2,
   "id": "53116636",
   "metadata": {},
   "outputs": [
    {
     "name": "stdout",
     "output_type": "stream",
     "text": [
      "iNeuron\n"
     ]
    }
   ],
   "source": [
    "X = 'iNeuron'\n",
    "\n",
    "def func():\n",
    "    print(X)\n",
    "    \n",
    "func()"
   ]
  },
  {
   "cell_type": "markdown",
   "id": "9176defa",
   "metadata": {},
   "source": [
    "    The result of the code is 'iNeuron'.\n",
    "    \n",
    "    X is a global variable. We can use the global variable inside the function.\n",
    "    Hence when func() is called it prints 'iNeuron'."
   ]
  },
  {
   "cell_type": "markdown",
   "id": "7b2bb95a",
   "metadata": {},
   "source": [
    "#### 2. What is the result of the code, and explain?\n",
    "#### &gt;&gt;&gt; X = &#39;iNeuron&#39;\n",
    "#### &gt;&gt;&gt; def func():\n",
    "#### X = &#39;NI!&#39;\n",
    "#### &gt;&gt;&gt; func()\n",
    "#### &gt;&gt;&gt; print(X)"
   ]
  },
  {
   "cell_type": "code",
   "execution_count": 5,
   "id": "814f911e",
   "metadata": {},
   "outputs": [
    {
     "name": "stdout",
     "output_type": "stream",
     "text": [
      "iNeuron\n"
     ]
    }
   ],
   "source": [
    "X = 'iNeuron'\n",
    "\n",
    "def func():\n",
    "    X = 'NI!'\n",
    "\n",
    "func()\n",
    "print(X)"
   ]
  },
  {
   "cell_type": "markdown",
   "id": "de37ec6f",
   "metadata": {},
   "source": [
    "    The result of the code is 'iNeuron'. \n",
    "    \n",
    "    The value of X inside the function func() [known as local scope] is 'NI!', but the value of X remains 'iNeuron' outside the function [known as global scope].\n",
    "    \n",
    "    Hence when X is printed outside the function, it prints the value of X in global scope."
   ]
  },
  {
   "cell_type": "markdown",
   "id": "d44a498a",
   "metadata": {},
   "source": [
    "#### 3. What does this code print, and why?\n",
    "#### &gt;&gt;&gt; X = &#39;iNeuron&#39;\n",
    "#### &gt;&gt;&gt; def func():\n",
    "#### X = &#39;NI&#39;\n",
    "#### print(X)\n",
    "#### &gt;&gt;&gt; func()\n",
    "#### &gt;&gt;&gt; print(X)"
   ]
  },
  {
   "cell_type": "code",
   "execution_count": 6,
   "id": "32cacec7",
   "metadata": {},
   "outputs": [
    {
     "name": "stdout",
     "output_type": "stream",
     "text": [
      "NI\n",
      "iNeuron\n"
     ]
    }
   ],
   "source": [
    "X = 'iNeuron'\n",
    "\n",
    "def func():\n",
    "    \n",
    "    X = 'NI'\n",
    "    print(X)\n",
    "    \n",
    "func()\n",
    "print(X)"
   ]
  },
  {
   "cell_type": "markdown",
   "id": "1e28f321",
   "metadata": {},
   "source": [
    "    The code prints 'NI' and 'iNeuron' respectively.\n",
    "    \n",
    "    When the func() is called, it executes the print statement inside the function and considers the value of local variable X i.e 'NI'.\n",
    "    \n",
    "    The print statement outside the function considers the value of global variable X and prints 'iNeuron'.\n",
    "    "
   ]
  },
  {
   "cell_type": "markdown",
   "id": "864ebbe6",
   "metadata": {},
   "source": [
    "#### 4. What output does this code produce? Why?\n",
    "#### &gt;&gt;&gt; X = &#39;iNeuron&#39;\n",
    "#### &gt;&gt;&gt; def func():\n",
    "#### global X\n",
    "#### X = &#39;NI&#39;\n",
    "#### &gt;&gt;&gt; func()\n",
    "#### &gt;&gt;&gt; print(X)"
   ]
  },
  {
   "cell_type": "code",
   "execution_count": 7,
   "id": "73659273",
   "metadata": {},
   "outputs": [
    {
     "name": "stdout",
     "output_type": "stream",
     "text": [
      "NI\n"
     ]
    }
   ],
   "source": [
    "X = 'iNeuron'\n",
    "\n",
    "def func():\n",
    "    \n",
    "    global X    \n",
    "    X = 'NI'\n",
    "    \n",
    "func()\n",
    "print(X)"
   ]
  },
  {
   "cell_type": "markdown",
   "id": "ced371e0",
   "metadata": {},
   "source": [
    "    The result of the code is 'NI'.\n",
    "    \n",
    "    Since X inside the function is made global, we can access X outside the function too.\n",
    "    Hence 'NI' is printed."
   ]
  },
  {
   "cell_type": "markdown",
   "id": "ce137f19",
   "metadata": {},
   "source": [
    "#### 5. What about this code—what’s the output, and why?\n",
    "#### &gt;&gt;&gt; X = &#39;iNeuron&#39;\n",
    "#### &gt;&gt;&gt; def func():\n",
    "#### X = &#39;NI&#39;\n",
    "#### def nested():\n",
    "#### print(X)\n",
    "#### nested()\n",
    "#### &gt;&gt;&gt; func()\n",
    "#### &gt;&gt;&gt; X"
   ]
  },
  {
   "cell_type": "code",
   "execution_count": 10,
   "id": "3224c9ca",
   "metadata": {},
   "outputs": [
    {
     "name": "stdout",
     "output_type": "stream",
     "text": [
      "iNeuron\n"
     ]
    },
    {
     "data": {
      "text/plain": [
       "'iNeuron'"
      ]
     },
     "execution_count": 10,
     "metadata": {},
     "output_type": "execute_result"
    }
   ],
   "source": [
    "X = 'iNeuron'\n",
    "\n",
    "def func():    \n",
    "    X = 'NI'\n",
    "def nested():\n",
    "    print(X)\n",
    "\n",
    "nested()\n",
    "func()\n",
    "X"
   ]
  },
  {
   "cell_type": "markdown",
   "id": "95459535",
   "metadata": {},
   "source": [
    "    The nested() function prints 'iNeuron', the value of the global variable X because X = 'NI' cannnot be accessed outside the function func().\n",
    "    \n",
    "    The func() does not print anything.\n",
    "    \n",
    "    X returns the value of global variable X i.e 'iNeuron'."
   ]
  },
  {
   "cell_type": "markdown",
   "id": "17e5f92d",
   "metadata": {},
   "source": [
    "#### 6. How about this code: what is its output in Python 3, and explain?\n",
    "#### &gt;&gt;&gt; def func():\n",
    "#### X = &#39;NI&#39;\n",
    "#### def nested():\n",
    "#### nonlocal X\n",
    "#### X = &#39;Spam&#39;\n",
    "#### nested()\n",
    "#### print(X)\n",
    "#### &gt;&gt;&gt; func()"
   ]
  },
  {
   "cell_type": "code",
   "execution_count": 15,
   "id": "8a1d9752",
   "metadata": {},
   "outputs": [
    {
     "name": "stdout",
     "output_type": "stream",
     "text": [
      "Spam\n"
     ]
    }
   ],
   "source": [
    "def func():\n",
    "    X = 'NI'\n",
    "    def nested():\n",
    "        nonlocal X\n",
    "        X = 'Spam'\n",
    "    nested()\n",
    "    print(X)    \n",
    "    \n",
    "func()"
   ]
  },
  {
   "cell_type": "markdown",
   "id": "68dc591c",
   "metadata": {},
   "source": [
    "    The result of the code is 'Spam'.\n",
    "    \n",
    "    The X inside the nested() function is nonlocal meaning, there is no local scope defined for it.\n",
    "    Hence it is neither in the local space nor in the global space. \n",
    "    Variable X takes the value from the nested function which is 'Spam'."
   ]
  }
 ],
 "metadata": {
  "kernelspec": {
   "display_name": "Python 3",
   "language": "python",
   "name": "python3"
  },
  "language_info": {
   "codemirror_mode": {
    "name": "ipython",
    "version": 3
   },
   "file_extension": ".py",
   "mimetype": "text/x-python",
   "name": "python",
   "nbconvert_exporter": "python",
   "pygments_lexer": "ipython3",
   "version": "3.8.8"
  }
 },
 "nbformat": 4,
 "nbformat_minor": 5
}
