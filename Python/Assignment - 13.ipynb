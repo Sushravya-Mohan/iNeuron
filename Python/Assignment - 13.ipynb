{
 "cells": [
  {
   "cell_type": "markdown",
   "id": "650e6adf",
   "metadata": {},
   "source": [
    "# Assignment - 13\n",
    "\n"
   ]
  },
  {
   "cell_type": "markdown",
   "id": "21929d0b",
   "metadata": {},
   "source": [
    "#### 1. What advantages do Excel spreadsheets have over CSV spreadsheets?"
   ]
  },
  {
   "cell_type": "markdown",
   "id": "51ad0af5",
   "metadata": {},
   "source": [
    "     In Excel spreadsheets, we can change the fonts, sizes or colors.\n",
    "     The cells can be of different length and width.\n",
    "     We can merge the cells together.\n",
    "     We can embed images and charts in Excel spreadsheets\n",
    "     "
   ]
  },
  {
   "cell_type": "markdown",
   "id": "8be63d44",
   "metadata": {},
   "source": [
    "#### 2.What do you pass to csv.reader() and csv.writer() to create reader and writer objects?"
   ]
  },
  {
   "cell_type": "markdown",
   "id": "03390804",
   "metadata": {},
   "source": [
    "    We pass a file object that we get from open() function"
   ]
  },
  {
   "cell_type": "markdown",
   "id": "8e5d6e20",
   "metadata": {},
   "source": [
    "#### 3. What modes do File objects for reader and writer objects need to be opened in?"
   ]
  },
  {
   "cell_type": "markdown",
   "id": "7032d9f7",
   "metadata": {},
   "source": [
    "    Reader objects can be opened in rb (Read - binary) mode\n",
    "    Writer objects can be opened in wb (Write - binary) mode"
   ]
  },
  {
   "cell_type": "markdown",
   "id": "56e8c39d",
   "metadata": {},
   "source": [
    "#### 4. What method takes a list argument and writes it to a CSV file?"
   ]
  },
  {
   "cell_type": "markdown",
   "id": "b6dd3486",
   "metadata": {},
   "source": [
    "      The writerow() method takes a list argument and writes it to a CSV file"
   ]
  },
  {
   "cell_type": "markdown",
   "id": "9850c649",
   "metadata": {},
   "source": [
    "#### 5. What do the keyword arguments delimiter and line terminator do?"
   ]
  },
  {
   "cell_type": "markdown",
   "id": "853f5eb4",
   "metadata": {},
   "source": [
    "    The delimiter argument is used to separate cells in a row by adding a string between them.\n",
    "    \n",
    "    The line terminator is used to separate rows using a string."
   ]
  },
  {
   "cell_type": "markdown",
   "id": "6f95cd47",
   "metadata": {},
   "source": [
    "#### 6. What function takes a string of JSON data and returns a Python data structure?"
   ]
  },
  {
   "cell_type": "markdown",
   "id": "7c9abda7",
   "metadata": {},
   "source": [
    "    json.loads() takes a string of JSON data and returns a Python data structure\n",
    "    "
   ]
  },
  {
   "cell_type": "markdown",
   "id": "df90fe34",
   "metadata": {},
   "source": [
    "#### 7. What function takes a Python data structure and returns a string of JSON data?"
   ]
  },
  {
   "cell_type": "markdown",
   "id": "9c578f51",
   "metadata": {},
   "source": [
    "    json.dumps() takes a Python data structure and returns a string of JSON data"
   ]
  }
 ],
 "metadata": {
  "kernelspec": {
   "display_name": "Python 3",
   "language": "python",
   "name": "python3"
  },
  "language_info": {
   "codemirror_mode": {
    "name": "ipython",
    "version": 3
   },
   "file_extension": ".py",
   "mimetype": "text/x-python",
   "name": "python",
   "nbconvert_exporter": "python",
   "pygments_lexer": "ipython3",
   "version": "3.8.8"
  }
 },
 "nbformat": 4,
 "nbformat_minor": 5
}
