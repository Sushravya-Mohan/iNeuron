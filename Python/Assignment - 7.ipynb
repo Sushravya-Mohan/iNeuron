{
 "cells": [
  {
   "cell_type": "markdown",
   "id": "650e6adf",
   "metadata": {},
   "source": [
    "# Assignment - 7\n",
    "\n"
   ]
  },
  {
   "cell_type": "markdown",
   "id": "21929d0b",
   "metadata": {},
   "source": [
    "#### 1. What is the name of the feature responsible for generating Regex objects?"
   ]
  },
  {
   "cell_type": "markdown",
   "id": "3788357a",
   "metadata": {},
   "source": [
    "    The feature responsible for generating Regex objects is re.compile()"
   ]
  },
  {
   "cell_type": "markdown",
   "id": "8be63d44",
   "metadata": {},
   "source": [
    "#### 2. Why do raw strings often appear in Regex objects?"
   ]
  },
  {
   "cell_type": "markdown",
   "id": "50cdfad8",
   "metadata": {},
   "source": [
    "    Raw strings are used to keep Regex expression confusion free. If the raw strings are present in an Regex expression the backslash need not be escaped."
   ]
  },
  {
   "cell_type": "markdown",
   "id": "8e5d6e20",
   "metadata": {},
   "source": [
    "#### 3. What is the return value of the search() method?"
   ]
  },
  {
   "cell_type": "markdown",
   "id": "3dbfe8ac",
   "metadata": {},
   "source": [
    "    The re.search() method takes a string and searches the regular expression pattern within that string. If the regular expression pattern is present in the string it returns the matched object else it returns None."
   ]
  },
  {
   "cell_type": "markdown",
   "id": "56e8c39d",
   "metadata": {},
   "source": [
    "#### 4. From a Match item, how do you get the actual strings that match the pattern?"
   ]
  },
  {
   "cell_type": "markdown",
   "id": "7e939eae",
   "metadata": {},
   "source": [
    "    We can use the match.group() method to get the strings that match the pattern"
   ]
  },
  {
   "cell_type": "markdown",
   "id": "9850c649",
   "metadata": {},
   "source": [
    "#### 5. In the regex which created from the r&#39;(\\d\\d\\d)-(\\d\\d\\d-\\d\\d\\d\\d)&#39;, what does group zero cover? Group 2? Group 1?"
   ]
  },
  {
   "cell_type": "markdown",
   "id": "d878d427",
   "metadata": {},
   "source": [
    "    Group zero - returns the entire match\n",
    "    Group 1 - returns the match within the first bracket\n",
    "    Group 2 - returns the match within the second bracket"
   ]
  },
  {
   "cell_type": "markdown",
   "id": "64913e84",
   "metadata": {},
   "source": [
    "#### 6. In standard expression syntax, parentheses and intervals have distinct meanings. How can you tell a regex that you want it to fit real parentheses and periods?"
   ]
  },
  {
   "cell_type": "markdown",
   "id": "eb27133c",
   "metadata": {},
   "source": [
    "    We can use backslash to escape periods and parentheses\n",
    "    Period - \\.\n",
    "    Parentheses - \\( and \\)"
   ]
  },
  {
   "cell_type": "markdown",
   "id": "2205a8fb",
   "metadata": {},
   "source": [
    "#### 7. The findall() method returns a string list or a list of string tuples. What causes it to return one of the two options?"
   ]
  },
  {
   "cell_type": "markdown",
   "id": "861e0021",
   "metadata": {},
   "source": [
    "     If regex has no groups, it returns a string list.\n",
    "     If regex has groups, it returns list of string tuples."
   ]
  },
  {
   "cell_type": "markdown",
   "id": "a0996a5f",
   "metadata": {},
   "source": [
    "#### 8. In standard expressions, what does the | character mean?"
   ]
  },
  {
   "cell_type": "markdown",
   "id": "8342fb95",
   "metadata": {},
   "source": [
    "    In standard expressions, | means 'OR'"
   ]
  },
  {
   "cell_type": "markdown",
   "id": "ba6f1f29",
   "metadata": {},
   "source": [
    "#### 9. In regular expressions, what does the character stand for?"
   ]
  },
  {
   "cell_type": "markdown",
   "id": "1b61901d",
   "metadata": {},
   "source": [
    "    In regular expressions, | means match either groups.\n",
    "    Example - Match group 1 or group 2"
   ]
  },
  {
   "cell_type": "markdown",
   "id": "f8f32b69",
   "metadata": {},
   "source": [
    "#### 10.In regular expressions, what is the difference between the + and * characters?"
   ]
  },
  {
   "cell_type": "markdown",
   "id": "1ce4e470",
   "metadata": {},
   "source": [
    "    + character matches one or more regular expression\n",
    "    * character matches zero or more regular expression"
   ]
  },
  {
   "cell_type": "markdown",
   "id": "58bf07d3",
   "metadata": {},
   "source": [
    "#### 11. What is the difference between {4} and {4,5} in regular expression?"
   ]
  },
  {
   "cell_type": "markdown",
   "id": "15127bbb",
   "metadata": {},
   "source": [
    "    {4} - This matches exactly 4 instances of the preceding group \n",
    "    {4, 5} - This matches 4 to 5 instances of the preceding group"
   ]
  },
  {
   "cell_type": "markdown",
   "id": "523f2b15",
   "metadata": {},
   "source": [
    "#### 12. What do you mean by the \\d, \\w, and \\s shorthand character classes signify in regular expressions?"
   ]
  },
  {
   "cell_type": "markdown",
   "id": "89c19f3b",
   "metadata": {},
   "source": [
    "    \\d - Matches a single digit\n",
    "    \\w - Matches a word\n",
    "    \\s - Matches a space"
   ]
  },
  {
   "cell_type": "markdown",
   "id": "81de44e3",
   "metadata": {},
   "source": [
    "#### 13. What do means by \\D, \\W, and \\S shorthand character classes signify in regular expressions?"
   ]
  },
  {
   "cell_type": "markdown",
   "id": "1e90cbaf",
   "metadata": {},
   "source": [
    "    \\D - Matches a character that is not a single digit\n",
    "    \\W - Matches a character that is not a word\n",
    "    \\S - Matches a character that is not a space"
   ]
  },
  {
   "cell_type": "markdown",
   "id": "c33a41fc",
   "metadata": {},
   "source": [
    "#### 14. What is the difference between . and .?"
   ]
  },
  {
   "cell_type": "markdown",
   "id": "b571e6f6",
   "metadata": {},
   "source": [
    "    . performs the greedy match\n",
    "    .? performs the non-greedy match"
   ]
  },
  {
   "cell_type": "markdown",
   "id": "7a9487e2",
   "metadata": {},
   "source": [
    "#### 15. What is the syntax for matching both numbers and lowercase letters with a character class?"
   ]
  },
  {
   "cell_type": "markdown",
   "id": "7c9e555a",
   "metadata": {},
   "source": [
    "     The syntax is [0-9a-z]"
   ]
  },
  {
   "cell_type": "markdown",
   "id": "e9888f37",
   "metadata": {},
   "source": [
    "#### 16. What is the procedure for making a normal expression in regex case insensitive?"
   ]
  },
  {
   "cell_type": "markdown",
   "id": "4dca17ee",
   "metadata": {},
   "source": [
    "    Passing re.IGNORECASE as the second argument to re.compile() makes the expression in regex case insensitive"
   ]
  },
  {
   "cell_type": "markdown",
   "id": "680ddfdf",
   "metadata": {},
   "source": [
    "#### 17. What does the . character normally match? What does it match if re.DOTALL is passed as 2nd argument in re.compile()?"
   ]
  },
  {
   "cell_type": "markdown",
   "id": "df4007c1",
   "metadata": {},
   "source": [
    "    . character matches all characters expect newline character\n",
    "    If re.DOTALL is passed as the second argument in re.compile() then it matches all characters including the newline characters"
   ]
  },
  {
   "cell_type": "markdown",
   "id": "5e5126da",
   "metadata": {},
   "source": [
    "#### 18. If numReg = re.compile(r&#39;\\d+&#39;), what will numRegex.sub(&#39;X&#39;, &#39;11 drummers, 10 pipers, five rings, 4 hen&#39;) return?"
   ]
  },
  {
   "cell_type": "markdown",
   "id": "f0a673c9",
   "metadata": {},
   "source": [
    "    The expression returns 'X drummers, X pipers, five rings, X hen'"
   ]
  },
  {
   "cell_type": "markdown",
   "id": "b21432eb",
   "metadata": {},
   "source": [
    "#### 19. What does passing re.VERBOSE as the 2nd argument to re.compile() allow to do?"
   ]
  },
  {
   "cell_type": "markdown",
   "id": "6f947c8b",
   "metadata": {},
   "source": [
    "    Passing re.VERBOSE as the second argument to re.compile() allows us to add whitespace and comments to the string"
   ]
  },
  {
   "cell_type": "markdown",
   "id": "3f117a0c",
   "metadata": {},
   "source": [
    "#### 20. How would you write a regex that match a number with comma for every three digits? It must\n",
    "#### match the given following:\n",
    "#### &#39;42&#39;\n",
    "#### &#39;1,234&#39;\n",
    "#### &#39;6,368,745&#39;\n",
    "#### but not the following:\n",
    "#### &#39;12,34,567&#39; (which has only two digits between the commas)\n",
    "#### &#39;1234&#39; (which lacks commas)"
   ]
  },
  {
   "cell_type": "markdown",
   "id": "e6645736",
   "metadata": {},
   "source": [
    "    The following regex matches a number with comma for every three digits\n",
    "   \n",
    "    re.compile(r'^\\d{1,3}(,\\d{3})*$')"
   ]
  },
  {
   "cell_type": "markdown",
   "id": "b4aa4c18",
   "metadata": {},
   "source": [
    "#### 21. How would you write a regex that matches the full name of someone whose last name is\n",
    "#### Watanabe? You can assume that the first name that comes before it will always be one word that\n",
    "#### begins with a capital letter. The regex must match the following:\n",
    "#### &#39;Haruto Watanabe&#39;\n",
    "#### &#39;Alice Watanabe&#39;\n",
    "#### &#39;RoboCop Watanabe&#39;\n",
    "#### but not the following:\n",
    "#### &#39;haruto Watanabe&#39; (where the first name is not capitalized)\n",
    "#### &#39;Mr. Watanabe&#39; (where the preceding word has a nonletter character)\n",
    "#### &#39;Watanabe&#39; (which has no first name)\n",
    "#### &#39;Haruto watanabe&#39; (where Watanabe is not capitalized)"
   ]
  },
  {
   "cell_type": "markdown",
   "id": "f870f9c6",
   "metadata": {},
   "source": [
    "    The regex which matches the full name of someone whose last name is Watanabe is:\n",
    "    \n",
    "    re.compile(r'[A-Z][a-z]*\\sWatanabe')"
   ]
  },
  {
   "cell_type": "markdown",
   "id": "556d9d2d",
   "metadata": {},
   "source": [
    "#### 22. How would you write a regex that matches a sentence where the first word is either Alice, Bob,\n",
    "#### or Carol; the second word is either eats, pets, or throws; the third word is apples, cats, or baseballs;\n",
    "#### and the sentence ends with a period? This regex should be case-insensitive. It must match the\n",
    "#### following:\n",
    "#### &#39;Alice eats apples.&#39;\n",
    "#### &#39;Bob pets cats.&#39;\n",
    "#### &#39;Carol throws baseballs.&#39;\n",
    "#### &#39;Alice throws Apples.&#39;\n",
    "#### &#39;BOB EATS CATS.&#39;\n",
    "#### but not the following:\n",
    "#### &#39;RoboCop eats apples.&#39;\n",
    "#### &#39;ALICE THROWS FOOTBALLS.&#39;\n",
    "#### &#39;Carol eats 7 cats.&#39;"
   ]
  },
  {
   "cell_type": "markdown",
   "id": "1904250a",
   "metadata": {},
   "source": [
    "    The regex expression is\n",
    "    \n",
    "    re.compile(r'(Alice|Bob|Carol)\\s(eats|pets|throws)\\s(apples|cats|baseballs)\\.', re.IGNORECASE)"
   ]
  }
 ],
 "metadata": {
  "kernelspec": {
   "display_name": "Python 3",
   "language": "python",
   "name": "python3"
  },
  "language_info": {
   "codemirror_mode": {
    "name": "ipython",
    "version": 3
   },
   "file_extension": ".py",
   "mimetype": "text/x-python",
   "name": "python",
   "nbconvert_exporter": "python",
   "pygments_lexer": "ipython3",
   "version": "3.8.8"
  }
 },
 "nbformat": 4,
 "nbformat_minor": 5
}
