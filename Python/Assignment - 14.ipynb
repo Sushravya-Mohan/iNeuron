{
 "cells": [
  {
   "cell_type": "markdown",
   "id": "650e6adf",
   "metadata": {},
   "source": [
    "# Assignment - 14\n",
    "\n"
   ]
  },
  {
   "cell_type": "markdown",
   "id": "21929d0b",
   "metadata": {},
   "source": [
    "#### 1. What does RGBA stand for?"
   ]
  },
  {
   "cell_type": "markdown",
   "id": "51ad0af5",
   "metadata": {},
   "source": [
    "     RGBA stands for Red, Green Blue, Alpha respectively"
   ]
  },
  {
   "cell_type": "markdown",
   "id": "8be63d44",
   "metadata": {},
   "source": [
    "#### 2. From the Pillow module, how do you get the RGBA value of any images?"
   ]
  },
  {
   "cell_type": "markdown",
   "id": "03390804",
   "metadata": {},
   "source": [
    "    ImageColor.getcolor() which takes color as the first argument and 'RGBA' as the second argument returns an RGBA tuple"
   ]
  },
  {
   "cell_type": "markdown",
   "id": "8e5d6e20",
   "metadata": {},
   "source": [
    "#### 3. What is a box tuple, and how does it work?"
   ]
  },
  {
   "cell_type": "markdown",
   "id": "7032d9f7",
   "metadata": {},
   "source": [
    "     Box tuple is a tuple of four integer coordinates that represent a rectangular region in an image.\n",
    "     \n",
    "     (Left, Top, Right, Bottom) which represent the leftmost edge, top edge, the width and the height."
   ]
  },
  {
   "cell_type": "markdown",
   "id": "56e8c39d",
   "metadata": {},
   "source": [
    "#### 4. Use your image and load in notebook then, How can you find out the width and height of an Image object?"
   ]
  },
  {
   "cell_type": "markdown",
   "id": "b6dd3486",
   "metadata": {},
   "source": [
    "    After loading the image in the notebook, we can find the width and height of the Image object using -\n",
    "    \n",
    "    ImageObject.size\n",
    "    \n",
    "    This gives the width and height of the image in tuple form."
   ]
  },
  {
   "cell_type": "markdown",
   "id": "9850c649",
   "metadata": {},
   "source": [
    "#### 5. What method would you call to get Image object for a 100×100 image, excluding the lower-left quarter of it?"
   ]
  },
  {
   "cell_type": "markdown",
   "id": "853f5eb4",
   "metadata": {},
   "source": [
    "    ImageObject.crop((0,50,50,50)) will give the image excluding the lower-left quarter of a 100x100 image."
   ]
  },
  {
   "cell_type": "markdown",
   "id": "6f95cd47",
   "metadata": {},
   "source": [
    "#### 6. After making changes to an Image object, how could you save it as an image file?"
   ]
  },
  {
   "cell_type": "markdown",
   "id": "7c9abda7",
   "metadata": {},
   "source": [
    "     ImageObject.save('new_filename.png') can be used to save it as a new image file."
   ]
  },
  {
   "cell_type": "markdown",
   "id": "df90fe34",
   "metadata": {},
   "source": [
    "#### 7. What module contains Pillow’s shape-drawing code?"
   ]
  },
  {
   "cell_type": "markdown",
   "id": "9c578f51",
   "metadata": {},
   "source": [
    "    ImageDraw contains Pillow's shape drawing code."
   ]
  },
  {
   "cell_type": "markdown",
   "id": "d5477ea7",
   "metadata": {},
   "source": [
    "#### 8. Image objects do not have drawing methods. What kind of object does? How do you get this kind of object?"
   ]
  },
  {
   "cell_type": "markdown",
   "id": "78809c47",
   "metadata": {},
   "source": [
    "    ImageDraw objects have drawing methods. They are returned by passing the Image object to the ImageDraw.Draw() function"
   ]
  }
 ],
 "metadata": {
  "kernelspec": {
   "display_name": "Python 3",
   "language": "python",
   "name": "python3"
  },
  "language_info": {
   "codemirror_mode": {
    "name": "ipython",
    "version": 3
   },
   "file_extension": ".py",
   "mimetype": "text/x-python",
   "name": "python",
   "nbconvert_exporter": "python",
   "pygments_lexer": "ipython3",
   "version": "3.8.8"
  }
 },
 "nbformat": 4,
 "nbformat_minor": 5
}
