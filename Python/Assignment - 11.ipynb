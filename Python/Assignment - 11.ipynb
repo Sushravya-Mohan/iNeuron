{
 "cells": [
  {
   "cell_type": "markdown",
   "id": "650e6adf",
   "metadata": {},
   "source": [
    "# Assignment - 11\n",
    "\n"
   ]
  },
  {
   "cell_type": "markdown",
   "id": "21929d0b",
   "metadata": {},
   "source": [
    "#### 1. Create an assert statement that throws an AssertionError if the variable spam is a negative integer."
   ]
  },
  {
   "cell_type": "code",
   "execution_count": 5,
   "id": "cdcc7f52",
   "metadata": {},
   "outputs": [
    {
     "ename": "AssertionError",
     "evalue": "variable spam is a negative integer",
     "output_type": "error",
     "traceback": [
      "\u001b[1;31m---------------------------------------------------------------------------\u001b[0m",
      "\u001b[1;31mAssertionError\u001b[0m                            Traceback (most recent call last)",
      "\u001b[1;32m<ipython-input-5-6effeaf15f8b>\u001b[0m in \u001b[0;36m<module>\u001b[1;34m\u001b[0m\n\u001b[0;32m      1\u001b[0m \u001b[0mspam\u001b[0m \u001b[1;33m=\u001b[0m \u001b[1;33m-\u001b[0m\u001b[1;36m5\u001b[0m\u001b[1;33m\u001b[0m\u001b[1;33m\u001b[0m\u001b[0m\n\u001b[0;32m      2\u001b[0m \u001b[1;33m\u001b[0m\u001b[0m\n\u001b[1;32m----> 3\u001b[1;33m \u001b[1;32massert\u001b[0m \u001b[0mspam\u001b[0m \u001b[1;33m>=\u001b[0m \u001b[1;36m0\u001b[0m\u001b[1;33m,\u001b[0m \u001b[1;34m'variable spam is a negative integer'\u001b[0m\u001b[1;33m\u001b[0m\u001b[1;33m\u001b[0m\u001b[0m\n\u001b[0m",
      "\u001b[1;31mAssertionError\u001b[0m: variable spam is a negative integer"
     ]
    }
   ],
   "source": [
    "spam = -5\n",
    "\n",
    "assert spam >= 0, 'variable spam is a negative integer'"
   ]
  },
  {
   "cell_type": "markdown",
   "id": "8be63d44",
   "metadata": {},
   "source": [
    "#### 2. Write an assert statement that triggers an AssertionError if the variables eggs and bacon contain strings that are the same as each other, even if their cases are different (that is, &#39;hello&#39; and &#39;hello&#39; are considered the same, and &#39;goodbye&#39; and &#39;GOODbye&#39; are also considered the same)."
   ]
  },
  {
   "cell_type": "code",
   "execution_count": 8,
   "id": "f64f0d72",
   "metadata": {},
   "outputs": [
    {
     "ename": "AssertionError",
     "evalue": "The eggs and bacon variable are same",
     "output_type": "error",
     "traceback": [
      "\u001b[1;31m---------------------------------------------------------------------------\u001b[0m",
      "\u001b[1;31mAssertionError\u001b[0m                            Traceback (most recent call last)",
      "\u001b[1;32m<ipython-input-8-8eab808d95ec>\u001b[0m in \u001b[0;36m<module>\u001b[1;34m\u001b[0m\n\u001b[0;32m      2\u001b[0m \u001b[0mbacon\u001b[0m \u001b[1;33m=\u001b[0m \u001b[1;34m'GOODbye'\u001b[0m\u001b[1;33m\u001b[0m\u001b[1;33m\u001b[0m\u001b[0m\n\u001b[0;32m      3\u001b[0m \u001b[1;33m\u001b[0m\u001b[0m\n\u001b[1;32m----> 4\u001b[1;33m \u001b[1;32massert\u001b[0m \u001b[0meggs\u001b[0m\u001b[1;33m.\u001b[0m\u001b[0mlower\u001b[0m\u001b[1;33m(\u001b[0m\u001b[1;33m)\u001b[0m \u001b[1;33m!=\u001b[0m \u001b[0mbacon\u001b[0m\u001b[1;33m.\u001b[0m\u001b[0mlower\u001b[0m\u001b[1;33m(\u001b[0m\u001b[1;33m)\u001b[0m\u001b[1;33m,\u001b[0m \u001b[1;34m'The eggs and bacon variable are same'\u001b[0m\u001b[1;33m\u001b[0m\u001b[1;33m\u001b[0m\u001b[0m\n\u001b[0m",
      "\u001b[1;31mAssertionError\u001b[0m: The eggs and bacon variable are same"
     ]
    }
   ],
   "source": [
    "eggs = 'goodbye'\n",
    "bacon = 'GOODbye'\n",
    "\n",
    "assert eggs.lower() != bacon.lower(), 'The eggs and bacon variable are same'"
   ]
  },
  {
   "cell_type": "markdown",
   "id": "8e5d6e20",
   "metadata": {},
   "source": [
    "#### 3. Create an assert statement that throws an AssertionError every time."
   ]
  },
  {
   "cell_type": "markdown",
   "id": "7032d9f7",
   "metadata": {},
   "source": [
    "    This statement throws an AssertionError every time"
   ]
  },
  {
   "cell_type": "code",
   "execution_count": 13,
   "id": "a19d82f1",
   "metadata": {},
   "outputs": [
    {
     "ename": "AssertionError",
     "evalue": "",
     "output_type": "error",
     "traceback": [
      "\u001b[1;31m---------------------------------------------------------------------------\u001b[0m",
      "\u001b[1;31mAssertionError\u001b[0m                            Traceback (most recent call last)",
      "\u001b[1;32m<ipython-input-13-a871fdc9ebee>\u001b[0m in \u001b[0;36m<module>\u001b[1;34m\u001b[0m\n\u001b[1;32m----> 1\u001b[1;33m \u001b[1;32massert\u001b[0m \u001b[1;32mFalse\u001b[0m\u001b[1;33m\u001b[0m\u001b[1;33m\u001b[0m\u001b[0m\n\u001b[0m",
      "\u001b[1;31mAssertionError\u001b[0m: "
     ]
    }
   ],
   "source": [
    "assert False"
   ]
  },
  {
   "cell_type": "markdown",
   "id": "56e8c39d",
   "metadata": {},
   "source": [
    "#### 4. What are the two lines that must be present in your software in order to call logging.debug()?"
   ]
  },
  {
   "cell_type": "markdown",
   "id": "b6dd3486",
   "metadata": {},
   "source": [
    "     The two lines that must be present in the software to call logging.debug() are:\n",
    "     \n",
    "     import logging\n",
    "     logging.basicConfig(filename ='somefile', level = logging.DEBUG(), format = '%asctime(s)- %(levelname)s- %(message)s') "
   ]
  },
  {
   "cell_type": "markdown",
   "id": "9850c649",
   "metadata": {},
   "source": [
    "#### 5. What are the two lines that your program must have in order to have logging.debug() send a logging message to a file named programLog.txt?"
   ]
  },
  {
   "cell_type": "markdown",
   "id": "853f5eb4",
   "metadata": {},
   "source": [
    "    The two lines that a program must have in order to have logging.debug() send a logging message to a file named programLog.txt are:\n",
    "    \n",
    "    import logging\n",
    "    logging.basicConfig(filename='programLog.txt', level=logging.DEBUG(), format='%asctime(s)- %(levelname)s- %(message)s')"
   ]
  },
  {
   "cell_type": "markdown",
   "id": "6f95cd47",
   "metadata": {},
   "source": [
    "#### 6. What are the five levels of logging?"
   ]
  },
  {
   "cell_type": "markdown",
   "id": "7c9abda7",
   "metadata": {},
   "source": [
    "    The five levels of logging are:\n",
    "    \n",
    "    DEBUG, INFO, WARNING, ERROR AND CRITICAL"
   ]
  },
  {
   "cell_type": "markdown",
   "id": "df90fe34",
   "metadata": {},
   "source": [
    "#### 7. What line of code would you add to your software to disable all logging messages?"
   ]
  },
  {
   "cell_type": "markdown",
   "id": "9c578f51",
   "metadata": {},
   "source": [
    "    logging.disable(logging.CRITICAL)"
   ]
  },
  {
   "cell_type": "markdown",
   "id": "437d5cae",
   "metadata": {},
   "source": [
    "#### 8.Why is using logging messages better than using print() to display the same message?"
   ]
  },
  {
   "cell_type": "markdown",
   "id": "c79bc3af",
   "metadata": {},
   "source": [
    "    Logging messages are better to use than print() messages because logging messages provide a timestamp.\n",
    "    Also we can selectively disable lower level logging messages"
   ]
  },
  {
   "cell_type": "markdown",
   "id": "a2b63cff",
   "metadata": {},
   "source": [
    "#### 9. What are the differences between the Step Over, Step In, and Step Out buttons in the debugger?"
   ]
  },
  {
   "cell_type": "markdown",
   "id": "0a508df9",
   "metadata": {},
   "source": [
    "      Step In: If the line of the code is a function call, the debugger will step into that function and jump to the first line of code of that function\n",
    "      \n",
    "    Step Over: If the next line of code is a function call, the button will step over the code in the function. The debugger will pause as the function call returns\n",
    "    \n",
    "    Step Out: Debugger will execute the lines of code until it returns from the current function"
   ]
  },
  {
   "cell_type": "markdown",
   "id": "65c964ea",
   "metadata": {},
   "source": [
    "#### 10.After you click Continue, when will the debugger stop ?"
   ]
  },
  {
   "cell_type": "markdown",
   "id": "25ccc2e7",
   "metadata": {},
   "source": [
    "    The debugger will stop when it has reached the end of a program or line with a breakpoint"
   ]
  },
  {
   "cell_type": "markdown",
   "id": "b39661ac",
   "metadata": {},
   "source": [
    "#### 11. What is the concept of a breakpoint?"
   ]
  },
  {
   "cell_type": "markdown",
   "id": "5f6fbac6",
   "metadata": {},
   "source": [
    "    A breakpoint is a setting on a line of code which causes debugger to stop when the program execution reaches that line"
   ]
  }
 ],
 "metadata": {
  "kernelspec": {
   "display_name": "Python 3",
   "language": "python",
   "name": "python3"
  },
  "language_info": {
   "codemirror_mode": {
    "name": "ipython",
    "version": 3
   },
   "file_extension": ".py",
   "mimetype": "text/x-python",
   "name": "python",
   "nbconvert_exporter": "python",
   "pygments_lexer": "ipython3",
   "version": "3.8.8"
  }
 },
 "nbformat": 4,
 "nbformat_minor": 5
}
