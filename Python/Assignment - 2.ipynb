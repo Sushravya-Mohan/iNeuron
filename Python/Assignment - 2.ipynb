{
 "cells": [
  {
   "cell_type": "markdown",
   "id": "4ec44460",
   "metadata": {},
   "source": [
    "# Assignment - 2\n"
   ]
  },
  {
   "cell_type": "markdown",
   "id": "b9dcf2fc",
   "metadata": {},
   "source": [
    "####  1. What are the two values of the Boolean data type? How do you write them?"
   ]
  },
  {
   "cell_type": "markdown",
   "id": "ff8e5b53",
   "metadata": {},
   "source": [
    "The two values of Boolean data type are True and False.\n",
    "They are written as True and False"
   ]
  },
  {
   "cell_type": "markdown",
   "id": "92b87b09",
   "metadata": {},
   "source": [
    "#### 2. What are the three different types of Boolean operators?"
   ]
  },
  {
   "cell_type": "markdown",
   "id": "6701c8f9",
   "metadata": {},
   "source": [
    "The three types of Boolean operators are:\n",
    "1. AND\n",
    "2. OR\n",
    "3. NOT"
   ]
  },
  {
   "cell_type": "markdown",
   "id": "5bc9ea1a",
   "metadata": {},
   "source": [
    "#### 3. Make a list of each Boolean operator's truth table (i.e every possible combination of Boolean values for the operator and what it evaluates)"
   ]
  },
  {
   "cell_type": "markdown",
   "id": "fbe211be",
   "metadata": {},
   "source": [
    "1. AND\n",
    "\n",
    "   \n",
    "    True   AND  True   -  True\n",
    "    \n",
    "    True   AND  False  -  False\n",
    "    \n",
    "    False  AND  True   -  False\n",
    "    \n",
    "    False  AND  False  -  False"
   ]
  },
  {
   "cell_type": "markdown",
   "id": "4d355a91",
   "metadata": {},
   "source": [
    "2. OR\n",
    "\n",
    "   \n",
    "    True   OR  True   -  True\n",
    "    \n",
    "    True   OR  False  -  True\n",
    "    \n",
    "    False  OR  True   -  True\n",
    "    \n",
    "    False  OR  False  -  False"
   ]
  },
  {
   "cell_type": "markdown",
   "id": "51375edf",
   "metadata": {},
   "source": [
    "3. NOT\n",
    "\n",
    "   \n",
    "    NOT  True   -  False\n",
    "    \n",
    "    NOT  False  -  True"
   ]
  },
  {
   "cell_type": "markdown",
   "id": "d6e6e3b3",
   "metadata": {},
   "source": [
    "#### 4. What are the values for the following expressions?"
   ]
  },
  {
   "cell_type": "code",
   "execution_count": 1,
   "id": "98b96dca",
   "metadata": {},
   "outputs": [
    {
     "data": {
      "text/plain": [
       "False"
      ]
     },
     "execution_count": 1,
     "metadata": {},
     "output_type": "execute_result"
    }
   ],
   "source": [
    "(5 > 4)  and (3 == 5)"
   ]
  },
  {
   "cell_type": "code",
   "execution_count": 2,
   "id": "e11bb897",
   "metadata": {},
   "outputs": [
    {
     "data": {
      "text/plain": [
       "False"
      ]
     },
     "execution_count": 2,
     "metadata": {},
     "output_type": "execute_result"
    }
   ],
   "source": [
    "not (5 > 4)"
   ]
  },
  {
   "cell_type": "code",
   "execution_count": 3,
   "id": "f5b001af",
   "metadata": {},
   "outputs": [
    {
     "data": {
      "text/plain": [
       "True"
      ]
     },
     "execution_count": 3,
     "metadata": {},
     "output_type": "execute_result"
    }
   ],
   "source": [
    "(5 > 4) or (3 == 5)"
   ]
  },
  {
   "cell_type": "code",
   "execution_count": 4,
   "id": "f5c4aa70",
   "metadata": {},
   "outputs": [
    {
     "data": {
      "text/plain": [
       "False"
      ]
     },
     "execution_count": 4,
     "metadata": {},
     "output_type": "execute_result"
    }
   ],
   "source": [
    "not ((5 > 4) or (3 == 5))"
   ]
  },
  {
   "cell_type": "code",
   "execution_count": 5,
   "id": "4c237b93",
   "metadata": {},
   "outputs": [
    {
     "data": {
      "text/plain": [
       "False"
      ]
     },
     "execution_count": 5,
     "metadata": {},
     "output_type": "execute_result"
    }
   ],
   "source": [
    "(True and True) and (True == False)"
   ]
  },
  {
   "cell_type": "code",
   "execution_count": 6,
   "id": "f961a541",
   "metadata": {},
   "outputs": [
    {
     "data": {
      "text/plain": [
       "True"
      ]
     },
     "execution_count": 6,
     "metadata": {},
     "output_type": "execute_result"
    }
   ],
   "source": [
    "(not False) or (not True) "
   ]
  },
  {
   "cell_type": "markdown",
   "id": "d2708987",
   "metadata": {},
   "source": [
    "#### 5. What are the six comparison operators?"
   ]
  },
  {
   "cell_type": "markdown",
   "id": "c2704150",
   "metadata": {},
   "source": [
    "The six comparison operators are:\n",
    "\n",
    "    1) == : To compare if two variables are equal \n",
    "    2) != : To compare if two variables are not equal\n",
    "    3) >  : To compare if one variable is greater than the other\n",
    "    4) <  : To compare if one variable is less than the other\n",
    "    5) >= : To compare if one variable is greater than or equal to the other\n",
    "    6) <= : To compare if one variable is less than or equal to the other"
   ]
  },
  {
   "cell_type": "markdown",
   "id": "b195fa43",
   "metadata": {},
   "source": [
    "#### 6. How do you tell the difference between the equal to and assignment operators? Describe a condition and when you would use one"
   ]
  },
  {
   "cell_type": "markdown",
   "id": "5dfecbbc",
   "metadata": {},
   "source": [
    "    The equal to operator (==) is used to check whether two variables are equal to each other or not.\n",
    "\n",
    "    The assignment operator (=) is used to assign the value on the right side of '=' to the variable on the left of '='\n",
    "    \n",
    "    \n",
    "    Ex:  a == 5 : Returns False as output because a is not equal to 5\n",
    "    \n",
    "    Ex:  a = 5  : Assigns the value 5 to a\n",
    "     "
   ]
  },
  {
   "cell_type": "markdown",
   "id": "387058b4",
   "metadata": {},
   "source": [
    "#### 7. Identify the three blocks in this code"
   ]
  },
  {
   "cell_type": "markdown",
   "id": "edff9512",
   "metadata": {},
   "source": [
    "    spam = 0\n",
    "\n",
    "    Block 1     \n",
    "    if spam == 10:\n",
    "        print('eggs')\n",
    "    \n",
    "    Block 2\n",
    "    if spam > 5:\n",
    "        print('bacon')\n",
    "    \n",
    "    Block 3\n",
    "    else:\n",
    "        print('ham')\n",
    "        print('spam')\n",
    "        print('spam')"
   ]
  },
  {
   "cell_type": "markdown",
   "id": "b1280eac",
   "metadata": {},
   "source": [
    "#### 8. Write code that prints Hello if 1 is stored in spam, prints Howdy if two is stored in spam and prints Greetings! if anything else is stored in spam"
   ]
  },
  {
   "cell_type": "code",
   "execution_count": 12,
   "id": "008dbcf7",
   "metadata": {},
   "outputs": [
    {
     "name": "stdout",
     "output_type": "stream",
     "text": [
      "Enter a number 2\n",
      "Howdy\n"
     ]
    }
   ],
   "source": [
    "spam = int(input(\"Enter a number \"))\n",
    "\n",
    "if spam == 1:\n",
    "    print('Hello')\n",
    "elif spam == 2:\n",
    "    print('Howdy')\n",
    "else:\n",
    "    print('Greetings!')"
   ]
  },
  {
   "cell_type": "markdown",
   "id": "38cd73b7",
   "metadata": {},
   "source": [
    "#### 9. If your program is stuck in an endless loop, what keys you'll press?"
   ]
  },
  {
   "cell_type": "markdown",
   "id": "1d148669",
   "metadata": {},
   "source": [
    "    If the program is stuck in an endless loop, the 'interrupt the kernel' key has to be pressed"
   ]
  },
  {
   "cell_type": "markdown",
   "id": "3eba238c",
   "metadata": {},
   "source": [
    "#### 10.  How can you tell the difference between break and continue?"
   ]
  },
  {
   "cell_type": "markdown",
   "id": "f5f6b763",
   "metadata": {},
   "source": [
    "    Break - It is used to exit the loop when the value of the iterator is equal to a specific variable\n",
    "    \n",
    "    Continue - When the value of the iterator is equal to a specific variable it skips the code following the continue statement and the next iteration of the loop will start"
   ]
  },
  {
   "cell_type": "markdown",
   "id": "2fc2fb89",
   "metadata": {},
   "source": [
    "#### 11. In a for loop, what is the difference between range(10), range(0, 10) and range(0, 10, 1)?"
   ]
  },
  {
   "cell_type": "markdown",
   "id": "a132ab3b",
   "metadata": {},
   "source": [
    "    There is no difference between range(10), range(0, 10) and range(0, 10, 1) in a for loop.\n",
    "    All three functions generate values from 0 to 9"
   ]
  },
  {
   "cell_type": "markdown",
   "id": "bb08d722",
   "metadata": {},
   "source": [
    "#### 12. Write a short program that prints the numbers 1 to 10 using a for loop. Then write an equivalent program that prints the numbers 1 to 10 using a while loop"
   ]
  },
  {
   "cell_type": "code",
   "execution_count": 22,
   "id": "ce5f039b",
   "metadata": {},
   "outputs": [
    {
     "name": "stdout",
     "output_type": "stream",
     "text": [
      "1\n",
      "2\n",
      "3\n",
      "4\n",
      "5\n",
      "6\n",
      "7\n",
      "8\n",
      "9\n",
      "10\n"
     ]
    }
   ],
   "source": [
    "# Using for loop\n",
    "\n",
    "\n",
    "for i in range(1,11):\n",
    "    print(i)"
   ]
  },
  {
   "cell_type": "code",
   "execution_count": 24,
   "id": "38c8c48b",
   "metadata": {},
   "outputs": [
    {
     "name": "stdout",
     "output_type": "stream",
     "text": [
      "1\n",
      "2\n",
      "3\n",
      "4\n",
      "5\n",
      "6\n",
      "7\n",
      "8\n",
      "9\n",
      "10\n"
     ]
    }
   ],
   "source": [
    "# Using while loop\n",
    "\n",
    "i = 1\n",
    "\n",
    "while i < 11:\n",
    "    print(i)\n",
    "    i += 1"
   ]
  },
  {
   "cell_type": "markdown",
   "id": "7783cd63",
   "metadata": {},
   "source": [
    "####  13. If you had a function named bacon() inside a module named spam, how would you call it after importing spam?"
   ]
  },
  {
   "cell_type": "markdown",
   "id": "7a28d1a1",
   "metadata": {},
   "source": [
    "    The function bacon() can be called by using the code - spam.bacon()"
   ]
  },
  {
   "cell_type": "code",
   "execution_count": null,
   "id": "2456fd71",
   "metadata": {},
   "outputs": [],
   "source": []
  }
 ],
 "metadata": {
  "kernelspec": {
   "display_name": "Python 3",
   "language": "python",
   "name": "python3"
  },
  "language_info": {
   "codemirror_mode": {
    "name": "ipython",
    "version": 3
   },
   "file_extension": ".py",
   "mimetype": "text/x-python",
   "name": "python",
   "nbconvert_exporter": "python",
   "pygments_lexer": "ipython3",
   "version": "3.8.8"
  }
 },
 "nbformat": 4,
 "nbformat_minor": 5
}
