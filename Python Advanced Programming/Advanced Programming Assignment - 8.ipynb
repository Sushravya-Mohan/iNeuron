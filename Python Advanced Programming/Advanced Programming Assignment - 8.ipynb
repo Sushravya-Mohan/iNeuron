{
 "cells": [
  {
   "cell_type": "markdown",
   "id": "e5299a8e",
   "metadata": {},
   "source": [
    "# Advanced Programming Assignment - 8\n"
   ]
  },
  {
   "cell_type": "markdown",
   "id": "f986057e",
   "metadata": {},
   "source": [
    "#### 1. Given a sentence as txt, return True if any two adjacent words have this property: One word ends with a vowel, while the word immediately after begins with a vowel (a e i o u)."
   ]
  },
  {
   "cell_type": "code",
   "execution_count": 6,
   "id": "1574b0f1",
   "metadata": {},
   "outputs": [
    {
     "name": "stdout",
     "output_type": "stream",
     "text": [
      "True\n",
      "True\n",
      "False\n",
      "False\n"
     ]
    }
   ],
   "source": [
    "def vowel_links(string):\n",
    "    \n",
    "    lst = string.split(\" \")\n",
    "    vowel = [\"a\", \"e\", \"i\", \"o\", \"u\"]\n",
    "    cond = 0\n",
    "    \n",
    "    for i in range(len(lst)-1):\n",
    "        if lst[i][-1] in vowel :\n",
    "            if lst[i+1][0] in vowel:\n",
    "                cond += 1\n",
    "            else:\n",
    "                pass\n",
    "        else:\n",
    "            pass\n",
    "        \n",
    "    if cond > 0:\n",
    "        print(True)\n",
    "    else:\n",
    "        print(False)\n",
    "        \n",
    "vowel_links(\"a very large appliance\")\n",
    "vowel_links(\"go to edabit\")\n",
    "vowel_links(\"an open fire\")\n",
    "vowel_links(\"a sudden applause\")"
   ]
  },
  {
   "cell_type": "markdown",
   "id": "cf4899c7",
   "metadata": {},
   "source": [
    "#### 2. You are given three inputs: a string, one letter, and a second letter. Write a function that returns True if every instance of the first letter occurs before every instance of the second letter."
   ]
  },
  {
   "cell_type": "code",
   "execution_count": 12,
   "id": "ead9b83c",
   "metadata": {},
   "outputs": [
    {
     "name": "stdout",
     "output_type": "stream",
     "text": [
      "True\n",
      "True\n",
      "False\n",
      "False\n"
     ]
    }
   ],
   "source": [
    "def first_before_second(string, let1, let2):\n",
    "    \n",
    "    inst_l1 = []\n",
    "    inst_l2 = []\n",
    "    \n",
    "    for i in range(len(string)):\n",
    "        if string[i] == let1:\n",
    "            inst_l1.append(i)\n",
    "        elif string[i] == let2:\n",
    "            inst_l2.append(i)\n",
    "        else:\n",
    "            pass\n",
    "        \n",
    "    if max(inst_l1) < min(inst_l2):\n",
    "        print(True)\n",
    "    else:\n",
    "        print(False)\n",
    "            \n",
    "first_before_second(\"a rabbit jumps joyfully\", \"a\", \"j\")\n",
    "first_before_second(\"knaves knew about waterfalls\", \"k\", \"w\")\n",
    "first_before_second(\"happy birthday\", \"a\", \"y\")\n",
    "first_before_second(\"precarious kangaroos\", \"k\", \"a\")"
   ]
  },
  {
   "cell_type": "markdown",
   "id": "ad8249ef",
   "metadata": {},
   "source": [
    "#### 3. Create a function that returns the characters from a list or string r on odd or even positions, depending on the specifier s. The specifier will be &quot;odd&quot; for items on odd positions (1, 3, 5, ...) and &quot;even&quot; for items on even positions (2,4, 6, ...)."
   ]
  },
  {
   "cell_type": "code",
   "execution_count": 17,
   "id": "c8a94cde",
   "metadata": {},
   "outputs": [
    {
     "name": "stdout",
     "output_type": "stream",
     "text": [
      "[4, 8]\n",
      "EAI\n",
      "['A', 'B', 'T', 'A', 'I', 'Y']\n"
     ]
    }
   ],
   "source": [
    "def char_at_pos(lst, pos):\n",
    "    \n",
    "    if pos == 'even':\n",
    "        l = [lst[i] for i in range(len(lst)) if (i+1)%2 == 0]\n",
    "    elif pos == 'odd':\n",
    "        l = [lst[i] for i in range(len(lst)) if (i+1)%2 != 0]\n",
    "    else:\n",
    "        pass\n",
    "    \n",
    "    if type(lst) == list:\n",
    "        print(l)\n",
    "    else:\n",
    "        print(\"\".join(l))\n",
    "        \n",
    "char_at_pos([2, 4, 6, 8, 10], \"even\")\n",
    "char_at_pos(\"EDABIT\", \"odd\")\n",
    "char_at_pos([\"A\", \"R\", \"B\", \"I\", \"T\", \"R\", \"A\", \"R\", \"I\", \"L\", \"Y\"], \"odd\")"
   ]
  },
  {
   "cell_type": "markdown",
   "id": "a9af6e3c",
   "metadata": {},
   "source": [
    "#### 4. Write a function that returns the greatest common divisor of all list elements. If the greatest common divisor is 1, return 1."
   ]
  },
  {
   "cell_type": "code",
   "execution_count": 30,
   "id": "3fc1cd45",
   "metadata": {},
   "outputs": [
    {
     "name": "stdout",
     "output_type": "stream",
     "text": [
      "10\n",
      "1\n",
      "64\n"
     ]
    }
   ],
   "source": [
    "def gcd_nos(a, b):\n",
    "    \n",
    "    while b > 0:\n",
    "        a, b = b, a % b\n",
    "    return a\n",
    "        \n",
    "\n",
    "def gcd(lst):\n",
    "    \n",
    "    n1 = lst[0]\n",
    "    n2 = lst[1]\n",
    "    gcd_e = gcd_nos(n1, n2) \n",
    "    \n",
    "    for i in range(2, len(lst)):\n",
    "        gcd_e = gcd_nos(gcd_e, lst[i])\n",
    "        \n",
    "    print(gcd_e)\n",
    "    \n",
    "gcd([10, 20, 40])\n",
    "gcd([1, 2, 3, 100])\n",
    "gcd([1024, 192, 2048, 512])"
   ]
  },
  {
   "cell_type": "markdown",
   "id": "34f4f3ab",
   "metadata": {},
   "source": [
    "#### 5. A number/string is a palindrome if the digits/characters are the same when read both forward and backward. Examples include &quot;racecar&quot; and 12321. Given a positive number n, check if n or the binary representation of n is palindromic. Return the following:\n",
    "#### - &quot;Decimal only.&quot; if only n is a palindrome.\n",
    "#### - &quot;Binary only.&quot; if only the binary representation of n is a palindrome.\n",
    "#### - &quot;Decimal and binary.&quot; if both are palindromes.\n",
    "#### - &quot;Neither!&quot; if neither are palindromes."
   ]
  },
  {
   "cell_type": "code",
   "execution_count": 42,
   "id": "28250c9b",
   "metadata": {},
   "outputs": [
    {
     "name": "stdout",
     "output_type": "stream",
     "text": [
      "Decimal only\n",
      "Binary only\n",
      "Decimal and binary\n",
      "Neither\n"
     ]
    }
   ],
   "source": [
    "def palindrome_type(num):\n",
    "    \n",
    "    s = ''\n",
    "    n = num\n",
    "    \n",
    "    while n > 0:\n",
    "        s = str(n % 2) + s\n",
    "        n = n // 2\n",
    "    \n",
    "    rev_n = str(num)[::-1]\n",
    "    rev_b = s[::-1]\n",
    "    \n",
    "    if rev_n == str(num) and rev_b == s:\n",
    "        print(\"Decimal and binary\")\n",
    "    elif rev_n == str(num) and rev_b != s:\n",
    "        print(\"Decimal only\")\n",
    "    elif rev_n != str(num) and rev_b == s:\n",
    "        print(\"Binary only\")\n",
    "    else:\n",
    "        print(\"Neither\")\n",
    "        \n",
    "palindrome_type(1306031)\n",
    "palindrome_type(427787)\n",
    "palindrome_type(313)\n",
    "palindrome_type(934)"
   ]
  }
 ],
 "metadata": {
  "kernelspec": {
   "display_name": "Python 3",
   "language": "python",
   "name": "python3"
  },
  "language_info": {
   "codemirror_mode": {
    "name": "ipython",
    "version": 3
   },
   "file_extension": ".py",
   "mimetype": "text/x-python",
   "name": "python",
   "nbconvert_exporter": "python",
   "pygments_lexer": "ipython3",
   "version": "3.8.8"
  }
 },
 "nbformat": 4,
 "nbformat_minor": 5
}
