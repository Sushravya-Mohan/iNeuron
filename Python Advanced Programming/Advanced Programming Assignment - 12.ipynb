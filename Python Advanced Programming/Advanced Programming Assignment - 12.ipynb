{
 "cells": [
  {
   "cell_type": "markdown",
   "id": "e5299a8e",
   "metadata": {},
   "source": [
    "# Advanced Programming Assignment - 12\n"
   ]
  },
  {
   "cell_type": "markdown",
   "id": "f986057e",
   "metadata": {},
   "source": [
    "#### 1. For this challenge, forget how to add two numbers together. The best explanation on what to do for this function is this meme:"
   ]
  },
  {
   "cell_type": "code",
   "execution_count": 130,
   "id": "1574b0f1",
   "metadata": {},
   "outputs": [
    {
     "name": "stdout",
     "output_type": "stream",
     "text": [
      "The meme sum of numbers are 515\n",
      "The meme sum of numbers are 1103\n",
      "The meme sum of numbers are 31499\n"
     ]
    }
   ],
   "source": [
    "def meme_sum(n1, n2):\n",
    "    \n",
    "    n1, n2 = str(n1), str(n2)\n",
    "    l = max(len(n1), len(n2))\n",
    "    s = ''\n",
    "    \n",
    "    if len(n1) < len(n2):\n",
    "        n1 = '0' + n1\n",
    "    elif len(n1) > len(n2):\n",
    "        n2 = '0' + n2\n",
    "    else:\n",
    "        pass\n",
    "    \n",
    "    for i in range(l):\n",
    "            s += str(int(n1[i])+int(n2[i]))\n",
    "    \n",
    "    print(f'The meme sum of numbers are {s}')\n",
    "    \n",
    "meme_sum(26, 39)\n",
    "meme_sum(122, 81)\n",
    "meme_sum(1222, 30277)"
   ]
  },
  {
   "cell_type": "markdown",
   "id": "cf4899c7",
   "metadata": {},
   "source": [
    "#### 2. Given an integer, create a function that returns the next prime. If the number is prime, return the number itself."
   ]
  },
  {
   "cell_type": "code",
   "execution_count": 131,
   "id": "ead9b83c",
   "metadata": {},
   "outputs": [
    {
     "name": "stdout",
     "output_type": "stream",
     "text": [
      "The prime number is 13\n",
      "The prime number is 29\n",
      "The prime number is 11\n"
     ]
    }
   ],
   "source": [
    "def prime(n):\n",
    "    l = []\n",
    "    for i in range(2, n):\n",
    "        if n % i == 0:\n",
    "            l.append(i)\n",
    "        else:\n",
    "            pass\n",
    "        \n",
    "    if len(l) == 0:\n",
    "        return True\n",
    "    else:\n",
    "        return False\n",
    "    \n",
    "    \n",
    "def next_prime(num):\n",
    "    \n",
    "    if prime(num):\n",
    "        print(f'The prime number is {num}')\n",
    "    else:\n",
    "        while(prime(num)!=True):\n",
    "            num +=1\n",
    "        print(f'The prime number is {num}')\n",
    "        \n",
    "        \n",
    "next_prime(12)\n",
    "next_prime(24)\n",
    "next_prime(11)        "
   ]
  },
  {
   "cell_type": "markdown",
   "id": "ad8249ef",
   "metadata": {},
   "source": [
    "#### 3. If a person traveled up a hill for 18mins at 20mph and then traveled back down the same path at 60mph then their average speed traveled was 30mph.\n",
    "#### Write a function that returns the average speed traveled given an uphill time, uphill rate and a downhill rate. Uphill time is given in minutes. Return the rate as an integer (mph). No rounding is necessary..\n"
   ]
  },
  {
   "cell_type": "code",
   "execution_count": 129,
   "id": "c8a94cde",
   "metadata": {},
   "outputs": [
    {
     "name": "stdout",
     "output_type": "stream",
     "text": [
      "The average speed is 30 mph\n",
      "The average speed is 15 mph\n",
      "The average speed is 12 mph\n"
     ]
    }
   ],
   "source": [
    "def avg_speed(up_t, up_r, down_r):\n",
    "    \n",
    "    dist = (up_r * up_t)/60\n",
    "    down_t = (dist / down_r) * 60\n",
    "    \n",
    "    avg_spd = (2 * dist * 60)/(up_t + down_t) \n",
    "    avg_spd = int(avg_spd)\n",
    "    print(f'The average speed is {avg_spd} mph')\n",
    "    \n",
    "avg_speed(18, 20, 60)\n",
    "avg_speed(30, 10, 30)\n",
    "avg_speed(30, 8, 24)"
   ]
  },
  {
   "cell_type": "markdown",
   "id": "a9af6e3c",
   "metadata": {},
   "source": [
    "#### 4. The Kempner Function, applied to a composite number, permits to find the smallest integer greater than zero whose factorial is exactly divided by the number."
   ]
  },
  {
   "cell_type": "code",
   "execution_count": 132,
   "id": "3fc1cd45",
   "metadata": {},
   "outputs": [
    {
     "name": "stdout",
     "output_type": "stream",
     "text": [
      "The Kempner number is 3\n",
      "The Kempner number is 5\n",
      "The Kempner number is 2\n",
      "The Kempner number is 5\n"
     ]
    }
   ],
   "source": [
    "def fact(n):\n",
    "    f = 1\n",
    "    \n",
    "    while n > 0:\n",
    "        f = f * n\n",
    "        n = n-1\n",
    "    \n",
    "    return f\n",
    "\n",
    "def kempner(num):\n",
    "    n = 1\n",
    "    \n",
    "    while fact(n) % num != 0:\n",
    "        n = n + 1\n",
    "    else:\n",
    "        print(f'The Kempner number is {n}')\n",
    "        \n",
    "kempner(6)\n",
    "kempner(10)\n",
    "kempner(2)\n",
    "kempner(5)"
   ]
  },
  {
   "cell_type": "markdown",
   "id": "34f4f3ab",
   "metadata": {},
   "source": [
    "#### 5. You work in a factory, and your job is to take items from a conveyor belt and pack them into boxes. Each box can hold a maximum of 10 kgs. Given a list containing the weight (in kg) of each item, how many boxes would you need to pack all of the items?"
   ]
  },
  {
   "cell_type": "code",
   "execution_count": 133,
   "id": "28250c9b",
   "metadata": {},
   "outputs": [
    {
     "name": "stdout",
     "output_type": "stream",
     "text": [
      "5 boxes are required to pack all the items\n"
     ]
    }
   ],
   "source": [
    "def boxes(lst):\n",
    "    \n",
    "    a = []\n",
    "    b = []\n",
    "    i = 0\n",
    "    l = len(lst)\n",
    "    \n",
    "    while l:\n",
    "        if sum(a) <= 10:\n",
    "            a.append(lst[i])\n",
    "            i +=  1\n",
    "            l -= 1\n",
    "        elif sum(a) > 10:\n",
    "            b.append(a[:-1:])\n",
    "            i -= 1\n",
    "            l += 1\n",
    "            a.clear()\n",
    "    b.append(a)\n",
    "        \n",
    "    print(f'{len(b)} boxes are required to pack all the items')\n",
    "    \n",
    "boxes([2, 1, 2, 5, 4, 3, 6, 1, 1, 9, 3, 2])\n",
    "\n"
   ]
  },
  {
   "cell_type": "code",
   "execution_count": null,
   "id": "75711593",
   "metadata": {},
   "outputs": [],
   "source": []
  }
 ],
 "metadata": {
  "kernelspec": {
   "display_name": "Python 3",
   "language": "python",
   "name": "python3"
  },
  "language_info": {
   "codemirror_mode": {
    "name": "ipython",
    "version": 3
   },
   "file_extension": ".py",
   "mimetype": "text/x-python",
   "name": "python",
   "nbconvert_exporter": "python",
   "pygments_lexer": "ipython3",
   "version": "3.8.8"
  }
 },
 "nbformat": 4,
 "nbformat_minor": 5
}
