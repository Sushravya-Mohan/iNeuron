{
 "cells": [
  {
   "cell_type": "markdown",
   "id": "e5299a8e",
   "metadata": {},
   "source": [
    "# Advanced Programming Assignment - 15\n"
   ]
  },
  {
   "cell_type": "markdown",
   "id": "f986057e",
   "metadata": {},
   "source": [
    "#### 1. Write a function that returns True if a given name can generate an array of words."
   ]
  },
  {
   "cell_type": "code",
   "execution_count": 1,
   "id": "1574b0f1",
   "metadata": {},
   "outputs": [
    {
     "name": "stdout",
     "output_type": "stream",
     "text": [
      "True\n",
      "True\n",
      "False\n",
      "False\n"
     ]
    }
   ],
   "source": [
    "def anagram(s, lst):\n",
    "    \n",
    "    con_s = ''\n",
    "    s = s.replace(\" \",\"\").lower()\n",
    "    \n",
    "    for i in lst:\n",
    "        con_s += i\n",
    "        \n",
    "    for i in con_s:\n",
    "        if i in s:\n",
    "            s = s.replace(i,\"\",1)\n",
    "            con_s = con_s.replace(i,\"\",1)\n",
    "        else:\n",
    "            pass\n",
    "    \n",
    "    if len(s) == 0 and len(con_s) == 0:\n",
    "        print(\"True\")\n",
    "    else:\n",
    "        print(\"False\")           \n",
    "    \n",
    "anagram(\"Justin Beiber\", ['injures', 'ebb', 'it'])\n",
    "anagram(\"Natalie Portman\", ['ornamental', 'pita'])\n",
    "anagram(\"Chris Pratt\", ['chirps', 'rat'])\n",
    "anagram(\"Jeff Goldblum\", ['jog', 'meld', 'bluffs'])\n"
   ]
  },
  {
   "cell_type": "markdown",
   "id": "cf4899c7",
   "metadata": {},
   "source": [
    "#### 2. Given an array of users, each defined by an object with the following properties: name, score, reputation create a function that sorts the array to form the correct leaderboard.\n",
    "#### The leaderboard takes into consideration the score of each user of course, but an emphasis is put on their reputation in the community, so to get the trueScore, you should add the reputation multiplied by 2 to the score.\n",
    "#### Once you know the trueScore of each user, sort the array according to it in descending order."
   ]
  },
  {
   "cell_type": "code",
   "execution_count": 2,
   "id": "ead9b83c",
   "metadata": {},
   "outputs": [
    {
     "name": "stdout",
     "output_type": "stream",
     "text": [
      "[{'name': 'c', 'score': 115, 'reputation': 30}, {'name': 'b', 'score': 90, 'reputation': 40}, {'name': 'a', 'score': 100, 'reputation': 20}]\n"
     ]
    }
   ],
   "source": [
    "def leaderboards(lst):\n",
    "    d = dict()\n",
    "    up_l = []\n",
    "    \n",
    "    for i in range(len(lst)):\n",
    "        d[i] = lst[i][\"score\"] + 2 * lst[i][\"reputation\"]\n",
    "        \n",
    "    d = dict(sorted(d.items(), key = lambda item : item[1], reverse = True))\n",
    "    \n",
    "    for i in d:\n",
    "        up_l.append(lst[i])\n",
    "        \n",
    "    print(up_l)\n",
    "        \n",
    "\n",
    "leaderboards([{\"name\":\"a\", \"score\":100, \"reputation\":20},\n",
    "    {\"name\":\"b\", \"score\":90, \"reputation\":40},\n",
    "    {\"name\":\"c\", \"score\":115, \"reputation\":30}])"
   ]
  },
  {
   "cell_type": "markdown",
   "id": "ad8249ef",
   "metadata": {},
   "source": [
    "#### 3. Create a function that, given a phrase and a number of letters guessed, returns a string with hyphens - for every letter of the phrase not guessed, and each letter guessed in place."
   ]
  },
  {
   "cell_type": "code",
   "execution_count": 3,
   "id": "acae273e",
   "metadata": {},
   "outputs": [
    {
     "name": "stdout",
     "output_type": "stream",
     "text": [
      "-e---o--e-\n",
      "tree\n",
      "P----n r----\n",
      "-e'- a -e-y -a----y --y!\n"
     ]
    }
   ],
   "source": [
    "def hangman(s, lst):\n",
    "    ret_s = ''\n",
    "    sp_c = [\" \", \"!\", \"'\", \"?\", \".\", \"@\"]\n",
    "    \n",
    "    for i in s:\n",
    "        if i.lower() in lst:\n",
    "            ret_s += i\n",
    "        elif i in sp_c:\n",
    "            ret_s += i \n",
    "        else:\n",
    "            ret_s += '-'\n",
    "            \n",
    "    print(ret_s)\n",
    "    \n",
    "hangman(\"helicopter\", [\"o\", \"e\", \"s\"])\n",
    "hangman(\"tree\", [\"t\", \"r\", \"e\"])\n",
    "hangman(\"Python rules\", [\"a\", \"n\", \"p\", \"r\", \"z\"])\n",
    "hangman(\"He's a very naughty boy!\", [\"e\", \"a\", \"y\"])"
   ]
  },
  {
   "cell_type": "markdown",
   "id": "a9af6e3c",
   "metadata": {},
   "source": [
    "#### 4. The Collatz sequence is as follows:\n",
    "    - Start with some given integer n.\n",
    "    - If it is even, the next number will be n divided by 2.\n",
    "    - If it is odd, multiply it by 3 and add 1 to make the next number.\n",
    "    - The sequence stops when it reaches 1.\n",
    "#### According to the Collatz conjecture, it will always reach 1. If that&#39;s true, you can construct a finite sequence following the aforementioned method for any given integer.\n",
    "#### Write a function that takes in an integer n and returns the highest integer in the corresponding Collatz sequence."
   ]
  },
  {
   "cell_type": "code",
   "execution_count": 4,
   "id": "3fc1cd45",
   "metadata": {},
   "outputs": [
    {
     "name": "stdout",
     "output_type": "stream",
     "text": [
      "16\n",
      "32\n",
      "256\n"
     ]
    }
   ],
   "source": [
    "def max_collatz(n):\n",
    "    \n",
    "    c_lst = [n]\n",
    "    \n",
    "    while n != 1:\n",
    "        if n % 2 == 0:\n",
    "            n = int(n/2)\n",
    "            c_lst.append(n)\n",
    "        else:\n",
    "            n = int(n* 3 + 1)\n",
    "            c_lst.append(n)\n",
    "            \n",
    "    print(max(c_lst))\n",
    "    \n",
    "max_collatz(10)\n",
    "max_collatz(32)\n",
    "max_collatz(85)"
   ]
  },
  {
   "cell_type": "markdown",
   "id": "34f4f3ab",
   "metadata": {},
   "source": [
    "#### 5. Write a function that sorts a list of integers by their digit length in descending order, then settles ties by sorting numbers with the same digit length in ascending order."
   ]
  },
  {
   "cell_type": "code",
   "execution_count": 6,
   "id": "28250c9b",
   "metadata": {},
   "outputs": [
    {
     "name": "stdout",
     "output_type": "stream",
     "text": [
      "[101, 23, 77, 5, 7]\n",
      "[444, 563, 789, 1, 2, 5, 9]\n",
      "[53219, 3772, 564, 32, 1]\n"
     ]
    }
   ],
   "source": [
    "def digit_sort(lst):\n",
    "    \n",
    "    new_lst = sorted(lst, reverse=True)\n",
    "    n_l = [str(i) for i in new_lst]\n",
    "    n = len(new_lst)\n",
    "    \n",
    "    for i in range(n):\n",
    "        for j in range(0, n-1):\n",
    "            if len(n_l[j]) == len(n_l[j+1]):\n",
    "                if new_lst[j] > new_lst[j+1]:\n",
    "                    a, new_lst[j] = new_lst[j], new_lst[j+1]\n",
    "                    new_lst[j+1] = a\n",
    "\n",
    "    print(new_lst)\n",
    "    \n",
    "digit_sort([77, 23, 5, 7, 101])\n",
    "digit_sort([1, 5, 9, 2, 789, 563, 444])\n",
    "digit_sort([53219, 3772, 564, 32, 1])"
   ]
  },
  {
   "cell_type": "code",
   "execution_count": null,
   "id": "25f0b47b",
   "metadata": {},
   "outputs": [],
   "source": []
  },
  {
   "cell_type": "code",
   "execution_count": null,
   "id": "62835f6b",
   "metadata": {},
   "outputs": [],
   "source": []
  }
 ],
 "metadata": {
  "kernelspec": {
   "display_name": "Python 3",
   "language": "python",
   "name": "python3"
  },
  "language_info": {
   "codemirror_mode": {
    "name": "ipython",
    "version": 3
   },
   "file_extension": ".py",
   "mimetype": "text/x-python",
   "name": "python",
   "nbconvert_exporter": "python",
   "pygments_lexer": "ipython3",
   "version": "3.8.8"
  }
 },
 "nbformat": 4,
 "nbformat_minor": 5
}
