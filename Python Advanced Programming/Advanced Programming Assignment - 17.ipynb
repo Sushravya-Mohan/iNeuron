{
 "cells": [
  {
   "cell_type": "markdown",
   "id": "e5299a8e",
   "metadata": {},
   "source": [
    "# Advanced Programming Assignment - 17\n"
   ]
  },
  {
   "cell_type": "markdown",
   "id": "f986057e",
   "metadata": {},
   "source": [
    "#### 1. Create a function that transposes a 2D matrix."
   ]
  },
  {
   "cell_type": "code",
   "execution_count": 1,
   "id": "1574b0f1",
   "metadata": {},
   "outputs": [
    {
     "name": "stdout",
     "output_type": "stream",
     "text": [
      "[[1, 2, 3], [1, 2, 3], [1, 2, 3]]\n",
      "[[5, 6, 9], [5, 7, 1]]\n"
     ]
    }
   ],
   "source": [
    "def transpose_matrix(lst):\n",
    "    \n",
    "    l = [[lst[j][i] for j in range(len(lst))]for i in range(len(lst[0]))]\n",
    "    print(l)\n",
    "    \n",
    "transpose_matrix([[1,1,1],[2,2,2], [3,3,3]])\n",
    "transpose_matrix([[5,5], [6,7], [9,1]])"
   ]
  },
  {
   "cell_type": "markdown",
   "id": "cf4899c7",
   "metadata": {},
   "source": [
    "#### 2. Create a function that determines whether a string is a valid hex code. \n",
    "#### A hex code must begin with a pound key # and is exactly 6 characters in length. Each character must be a digit from 0-9 or an alphabetic character from A-F. All alphabetic characters may be uppercase or lowercase."
   ]
  },
  {
   "cell_type": "code",
   "execution_count": 2,
   "id": "ead9b83c",
   "metadata": {},
   "outputs": [
    {
     "name": "stdout",
     "output_type": "stream",
     "text": [
      "True\n",
      "True\n",
      "True\n",
      "False\n",
      "False\n",
      "False\n",
      "False\n",
      "True\n"
     ]
    }
   ],
   "source": [
    "def is_valid_hex_code(s):\n",
    "    \n",
    "    import re\n",
    "    \n",
    "    cond = re.search(r'([0-9A-Fa-f]{6})',s)    \n",
    "    \n",
    "    if len(s) == 7:\n",
    "        if s[0] == \"#\":\n",
    "            if cond:\n",
    "                print(True)\n",
    "            else:\n",
    "                print(False)                    \n",
    "        else:\n",
    "            print(False)               \n",
    "    else:\n",
    "        print(False)\n",
    "\n",
    "\n",
    "is_valid_hex_code(\"#CD5C5C\")\n",
    "is_valid_hex_code(\"#EAECEE\")\n",
    "is_valid_hex_code(\"#eaecee\")\n",
    "is_valid_hex_code(\"#CD5C58C\")\n",
    "is_valid_hex_code(\"#CD5C5Z\")\n",
    "is_valid_hex_code(\"#CD5C&C\")\n",
    "is_valid_hex_code(\"CD5C5C\")\n",
    "is_valid_hex_code(\"#afafab\")"
   ]
  },
  {
   "cell_type": "markdown",
   "id": "ad8249ef",
   "metadata": {},
   "source": [
    "#### 3. Given a list of math equations (given as strings), return the percentage of correct answers as a string. Round to the nearest whole number."
   ]
  },
  {
   "cell_type": "code",
   "execution_count": 3,
   "id": "acae273e",
   "metadata": {},
   "outputs": [
    {
     "name": "stdout",
     "output_type": "stream",
     "text": [
      "75%\n",
      "0%\n",
      "67%\n"
     ]
    }
   ],
   "source": [
    "def marks_maths(lst):\n",
    "    c = 0\n",
    "    m = len(lst)\n",
    "    \n",
    "    for i in lst:\n",
    "        l = i.split(\"=\")\n",
    "        if eval(l[0]) == int(l[1]):\n",
    "            c += 1\n",
    "        else:\n",
    "            pass\n",
    "    \n",
    "    ratio = (c/m) * 100\n",
    "    percent = str(round(ratio)) + \"%\"\n",
    "    \n",
    "    print(percent)\n",
    "    \n",
    "    \n",
    "marks_maths([\"2+2=4\", \"3+2=5\", \"10-3=3\", \"5+5=10\"])   \n",
    "marks_maths([\"1-2=-2\"])    \n",
    "marks_maths([\"2+3=5\", \"4+4=9\", \"3-1=2\"])"
   ]
  },
  {
   "cell_type": "markdown",
   "id": "a9af6e3c",
   "metadata": {},
   "source": [
    "#### 4. There are two players, Alice and Bob, each with a 3-by-3 grid. A referee tells Alice to fill out one particular row in the grid (say the second row) by putting either a 1 or a 0 in each box, such that the sum of the numbers in that row is odd. The referee tells Bob to fill out one column in the grid (say the first column) by putting either a 1 or a 0 in each box, such that the sum of the numbers in that column is even.\n",
    "#### Alice and Bob win the game if Alice’s numbers give an odd sum, Bob’s give an even sum, and (most important) they’ve each written down the same number in the one square where their row and column intersect."
   ]
  },
  {
   "cell_type": "code",
   "execution_count": 4,
   "id": "3fc1cd45",
   "metadata": {},
   "outputs": [
    {
     "name": "stdout",
     "output_type": "stream",
     "text": [
      "False\n",
      "True\n",
      "True\n",
      "False\n"
     ]
    }
   ],
   "source": [
    "def magic_square_game(a, b):\n",
    "    \n",
    "    l1 = [([0]*3) for i in range(3)]\n",
    "    l2 = [([0]*3) for i in range(3)]\n",
    "    \n",
    "    m = a[0]-1\n",
    "    n = b[0]-1\n",
    "    \n",
    "    for i in range(len(a[1])):\n",
    "        l1[m][i] = int(a[1][i])\n",
    "        \n",
    "    for j in range(len(b[1])):\n",
    "        l2[j][n] = int(b[1][j])\n",
    "        \n",
    "    \n",
    "    s1 = sum([int(i) for i in a[1]])\n",
    "    s2 = sum([int(j) for j in b[1]])\n",
    "    \n",
    "    if s1%2 == 1 and s2%2 == 0 and l1[m][n] == l2[m][n]:\n",
    "        print(True)\n",
    "    else:\n",
    "        print(False)\n",
    "    \n",
    "    \n",
    "    \n",
    "magic_square_game([2, \"100\"],[1, \"101\"])\n",
    "magic_square_game([2, \"001\"],[1, \"101\"])\n",
    "magic_square_game([3, \"111\"],[2, \"011\"])\n",
    "magic_square_game([1, \"010\"],[3, \"101\"])"
   ]
  },
  {
   "cell_type": "markdown",
   "id": "34f4f3ab",
   "metadata": {},
   "source": [
    "#### 5. From point A, an object is moving towards point B at constant velocity va (in km/hr). From point B, another object is moving towards point A at constant velocity vb (in km/hr). Knowing this and the distance between point A and B (in km), write a function that returns how much time passes until both objects meet."
   ]
  },
  {
   "cell_type": "code",
   "execution_count": 5,
   "id": "28250c9b",
   "metadata": {},
   "outputs": [
    {
     "name": "stdout",
     "output_type": "stream",
     "text": [
      "2h 30min 0s\n",
      "1h 51min 59s\n",
      "0h 38min 34s\n"
     ]
    }
   ],
   "source": [
    "def lets_meet(d, va, vb):\n",
    "    \n",
    "    dist = (d*va)/(va+vb)\n",
    "    time = dist/va\n",
    "    \n",
    "    h = int(time)\n",
    "    m = int(time * 60) % 60\n",
    "    s = int(time * 3600) % 60\n",
    "    \n",
    "    print(f'{h}h {m}min {s}s')\n",
    "    \n",
    "lets_meet(100, 10, 30)\n",
    "lets_meet(280, 70, 80)\n",
    "lets_meet(90, 75, 65)"
   ]
  },
  {
   "cell_type": "code",
   "execution_count": null,
   "id": "93518c82",
   "metadata": {},
   "outputs": [],
   "source": []
  }
 ],
 "metadata": {
  "kernelspec": {
   "display_name": "Python 3",
   "language": "python",
   "name": "python3"
  },
  "language_info": {
   "codemirror_mode": {
    "name": "ipython",
    "version": 3
   },
   "file_extension": ".py",
   "mimetype": "text/x-python",
   "name": "python",
   "nbconvert_exporter": "python",
   "pygments_lexer": "ipython3",
   "version": "3.8.8"
  }
 },
 "nbformat": 4,
 "nbformat_minor": 5
}
