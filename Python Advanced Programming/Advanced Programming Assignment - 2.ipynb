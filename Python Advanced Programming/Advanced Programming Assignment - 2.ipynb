{
 "cells": [
  {
   "cell_type": "markdown",
   "id": "e5299a8e",
   "metadata": {},
   "source": [
    "# Advanced Programming Assignment - 2\n"
   ]
  },
  {
   "cell_type": "markdown",
   "id": "f986057e",
   "metadata": {},
   "source": [
    "#### 1. Write a function that takes a positive integer num and calculates how many dots exist in a pentagonal shape around the center dot on the Nth iteration. "
   ]
  },
  {
   "cell_type": "code",
   "execution_count": 5,
   "id": "1574b0f1",
   "metadata": {},
   "outputs": [
    {
     "name": "stdout",
     "output_type": "stream",
     "text": [
      "1\n",
      "6\n",
      "16\n",
      "141\n"
     ]
    }
   ],
   "source": [
    "def pentagonal(n):\n",
    "    dots = 1\n",
    "    \n",
    "    for i in range(n):\n",
    "        dots += 5 * i\n",
    "        \n",
    "    print(dots)\n",
    "    \n",
    "pentagonal(1)\n",
    "pentagonal(2)\n",
    "pentagonal(3)\n",
    "pentagonal(8)"
   ]
  },
  {
   "cell_type": "markdown",
   "id": "cf4899c7",
   "metadata": {},
   "source": [
    "#### 2. Make a function that encrypts a given input with these steps:\n",
    "#### Input: &quot;apple&quot;\n",
    "#### Step 1: Reverse the input: &quot;elppa&quot;\n",
    "#### Step 2: Replace all vowels using the following chart:\n",
    "#### a =&gt; 0\n",
    "#### e =&gt; 1\n",
    "#### i =&gt; 2\n",
    "#### o =&gt; 2\n",
    "#### u =&gt; 3\n",
    "#### # &quot;1lpp0&quot;\n",
    "\n",
    "#### Step 3: Add &quot;aca&quot; to the end of the word: &quot;1lpp0aca&quot;"
   ]
  },
  {
   "cell_type": "code",
   "execution_count": 12,
   "id": "ead9b83c",
   "metadata": {},
   "outputs": [
    {
     "name": "stdout",
     "output_type": "stream",
     "text": [
      "1lpp0aca\n",
      "0n0n0baca\n",
      "0c0r0kaca\n",
      "k0r3baca\n",
      "0c0pl0aca\n"
     ]
    }
   ],
   "source": [
    "def encrypt(string):\n",
    "    \n",
    "    vow = {'a':'0', 'e':'1', 'i':'2', 'o':'2', 'u':'3'}\n",
    "    \n",
    "    string = string[::-1]\n",
    "    new_str = ''\n",
    "    \n",
    "    for i in string:\n",
    "        if i in vow.keys():\n",
    "            new_str += vow[i]\n",
    "        else:\n",
    "            new_str += i\n",
    "        \n",
    "    fin_str = new_str + 'aca'\n",
    "    print(fin_str)\n",
    "    \n",
    "encrypt('apple')\n",
    "encrypt('banana')\n",
    "encrypt('karaca')\n",
    "encrypt('burak')\n",
    "encrypt('alpaca')"
   ]
  },
  {
   "cell_type": "markdown",
   "id": "ad8249ef",
   "metadata": {},
   "source": [
    "#### 3. Given the month and year as numbers, return whether that month contains a Friday 13th.(i.e You can check Python&#39;s datetime module)"
   ]
  },
  {
   "cell_type": "code",
   "execution_count": 15,
   "id": "c8a94cde",
   "metadata": {},
   "outputs": [
    {
     "name": "stdout",
     "output_type": "stream",
     "text": [
      "True\n",
      "True\n",
      "False\n"
     ]
    }
   ],
   "source": [
    "def has_friday_13(m, y):\n",
    "    \n",
    "    from datetime import datetime\n",
    "    \n",
    "    day = datetime(y, m, 13).strftime('%A')\n",
    "    \n",
    "    if day == 'Friday':\n",
    "        print(True)\n",
    "    else:\n",
    "        print(False)\n",
    "        \n",
    "has_friday_13(3, 2020)\n",
    "has_friday_13(10, 2017)\n",
    "has_friday_13(1, 1985)"
   ]
  },
  {
   "cell_type": "markdown",
   "id": "a9af6e3c",
   "metadata": {},
   "source": [
    "#### 4. Write a regular expression that will help us count how many bad cookies are produced every day. You must use RegEx negative lookbehind."
   ]
  },
  {
   "cell_type": "code",
   "execution_count": 32,
   "id": "3fc1cd45",
   "metadata": {},
   "outputs": [
    {
     "data": {
      "text/plain": [
       "2"
      ]
     },
     "execution_count": 32,
     "metadata": {},
     "output_type": "execute_result"
    }
   ],
   "source": [
    "import re\n",
    "\n",
    "lst = ['bad cookie', 'good cookie', 'bad cookie', 'good cookie', 'good cookie']\n",
    "pattern = 'bad\\s\\w'\n",
    "\n",
    "len(re.findall(pattern, \", \".join(lst)))"
   ]
  },
  {
   "cell_type": "markdown",
   "id": "34f4f3ab",
   "metadata": {},
   "source": [
    "#### 5. Given a list of words in the singular form, return a set of those words in the plural form if they appear more than once in the list."
   ]
  },
  {
   "cell_type": "code",
   "execution_count": 23,
   "id": "28250c9b",
   "metadata": {},
   "outputs": [
    {
     "name": "stdout",
     "output_type": "stream",
     "text": [
      "{'pig', 'cows'}\n",
      "{'tables'}\n",
      "{'chair', 'pencil', 'arm'}\n"
     ]
    }
   ],
   "source": [
    "def pluralize(lst):\n",
    "    \n",
    "    num_of_times = {i:lst.count(i) for i in lst}\n",
    "    set_of_words = set()\n",
    "    \n",
    "    for i in num_of_times.keys():\n",
    "        if num_of_times[i] > 1:\n",
    "            set_of_words.add(i+'s')\n",
    "        else:\n",
    "            set_of_words.add(i)\n",
    "    \n",
    "    print(set_of_words)\n",
    "    \n",
    "pluralize(['cow', 'pig', 'cow', 'cow'])\n",
    "pluralize(['table', 'table', 'table'])\n",
    "pluralize(['chair', 'pencil', 'arm'])"
   ]
  },
  {
   "cell_type": "code",
   "execution_count": null,
   "id": "227a8669",
   "metadata": {},
   "outputs": [],
   "source": []
  }
 ],
 "metadata": {
  "kernelspec": {
   "display_name": "Python 3",
   "language": "python",
   "name": "python3"
  },
  "language_info": {
   "codemirror_mode": {
    "name": "ipython",
    "version": 3
   },
   "file_extension": ".py",
   "mimetype": "text/x-python",
   "name": "python",
   "nbconvert_exporter": "python",
   "pygments_lexer": "ipython3",
   "version": "3.8.8"
  }
 },
 "nbformat": 4,
 "nbformat_minor": 5
}
