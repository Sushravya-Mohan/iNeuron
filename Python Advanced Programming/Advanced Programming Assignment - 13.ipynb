{
 "cells": [
  {
   "cell_type": "markdown",
   "id": "e5299a8e",
   "metadata": {},
   "source": [
    "# Advanced Programming Assignment - 13\n"
   ]
  },
  {
   "cell_type": "markdown",
   "id": "f986057e",
   "metadata": {},
   "source": [
    "#### 1. Create a function that takes a list and string. The function should remove the letters in the string from the list, and return the list."
   ]
  },
  {
   "cell_type": "code",
   "execution_count": 15,
   "id": "1574b0f1",
   "metadata": {},
   "outputs": [
    {
     "name": "stdout",
     "output_type": "stream",
     "text": [
      "['w']\n",
      "['b', 'g', 'w']\n",
      "[]\n"
     ]
    }
   ],
   "source": [
    "def remove_letters(lst, s):\n",
    "    l = [i for i in s]\n",
    "    \n",
    "    for i in l:\n",
    "        if i in lst:\n",
    "            lst.remove(i)\n",
    "        else:\n",
    "            pass\n",
    "                 \n",
    "    print(lst)\n",
    "        \n",
    "remove_letters([\"s\",\"t\",\"r\",\"i\",\"n\",\"g\",\"w\"],\"string\")\n",
    "remove_letters([\"b\",\"b\",\"l\",\"l\",\"g\",\"n\",\"o\",\"a\",\"w\"],\"balloon\")\n",
    "remove_letters([\"d\",\"b\",\"t\",\"e\",\"a\",\"i\"],\"edabit\")\n",
    "            "
   ]
  },
  {
   "cell_type": "markdown",
   "id": "cf4899c7",
   "metadata": {},
   "source": [
    "#### 2. A block sequence in three dimensions. We can write a formula for this one: Create a function that takes a number (step) as an argument and returns the amount of blocks in that step."
   ]
  },
  {
   "cell_type": "code",
   "execution_count": 20,
   "id": "ead9b83c",
   "metadata": {},
   "outputs": [
    {
     "name": "stdout",
     "output_type": "stream",
     "text": [
      "5\n",
      "39\n",
      "12\n"
     ]
    }
   ],
   "source": [
    "def blocks(x):\n",
    "    s = 3 * (x - 1)\n",
    "    n = x + 2\n",
    "    \n",
    "    while n > 1:\n",
    "        s +=  n\n",
    "        n = n - 1\n",
    "        \n",
    "    print(s)\n",
    "    \n",
    "blocks(1)\n",
    "blocks(5)\n",
    "blocks(2)"
   ]
  },
  {
   "cell_type": "markdown",
   "id": "ad8249ef",
   "metadata": {},
   "source": [
    "#### 3. Create a function that subtracts one positive integer from another, without using any arithmetic operators such as -, %, /, +, etc."
   ]
  },
  {
   "cell_type": "code",
   "execution_count": 27,
   "id": "c8a94cde",
   "metadata": {},
   "outputs": [
    {
     "name": "stdout",
     "output_type": "stream",
     "text": [
      "4\n",
      "20\n",
      "0\n"
     ]
    }
   ],
   "source": [
    "def my_sub(a, b):\n",
    "    \n",
    "    if a > b:\n",
    "        pass\n",
    "    else:\n",
    "        a, b = b, a\n",
    "        \n",
    "    while b != 0:\n",
    "        d = ~ a & b\n",
    "        a = a ^ b\n",
    "        b = d << 1\n",
    "        \n",
    "    print(a)\n",
    "    \n",
    "my_sub(5, 9)\n",
    "my_sub(10, 30)\n",
    "my_sub(0, 0)\n",
    "     "
   ]
  },
  {
   "cell_type": "markdown",
   "id": "a9af6e3c",
   "metadata": {},
   "source": [
    "#### 4. Create a function that takes a string containing money in dollars and pounds sterling (seperated by comma) and returns the sum of dollar bills only, as an integer."
   ]
  },
  {
   "cell_type": "code",
   "execution_count": 36,
   "id": "3fc1cd45",
   "metadata": {},
   "outputs": [
    {
     "name": "stdout",
     "output_type": "stream",
     "text": [
      "70\n",
      "170\n",
      "2200\n"
     ]
    }
   ],
   "source": [
    "def add_bill(s):\n",
    "    \n",
    "    l = s.split(\",\")\n",
    "    s = 0\n",
    "    \n",
    "    for i in l:\n",
    "        if 'd' in i:\n",
    "            i = i.replace('d','')\n",
    "            if 'k' in i: \n",
    "                s = s + int(i.replace('k','')) * 1000\n",
    "            else:\n",
    "                s = s + int(i)\n",
    "        else:\n",
    "            pass\n",
    "    \n",
    "    print(s)\n",
    "           \n",
    "add_bill(\"d20,p40,p60,d50\")\n",
    "add_bill(\"p30,d20,p60,d150,p360\")\n",
    "add_bill(\"p30,d2k,p60,d200,p360\")"
   ]
  },
  {
   "cell_type": "markdown",
   "id": "34f4f3ab",
   "metadata": {},
   "source": [
    "#### 5. Create a function that flips a horizontal list into a vertical list, and a vertical list into a horizontal list.\n",
    "#### In other words, take an 1 x n list (1 row + n columns) and flip it into a n x 1 list (n rows and 1 column), and vice versa."
   ]
  },
  {
   "cell_type": "code",
   "execution_count": 68,
   "id": "28250c9b",
   "metadata": {},
   "outputs": [
    {
     "name": "stdout",
     "output_type": "stream",
     "text": [
      "[[1], [2], [3], [4]]\n",
      "[5, 6, 9]\n",
      "[]\n"
     ]
    }
   ],
   "source": [
    "def flip_list(lst):\n",
    "    \n",
    "    if len(lst) > 0 :\n",
    "        if isinstance(lst[0], list):\n",
    "            l = [i[0] for i in lst]\n",
    "        else:\n",
    "            l = [[i] for i in lst]\n",
    "        print(l)\n",
    "    else:\n",
    "        print(lst)\n",
    "        \n",
    "    \n",
    "flip_list([1, 2, 3, 4])\n",
    "flip_list([[5], [6], [9]])\n",
    "flip_list([])"
   ]
  }
 ],
 "metadata": {
  "kernelspec": {
   "display_name": "Python 3",
   "language": "python",
   "name": "python3"
  },
  "language_info": {
   "codemirror_mode": {
    "name": "ipython",
    "version": 3
   },
   "file_extension": ".py",
   "mimetype": "text/x-python",
   "name": "python",
   "nbconvert_exporter": "python",
   "pygments_lexer": "ipython3",
   "version": "3.8.8"
  }
 },
 "nbformat": 4,
 "nbformat_minor": 5
}
