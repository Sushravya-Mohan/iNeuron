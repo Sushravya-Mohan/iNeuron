{
 "cells": [
  {
   "cell_type": "markdown",
   "id": "e5299a8e",
   "metadata": {},
   "source": [
    "# Advanced Programming Assignment - 11\n"
   ]
  },
  {
   "cell_type": "markdown",
   "id": "f986057e",
   "metadata": {},
   "source": [
    "#### 1. Create a function that takes a list and returns a new list containing only prime numbers."
   ]
  },
  {
   "cell_type": "code",
   "execution_count": 8,
   "id": "1574b0f1",
   "metadata": {},
   "outputs": [
    {
     "name": "stdout",
     "output_type": "stream",
     "text": [
      "[7, 3, 11]\n",
      "[10007, 1009]\n",
      "[1009, 3, 61, 1087, 1091, 1093, 1097]\n"
     ]
    }
   ],
   "source": [
    "def filter_primes(lst):\n",
    "    \n",
    "    l = []\n",
    "    \n",
    "    for i in lst:\n",
    "        c = 0\n",
    "        for j in range(2, i):\n",
    "            if i%j == 0:\n",
    "                c += 1\n",
    "            else:\n",
    "                c += 0\n",
    "        if c > 0 or i == 1:\n",
    "            pass\n",
    "        else:\n",
    "            l.append(i)\n",
    "        \n",
    "    print(l)\n",
    "    \n",
    "filter_primes([7, 9, 3, 9, 10, 11, 27])                \n",
    "filter_primes([10007, 1009, 1007, 27, 147, 77, 1001, 70])  \n",
    "filter_primes([1009, 10, 10, 10, 3, 33, 9, 4, 1, 61, 63, 69, 1087, 1091, 1093, 1097])"
   ]
  },
  {
   "cell_type": "markdown",
   "id": "cf4899c7",
   "metadata": {},
   "source": [
    "#### 2. Once a water balloon pops, is soaks the area around it. The ground gets drier the further away you travel from the balloon.\n",
    "#### The effect of a water balloon popping can be modeled using a list. Create a function that takes a list which takes the pre-pop state and returns the state after the balloon is popped. The pre-pop state will contain at most a single balloon, whose size is represented by the only non-zero element."
   ]
  },
  {
   "cell_type": "code",
   "execution_count": 16,
   "id": "ead9b83c",
   "metadata": {},
   "outputs": [
    {
     "name": "stdout",
     "output_type": "stream",
     "text": [
      "[0, 1, 2, 3, 4, 3, 2, 1, 0]\n",
      "[0, 1, 2, 3, 2, 1, 0]\n",
      "[0, 1, 2, 1, 0]\n",
      "[0]\n"
     ]
    }
   ],
   "source": [
    "def pop(lst):\n",
    "    l = []\n",
    "    s = sum(lst)\n",
    "    \n",
    "    for i in range(s+1):\n",
    "        l.append(i)\n",
    "    \n",
    "    for j in range(1, s+1):\n",
    "        l.append(s-j)\n",
    "        \n",
    "    print(l)\n",
    "    \n",
    "pop([0, 0, 0, 0, 4, 0, 0, 0, 0])\n",
    "pop([0, 0, 0, 3, 0, 0, 0])\n",
    "pop([0, 0, 2, 0, 0])           \n",
    "pop([0])            "
   ]
  },
  {
   "cell_type": "markdown",
   "id": "ad8249ef",
   "metadata": {},
   "source": [
    "#### 3. &quot;Loves me, loves me not&quot; is a traditional game in which a person plucks off all the petals of a flower one by one, saying the phrase &quot;Loves me&quot; and &quot;Loves me not&quot; when determining whether the one that they love, loves them back.\n",
    "#### Given a number of petals, return a string which repeats the phrases &quot;Loves me&quot; and &quot;Loves me not&quot; for every alternating petal, and return the last phrase in all caps. Remember to put a comma and space between phrases."
   ]
  },
  {
   "cell_type": "code",
   "execution_count": 20,
   "id": "c8a94cde",
   "metadata": {},
   "outputs": [
    {
     "name": "stdout",
     "output_type": "stream",
     "text": [
      "Loves me\n",
      "Loves me not\n",
      "LOVES ME\n"
     ]
    }
   ],
   "source": [
    "def loves_me(num):\n",
    "    \n",
    "    for i in range(num-1):\n",
    "        if i%2 == 0:\n",
    "            print(\"Loves me\")\n",
    "        else:\n",
    "            print(\"Loves me not\")\n",
    "            \n",
    "    for i in range(num-1, num):\n",
    "        if i%2 == 0:\n",
    "            print(\"LOVES ME\")\n",
    "        else:\n",
    "            print(\"LOVES ME NOT\")\n",
    "            \n",
    "loves_me(3)"
   ]
  },
  {
   "cell_type": "code",
   "execution_count": 21,
   "id": "2730cac1",
   "metadata": {},
   "outputs": [
    {
     "name": "stdout",
     "output_type": "stream",
     "text": [
      "Loves me\n",
      "Loves me not\n",
      "Loves me\n",
      "Loves me not\n",
      "Loves me\n",
      "LOVES ME NOT\n"
     ]
    }
   ],
   "source": [
    "loves_me(6)"
   ]
  },
  {
   "cell_type": "code",
   "execution_count": 22,
   "id": "50a05366",
   "metadata": {},
   "outputs": [
    {
     "name": "stdout",
     "output_type": "stream",
     "text": [
      "LOVES ME\n"
     ]
    }
   ],
   "source": [
    "loves_me(1)"
   ]
  },
  {
   "cell_type": "markdown",
   "id": "a9af6e3c",
   "metadata": {},
   "source": [
    "#### 4. Write a function that sorts each string in a list by the letter in alphabetic ascending order (a-z)."
   ]
  },
  {
   "cell_type": "code",
   "execution_count": 40,
   "id": "3fc1cd45",
   "metadata": {},
   "outputs": [
    {
     "name": "stdout",
     "output_type": "stream",
     "text": [
      "['2344b', '932c', '832u32']\n",
      "['99a', '78b', 'c2345', '11d']\n",
      "['304q2', '5y5', '572z']\n",
      "[]\n"
     ]
    }
   ],
   "source": [
    "def sort_by_letter(lst):\n",
    "    d1 = dict()\n",
    "    l1 = []\n",
    "    \n",
    "    for i in lst:\n",
    "        for j in i:\n",
    "            if j.isalpha() == True:\n",
    "                d1[j] = i\n",
    "            else:\n",
    "                pass\n",
    "    \n",
    "    for i in sorted(d1.keys()):\n",
    "        l1.append(d1[i])\n",
    "        \n",
    "    print(l1)\n",
    "        \n",
    "sort_by_letter([\"932c\",\"832u32\", \"2344b\"])\n",
    "sort_by_letter([\"99a\", \"78b\", \"c2345\", \"11d\"])\n",
    "sort_by_letter([\"572z\", \"5y5\", \"304q2\"])\n",
    "sort_by_letter([])"
   ]
  },
  {
   "cell_type": "markdown",
   "id": "34f4f3ab",
   "metadata": {},
   "source": [
    "#### 5. There are three cups on a table, at positions A, B, and C. At the start, there is a ball hidden under the cup at position B.\n",
    "#### However, I perform several swaps on the cups, which is notated as two letters. For example, if I swap the cups at positions A and B, I could notate this as AB or BA.\n",
    "#### Create a function that returns the letter position that the ball is at, once I finish swapping the cups. The swaps will be given to you as a list."
   ]
  },
  {
   "cell_type": "code",
   "execution_count": 51,
   "id": "28250c9b",
   "metadata": {},
   "outputs": [
    {
     "name": "stdout",
     "output_type": "stream",
     "text": [
      "C\n"
     ]
    }
   ],
   "source": [
    "def cup_swapping(lst):\n",
    "    \n",
    "    ini = 'B'\n",
    "    \n",
    "    for i in lst:\n",
    "        if ini in i:\n",
    "            ini = i.replace(ini, \"\")\n",
    "        else:\n",
    "            ini = ini\n",
    "        \n",
    "    print(ini)\n",
    "    \n",
    "cup_swapping([\"AB\", \"CA\", \"AB\"])\n",
    "        "
   ]
  }
 ],
 "metadata": {
  "kernelspec": {
   "display_name": "Python 3",
   "language": "python",
   "name": "python3"
  },
  "language_info": {
   "codemirror_mode": {
    "name": "ipython",
    "version": 3
   },
   "file_extension": ".py",
   "mimetype": "text/x-python",
   "name": "python",
   "nbconvert_exporter": "python",
   "pygments_lexer": "ipython3",
   "version": "3.8.8"
  }
 },
 "nbformat": 4,
 "nbformat_minor": 5
}
