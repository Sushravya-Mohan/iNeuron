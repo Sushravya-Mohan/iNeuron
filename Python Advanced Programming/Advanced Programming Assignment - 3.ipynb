{
 "cells": [
  {
   "cell_type": "markdown",
   "id": "e5299a8e",
   "metadata": {},
   "source": [
    "# Advanced Programming Assignment - 3\n"
   ]
  },
  {
   "cell_type": "markdown",
   "id": "f986057e",
   "metadata": {},
   "source": [
    "#### 1. 1. Create a function to perform basic arithmetic operations that includes addition, subtraction, multiplication and division on a string number (e.g. &quot;12 + 24&quot; or &quot;23 - 21&quot; or &quot;12 // 12&quot; or &quot;12 * 21&quot;).\n",
    "#### Here, we have 1 followed by a space, operator followed by another space and 2. For the challenge, we are going to have only two numbers between 1 valid operator. The return value should be a number.\n",
    "#### eval() is not allowed. In case of division, whenever the second number equals &quot;0&quot; return -1."
   ]
  },
  {
   "cell_type": "code",
   "execution_count": 11,
   "id": "1574b0f1",
   "metadata": {},
   "outputs": [
    {
     "name": "stdout",
     "output_type": "stream",
     "text": [
      "24\n",
      "0\n",
      "144\n",
      "-1\n"
     ]
    }
   ],
   "source": [
    "def arithmetic_operation(string):\n",
    "    \n",
    "    ops={\"+\": lambda x, y: x + y, \n",
    "         \"-\": lambda x, y: x - y, \n",
    "         \"*\": lambda x, y: x * y, \n",
    "         \"//\": lambda x, y: x // y}\n",
    "    \n",
    "    lst = string.split(\" \")\n",
    "    \n",
    "    if lst[1] == \"//\" and lst[2] == '0':\n",
    "        print(-1)\n",
    "    else:\n",
    "        a = int(lst[0])\n",
    "        b = int(lst[2])\n",
    "        result = ops[lst[1]](a, b)\n",
    "        print(result)    \n",
    "    \n",
    "    \n",
    "arithmetic_operation(\"12 + 12\")\n",
    "arithmetic_operation(\"12 - 12\")\n",
    "arithmetic_operation(\"12 * 12\")\n",
    "arithmetic_operation(\"12 // 0\")"
   ]
  },
  {
   "cell_type": "markdown",
   "id": "cf4899c7",
   "metadata": {},
   "source": [
    "#### 2. Write a function that takes the coordinates of three points in the form of a 2d array and returns the perimeter of the triangle. The given points are the vertices of a triangle on a two-dimensional plane."
   ]
  },
  {
   "cell_type": "code",
   "execution_count": 14,
   "id": "ead9b83c",
   "metadata": {},
   "outputs": [
    {
     "name": "stdout",
     "output_type": "stream",
     "text": [
      "47.08\n",
      "3.41\n",
      "68.28\n"
     ]
    }
   ],
   "source": [
    "def perimeter(lst):\n",
    "    from math import sqrt\n",
    "    \n",
    "    a = sqrt((lst[0][0] - lst[1][0])**2 + (lst[0][1] - lst[1][1])**2)\n",
    "    b = sqrt((lst[1][0] - lst[2][0])**2 + (lst[1][1] - lst[2][1])**2)\n",
    "    c = sqrt((lst[2][0] - lst[0][0])**2 + (lst[2][1] - lst[0][1])**2)\n",
    "    \n",
    "    perimeter = round((a + b + c),2)\n",
    "    print(perimeter)\n",
    "    \n",
    "perimeter([[15, 7], [5, 22], [11, 1]])\n",
    "perimeter([[0, 0], [0, 1], [1, 0]])\n",
    "perimeter([[-10, -10], [10, 10], [-10, 10]])"
   ]
  },
  {
   "cell_type": "markdown",
   "id": "ad8249ef",
   "metadata": {},
   "source": [
    "#### 3. A city skyline can be represented as a 2-D list with 1s representing buildings. In the example below, the height of the tallest building is 4 (second- most right column).\n",
    "    [[0, 0, 0, 0, 0, 0],\n",
    "    [0, 0, 0, 0, 1, 0],\n",
    "    [0, 0, 1, 0, 1, 0],\n",
    "    [0, 1, 1, 1, 1, 0],\n",
    "    [1, 1, 1, 1, 1, 1]]\n",
    "#### Create a function that takes a skyline (2-D list of 0&#39;s and 1&#39;s) and returns the height of the tallest skyscraper."
   ]
  },
  {
   "cell_type": "code",
   "execution_count": 31,
   "id": "c8a94cde",
   "metadata": {},
   "outputs": [
    {
     "name": "stdout",
     "output_type": "stream",
     "text": [
      "3\n",
      "4\n",
      "2\n"
     ]
    }
   ],
   "source": [
    "def tallest_skyscraper(lst):\n",
    "    ht_lst = []\n",
    "        \n",
    "    for i in range(0, len(lst[0])):\n",
    "        s = 0\n",
    "        for j in range(0, len(lst)):\n",
    "            s += lst[j][i]\n",
    "        ht_lst.append(s)\n",
    "        \n",
    "    tall = max(ht_lst)\n",
    "    print(tall)\n",
    "    \n",
    "tallest_skyscraper([[0, 0, 0, 0],\n",
    "[0, 1, 0, 0],\n",
    "[0, 1, 1, 0],\n",
    "[1, 1, 1, 1]\n",
    "])\n",
    "\n",
    "tallest_skyscraper([[0, 1, 0, 0],\n",
    "[0, 1, 0, 0],\n",
    "[0, 1, 1, 0],\n",
    "[1, 1, 1, 1]\n",
    "])\n",
    "\n",
    "tallest_skyscraper([[0, 0, 0, 0],\n",
    "[0, 0, 0, 0],\n",
    "[1, 1, 1, 0],\n",
    "[1, 1, 1, 1]\n",
    "])"
   ]
  },
  {
   "cell_type": "markdown",
   "id": "a9af6e3c",
   "metadata": {},
   "source": [
    "#### 4. A financial institution provides professional services to banks and claims charges from the customers based on the number of man-days provided. Internally, it has set a scheme to motivate and reward staff to meet and exceed targeted billable utilization and revenues by paying a bonus for each day claimed from customers in excess of a threshold target.\n",
    "#### This quarterly scheme is calculated with a threshold target of 32 days per quarter, and the incentive payment for each billable day in excess of such threshold target is shown as follows:\n",
    "    Days Bonus\n",
    "    0 to 32 days Zero\n",
    "    33 to 40 days SGD 325 per billable day\n",
    "    41 to 48 days SGD 550 per billable day\n",
    "    Greater than 48 days SGD 600 per billable day\n",
    "\n",
    "#### Please note that incentive payment is calculated progressively. As an example, if an employee reached total billable days of 45 in a quarter, his/her incentive payment is computed as follows: \n",
    "    32*0 + 8*325 + 5*550 = 5350\n",
    "#### Write a function to read the billable days of an employee and return the bonus he/she has obtained in that quarter."
   ]
  },
  {
   "cell_type": "code",
   "execution_count": 38,
   "id": "3fc1cd45",
   "metadata": {},
   "outputs": [
    {
     "name": "stdout",
     "output_type": "stream",
     "text": [
      "0\n",
      "1625\n",
      "8200\n"
     ]
    }
   ],
   "source": [
    "def bonus(days):\n",
    "    bonus = 0\n",
    "    \n",
    "    while days > 32:\n",
    "        while days > 40:\n",
    "            while days > 48:\n",
    "                bonus += 600\n",
    "                days -= 1\n",
    "            bonus += 550\n",
    "            days -= 1\n",
    "        bonus += 325\n",
    "        days -= 1\n",
    "    \n",
    "    print(bonus)\n",
    "    \n",
    "bonus(15)\n",
    "bonus(37)\n",
    "bonus(50)\n",
    "        "
   ]
  },
  {
   "cell_type": "markdown",
   "id": "34f4f3ab",
   "metadata": {},
   "source": [
    "#### 5. A number is said to be Disarium if the sum of its digits raised to their respective positions is the number itself. Create a function that determines whether a number is a Disarium or not."
   ]
  },
  {
   "cell_type": "code",
   "execution_count": 43,
   "id": "28250c9b",
   "metadata": {},
   "outputs": [
    {
     "name": "stdout",
     "output_type": "stream",
     "text": [
      "False\n",
      "True\n",
      "False\n",
      "True\n",
      "False\n",
      "True\n"
     ]
    }
   ],
   "source": [
    "def is_disarium(num):\n",
    "    \n",
    "    lst = [i for i in str(num)]\n",
    "    s = 0\n",
    "    \n",
    "    for i in range(0, len(lst)):\n",
    "        s += int(lst[i])**(i+1)\n",
    "        \n",
    "    if s == num:\n",
    "        print(True)\n",
    "    else:\n",
    "        print(False)\n",
    "        \n",
    "        \n",
    "is_disarium(75)\n",
    "is_disarium(135)\n",
    "is_disarium(544)\n",
    "is_disarium(518)\n",
    "is_disarium(466)\n",
    "is_disarium(8)"
   ]
  }
 ],
 "metadata": {
  "kernelspec": {
   "display_name": "Python 3",
   "language": "python",
   "name": "python3"
  },
  "language_info": {
   "codemirror_mode": {
    "name": "ipython",
    "version": 3
   },
   "file_extension": ".py",
   "mimetype": "text/x-python",
   "name": "python",
   "nbconvert_exporter": "python",
   "pygments_lexer": "ipython3",
   "version": "3.8.8"
  }
 },
 "nbformat": 4,
 "nbformat_minor": 5
}
