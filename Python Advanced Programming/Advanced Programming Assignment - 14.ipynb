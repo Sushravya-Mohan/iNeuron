{
 "cells": [
  {
   "cell_type": "markdown",
   "id": "e5299a8e",
   "metadata": {},
   "source": [
    "# Advanced Programming Assignment - 14\n"
   ]
  },
  {
   "cell_type": "markdown",
   "id": "f986057e",
   "metadata": {},
   "source": [
    "#### 1. Given a list of numbers, create a function that removes 25% from every number in the list except the smallest number, and adds the total amount removed to the smallest number."
   ]
  },
  {
   "cell_type": "code",
   "execution_count": 10,
   "id": "1574b0f1",
   "metadata": {},
   "outputs": [
    {
     "name": "stdout",
     "output_type": "stream",
     "text": [
      "[3.0, 3.0, 3.0]\n",
      "[12.0, 7.5, 14.5]\n",
      "[27.0, 75.0]\n"
     ]
    }
   ],
   "source": [
    "def show_the_love(lst):\n",
    "    \n",
    "    a = min(lst)\n",
    "    s = 0\n",
    "        \n",
    "    for i in range(len(lst)):\n",
    "        if lst[i] != a:\n",
    "            s += 0.25 * lst[i]\n",
    "            lst[i] = lst[i]*0.75\n",
    "        else:\n",
    "            n = i\n",
    "\n",
    "    lst[n] = a + s\n",
    "        \n",
    "    print(lst)\n",
    "    \n",
    "show_the_love([4,1,4])\n",
    "show_the_love([16,10,8])\n",
    "show_the_love([2,100])"
   ]
  },
  {
   "cell_type": "markdown",
   "id": "cf4899c7",
   "metadata": {},
   "source": [
    "#### 2. Create a function that takes in two words as input and returns a list of three elements, in the following order:\n",
    "    1.Shared letters between two words.\n",
    "    2.Letters unique to word 1.\n",
    "    3.Letters unique to word 2.\n",
    "#### Each element should have unique letters, and have each letter be alphabetically sorted."
   ]
  },
  {
   "cell_type": "code",
   "execution_count": 70,
   "id": "ead9b83c",
   "metadata": {},
   "outputs": [
    {
     "name": "stdout",
     "output_type": "stream",
     "text": [
      "['aps', 'hr', 'o']\n",
      "['bdor', 'a', 'e']\n",
      "['enp', 'ahis', 'lov']\n",
      "['flu', 'ekr', 'y']\n",
      "['ahm', 'ct', '']\n"
     ]
    }
   ],
   "source": [
    "def letters(a, b):\n",
    "    sa = set(a)\n",
    "    sb = set(b)\n",
    "    \n",
    "    com = \"\".join(sorted(sa.intersection(sb)))\n",
    "    ua = \"\".join(sorted(sa-sb))\n",
    "    ub = \"\".join(sorted(sb-sa))\n",
    "    \n",
    "    l = [com, ua, ub]\n",
    "    print(l)\n",
    "            \n",
    "    \n",
    "letters(\"sharp\", \"soap\")\n",
    "letters(\"board\", \"bored\")\n",
    "letters(\"happiness\", \"envelope\")\n",
    "letters(\"kerfuffle\", \"fluffy\")\n",
    "letters(\"match\",\"ham\")\n",
    "    "
   ]
  },
  {
   "cell_type": "markdown",
   "id": "ad8249ef",
   "metadata": {},
   "source": [
    "#### 3. Write a function that pairs the first number in an array with the last, the second number with the second to last, etc."
   ]
  },
  {
   "cell_type": "code",
   "execution_count": 52,
   "id": "acae273e",
   "metadata": {},
   "outputs": [
    {
     "name": "stdout",
     "output_type": "stream",
     "text": [
      "[[1, 7], [2, 6], [3, 5], [4, 4]]\n",
      "[[1, 6], [2, 5], [3, 4]]\n",
      "[[5, 2], [9, 1], [8, 8]]\n",
      "[]\n"
     ]
    }
   ],
   "source": [
    "def pairs(lst):\n",
    "    ln = len(lst)\n",
    "    l = []\n",
    "    \n",
    "    if ln % 2 == 0:\n",
    "        e = int(ln/2)\n",
    "        for i in range(e):\n",
    "            l.append([lst[i], lst[-(i+1)]])\n",
    "    else:\n",
    "        o = int(ln/2) + 1\n",
    "        for i in range(o):\n",
    "            l.append([lst[i], lst[-(i+1)]])\n",
    "            \n",
    "    print(l)\n",
    "   \n",
    "    \n",
    "pairs([1,2,3,4,5,6,7])\n",
    "pairs([1,2,3,4,5,6])\n",
    "pairs([5,9,8,1,2])\n",
    "pairs([])       "
   ]
  },
  {
   "cell_type": "markdown",
   "id": "a9af6e3c",
   "metadata": {},
   "source": [
    "#### 4. Write a function that adds two numbers. The catch, however, is that the numbers will be strings."
   ]
  },
  {
   "cell_type": "code",
   "execution_count": 67,
   "id": "3fc1cd45",
   "metadata": {},
   "outputs": [
    {
     "name": "stdout",
     "output_type": "stream",
     "text": [
      "9\n",
      "-1\n",
      "1\n",
      "1874682736267235927391936562808774986\n"
     ]
    }
   ],
   "source": [
    "def add_str_nums(s1, s2):\n",
    "       \n",
    "    try:\n",
    "        if not s1:\n",
    "            s1 = \"0\"\n",
    "        if not s2:\n",
    "            s2 = \"0\"\n",
    "        s = int(s1) + int(s2)\n",
    "    except:\n",
    "        s = -1\n",
    "        \n",
    "    print(s)\n",
    "\n",
    "add_str_nums(\"4\", \"5\")\n",
    "add_str_nums(\"abcdefg\", \"3\")\n",
    "add_str_nums(\"1\",\"\")\n",
    "add_str_nums(\"1874682736267235927359283579235789257\",\"32652983572985729\")"
   ]
  },
  {
   "cell_type": "markdown",
   "id": "34f4f3ab",
   "metadata": {},
   "source": [
    "#### 5. lPaeesh le pemu mnxit ehess rtnisg! Oh, sorry, that was supposed to say: Please help me unmix these strings!\n",
    "#### Somehow my strings have all become mixed up; every pair of characters has been swapped. Help me undo this so I can understand my strings again."
   ]
  },
  {
   "cell_type": "code",
   "execution_count": 81,
   "id": "28250c9b",
   "metadata": {},
   "outputs": [
    {
     "name": "stdout",
     "output_type": "stream",
     "text": [
      "214365\n",
      "This is a mixed up string.\n",
      "Please help me unmix these strings!\n",
      "abcde\n"
     ]
    }
   ],
   "source": [
    "def unmix(s):\n",
    "    \n",
    "    ln = len(s)\n",
    "    l = [s[x:x+2][::-1] for x in range(0, ln, 2)]\n",
    "    corr_str = \"\".join(l)\n",
    "    \n",
    "    print(corr_str)\n",
    "    \n",
    "unmix(\"123456\")\n",
    "unmix(\"hTsii  s aimex dpus rtni.g\")\n",
    "unmix(\"lPaeesh le pemu mnxit ehess rtnisg!\")\n",
    "unmix(\"badce\")\n",
    "    "
   ]
  }
 ],
 "metadata": {
  "kernelspec": {
   "display_name": "Python 3",
   "language": "python",
   "name": "python3"
  },
  "language_info": {
   "codemirror_mode": {
    "name": "ipython",
    "version": 3
   },
   "file_extension": ".py",
   "mimetype": "text/x-python",
   "name": "python",
   "nbconvert_exporter": "python",
   "pygments_lexer": "ipython3",
   "version": "3.8.8"
  }
 },
 "nbformat": 4,
 "nbformat_minor": 5
}
