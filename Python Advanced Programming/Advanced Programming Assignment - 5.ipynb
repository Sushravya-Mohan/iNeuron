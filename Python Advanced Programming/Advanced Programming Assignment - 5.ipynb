{
 "cells": [
  {
   "cell_type": "markdown",
   "id": "e5299a8e",
   "metadata": {},
   "source": [
    "# Advanced Programming Assignment - 5\n"
   ]
  },
  {
   "cell_type": "markdown",
   "id": "f986057e",
   "metadata": {},
   "source": [
    "#### 1. Create a function that takes a number n (integer greater than zero) as an argument, and returns 2 if n is odd and 8 if n is even.\n",
    "\n",
    "#### You can only use the following arithmetic operators: addition of numbers +, subtraction of numbers -, multiplication of number *, division of number /, and exponentiation **. You are not allowed to use any other methods in this challenge (i.e. no if statements, comparison operators, etc)."
   ]
  },
  {
   "cell_type": "code",
   "execution_count": 1,
   "id": "1574b0f1",
   "metadata": {},
   "outputs": [
    {
     "name": "stdout",
     "output_type": "stream",
     "text": [
      "2\n",
      "8\n",
      "2\n"
     ]
    }
   ],
   "source": [
    "def f(num):\n",
    "    lst = [8,2]\n",
    "    ret = lst[num & 1]\n",
    "    \n",
    "    print(ret)\n",
    "    \n",
    "f(1)\n",
    "f(2)\n",
    "f(3)"
   ]
  },
  {
   "cell_type": "markdown",
   "id": "cf4899c7",
   "metadata": {},
   "source": [
    "#### 2. Create a function that returns the majority vote in a list. A majority vote is an element that occurs &gt; N/2 times in a list (where N is the length of the list)."
   ]
  },
  {
   "cell_type": "code",
   "execution_count": 3,
   "id": "ead9b83c",
   "metadata": {},
   "outputs": [
    {
     "name": "stdout",
     "output_type": "stream",
     "text": [
      "A\n",
      "A\n",
      "None\n"
     ]
    }
   ],
   "source": [
    "def majority_vote(lst):\n",
    "    \n",
    "    n = len(lst)/2\n",
    "    c = {i:lst.count(i) for i in lst}\n",
    "    l = []\n",
    "    \n",
    "    for j in c.keys():\n",
    "        if c[j] > n:\n",
    "            l.append(j)\n",
    "        else:\n",
    "            pass\n",
    "        \n",
    "    if len(l) > 0:\n",
    "        for i in l:\n",
    "            print(i)\n",
    "    else:\n",
    "        print(\"None\")\n",
    "\n",
    "majority_vote(['A','A','B'])\n",
    "majority_vote(['A', 'A', 'A', 'B', 'C', 'A'])\n",
    "majority_vote(['A', 'B', 'B', 'A', 'C', 'C'])"
   ]
  },
  {
   "cell_type": "markdown",
   "id": "ad8249ef",
   "metadata": {},
   "source": [
    "#### 3. Create a function that takes a string txt and censors any word from a given list lst. The text removed must be replaced by the given character char."
   ]
  },
  {
   "cell_type": "code",
   "execution_count": 4,
   "id": "c8a94cde",
   "metadata": {},
   "outputs": [
    {
     "name": "stdout",
     "output_type": "stream",
     "text": [
      "----- is - Wednesday!\n",
      "The *** jumped **** the moon\n",
      "Why *** the ******* cross the ****\n"
     ]
    }
   ],
   "source": [
    "def censor_string(str1, lst, str2):\n",
    "    \n",
    "    l1 = str1.split(\" \")\n",
    "    l2 = []\n",
    "    \n",
    "    for i in l1:\n",
    "        if i in lst:\n",
    "            l2.append(i.replace(i, str2*len(i)))\n",
    "        else:\n",
    "            l2.append(i)\n",
    "    \n",
    "    print(\" \".join(l2))\n",
    "    \n",
    "    \n",
    "censor_string(\"Today is a Wednesday!\", [\"Today\", \"a\"], \"-\")\n",
    "censor_string(\"The cow jumped over the moon\", [\"cow\", \"over\"], \"*\")\n",
    "censor_string(\"Why did the chicken cross the road\", [\"did\", \"chicken\", \"road\"], \"*\")\n",
    "                "
   ]
  },
  {
   "cell_type": "markdown",
   "id": "a9af6e3c",
   "metadata": {},
   "source": [
    "#### 4. In mathematics a Polydivisible Number (or magic number) is a number in a given number base with digits abcde... that has the following properties:\n",
    "    - Its first digit a is not 0.\n",
    "    - The number formed by its first two digits ab is a multiple of 2.\n",
    "    - The number formed by its first three digits abc is a multiple of 3.\n",
    "    - The number formed by its first four digits abcd is a multiple of 4.\n",
    "#### Create a function which takes an integer n and returns True if the given number is a Polydivisible Number and False otherwise."
   ]
  },
  {
   "cell_type": "code",
   "execution_count": 5,
   "id": "3fc1cd45",
   "metadata": {},
   "outputs": [
    {
     "name": "stdout",
     "output_type": "stream",
     "text": [
      "True\n",
      "False\n",
      "True\n"
     ]
    }
   ],
   "source": [
    "def is_polydivisible(num):\n",
    "    \n",
    "    digi = len(str(num))\n",
    "    n = digi\n",
    "    l1 = []\n",
    "    l2 = []\n",
    "    \n",
    "    while n > 0:\n",
    "        j = num // int('1' + '0'* (n-1))\n",
    "        l1.append(j)\n",
    "        n -= 1\n",
    "    \n",
    "    for i in range(len(l1)):\n",
    "        if l1[i] % (i+1) == 0:\n",
    "            l2.append(True)\n",
    "        else:\n",
    "            l2.append(False)\n",
    "            \n",
    "    if False in l2:\n",
    "        print(False)\n",
    "    else:\n",
    "        print(True)\n",
    "        \n",
    "        \n",
    "is_polydivisible(1232)\n",
    "is_polydivisible(123220)\n",
    "is_polydivisible(12325)"
   ]
  },
  {
   "cell_type": "markdown",
   "id": "34f4f3ab",
   "metadata": {},
   "source": [
    "#### 5. Create a function that takes a list of numbers and returns the sum of all prime numbers in the list."
   ]
  },
  {
   "cell_type": "code",
   "execution_count": 6,
   "id": "28250c9b",
   "metadata": {},
   "outputs": [
    {
     "name": "stdout",
     "output_type": "stream",
     "text": [
      "17\n",
      "87\n",
      "None\n"
     ]
    }
   ],
   "source": [
    "def sum_primes(lst):\n",
    "    \n",
    "    l1 = []\n",
    "        \n",
    "    for i in lst:\n",
    "        if i > 1:\n",
    "            c = 0\n",
    "            for j in range(2, i):\n",
    "                if i%j == 0: \n",
    "                    c += 1\n",
    "                else:\n",
    "                    c += 0\n",
    "            if c > 0:\n",
    "                pass\n",
    "            else: \n",
    "                l1.append(i)\n",
    "        \n",
    "    if len(l1) > 0:\n",
    "        print(sum(l1))\n",
    "    else:\n",
    "        print(\"None\")    \n",
    "    \n",
    "    \n",
    "sum_primes([1, 2, 3, 4, 5, 6, 7, 8, 9, 10])\n",
    "sum_primes([2, 3, 4, 11, 20, 50, 71])\n",
    "sum_primes([])\n"
   ]
  }
 ],
 "metadata": {
  "kernelspec": {
   "display_name": "Python 3",
   "language": "python",
   "name": "python3"
  },
  "language_info": {
   "codemirror_mode": {
    "name": "ipython",
    "version": 3
   },
   "file_extension": ".py",
   "mimetype": "text/x-python",
   "name": "python",
   "nbconvert_exporter": "python",
   "pygments_lexer": "ipython3",
   "version": "3.8.8"
  }
 },
 "nbformat": 4,
 "nbformat_minor": 5
}
