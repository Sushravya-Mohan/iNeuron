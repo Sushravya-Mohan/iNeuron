{
 "cells": [
  {
   "cell_type": "markdown",
   "id": "e5299a8e",
   "metadata": {},
   "source": [
    "# Advanced Programming Assignment - 10\n"
   ]
  },
  {
   "cell_type": "markdown",
   "id": "f986057e",
   "metadata": {},
   "source": [
    "#### 1. Create a function that takes the width, height and character and returns a picture frame as a 2D list."
   ]
  },
  {
   "cell_type": "code",
   "execution_count": 1,
   "id": "1574b0f1",
   "metadata": {},
   "outputs": [
    {
     "name": "stdout",
     "output_type": "stream",
     "text": [
      "['####']\n",
      "['#  #']\n",
      "['#  #']\n",
      "['#  #']\n",
      "['####']\n"
     ]
    }
   ],
   "source": [
    "def get_frame(w, h, c):\n",
    "    \n",
    "    l = []\n",
    "    \n",
    "    if w > 2 and h > 2:\n",
    "        for j in range(h):\n",
    "            s = ''\n",
    "            if j == 0 or j == (h-1):\n",
    "                s = c*w\n",
    "                l.append([s])\n",
    "            else:\n",
    "                s = c + (w - 2) * ' ' + c \n",
    "                l.append([s])\n",
    "    else:\n",
    "        print(\"invalid\")\n",
    "        \n",
    "    for i in l:\n",
    "        print(i)\n",
    "        \n",
    "    \n",
    "\n",
    "get_frame(4, 5, \"#\")\n"
   ]
  },
  {
   "cell_type": "code",
   "execution_count": 2,
   "id": "8fb92805",
   "metadata": {},
   "outputs": [
    {
     "name": "stdout",
     "output_type": "stream",
     "text": [
      "['**********']\n",
      "['*        *']\n",
      "['**********']\n"
     ]
    }
   ],
   "source": [
    "get_frame(10, 3, \"*\")"
   ]
  },
  {
   "cell_type": "code",
   "execution_count": 3,
   "id": "c06cf0f5",
   "metadata": {},
   "outputs": [
    {
     "name": "stdout",
     "output_type": "stream",
     "text": [
      "invalid\n"
     ]
    }
   ],
   "source": [
    "get_frame(2, 5, \"0\")"
   ]
  },
  {
   "cell_type": "markdown",
   "id": "cf4899c7",
   "metadata": {},
   "source": [
    "#### 2. Write three functions:\n",
    "    1. boolean_and\n",
    "    2. boolean_or\n",
    "    3. boolean_xor\n",
    "#### These functions should evaluate a list of True and False values, starting from the leftmost element and evaluating pairwise."
   ]
  },
  {
   "cell_type": "code",
   "execution_count": 4,
   "id": "ead9b83c",
   "metadata": {},
   "outputs": [
    {
     "name": "stdout",
     "output_type": "stream",
     "text": [
      "False\n"
     ]
    }
   ],
   "source": [
    "def boolean_and(l):\n",
    "    n = len(l)\n",
    "    \n",
    "    while n > 1:\n",
    "        l[1] = l[0] and l[1]\n",
    "        l.pop(0)\n",
    "        n -= 1\n",
    "    \n",
    "    print(l[0])\n",
    "    \n",
    "boolean_and([True, True, False, False])"
   ]
  },
  {
   "cell_type": "code",
   "execution_count": 5,
   "id": "118e24f7",
   "metadata": {},
   "outputs": [
    {
     "name": "stdout",
     "output_type": "stream",
     "text": [
      "True\n"
     ]
    }
   ],
   "source": [
    "def boolean_or(l):\n",
    "    n = len(l)\n",
    "    \n",
    "    while n > 1:\n",
    "        l[1] = l[0] or l[1]\n",
    "        l.pop(0)\n",
    "        n -= 1\n",
    "    \n",
    "    print(l[0])\n",
    "    \n",
    "boolean_or([True, True, False, False])"
   ]
  },
  {
   "cell_type": "code",
   "execution_count": 6,
   "id": "fd5ab878",
   "metadata": {},
   "outputs": [
    {
     "name": "stdout",
     "output_type": "stream",
     "text": [
      "False\n"
     ]
    }
   ],
   "source": [
    "def boolean_xor(l):\n",
    "    n = len(l)\n",
    "    \n",
    "    while n > 1:\n",
    "        l[1] = l[0] ^ l[1]\n",
    "        l.pop(0)\n",
    "        n -= 1\n",
    "    \n",
    "    print(l[0])\n",
    "    \n",
    "boolean_xor([True, True, False, False])"
   ]
  },
  {
   "cell_type": "markdown",
   "id": "ad8249ef",
   "metadata": {},
   "source": [
    "#### 3. Create a function that creates a box based on dimension n."
   ]
  },
  {
   "cell_type": "code",
   "execution_count": 7,
   "id": "c8a94cde",
   "metadata": {},
   "outputs": [
    {
     "name": "stdout",
     "output_type": "stream",
     "text": [
      "#####\n",
      "#   #\n",
      "#   #\n",
      "#   #\n",
      "#####\n"
     ]
    }
   ],
   "source": [
    "def make_box(n):\n",
    "    l = []\n",
    "    \n",
    "    for i in range(n):\n",
    "        if i == 0 or i == n-1:\n",
    "            s = '#'*n\n",
    "            l.append(s)\n",
    "        else:\n",
    "            s = '#' + (n-2)*' ' + '#'\n",
    "            l.append(s)\n",
    "   \n",
    "    for i in l:\n",
    "        print(i)\n",
    "        \n",
    "make_box(5)"
   ]
  },
  {
   "cell_type": "code",
   "execution_count": 8,
   "id": "b1336a0c",
   "metadata": {},
   "outputs": [
    {
     "name": "stdout",
     "output_type": "stream",
     "text": [
      "###\n",
      "# #\n",
      "###\n"
     ]
    }
   ],
   "source": [
    "make_box(3)"
   ]
  },
  {
   "cell_type": "code",
   "execution_count": 9,
   "id": "65961505",
   "metadata": {},
   "outputs": [
    {
     "name": "stdout",
     "output_type": "stream",
     "text": [
      "##\n",
      "##\n"
     ]
    }
   ],
   "source": [
    "make_box(2)"
   ]
  },
  {
   "cell_type": "code",
   "execution_count": 10,
   "id": "b1ffcfa9",
   "metadata": {},
   "outputs": [
    {
     "name": "stdout",
     "output_type": "stream",
     "text": [
      "#\n"
     ]
    }
   ],
   "source": [
    "make_box(1)"
   ]
  },
  {
   "cell_type": "markdown",
   "id": "a9af6e3c",
   "metadata": {},
   "source": [
    "#### 4. Given a common phrase, return False if any individual word in the phrase contains duplicate letters. Return True otherwise."
   ]
  },
  {
   "cell_type": "code",
   "execution_count": 11,
   "id": "3fc1cd45",
   "metadata": {},
   "outputs": [
    {
     "name": "stdout",
     "output_type": "stream",
     "text": [
      "True\n",
      "True\n",
      "False\n",
      "False\n"
     ]
    }
   ],
   "source": [
    "def no_duplicate_letter(s):\n",
    "    \n",
    "    l = s.split(\" \")\n",
    "    l1 = []\n",
    "    \n",
    "    for i in l:\n",
    "        for j in i:\n",
    "            if i.count(j) > 1:\n",
    "                l1.append(j)\n",
    "            else:\n",
    "                pass\n",
    "            \n",
    "    if len(l1) > 0:\n",
    "        print(False)\n",
    "    else:\n",
    "        print(True)\n",
    "    \n",
    "          \n",
    "no_duplicate_letter(\"Fortune favours the bold\")\n",
    "no_duplicate_letter(\"You can lead a horse to water, but you can't make him drink\")\n",
    "no_duplicate_letter(\"Look before you leap\")\n",
    "no_duplicate_letter(\"An apple a day keeps the doctor away\")         "
   ]
  },
  {
   "cell_type": "markdown",
   "id": "34f4f3ab",
   "metadata": {},
   "source": [
    "#### 5. Write a regular expression that will match the states that voted yes to President Trump&#39;s impeachment. You must use RegEx positive lookahead."
   ]
  },
  {
   "cell_type": "code",
   "execution_count": 12,
   "id": "28250c9b",
   "metadata": {},
   "outputs": [
    {
     "data": {
      "text/plain": [
       "['California', 'Florida']"
      ]
     },
     "execution_count": 12,
     "metadata": {},
     "output_type": "execute_result"
    }
   ],
   "source": [
    "import re\n",
    "\n",
    "txt = \"Texas = no, California = yes, Florida = yes, Michigan = no\"\n",
    "pattern = r'\\w+(?= = yes)'\n",
    "re.findall(pattern ,txt)"
   ]
  },
  {
   "cell_type": "code",
   "execution_count": null,
   "id": "9b108cf2",
   "metadata": {},
   "outputs": [],
   "source": []
  }
 ],
 "metadata": {
  "kernelspec": {
   "display_name": "Python 3",
   "language": "python",
   "name": "python3"
  },
  "language_info": {
   "codemirror_mode": {
    "name": "ipython",
    "version": 3
   },
   "file_extension": ".py",
   "mimetype": "text/x-python",
   "name": "python",
   "nbconvert_exporter": "python",
   "pygments_lexer": "ipython3",
   "version": "3.8.8"
  }
 },
 "nbformat": 4,
 "nbformat_minor": 5
}
