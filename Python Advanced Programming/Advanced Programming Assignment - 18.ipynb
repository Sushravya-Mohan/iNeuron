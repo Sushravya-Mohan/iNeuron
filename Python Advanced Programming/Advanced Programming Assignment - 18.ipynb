{
 "cells": [
  {
   "cell_type": "markdown",
   "id": "e5299a8e",
   "metadata": {},
   "source": [
    "# Advanced Programming Assignment - 18\n"
   ]
  },
  {
   "cell_type": "markdown",
   "id": "f986057e",
   "metadata": {},
   "source": [
    "#### 1. A robot has been given a list of movement instructions. Each instruction is either left, right, up or down, followed by a distance to move. The robot starts at [0, 0]. You want to calculate where the robot will end up and return its final position as a list."
   ]
  },
  {
   "cell_type": "code",
   "execution_count": 1,
   "id": "1574b0f1",
   "metadata": {},
   "outputs": [
    {
     "name": "stdout",
     "output_type": "stream",
     "text": [
      "[-20, 40]\n",
      "[0, 0]\n",
      "[200, 10500]\n"
     ]
    }
   ],
   "source": [
    "def track_robot(lst):\n",
    "    import re\n",
    "    \n",
    "    l = [0, 0]\n",
    "    \n",
    "    for i in lst:\n",
    "        if re.match(r'right', i):\n",
    "            l[0] += int(re.findall(r'\\d+', i)[0])\n",
    "        elif re.match(r'left', i):\n",
    "            l[0] -= int(re.findall(r'\\d+', i)[0])\n",
    "        elif re.match(r'up', i):\n",
    "            l[1] += int(re.findall(r'\\d+', i)[0])\n",
    "        elif re.match(r'down', i):\n",
    "            l[1] -= int(re.findall(r'\\d+', i)[0])\n",
    "        else:\n",
    "            pass\n",
    "   \n",
    "    print(l)\n",
    "\n",
    "    \n",
    "track_robot([\"right 10\", \"up 50\", \"left 30\", \"down 10\"])\n",
    "track_robot([])\n",
    "track_robot([\"right 100\", \"right 100\", \"up 500\", \"up 10000\"])"
   ]
  },
  {
   "cell_type": "markdown",
   "id": "cf4899c7",
   "metadata": {},
   "source": [
    "#### 2. Write a function that will return the longest word in a sentence. In cases where more than one word is found, return the first one."
   ]
  },
  {
   "cell_type": "code",
   "execution_count": 2,
   "id": "ead9b83c",
   "metadata": {},
   "outputs": [
    {
     "name": "stdout",
     "output_type": "stream",
     "text": [
      "forever\n",
      "Forgetfulness\n",
      "\"Strengths\"\n"
     ]
    }
   ],
   "source": [
    "def find_longest(sent):\n",
    "    \n",
    "    l = sent.split(\" \")\n",
    "    l.sort(key = lambda l : len(l), reverse=True)\n",
    "    \n",
    "    print(l[0])\n",
    "\n",
    "find_longest(\"A thing of beauty is a joy forever\")\n",
    "find_longest(\"Forgetfulness is by all means powerless!\")\n",
    "find_longest(\"\\\"Strengths\\\" is the longest and most commonly used word that contains only a single vowel\")"
   ]
  },
  {
   "cell_type": "markdown",
   "id": "ad8249ef",
   "metadata": {},
   "source": [
    "#### 3. Create a function to check if a candidate is qualified in an imaginary coding interview of an imaginary tech startup.\n",
    "#### The criteria for a candidate to be qualified in the coding interview is:\n",
    "    1. The candidate should have complete all the questions.\n",
    "    2. The maximum time given to complete the interview is 120 minutes.\n",
    "    3. The maximum time given for very easy questions is 5 minutes each.\n",
    "    4. The maximum time given for easy questions is 10 minutes each.\n",
    "    5. The maximum time given for medium questions is 15 minutes each.\n",
    "    6. The maximum time given for hard questions is 20 minutes each.\n",
    "\n",
    "#### If all the above conditions are satisfied, return &quot;qualified&quot;, else return &quot;disqualified&quot;.\n",
    "#### You will be given a list of time taken by a candidate to solve a particular question and the total time taken by the candidate to complete the interview.\n",
    "#### Given a list , in a true condition will always be in the format [very easy, very easy, easy, easy, medium, medium, hard, hard].\n",
    "#### The maximum time to complete the interview includes a buffer time of 20 minutes."
   ]
  },
  {
   "cell_type": "code",
   "execution_count": 3,
   "id": "acae273e",
   "metadata": {},
   "outputs": [
    {
     "name": "stdout",
     "output_type": "stream",
     "text": [
      "qualified\n",
      "qualified\n",
      "disqualified\n",
      "disqualified\n",
      "disqualified\n"
     ]
    }
   ],
   "source": [
    "def interview(l, t):\n",
    "    \n",
    "    time_l = [5, 5, 10, 10, 15, 15, 20, 20]\n",
    "    c = 0\n",
    "    \n",
    "    if t <= 120:\n",
    "        if len(l) == 8:\n",
    "            for i in range(8):\n",
    "                if l[i] <= time_l[i]:\n",
    "                    c += 1\n",
    "                else:\n",
    "                    pass\n",
    "        else:\n",
    "            pass\n",
    "    else:\n",
    "        pass\n",
    "    \n",
    "    if c == 8:\n",
    "        print(\"qualified\")\n",
    "    else:\n",
    "        print(\"disqualified\")\n",
    "    \n",
    "\n",
    "interview([5, 5, 10, 10, 15, 15, 20, 20], 120)\n",
    "interview([2, 3, 8, 6, 5, 12, 10, 18], 64)\n",
    "interview([5, 5, 10, 10, 25, 15, 20, 20], 120)\n",
    "interview([5, 5, 10, 10, 15, 15, 20], 120)\n",
    "interview([5, 5, 10, 10, 15, 15, 20, 20], 130)"
   ]
  },
  {
   "cell_type": "markdown",
   "id": "a9af6e3c",
   "metadata": {},
   "source": [
    "#### 4. Write a function that divides a list into chunks of size n, where n is the length of each chunk."
   ]
  },
  {
   "cell_type": "code",
   "execution_count": 4,
   "id": "3fc1cd45",
   "metadata": {},
   "outputs": [
    {
     "name": "stdout",
     "output_type": "stream",
     "text": [
      "[[2, 3], [4, 5]]\n",
      "[[2, 3], [4, 5], [6]]\n",
      "[[2, 3, 4], [5, 6, 7]]\n",
      "[[2], [3], [4], [5], [6], [7]]\n",
      "[[2, 3, 4, 5, 6, 7]]\n"
     ]
    }
   ],
   "source": [
    "def chunkify(lst, n):\n",
    "    l = []\n",
    "    cl = 0\n",
    "    i = len(lst)\n",
    "    \n",
    "    if i%n == 0:\n",
    "        m = i//n\n",
    "    else:\n",
    "        m = i//n + 1\n",
    "    \n",
    "    for j in range(m):\n",
    "        l.append(lst[cl:cl+n])\n",
    "        cl += n\n",
    "    \n",
    "    print(l)\n",
    "    \n",
    "chunkify([2, 3, 4, 5], 2)\n",
    "chunkify([2, 3, 4, 5, 6], 2)\n",
    "chunkify([2, 3, 4, 5, 6, 7], 3)\n",
    "chunkify([2, 3, 4, 5, 6, 7], 1)\n",
    "chunkify([2, 3, 4, 5, 6, 7], 7)"
   ]
  },
  {
   "cell_type": "markdown",
   "id": "34f4f3ab",
   "metadata": {},
   "source": [
    "#### 5. You are given a list of strings consisting of grocery items, with prices in parentheses. Return a list of prices in float format."
   ]
  },
  {
   "cell_type": "code",
   "execution_count": 5,
   "id": "28250c9b",
   "metadata": {},
   "outputs": [
    {
     "name": "stdout",
     "output_type": "stream",
     "text": [
      "[4.99]\n",
      "[1.99, 5.99, 0.75]\n",
      "[5.99, 0.2, 8.5, 1.99]\n"
     ]
    }
   ],
   "source": [
    "def get_prices(lst):\n",
    "    \n",
    "    import re\n",
    "    l = []\n",
    "    \n",
    "    for i in lst:\n",
    "        p = float(re.findall(r'[0-9]+\\.[0-9]+',i)[0])\n",
    "        l.append(p)\n",
    "        \n",
    "    print(l)\n",
    "    \n",
    "get_prices([\"salad ($4.99)\"])\n",
    "get_prices([\"artichokes ($1.99)\", \"rotiserrie chicken ($5.99)\", \"gum ($0.75)\"])\n",
    "get_prices([\"ice cream ($5.99)\", \"banana ($0.20)\", \"sandwich ($8.50)\", \"soup ($1.99)\"])"
   ]
  },
  {
   "cell_type": "code",
   "execution_count": null,
   "id": "93518c82",
   "metadata": {},
   "outputs": [],
   "source": []
  }
 ],
 "metadata": {
  "kernelspec": {
   "display_name": "Python 3",
   "language": "python",
   "name": "python3"
  },
  "language_info": {
   "codemirror_mode": {
    "name": "ipython",
    "version": 3
   },
   "file_extension": ".py",
   "mimetype": "text/x-python",
   "name": "python",
   "nbconvert_exporter": "python",
   "pygments_lexer": "ipython3",
   "version": "3.8.8"
  }
 },
 "nbformat": 4,
 "nbformat_minor": 5
}
