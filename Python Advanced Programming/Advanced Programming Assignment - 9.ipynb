{
 "cells": [
  {
   "cell_type": "markdown",
   "id": "e5299a8e",
   "metadata": {},
   "source": [
    "# Advanced Programming Assignment - 9\n"
   ]
  },
  {
   "cell_type": "markdown",
   "id": "f986057e",
   "metadata": {},
   "source": [
    "#### 1. YouTube offers different playback speed options for users. This allows users to increase or decrease the speed of the video content. Given the actual duration and playback speed of the video, calculate the playback duration of the video. "
   ]
  },
  {
   "cell_type": "code",
   "execution_count": 18,
   "id": "1574b0f1",
   "metadata": {},
   "outputs": [
    {
     "name": "stdout",
     "output_type": "stream",
     "text": [
      "00:15:00\n",
      "00:53:20\n",
      "102:40:18\n"
     ]
    }
   ],
   "source": [
    "def playback_duration(duration, speed):\n",
    "    \n",
    "    l1 = duration.split(\":\")\n",
    "        \n",
    "    dur_s = (int(l1[0]) * 3600) + (int(l1[1]) * 60) + int(l1[2])\n",
    "    play_dur = int(dur_s/speed)\n",
    "    \n",
    "    hour = play_dur // 3600\n",
    "    play_dur %= 3600\n",
    "    minutes = play_dur // 60\n",
    "    play_dur %= 60\n",
    "    seconds = play_dur\n",
    "    \n",
    "    print(\"%02d:%02d:%02d\" %(hour, minutes, seconds))  \n",
    "    \n",
    "    \n",
    "playback_duration(\"00:30:00\", 2)\n",
    "playback_duration(\"01:20:00\", 1.5)\n",
    "playback_duration(\"51:20:09\", 0.5)"
   ]
  },
  {
   "cell_type": "markdown",
   "id": "cf4899c7",
   "metadata": {},
   "source": [
    "#### 2. We needs your help to construct a building which will be a pile of n cubes. The cube at the bottom will have a volume of n^3, the cube above will have volume of (n-1)^3 and so on until the top which will have a volume of 1^3. \n",
    "#### Given the total volume m of the building, can you find the number of cubes n required for the building? \n",
    "#### In other words, you have to return an integer n such that: n^3 + (n-1)^3 + ... + 1^3 == m Return None if there is no such number."
   ]
  },
  {
   "cell_type": "code",
   "execution_count": 27,
   "id": "ead9b83c",
   "metadata": {},
   "outputs": [
    {
     "name": "stdout",
     "output_type": "stream",
     "text": [
      "45\n",
      "2022\n",
      "None\n"
     ]
    }
   ],
   "source": [
    "def pile_of_cubes(m):\n",
    "    n = 1\n",
    "    c = 0\n",
    "    \n",
    "    while m > 0:\n",
    "        m -= (n**3)\n",
    "        n += 1\n",
    "        c += 1\n",
    "    \n",
    "    if c != 0 and m == 0:\n",
    "        print(c)\n",
    "    else:\n",
    "        print(\"None\")\n",
    "        \n",
    "pile_of_cubes(1071225)\n",
    "pile_of_cubes(4183059834009)\n",
    "pile_of_cubes(16)"
   ]
  },
  {
   "cell_type": "markdown",
   "id": "ad8249ef",
   "metadata": {},
   "source": [
    "#### 3. A fulcrum of a list is an integer such that all elements to the left of it and all elements to the right of it sum to the same value. Write a function that finds the fulcrum of a list."
   ]
  },
  {
   "cell_type": "code",
   "execution_count": 35,
   "id": "c8a94cde",
   "metadata": {},
   "outputs": [
    {
     "name": "stdout",
     "output_type": "stream",
     "text": [
      "2\n",
      "4\n",
      "1\n",
      "0\n",
      "-1\n"
     ]
    }
   ],
   "source": [
    "def find_fulcrum(lst):\n",
    "    ful = []\n",
    "    \n",
    "    for i in range(len(lst)):\n",
    "        if sum(lst[:i]) == sum(lst[i+1:]):\n",
    "            ful.append(lst[i])\n",
    "        else:\n",
    "            pass\n",
    "        \n",
    "    if len(ful) > 0:\n",
    "        print(ful[0])\n",
    "    else:\n",
    "        print(-1)\n",
    "    \n",
    "find_fulcrum([3, 1, 5, 2, 4, 6, -1])\n",
    "find_fulcrum([1, 2, 4, 9, 10, -10, -9, 3])\n",
    "find_fulcrum([9, 1, 9])\n",
    "find_fulcrum([7, -1, 0, -1, 1, 1, 2, 3])\n",
    "find_fulcrum([8, 8, 8, 8])"
   ]
  },
  {
   "cell_type": "markdown",
   "id": "a9af6e3c",
   "metadata": {},
   "source": [
    "#### 4. Given a list of integers representing the color of each sock, determine how many pairs of socks with matching colors there are. For example, there are 7 socks with colors [1, 2, 1, 2, 1, 3, 2]. There is one pair of color 1 and one of color 2. There are three odd socks left, one of each color. The number of pairs is 2.\n",
    "#### Create a function that returns an integer representing the number of matching pairs of socks that are available."
   ]
  },
  {
   "cell_type": "code",
   "execution_count": 40,
   "id": "3fc1cd45",
   "metadata": {},
   "outputs": [
    {
     "name": "stdout",
     "output_type": "stream",
     "text": [
      "2\n",
      "3\n",
      "4\n",
      "0\n"
     ]
    }
   ],
   "source": [
    "def sock_merchant(lst):\n",
    "    \n",
    "    d1 = {i: lst.count(i) for i in lst}\n",
    "    c = 0\n",
    "    \n",
    "    for i in d1.keys():\n",
    "        c += d1[i]//2\n",
    "    \n",
    "    print(c)\n",
    "    \n",
    "sock_merchant([1, 2, 1, 2, 1, 3, 2])\n",
    "sock_merchant([10, 20, 20, 10, 10, 30, 50, 10, 20])\n",
    "sock_merchant([50, 20, 30, 90, 30, 20, 50, 20, 90])\n",
    "sock_merchant([])"
   ]
  },
  {
   "cell_type": "markdown",
   "id": "34f4f3ab",
   "metadata": {},
   "source": [
    "#### 5. Create a function that takes a string containing integers as well as other characters and return the sum of the negative integers only."
   ]
  },
  {
   "cell_type": "code",
   "execution_count": 48,
   "id": "28250c9b",
   "metadata": {},
   "outputs": [
    {
     "name": "stdout",
     "output_type": "stream",
     "text": [
      "-23\n",
      "-33\n"
     ]
    }
   ],
   "source": [
    "def negative_sum(string):\n",
    "    \n",
    "    import re\n",
    "    \n",
    "    lst = [int(i) for i in re.findall(r'-\\d+', string)]\n",
    "    sum_neg = sum(lst)\n",
    "    print(sum_neg)\n",
    "    \n",
    "negative_sum(\"-12 13%14&amp;-11\")\n",
    "negative_sum(\"22 13%14&amp;-11-22 13 12\")"
   ]
  }
 ],
 "metadata": {
  "kernelspec": {
   "display_name": "Python 3",
   "language": "python",
   "name": "python3"
  },
  "language_info": {
   "codemirror_mode": {
    "name": "ipython",
    "version": 3
   },
   "file_extension": ".py",
   "mimetype": "text/x-python",
   "name": "python",
   "nbconvert_exporter": "python",
   "pygments_lexer": "ipython3",
   "version": "3.8.8"
  }
 },
 "nbformat": 4,
 "nbformat_minor": 5
}
