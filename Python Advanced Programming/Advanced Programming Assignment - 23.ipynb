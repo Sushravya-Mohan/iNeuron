{
 "cells": [
  {
   "cell_type": "markdown",
   "id": "e5299a8e",
   "metadata": {},
   "source": [
    "# Advanced Programming Assignment - 23\n"
   ]
  },
  {
   "cell_type": "markdown",
   "id": "f986057e",
   "metadata": {},
   "source": [
    "#### 1. Create a class Sudoku that takes a string as an argument. The string will contain the numbers of a regular 9x9 sudoku board left to right and top to bottom, with zeros filling up the empty cells.\n",
    "\n",
    "    Attributes\n",
    "    An instance of the class Sudoku will have one attribute: \n",
    "    - board: a list representing the board, with sublits for each row, with the numbers as integers. Empty cell represented with 0.\n",
    "    \n",
    "    \n",
    "    Methods\n",
    "    An instance of the class Sudoku wil have three methods:\n",
    "    - get_row(n): will return the row in position n.\n",
    "    - get_col(n): will return the column in position n.\n",
    "    - get_sqr([n, m]): will return the square in position n if only one argument is given, and the square to which the cell in position (n, m) belongs to if two arguments are given."
   ]
  },
  {
   "cell_type": "code",
   "execution_count": 138,
   "id": "119db0af",
   "metadata": {},
   "outputs": [],
   "source": [
    "import numpy as np\n",
    "\n",
    "class Sudoku:\n",
    "    \n",
    "    def __init__(self, s):\n",
    "        self.s = s\n",
    "        self.board = np.reshape([int(i) for i in s],(9,9)).tolist()\n",
    "    \n",
    "    def get_row(self, n):\n",
    "        return self.board[n]    \n",
    "    \n",
    "    def get_col(self, n):\n",
    "        l = [self.board[i][n] for i in range(0,9)]\n",
    "        return l\n",
    "    \n",
    "    def get_sqr(self, *args):\n",
    "        ind = list(args)\n",
    "        self.new_l = np.array(self.board).reshape(3,3,3,3).transpose((0,2,1,3)).reshape(9,9).tolist()\n",
    "        if len(ind) == 1:\n",
    "            return self.new_l[ind[0]]\n",
    "        else:\n",
    "            if ind[0] <= 2:\n",
    "                if ind[1] <= 2:\n",
    "                    return self.new_l[0]\n",
    "                elif ind[1] <= 5:\n",
    "                    return self.new_l[1]\n",
    "                else:\n",
    "                    return self.new_l[2]\n",
    "            elif ind[0] <= 5:\n",
    "                if ind[1] <= 2:\n",
    "                    return self.new_l[3]\n",
    "                elif ind[1] <= 5:\n",
    "                    return self.new_l[4]\n",
    "                else:\n",
    "                    return self.new_l[5]\n",
    "            else:\n",
    "                if ind[1] <= 2:\n",
    "                    return self.new_l[6]\n",
    "                elif ind[1] <= 5:\n",
    "                    return self.new_l[7]\n",
    "                else:\n",
    "                    return self.new_l[8]"
   ]
  },
  {
   "cell_type": "code",
   "execution_count": 139,
   "id": "113fa430",
   "metadata": {},
   "outputs": [],
   "source": [
    "game = Sudoku(\"417950030000000700060007000050009106800600000000003400900005000000430000200701580\")"
   ]
  },
  {
   "cell_type": "code",
   "execution_count": 140,
   "id": "58e70f39",
   "metadata": {},
   "outputs": [
    {
     "data": {
      "text/plain": [
       "[[4, 1, 7, 9, 5, 0, 0, 3, 0],\n",
       " [0, 0, 0, 0, 0, 0, 7, 0, 0],\n",
       " [0, 6, 0, 0, 0, 7, 0, 0, 0],\n",
       " [0, 5, 0, 0, 0, 9, 1, 0, 6],\n",
       " [8, 0, 0, 6, 0, 0, 0, 0, 0],\n",
       " [0, 0, 0, 0, 0, 3, 4, 0, 0],\n",
       " [9, 0, 0, 0, 0, 5, 0, 0, 0],\n",
       " [0, 0, 0, 4, 3, 0, 0, 0, 0],\n",
       " [2, 0, 0, 7, 0, 1, 5, 8, 0]]"
      ]
     },
     "execution_count": 140,
     "metadata": {},
     "output_type": "execute_result"
    }
   ],
   "source": [
    "game.board"
   ]
  },
  {
   "cell_type": "code",
   "execution_count": 141,
   "id": "95155ab0",
   "metadata": {},
   "outputs": [
    {
     "data": {
      "text/plain": [
       "[4, 1, 7, 9, 5, 0, 0, 3, 0]"
      ]
     },
     "execution_count": 141,
     "metadata": {},
     "output_type": "execute_result"
    }
   ],
   "source": [
    "game.get_row(0)"
   ]
  },
  {
   "cell_type": "code",
   "execution_count": 142,
   "id": "d2535523",
   "metadata": {},
   "outputs": [
    {
     "data": {
      "text/plain": [
       "[0, 0, 0, 6, 0, 0, 0, 0, 0]"
      ]
     },
     "execution_count": 142,
     "metadata": {},
     "output_type": "execute_result"
    }
   ],
   "source": [
    "game.get_col(8)"
   ]
  },
  {
   "cell_type": "code",
   "execution_count": 143,
   "id": "bea5f841",
   "metadata": {},
   "outputs": [
    {
     "data": {
      "text/plain": [
       "[9, 5, 0, 0, 0, 0, 0, 0, 7]"
      ]
     },
     "execution_count": 143,
     "metadata": {},
     "output_type": "execute_result"
    }
   ],
   "source": [
    "game.get_sqr(1)"
   ]
  },
  {
   "cell_type": "code",
   "execution_count": 144,
   "id": "1ca52d9f",
   "metadata": {},
   "outputs": [
    {
     "data": {
      "text/plain": [
       "[0, 3, 0, 7, 0, 0, 0, 0, 0]"
      ]
     },
     "execution_count": 144,
     "metadata": {},
     "output_type": "execute_result"
    }
   ],
   "source": [
    "game.get_sqr(1, 8)"
   ]
  },
  {
   "cell_type": "code",
   "execution_count": 145,
   "id": "c2a5966f",
   "metadata": {},
   "outputs": [
    {
     "data": {
      "text/plain": [
       "[0, 0, 5, 4, 3, 0, 7, 0, 1]"
      ]
     },
     "execution_count": 145,
     "metadata": {},
     "output_type": "execute_result"
    }
   ],
   "source": [
    "game.get_sqr(8, 3)"
   ]
  },
  {
   "cell_type": "code",
   "execution_count": null,
   "id": "bc8767bf",
   "metadata": {},
   "outputs": [],
   "source": []
  },
  {
   "cell_type": "code",
   "execution_count": null,
   "id": "559f7efa",
   "metadata": {},
   "outputs": [],
   "source": []
  }
 ],
 "metadata": {
  "kernelspec": {
   "display_name": "Python 3",
   "language": "python",
   "name": "python3"
  },
  "language_info": {
   "codemirror_mode": {
    "name": "ipython",
    "version": 3
   },
   "file_extension": ".py",
   "mimetype": "text/x-python",
   "name": "python",
   "nbconvert_exporter": "python",
   "pygments_lexer": "ipython3",
   "version": "3.8.8"
  }
 },
 "nbformat": 4,
 "nbformat_minor": 5
}
