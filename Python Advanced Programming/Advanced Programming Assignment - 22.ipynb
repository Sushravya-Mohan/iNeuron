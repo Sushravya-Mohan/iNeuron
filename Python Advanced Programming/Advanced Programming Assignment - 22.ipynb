{
 "cells": [
  {
   "cell_type": "markdown",
   "id": "e5299a8e",
   "metadata": {},
   "source": [
    "# Advanced Programming Assignment - 22\n"
   ]
  },
  {
   "cell_type": "markdown",
   "id": "f986057e",
   "metadata": {},
   "source": [
    "#### 1. Create a class Smoothie and do the following:\n",
    "    - Create an instance attribute called ingredients.\n",
    "    - Create a get_cost method which calculates the total cost of the ingredients used to make the smoothie.\n",
    "    - Create a get_price method which returns the number from get_cost plus the number from get_cost multiplied by 1.5. Round to two decimal places.\n",
    "    - Create a get_name method which gets the ingredients and puts them in alphabetical order into a nice descriptive sentence. \n",
    "#### If there are multiple ingredients, add the word &quot;Fusion&quot; to the end but otherwise, add &quot;Smoothie&quot;.\n",
    "#### Remember to change &quot;-berries&quot; to &quot;-berry&quot;. See the examples below.\n",
    "    Ingredient    Price    \n",
    "    \n",
    "    Strawberries  1.50 dollar\n",
    "    Banana        0.50 dollar\n",
    "    Mango         2.50 dollar\n",
    "    Blueberries   1.00 dollar\n",
    "    Raspberries   1.00 dollar\n",
    "    Apple         1.75 dollar\n",
    "    Pineapple     3.50 dollar"
   ]
  },
  {
   "cell_type": "code",
   "execution_count": 1,
   "id": "1574b0f1",
   "metadata": {},
   "outputs": [],
   "source": [
    "ing_price ={\"Strawberries\": 1.50, \"Banana\": 0.50, \"Mango\": 2.50, \"Blueberries\" : 1.00, \n",
    "            \"Raspberries\": 1.00, \"Apple\": 1.75, \"Pineapple\": 3.50}\n",
    "\n",
    "class Smoothie:\n",
    "    \n",
    "    def __init__(self, ingredients=[]):\n",
    "        self.ingredients = ingredients\n",
    "        \n",
    "   \n",
    "    def get_cost(self):\n",
    "        global ing_price\n",
    "        cost = 0\n",
    "        for i in self.ingredients:\n",
    "            cost += ing_price[i]\n",
    "        return (\"$ \" + str(cost))\n",
    "            \n",
    "        \n",
    "    def get_price(self):\n",
    "        price = float(self.get_cost().split(\" \")[1]) + 1.5 * float(self.get_cost().split(\" \")[1])\n",
    "        return (\"$ \" + str(price))\n",
    "        \n",
    "                       \n",
    "    def get_name(self):\n",
    "        name = ''\n",
    "        if len(self.ingredients) == 1:\n",
    "            for i in self.ingredients:\n",
    "                name += i.replace(\"berries\", \"berry\") + \" \"\n",
    "            name += \"Smoothie\"\n",
    "        else:\n",
    "            for i in sorted(self.ingredients):\n",
    "                name += i.replace(\"berries\", \"berry\") + \" \"\n",
    "            name += \"Fusion\"\n",
    "        return name \n",
    "        "
   ]
  },
  {
   "cell_type": "code",
   "execution_count": 2,
   "id": "e6d1ffaf",
   "metadata": {},
   "outputs": [],
   "source": [
    "s1 = Smoothie([\"Banana\"])"
   ]
  },
  {
   "cell_type": "code",
   "execution_count": 3,
   "id": "24a7e4d3",
   "metadata": {},
   "outputs": [
    {
     "data": {
      "text/plain": [
       "['Banana']"
      ]
     },
     "execution_count": 3,
     "metadata": {},
     "output_type": "execute_result"
    }
   ],
   "source": [
    "s1.ingredients"
   ]
  },
  {
   "cell_type": "code",
   "execution_count": 4,
   "id": "edd1aace",
   "metadata": {},
   "outputs": [
    {
     "data": {
      "text/plain": [
       "'$ 0.5'"
      ]
     },
     "execution_count": 4,
     "metadata": {},
     "output_type": "execute_result"
    }
   ],
   "source": [
    "s1.get_cost()"
   ]
  },
  {
   "cell_type": "code",
   "execution_count": 5,
   "id": "8528b7a2",
   "metadata": {},
   "outputs": [
    {
     "data": {
      "text/plain": [
       "'$ 1.25'"
      ]
     },
     "execution_count": 5,
     "metadata": {},
     "output_type": "execute_result"
    }
   ],
   "source": [
    "s1.get_price()"
   ]
  },
  {
   "cell_type": "code",
   "execution_count": 6,
   "id": "60161e25",
   "metadata": {},
   "outputs": [
    {
     "data": {
      "text/plain": [
       "'Banana Smoothie'"
      ]
     },
     "execution_count": 6,
     "metadata": {},
     "output_type": "execute_result"
    }
   ],
   "source": [
    "s1.get_name()"
   ]
  },
  {
   "cell_type": "code",
   "execution_count": 7,
   "id": "5b2d1fc1",
   "metadata": {},
   "outputs": [],
   "source": [
    "s2 = Smoothie([\"Raspberries\", \"Strawberries\", \"Blueberries\"])"
   ]
  },
  {
   "cell_type": "code",
   "execution_count": 8,
   "id": "604eecd4",
   "metadata": {},
   "outputs": [
    {
     "data": {
      "text/plain": [
       "['Raspberries', 'Strawberries', 'Blueberries']"
      ]
     },
     "execution_count": 8,
     "metadata": {},
     "output_type": "execute_result"
    }
   ],
   "source": [
    "s2.ingredients"
   ]
  },
  {
   "cell_type": "code",
   "execution_count": 9,
   "id": "1491568a",
   "metadata": {},
   "outputs": [
    {
     "data": {
      "text/plain": [
       "'$ 3.5'"
      ]
     },
     "execution_count": 9,
     "metadata": {},
     "output_type": "execute_result"
    }
   ],
   "source": [
    "s2.get_cost()"
   ]
  },
  {
   "cell_type": "code",
   "execution_count": 10,
   "id": "b3530b75",
   "metadata": {},
   "outputs": [
    {
     "data": {
      "text/plain": [
       "'$ 8.75'"
      ]
     },
     "execution_count": 10,
     "metadata": {},
     "output_type": "execute_result"
    }
   ],
   "source": [
    "s2.get_price()"
   ]
  },
  {
   "cell_type": "code",
   "execution_count": 11,
   "id": "0a371627",
   "metadata": {},
   "outputs": [
    {
     "data": {
      "text/plain": [
       "'Blueberry Raspberry Strawberry Fusion'"
      ]
     },
     "execution_count": 11,
     "metadata": {},
     "output_type": "execute_result"
    }
   ],
   "source": [
    "s2.get_name()"
   ]
  },
  {
   "cell_type": "markdown",
   "id": "cf4899c7",
   "metadata": {},
   "source": [
    "#### 2. Your task is to write a program which allows teachers to create a multiple choice test in a class called Testpaper and to be also able to assign a minimum pass mark. The testpaper&#39;s subject should also be included. The attributes are in the following order:\n",
    "    1. subject\n",
    "    2. markscheme\n",
    "    3. pass_mark\n",
    "#### As well as that, we need to create student objects to take the test itself! \n",
    "#### Create another class called Student and do the following:\n",
    "    - Create an attribute called tests_taken and set the default as 'No tests taken'.\n",
    "    - Make a method called take_test(), which takes in the testpaper object they are completing and the student's answers. Compare what they wrote to the mark scheme, and append to the/create a dictionary assigned to tests_taken in the way as shown in the point below.\n",
    "    - Each key in the dictionary should be the testpaper subject and each value should be a string in the format seen in the examples below (whether or not the student has failed, and their percentage in brackets)."
   ]
  },
  {
   "cell_type": "code",
   "execution_count": 43,
   "id": "ead9b83c",
   "metadata": {},
   "outputs": [],
   "source": [
    "import re   \n",
    "\n",
    "class Testpaper:\n",
    "    \n",
    "    def __init__(self, subject, markscheme, pass_mark):\n",
    "        self.subject = subject\n",
    "        self.markscheme = markscheme\n",
    "        self.pass_mark = pass_mark\n",
    "        \n",
    "        \n",
    "\n",
    "\n",
    "class Student:\n",
    "    \n",
    "    def __init__(self):\n",
    "        self.tests_taken = \"No tests taken\"\n",
    " \n",
    "    \n",
    "    def take_test(self, paper, marks):\n",
    "        self.marks = marks        \n",
    "                  \n",
    "        c = 0\n",
    "        l = len(paper.markscheme)\n",
    "        \n",
    "        for i in self.marks:\n",
    "            if i in paper.markscheme:\n",
    "                c += 1\n",
    "            else:\n",
    "                pass\n",
    "        \n",
    "        p = int(c/l * 100)\n",
    "        \n",
    "        if self.tests_taken == \"No tests taken\":\n",
    "            self.tests_taken = {}        \n",
    "        if p >= int(re.findall(r'\\d+',paper.pass_mark)[0]):\n",
    "            self.tests_taken[paper.subject] = f'Passed! ({p}%)'            \n",
    "        else:\n",
    "            self.tests_taken[paper.subject] = f'Failed! ({p}%)'\n",
    "        \n",
    "        "
   ]
  },
  {
   "cell_type": "code",
   "execution_count": 44,
   "id": "88805938",
   "metadata": {},
   "outputs": [],
   "source": [
    "paper1 = Testpaper(\"Maths\", [\"1A\", \"2C\", \"3D\", \"4A\", \"5A\"], \"60%\")\n",
    "paper2 = Testpaper(\"Chemistry\", [\"1C\", \"2C\", \"3D\", \"4A\"], \"75\")\n",
    "paper3 = Testpaper(\"Computing\", [\"1D\", \"2C\", \"3C\", \"4B\", \"5D\", \"6C\", \"7A\"], \"75%\")"
   ]
  },
  {
   "cell_type": "code",
   "execution_count": 45,
   "id": "55b0d474",
   "metadata": {},
   "outputs": [],
   "source": [
    "student1 = Student()\n",
    "student2 = Student()"
   ]
  },
  {
   "cell_type": "code",
   "execution_count": 46,
   "id": "e6561125",
   "metadata": {},
   "outputs": [
    {
     "data": {
      "text/plain": [
       "'No tests taken'"
      ]
     },
     "execution_count": 46,
     "metadata": {},
     "output_type": "execute_result"
    }
   ],
   "source": [
    "student1.tests_taken"
   ]
  },
  {
   "cell_type": "code",
   "execution_count": 47,
   "id": "0c8591ca",
   "metadata": {},
   "outputs": [
    {
     "data": {
      "text/plain": [
       "{'Maths': 'Passed! (80%)'}"
      ]
     },
     "execution_count": 47,
     "metadata": {},
     "output_type": "execute_result"
    }
   ],
   "source": [
    "student1.take_test(paper1, [\"1A\", \"2D\", \"3D\", \"4A\", \"5A\"])\n",
    "student1.tests_taken"
   ]
  },
  {
   "cell_type": "code",
   "execution_count": 48,
   "id": "e4380608",
   "metadata": {},
   "outputs": [],
   "source": [
    "student2.take_test(paper2, [\"1C\", \"2D\", \"3A\", \"4C\"])\n",
    "student2.take_test(paper3, [\"1A\", \"2C\", \"3A\", \"4C\", \"5D\", \"6C\", \"7B\"])"
   ]
  },
  {
   "cell_type": "code",
   "execution_count": 49,
   "id": "f9b01566",
   "metadata": {},
   "outputs": [
    {
     "data": {
      "text/plain": [
       "{'Chemistry': 'Failed! (25%)', 'Computing': 'Failed! (42%)'}"
      ]
     },
     "execution_count": 49,
     "metadata": {},
     "output_type": "execute_result"
    }
   ],
   "source": [
    "student2.tests_taken"
   ]
  },
  {
   "cell_type": "markdown",
   "id": "ad8249ef",
   "metadata": {},
   "source": [
    "#### 3. Due to unforseen circumstances in Suburbia, the trains will be delayed by a further 10 minutes.\n",
    "\n",
    "#### Create a function that will help to plan out and manage these delays! Create a function called manage_delays that does the following:\n",
    "    - Parameters will be the train object, a destination and number of minutes the delay is.\n",
    "    - Increment to the train object's expected_time by the delay, if the destination given is in the train object's\n",
    "    destinations."
   ]
  },
  {
   "cell_type": "code",
   "execution_count": 54,
   "id": "acae273e",
   "metadata": {},
   "outputs": [],
   "source": [
    "class Train:\n",
    "    \n",
    "    def __init__(self, destination, expected_time):\n",
    "        self.destination = destination\n",
    "        self.expected_time = expected_time\n",
    "        \n",
    "def manage_delays(train_obj, destination, delay_time):\n",
    "    if destination in train_obj.destination:\n",
    "        time_in_min = int(train_obj.expected_time.split(\":\")[0])*60 + int(train_obj.expected_time.split(\":\")[1])\n",
    "        new_time = time_in_min + delay_time\n",
    "        disp_delay = str(new_time//60) + \":\" + str(new_time%60)\n",
    "        train_obj.expected_time = disp_delay            \n",
    "    "
   ]
  },
  {
   "cell_type": "code",
   "execution_count": 55,
   "id": "cd4af19a",
   "metadata": {},
   "outputs": [],
   "source": [
    "trains = [\n",
    "  Train([\"Townsville\", \"Suburbia\", \"Urbantska\"], \"13:04\"),\n",
    "  Train([\"Farmsdale\", \"Suburbia\", \"Lakeside Valley\"], \"13:20\"),\n",
    "  Train([\"Suburbia\", \"Townsville\", \"Lakeside Valley\"], \"13:22\")\n",
    "]\n",
    "\n",
    "for t in trains:\n",
    "    manage_delays(t, \"Lakeside Valley\", 60)"
   ]
  },
  {
   "cell_type": "code",
   "execution_count": 58,
   "id": "d9841b2c",
   "metadata": {},
   "outputs": [
    {
     "name": "stdout",
     "output_type": "stream",
     "text": [
      "13:04\n",
      "14:20\n",
      "14:22\n"
     ]
    }
   ],
   "source": [
    "print(trains[0].expected_time)\n",
    "print(trains[1].expected_time)\n",
    "print(trains[2].expected_time)"
   ]
  },
  {
   "cell_type": "markdown",
   "id": "1695cadd",
   "metadata": {},
   "source": [
    "#### 4. Ted works as a computer programmer at Minecraft Inc. His boss has just given him an important assignment to update the code for the minecart tracks by the end of April. However, he has recently had to self-isolate due to Corvid-19 and has left the code for the tracks. BACK AT WORK!! He has the shorthand for the tracks he's supposed to look at, and where the carts are suppost to end up, but not the actual code.\n",
    "\n",
    "He knows that:\n",
    "\n",
    "- \"-->\" = \"Speed-Up Track\" ⁠— If a minecart interacts with this track, it's velocity increases by 2.67 BPS unless it's at its maximum speed of 8 BPS.\n",
    "- \"<-->\" = \"Powered Track\" ⁠— If a minecart interacts with this track, it's velocity remains the same.\n",
    "- \"<--\" = \"Slow-Down Track\" ⁠— If a minecart interacts with this track, it's velocity decreases by 2.67 BPS unless it's velocity equals 0, at which point it stops.\n",
    "- \"---\" = \"Unpowered Track\" ⁠— If a minecart interacts with this track, it's velocity decreases by 1 BPS unless it's velocity equals 0, at which point it stops.\n",
    "\n",
    "#### Help Ted by writing a class for the tracks that interact with the provided Minecart class as shown above. And then write a function that will take a list of the shorthand tracks and:\n",
    "\n",
    "- If the Minecart reaches the last peice of Track, return True.\n",
    "- Else return the index of the Track where the Minecart stops."
   ]
  },
  {
   "cell_type": "code",
   "execution_count": 74,
   "id": "7deeb3e0",
   "metadata": {},
   "outputs": [],
   "source": [
    "class Minecraft:\n",
    "    \n",
    "    def __init__(self, tracks):\n",
    "        self.tracks = tracks\n",
    "        \n",
    "\n",
    "def mine_run(tracks):\n",
    "    \n",
    "    vel = 0\n",
    "    ind = 0\n",
    "    \n",
    "    for i in range(len(tracks)):\n",
    "        if tracks[i] == \"-->\":\n",
    "            if vel + 2.67 >= 8:\n",
    "                vel = 8\n",
    "            else:\n",
    "                vel += 2.67\n",
    "        elif tracks[i] == \"<-->\":\n",
    "            continue\n",
    "        elif tracks[i] == \"<--\":\n",
    "            if vel - 2.67 <= 0:\n",
    "                if i == len(tracks) - 1:\n",
    "                    return True\n",
    "                else:\n",
    "                    ind = i               \n",
    "            else:\n",
    "                vel -= 2.67                \n",
    "        else:\n",
    "            if vel - 1 <= 0:\n",
    "                if i == len(tracks) - 1:\n",
    "                    return True\n",
    "                else:\n",
    "                    ind = i                \n",
    "            else: \n",
    "                vel -= 1\n",
    "    return ind\n",
    "                \n",
    "minecraft_1 = Minecraft([\"-->\", \"-->\", \"-->\", \"<--\", \"<--\", \"<--\"])\n",
    "minecraft_2 = Minecraft([\"-->\", \"<--\", \"-->\", \"-->\", \"<-->\", \"---\"])"
   ]
  },
  {
   "cell_type": "code",
   "execution_count": 75,
   "id": "ae0ccdda",
   "metadata": {},
   "outputs": [
    {
     "name": "stdout",
     "output_type": "stream",
     "text": [
      "True\n",
      "1\n"
     ]
    }
   ],
   "source": [
    "print(mine_run(minecraft_1.tracks))\n",
    "print(mine_run(minecraft_2.tracks))"
   ]
  },
  {
   "cell_type": "markdown",
   "id": "66a777e4",
   "metadata": {},
   "source": [
    "#### 5. Make a Rectangle class with four parameters, an x, a y (representing the top-left corner of the rectangle), a width and a height exclusively in that order. \n",
    "#### Lastly, make a function intersecting that takes two Rectangle objects and returns True if those objects are intersecting (colliding), else return False."
   ]
  },
  {
   "cell_type": "code",
   "execution_count": 182,
   "id": "28e282b9",
   "metadata": {},
   "outputs": [
    {
     "data": {
      "text/plain": [
       "Text(59, 35, 'C')"
      ]
     },
     "execution_count": 182,
     "metadata": {},
     "output_type": "execute_result"
    },
    {
     "data": {
      "image/png": "[encoded data removed]",
      "text/plain": [
       "<Figure size 720x288 with 1 Axes>"
      ]
     },
     "metadata": {
      "needs_background": "light"
     },
     "output_type": "display_data"
    }
   ],
   "source": [
    "import matplotlib.pyplot as plt\n",
    "import matplotlib.patches as patches\n",
    "\n",
    "plt.figure(figsize=(10,4)) \n",
    "plt.xlim(0, 120)\n",
    "plt.ylim(0, 80)\n",
    "\n",
    "left, bottom, width, height = (10, 0, 100, 20)\n",
    "rect=patches.Rectangle((left,bottom),width,height, \n",
    "                        alpha=0.4,\n",
    "                        facecolor=\"red\")\n",
    "plt.gca().add_patch(rect)\n",
    "plt.text(60, 10, \"A\")\n",
    "\n",
    "left, bottom, width, height = (10, 20, 15, 20)\n",
    "rect=patches.Rectangle((left,bottom),width,height, \n",
    "                        alpha=0.4,\n",
    "                        facecolor=\"green\")\n",
    "plt.gca().add_patch(rect)\n",
    "plt.text(17, 30, \"B\")\n",
    "\n",
    "\n",
    "left, bottom, width, height = (50, 20, 20, 30)\n",
    "rect=patches.Rectangle((left,bottom),width,height, \n",
    "                        alpha=0.4,\n",
    "                        facecolor=\"blue\")\n",
    "plt.gca().add_patch(rect)\n",
    "plt.text(59, 35, \"C\")\n"
   ]
  },
  {
   "cell_type": "code",
   "execution_count": 150,
   "id": "53efc734",
   "metadata": {},
   "outputs": [],
   "source": [
    "class Rectangle:\n",
    "    \n",
    "    def __init__(self, x, y, w, h):\n",
    "        self.x = x\n",
    "        self.y = y\n",
    "        self.w = w\n",
    "        self.h = h\n",
    "\n",
    "def intersecting(r1, r2):\n",
    "    \n",
    "    if ((r1.x >= r2.x + r2.w) or (r1.x + r1.w <= r2.x) or (r1.y < r2.y - r2.h) or (r1.y - r1.h > r2.y)) == True:\n",
    "        return False\n",
    "    else:\n",
    "        return True"
   ]
  },
  {
   "cell_type": "code",
   "execution_count": 151,
   "id": "427e6439",
   "metadata": {},
   "outputs": [],
   "source": [
    "a = Rectangle(10, 20, 100, 20)\n",
    "b = Rectangle(10, 40, 15, 20)\n",
    "c = Rectangle(50, 50, 20, 30)"
   ]
  },
  {
   "cell_type": "code",
   "execution_count": 152,
   "id": "3476ed68",
   "metadata": {},
   "outputs": [
    {
     "data": {
      "text/plain": [
       "True"
      ]
     },
     "execution_count": 152,
     "metadata": {},
     "output_type": "execute_result"
    }
   ],
   "source": [
    "intersecting(a, b)"
   ]
  },
  {
   "cell_type": "code",
   "execution_count": 153,
   "id": "2bf1f332",
   "metadata": {},
   "outputs": [
    {
     "data": {
      "text/plain": [
       "True"
      ]
     },
     "execution_count": 153,
     "metadata": {},
     "output_type": "execute_result"
    }
   ],
   "source": [
    "intersecting(a, c)"
   ]
  },
  {
   "cell_type": "code",
   "execution_count": 154,
   "id": "8e95e673",
   "metadata": {},
   "outputs": [
    {
     "data": {
      "text/plain": [
       "False"
      ]
     },
     "execution_count": 154,
     "metadata": {},
     "output_type": "execute_result"
    }
   ],
   "source": [
    "intersecting(b, c)"
   ]
  }
 ],
 "metadata": {
  "kernelspec": {
   "display_name": "Python 3",
   "language": "python",
   "name": "python3"
  },
  "language_info": {
   "codemirror_mode": {
    "name": "ipython",
    "version": 3
   },
   "file_extension": ".py",
   "mimetype": "text/x-python",
   "name": "python",
   "nbconvert_exporter": "python",
   "pygments_lexer": "ipython3",
   "version": "3.8.8"
  }
 },
 "nbformat": 4,
 "nbformat_minor": 5
}
