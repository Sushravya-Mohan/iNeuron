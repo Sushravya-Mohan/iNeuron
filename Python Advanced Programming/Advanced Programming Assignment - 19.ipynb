{
 "cells": [
  {
   "cell_type": "markdown",
   "id": "e5299a8e",
   "metadata": {},
   "source": [
    "# Advanced Programming Assignment - 19\n"
   ]
  },
  {
   "cell_type": "markdown",
   "id": "f986057e",
   "metadata": {},
   "source": [
    "#### 1. Create a checker board generator, which takes as inputs n and 2 elements to generate an n x n checkerboard with those two elements as alternating squares."
   ]
  },
  {
   "cell_type": "code",
   "execution_count": 1,
   "id": "1574b0f1",
   "metadata": {},
   "outputs": [
    {
     "name": "stdout",
     "output_type": "stream",
     "text": [
      "[[7, 6], [6, 7]]\n",
      "[['A', 'B', 'A'], ['B', 'A', 'B'], ['A', 'B', 'A']]\n",
      "[['c', 'd', 'c', 'd'], ['d', 'c', 'd', 'c'], ['c', 'd', 'c', 'd'], ['d', 'c', 'd', 'c']]\n",
      "invalid\n"
     ]
    }
   ],
   "source": [
    "def checker_board(n, e1, e2):\n",
    "    l = [[0 for j in range(n)] for i in range(n)]\n",
    "    \n",
    "    if e1 != e2:\n",
    "        for i in range(n):\n",
    "            for j in range(n):\n",
    "                if (i + j) % 2 == 0:\n",
    "                    l[i][j] = e1\n",
    "                else:\n",
    "                    l[i][j] = e2\n",
    "        print(l)\n",
    "    else:\n",
    "        print(\"invalid\")\n",
    "        \n",
    "\n",
    "checker_board(2, 7, 6)\n",
    "checker_board(3, \"A\", \"B\")\n",
    "checker_board(4, \"c\", \"d\")\n",
    "checker_board(4, \"c\", \"c\")"
   ]
  },
  {
   "cell_type": "markdown",
   "id": "cf4899c7",
   "metadata": {},
   "source": [
    "#### 2. A string is an almost-palindrome if, by changing only one character, you can make it a palindrome. Create a function that returns True if a string is an almost-palindrome and False otherwise."
   ]
  },
  {
   "cell_type": "code",
   "execution_count": 2,
   "id": "ead9b83c",
   "metadata": {},
   "outputs": [
    {
     "name": "stdout",
     "output_type": "stream",
     "text": [
      "True\n",
      "True\n",
      "False\n",
      "False\n"
     ]
    }
   ],
   "source": [
    "def almost_palindrome(s):\n",
    "    \n",
    "    rev = s[::-1]\n",
    "    c = 0 \n",
    "    \n",
    "    for i in range(len(s)):\n",
    "        if s[i] != rev[i]:\n",
    "            c += 1\n",
    "        else:\n",
    "            pass\n",
    "        \n",
    "    if c > 2:\n",
    "        print(False)\n",
    "    else:\n",
    "        print(True)\n",
    "        \n",
    "almost_palindrome(\"abccbg\")\n",
    "almost_palindrome(\"abccia\")\n",
    "almost_palindrome(\"abcdaaa\")\n",
    "almost_palindrome(\"1234312\")"
   ]
  },
  {
   "cell_type": "markdown",
   "id": "ad8249ef",
   "metadata": {},
   "source": [
    "#### 3. Create a function that finds how many prime numbers there are, up to the given integer."
   ]
  },
  {
   "cell_type": "code",
   "execution_count": 3,
   "id": "acae273e",
   "metadata": {},
   "outputs": [
    {
     "name": "stdout",
     "output_type": "stream",
     "text": [
      "4\n",
      "8\n",
      "10\n"
     ]
    }
   ],
   "source": [
    "def prime_numbers(n):\n",
    "    \n",
    "    l = []\n",
    "    \n",
    "    \n",
    "    for i in range(2, n):\n",
    "        c = 0\n",
    "        for j in range(2, i):\n",
    "            if i%j != 0:\n",
    "                c += 0\n",
    "            else:\n",
    "                c += 1\n",
    "        if c == 0:\n",
    "            l.append(i)\n",
    "        else:\n",
    "            pass\n",
    "    \n",
    "    print(len(l))\n",
    "\n",
    "    \n",
    "prime_numbers(10)\n",
    "prime_numbers(20)\n",
    "prime_numbers(30)"
   ]
  },
  {
   "cell_type": "markdown",
   "id": "a9af6e3c",
   "metadata": {},
   "source": [
    "#### 4. If today was Monday, in two days, it would be Wednesday. \n",
    "#### Create a function that takes in a list of days as input and the number of days to increment by. Return a list of days after n number of days has passed."
   ]
  },
  {
   "cell_type": "code",
   "execution_count": 4,
   "id": "3fc1cd45",
   "metadata": {},
   "outputs": [
    {
     "name": "stdout",
     "output_type": "stream",
     "text": [
      "['Monday', 'Friday']\n",
      "['Monday', 'Monday', 'Monday']\n",
      "['Tuesday', 'Wednesday', 'Saturday']\n"
     ]
    }
   ],
   "source": [
    "def after_n_days(l, n):\n",
    "    \n",
    "    n_days = []\n",
    "    days = ['Monday', 'Tuesday', 'Wednesday', 'Thursday', 'Friday', 'Saturday', 'Sunday']\n",
    "    \n",
    "    for i in l:\n",
    "        j = days.index(i)\n",
    "        m = (j+n)%7\n",
    "        n_days.append(days[m])\n",
    "        \n",
    "    print(n_days)\n",
    "    \n",
    "\n",
    "after_n_days(['Thursday','Monday'], 4)\n",
    "after_n_days(['Sunday', 'Sunday', 'Sunday'], 1)\n",
    "after_n_days(['Monday', 'Tuesday', 'Friday'], 1)\n",
    "        "
   ]
  },
  {
   "cell_type": "markdown",
   "id": "34f4f3ab",
   "metadata": {},
   "source": [
    "#### 5. You are in the process of creating a chat application and want to add an anonymous name feature. This anonymous name feature will create an alias that consists of two capitalized words beginning with the same letter as the users first name.\n",
    "#### Create a function that determines if the list of users is mapped to a list of anonymous names correctly."
   ]
  },
  {
   "cell_type": "code",
   "execution_count": 5,
   "id": "28250c9b",
   "metadata": {},
   "outputs": [
    {
     "name": "stdout",
     "output_type": "stream",
     "text": [
      "True\n",
      "True\n",
      "False\n"
     ]
    }
   ],
   "source": [
    "def is_correct_aliases(l1, l2):\n",
    "    \n",
    "    nl = [i.split(\" \") for i in l2]\n",
    "    c = 0\n",
    "    \n",
    "    for i in range(len(l1)):\n",
    "        if l1[i][0] == nl[i][0][0] and l1[i][0] == nl[i][1][0]:\n",
    "            c  += 1\n",
    "        else:\n",
    "            pass\n",
    "    \n",
    "    if c == len(l1):\n",
    "        print(True)\n",
    "    else:\n",
    "        print(False)\n",
    "        \n",
    "\n",
    "is_correct_aliases(['Adrian M.', 'Harriet S.', 'Mandy T.'], ['Amazing Artichoke', 'Hopeful Hedgedog', 'Marvelous Mouse'])\n",
    "is_correct_aliases(['Rachel F.', 'Pam G', 'Fred Z.', 'Nancy K.'], ['Reassuring Rat', 'Peaceful Panda', 'Fantastic Fog', \n",
    "                                                                   'Notable Nickel'])\n",
    "is_correct_aliases(['Beth T.'],['Brandishing Mimosa'])"
   ]
  }
 ],
 "metadata": {
  "kernelspec": {
   "display_name": "Python 3",
   "language": "python",
   "name": "python3"
  },
  "language_info": {
   "codemirror_mode": {
    "name": "ipython",
    "version": 3
   },
   "file_extension": ".py",
   "mimetype": "text/x-python",
   "name": "python",
   "nbconvert_exporter": "python",
   "pygments_lexer": "ipython3",
   "version": "3.8.8"
  }
 },
 "nbformat": 4,
 "nbformat_minor": 5
}
