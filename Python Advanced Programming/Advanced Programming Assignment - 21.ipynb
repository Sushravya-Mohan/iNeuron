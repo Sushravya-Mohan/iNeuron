{
 "cells": [
  {
   "cell_type": "markdown",
   "id": "e5299a8e",
   "metadata": {},
   "source": [
    "# Advanced Programming Assignment - 21\n"
   ]
  },
  {
   "cell_type": "markdown",
   "id": "f986057e",
   "metadata": {},
   "source": [
    "#### 1. Given a sentence, return the number of words which have the same first and last letter."
   ]
  },
  {
   "cell_type": "code",
   "execution_count": 1,
   "id": "1574b0f1",
   "metadata": {},
   "outputs": [
    {
     "name": "stdout",
     "output_type": "stream",
     "text": [
      "1\n",
      "0\n",
      "1\n"
     ]
    }
   ],
   "source": [
    "def count_same_ends(s):\n",
    "    \n",
    "    import re\n",
    "    \n",
    "    l = re.findall(r'[A-Za-z]+', s)\n",
    "    c = 0\n",
    "    \n",
    "    for i in l:\n",
    "        i = i.lower()\n",
    "        if len(i) > 1 and i[0] == i[-1]:\n",
    "            c += 1\n",
    "        else:\n",
    "            pass\n",
    "        \n",
    "    print(c)\n",
    "    \n",
    "count_same_ends(\"Pop! goes the balloon\")\n",
    "count_same_ends(\"And the crowd goes wild\")\n",
    "count_same_ends(\"No I am not in a gang\")"
   ]
  },
  {
   "cell_type": "markdown",
   "id": "cf4899c7",
   "metadata": {},
   "source": [
    "#### 2. The Atbash cipher is an encryption method in which each letter of a word is replaced with its &quot;mirror&quot; letter in the alphabet: A &lt;=&gt; Z; B &lt;=&gt; Y; C &lt;=&gt; X; etc.\n",
    "#### Create a function that takes a string and applies the Atbash cipher to it."
   ]
  },
  {
   "cell_type": "code",
   "execution_count": 2,
   "id": "ead9b83c",
   "metadata": {},
   "outputs": [
    {
     "name": "stdout",
     "output_type": "stream",
     "text": [
      "zkkov\n",
      "Svool dliow!\n",
      "Xsirhgnzh rh gsv 25gs lu Wvxvnyvi\n"
     ]
    }
   ],
   "source": [
    "def atbash(s):\n",
    "    \n",
    "    import string\n",
    "    \n",
    "    sl  = list(string.ascii_lowercase)\n",
    "    cl = list(string.ascii_uppercase)\n",
    "    ci_s = ''\n",
    "    \n",
    "    for i in s:\n",
    "        if i in sl:\n",
    "            n = sl.index(i)\n",
    "            ci_s += sl[-(n+1)]\n",
    "        elif i in cl:\n",
    "            n = cl.index(i)\n",
    "            ci_s += cl[-(n+1)]\n",
    "        else:\n",
    "            ci_s += i\n",
    "        \n",
    "    print(ci_s)\n",
    "    \n",
    "atbash(\"apple\")\n",
    "atbash(\"Hello world!\")\n",
    "atbash(\"Christmas is the 25th of December\")"
   ]
  },
  {
   "cell_type": "markdown",
   "id": "ad8249ef",
   "metadata": {},
   "source": [
    "#### 3. Create a class Employee that will take a full name as argument, as well as a set of none, one or more keywords. Each instance should have a name and a lastname attributes plus one more attribute for each of the keywords, if any."
   ]
  },
  {
   "cell_type": "code",
   "execution_count": 3,
   "id": "acae273e",
   "metadata": {},
   "outputs": [],
   "source": [
    "class Employee:\n",
    "    \n",
    "    l = []\n",
    "    \n",
    "    def __init__(self, fullname, **kwargs):\n",
    "        self.name = fullname.split(\" \")[0]\n",
    "        self.lastname = fullname.split(\" \")[1]\n",
    "        self.__dict__.update(kwargs)           \n",
    "       "
   ]
  },
  {
   "cell_type": "code",
   "execution_count": 4,
   "id": "378913fe",
   "metadata": {},
   "outputs": [
    {
     "data": {
      "text/plain": [
       "'John'"
      ]
     },
     "execution_count": 4,
     "metadata": {},
     "output_type": "execute_result"
    }
   ],
   "source": [
    "john = Employee(\"John Doe\")\n",
    "john.name"
   ]
  },
  {
   "cell_type": "code",
   "execution_count": 5,
   "id": "ab027091",
   "metadata": {},
   "outputs": [
    {
     "data": {
      "text/plain": [
       "'Major'"
      ]
     },
     "execution_count": 5,
     "metadata": {},
     "output_type": "execute_result"
    }
   ],
   "source": [
    "mary = Employee(\"Mary Major\", salary=120000)\n",
    "mary.lastname"
   ]
  },
  {
   "cell_type": "code",
   "execution_count": 6,
   "id": "557f4deb",
   "metadata": {},
   "outputs": [
    {
     "data": {
      "text/plain": [
       "178"
      ]
     },
     "execution_count": 6,
     "metadata": {},
     "output_type": "execute_result"
    }
   ],
   "source": [
    "richard = Employee(\"Richard Roe\", salary=110000, height=178)\n",
    "richard.height"
   ]
  },
  {
   "cell_type": "code",
   "execution_count": 7,
   "id": "cd60e703",
   "metadata": {},
   "outputs": [
    {
     "data": {
      "text/plain": [
       "'Italian'"
      ]
     },
     "execution_count": 7,
     "metadata": {},
     "output_type": "execute_result"
    }
   ],
   "source": [
    "giancarlo = Employee(\"Giancarlo Rossi\", salary=115000, height=182,nationality=\"Italian\")\n",
    "giancarlo.nationality"
   ]
  },
  {
   "cell_type": "markdown",
   "id": "1695cadd",
   "metadata": {},
   "source": [
    "#### 4. Create a function that determines whether each seat can &quot;see&quot; the front- stage. A number can &quot;see&quot; the front-stage if it is strictly greater than the number before it."
   ]
  },
  {
   "cell_type": "code",
   "execution_count": 8,
   "id": "7deeb3e0",
   "metadata": {},
   "outputs": [
    {
     "name": "stdout",
     "output_type": "stream",
     "text": [
      "True\n",
      "True\n",
      "False\n",
      "False\n",
      "True\n",
      "False\n"
     ]
    }
   ],
   "source": [
    "def can_see_stage(l):\n",
    "    m = len(l)\n",
    "    n = len(l[0])\n",
    "    cond = 0\n",
    "    \n",
    "    for i in range(m-1):\n",
    "        for j in range(n):\n",
    "            if l[i][j] < l[i+1][j]:\n",
    "                pass\n",
    "            else:\n",
    "                cond += 1\n",
    "    \n",
    "    if cond != 0:\n",
    "        print(False)\n",
    "    else:\n",
    "        print(True)\n",
    "\n",
    "\n",
    "can_see_stage([[1, 2, 3], [4, 5, 6], [7, 8, 9]])\n",
    "can_see_stage([[0, 0, 0], [1, 1, 1], [2, 2, 2]])\n",
    "can_see_stage([[2, 0, 0], [1, 1, 1], [2, 2, 2]])\n",
    "can_see_stage([[1, 0, 0], [1, 1, 1], [2, 2, 2]])\n",
    "can_see_stage([[1, 2, 3, 2, 1, 1], [2, 4, 4, 3, 2, 2], [5, 5, 5, 5, 4, 4], [6, 6, 7, 6, 5, 5]])\n",
    "can_see_stage([[1, 2, 3, 2, 1, 1], [2, 4, 4, 3, 2, 2], [5, 5, 5, 10, 4, 4], [6, 6, 7, 6, 5, 5]])"
   ]
  },
  {
   "cell_type": "markdown",
   "id": "66a777e4",
   "metadata": {},
   "source": [
    "#### 5. Create a Pizza class with the attributes order_number and ingredients (which is given as a list). Only the ingredients will be given as input.\n",
    "#### You should also make it so that its possible to choose a ready made pizza flavour rather than typing out the ingredients manually! As well as creating this Pizza class, hard-code the following pizza flavours.\n",
    "     Name               Ingredients \n",
    "     hawaiian           ham, pineapple\n",
    "     meat_festival      beef, meatball, bacon\n",
    "     garden_feast       spinach, olives, mushroom"
   ]
  },
  {
   "cell_type": "code",
   "execution_count": 9,
   "id": "53efc734",
   "metadata": {},
   "outputs": [],
   "source": [
    "order_number = 0\n",
    "class Pizza:\n",
    "    \n",
    "    def __init__(self, *ingredients):\n",
    "        global order_number\n",
    "        order_number += 1\n",
    "        self.order_number = order_number\n",
    "        self.ingredients = ingredients[0]\n",
    "        \n",
    "    @classmethod\n",
    "    def hawaiian(self):\n",
    "        global order_number\n",
    "        order_number += 1\n",
    "        self.order_number = order_number\n",
    "        self.ingredients = [\"ham\", \"pineapple\"]\n",
    "        return self\n",
    "        \n",
    "    @classmethod\n",
    "    def meat_festival(self):\n",
    "        global order_number\n",
    "        order_number += 1\n",
    "        self.order_number = order_number\n",
    "        self.ingredients = [\"beef\", \"meatball\", \"bacon\"]\n",
    "        return self\n",
    "        \n",
    "    @classmethod\n",
    "    def garden_feast(self):\n",
    "        global order_number\n",
    "        order_number += 1\n",
    "        self.order_number = order_number\n",
    "        self.ingredients = [\"spinach\", \"olives\", \"mushroom\"]\n",
    "        return self\n",
    "        \n",
    "        \n",
    "        "
   ]
  },
  {
   "cell_type": "code",
   "execution_count": 10,
   "id": "9ca7f546",
   "metadata": {},
   "outputs": [],
   "source": [
    "p1 = Pizza([\"bacon\", \"parmesan\", \"ham\"])\n",
    "p2 = Pizza.garden_feast()"
   ]
  },
  {
   "cell_type": "code",
   "execution_count": 11,
   "id": "21adba81",
   "metadata": {},
   "outputs": [
    {
     "data": {
      "text/plain": [
       "['bacon', 'parmesan', 'ham']"
      ]
     },
     "execution_count": 11,
     "metadata": {},
     "output_type": "execute_result"
    }
   ],
   "source": [
    "p1.ingredients"
   ]
  },
  {
   "cell_type": "code",
   "execution_count": 12,
   "id": "4dffbab1",
   "metadata": {},
   "outputs": [
    {
     "data": {
      "text/plain": [
       "['spinach', 'olives', 'mushroom']"
      ]
     },
     "execution_count": 12,
     "metadata": {},
     "output_type": "execute_result"
    }
   ],
   "source": [
    "p2.ingredients"
   ]
  },
  {
   "cell_type": "code",
   "execution_count": 13,
   "id": "49de4fa5",
   "metadata": {},
   "outputs": [
    {
     "data": {
      "text/plain": [
       "1"
      ]
     },
     "execution_count": 13,
     "metadata": {},
     "output_type": "execute_result"
    }
   ],
   "source": [
    "p1.order_number"
   ]
  },
  {
   "cell_type": "code",
   "execution_count": 14,
   "id": "ca986e16",
   "metadata": {},
   "outputs": [
    {
     "data": {
      "text/plain": [
       "2"
      ]
     },
     "execution_count": 14,
     "metadata": {},
     "output_type": "execute_result"
    }
   ],
   "source": [
    "p2.order_number"
   ]
  },
  {
   "cell_type": "code",
   "execution_count": null,
   "id": "066d3ae7",
   "metadata": {},
   "outputs": [],
   "source": []
  }
 ],
 "metadata": {
  "kernelspec": {
   "display_name": "Python 3",
   "language": "python",
   "name": "python3"
  },
  "language_info": {
   "codemirror_mode": {
    "name": "ipython",
    "version": 3
   },
   "file_extension": ".py",
   "mimetype": "text/x-python",
   "name": "python",
   "nbconvert_exporter": "python",
   "pygments_lexer": "ipython3",
   "version": "3.8.8"
  }
 },
 "nbformat": 4,
 "nbformat_minor": 5
}
