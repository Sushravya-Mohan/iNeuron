{
 "cells": [
  {
   "cell_type": "markdown",
   "id": "e5299a8e",
   "metadata": {},
   "source": [
    "# Advanced Programming Assignment - 16\n"
   ]
  },
  {
   "cell_type": "markdown",
   "id": "f986057e",
   "metadata": {},
   "source": [
    "#### 1. Rondo Form is a type of musical structure, in which there is a recurring theme/refrain, notated as A. Here are the rules for valid rondo forms:\n",
    "    - Rondo forms always start and end with an A section.\n",
    "    - In between the A sections, there should be contrasting sections notated as B, then C, then D, etc... No letter should be skipped.\n",
    "    - There shouldn't be any repeats in the sequence (such as ABBACCA).\n",
    "#### Create a function which validates whether a given string is a valid Rondo Form."
   ]
  },
  {
   "cell_type": "code",
   "execution_count": 1,
   "id": "1574b0f1",
   "metadata": {},
   "outputs": [
    {
     "name": "stdout",
     "output_type": "stream",
     "text": [
      "True\n",
      "True\n",
      "False\n",
      "False\n",
      "False\n"
     ]
    }
   ],
   "source": [
    "def valid_rondo(s):\n",
    "    \n",
    "    sec_a = s[0::2]\n",
    "    con_sec = s[1::2]\n",
    "    len_a = (len(s) + 1)//2\n",
    "    len_con = len(s) - len_a\n",
    "    s_l = ord('B')\n",
    "    c = []\n",
    "    if sec_a == len_a * 'A':\n",
    "        for i in con_sec:\n",
    "            if ord(i) == s_l:\n",
    "                s_l += 1\n",
    "                c.append(True)\n",
    "            else:\n",
    "                c.append(False)\n",
    "        if False in c or len_con == 0:\n",
    "            print(False)\n",
    "        else:\n",
    "            print(True)\n",
    "    else:\n",
    "        print(False)\n",
    "    \n",
    "valid_rondo(\"ABACADAEA\")\n",
    "valid_rondo(\"ABA\")  \n",
    "valid_rondo(\"ABBACCA\")\n",
    "valid_rondo(\"ACAC\")\n",
    "valid_rondo(\"A\")"
   ]
  },
  {
   "cell_type": "markdown",
   "id": "cf4899c7",
   "metadata": {},
   "source": [
    "#### 2. Create a function that returns the whole of the first sentence which contains a specific word. Include the full stop at the end of the sentence."
   ]
  },
  {
   "cell_type": "code",
   "execution_count": 2,
   "id": "ead9b83c",
   "metadata": {},
   "outputs": [
    {
     "name": "stdout",
     "output_type": "stream",
     "text": [
      "I have a cat.\n",
      "I have a mat.\n",
      "Things are going swell.\n",
      "\n"
     ]
    }
   ],
   "source": [
    "def sentence_searcher(txt, s):\n",
    "    \n",
    "    l = txt.split(\".\")\n",
    "    \n",
    "    for i in l:\n",
    "        if s.lower() in i.lower():\n",
    "            a = i.strip() + \".\"\n",
    "            break\n",
    "        else:\n",
    "            a = 0\n",
    "    \n",
    "    if a != 0:\n",
    "        print(a)\n",
    "    else:\n",
    "        print(\"\")\n",
    "    \n",
    "txt = \"I have a cat. I have a mat. Things are going swell.\"\n",
    "\n",
    "sentence_searcher(txt, \"have\")\n",
    "sentence_searcher(txt, \"mat\")\n",
    "sentence_searcher(txt, \"things\")\n",
    "sentence_searcher(txt, \"flat\")"
   ]
  },
  {
   "cell_type": "markdown",
   "id": "ad8249ef",
   "metadata": {},
   "source": [
    "#### 3. Given a number, find the &quot;round &quot;of each digit of the number. An integer is called &quot;round&quot; if all its digits except the leftmost (most significant) are equal to zero.\n",
    "    - Round numbers: 4000, 1, 9, 800, 90\n",
    "    - Not round numbers: 110, 707, 222, 1001\n",
    "#### Create a function that takes a number and returns the &quot;round&quot; of each digit (except if the digit is zero) as a string. Check out the following examples for more clarification."
   ]
  },
  {
   "cell_type": "code",
   "execution_count": 3,
   "id": "acae273e",
   "metadata": {},
   "outputs": [
    {
     "name": "stdout",
     "output_type": "stream",
     "text": [
      "1 100 \n",
      "4 30 200 1000 \n",
      "10 200 4000 50000 \n"
     ]
    }
   ],
   "source": [
    "def sum_round(n):\n",
    "    \n",
    "    l = []\n",
    "    s_l = len(str(n))\n",
    "    s = \"\"\n",
    "    \n",
    "    while n > 0:\n",
    "        for i in range(s_l):\n",
    "            if n%10 != 0:\n",
    "                l.append(n%10 * (10**i))\n",
    "                n = n//10\n",
    "            else:\n",
    "                n = n//10\n",
    "    \n",
    "    for i in l:\n",
    "        s += str(i) + \" \"\n",
    "    \n",
    "    print(s)\n",
    "        \n",
    "sum_round(101)\n",
    "sum_round(1234)\n",
    "sum_round(54210)            "
   ]
  },
  {
   "cell_type": "markdown",
   "id": "a9af6e3c",
   "metadata": {},
   "source": [
    "#### 4. Your task, is to create N x N multiplication table, of size n provided in parameter."
   ]
  },
  {
   "cell_type": "code",
   "execution_count": 4,
   "id": "3fc1cd45",
   "metadata": {},
   "outputs": [
    {
     "name": "stdout",
     "output_type": "stream",
     "text": [
      "[[1]]\n",
      "[[1, 2, 3], [2, 4, 6], [3, 6, 9]]\n"
     ]
    }
   ],
   "source": [
    "def multiplication_table(n):\n",
    "    l = []\n",
    "    m = []\n",
    "    \n",
    "    for i in range(n):\n",
    "        l.append(i+1)\n",
    "        \n",
    "    for j in range(n):\n",
    "        m.append([i * (j+1) for i in l])\n",
    "        \n",
    "    print(m)\n",
    "    \n",
    "multiplication_table(1)\n",
    "multiplication_table(3)\n",
    "            "
   ]
  },
  {
   "cell_type": "markdown",
   "id": "34f4f3ab",
   "metadata": {},
   "source": [
    "#### 5. Create a function that returns True if two lines rhyme and False otherwise. For the purposes of this exercise, two lines rhyme if the last word from each sentence contains the same vowels."
   ]
  },
  {
   "cell_type": "code",
   "execution_count": 5,
   "id": "28250c9b",
   "metadata": {},
   "outputs": [
    {
     "name": "stdout",
     "output_type": "stream",
     "text": [
      "True\n",
      "True\n",
      "False\n",
      "False\n"
     ]
    }
   ],
   "source": [
    "def does_rhyme(s1, s2):\n",
    "    \n",
    "    a = s1.split(\" \")[-1].lower()\n",
    "    b = s2.split(\" \")[-1].lower()\n",
    "    \n",
    "    m = ''.join(filter(str.isalpha, a))\n",
    "    n = ''.join(filter(str.isalpha, b))\n",
    "    \n",
    "    if m in n or n in m:\n",
    "        print(True)\n",
    "    else:\n",
    "        print(False)\n",
    "    \n",
    "        \n",
    "does_rhyme(\"Sam I am!\", \"Green eggs and ham.\")\n",
    "does_rhyme(\"Sam I am!\", \"Green eggs and HAM.\")\n",
    "does_rhyme(\"You are off to the races\", \"a splendid day.\")\n",
    "does_rhyme(\"and frequently do?\", \"you gotta move.\")"
   ]
  },
  {
   "cell_type": "code",
   "execution_count": null,
   "id": "93518c82",
   "metadata": {},
   "outputs": [],
   "source": []
  }
 ],
 "metadata": {
  "kernelspec": {
   "display_name": "Python 3",
   "language": "python",
   "name": "python3"
  },
  "language_info": {
   "codemirror_mode": {
    "name": "ipython",
    "version": 3
   },
   "file_extension": ".py",
   "mimetype": "text/x-python",
   "name": "python",
   "nbconvert_exporter": "python",
   "pygments_lexer": "ipython3",
   "version": "3.8.8"
  }
 },
 "nbformat": 4,
 "nbformat_minor": 5
}
