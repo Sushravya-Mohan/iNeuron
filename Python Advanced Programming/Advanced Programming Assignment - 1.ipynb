{
 "cells": [
  {
   "cell_type": "markdown",
   "id": "e5299a8e",
   "metadata": {},
   "source": [
    "# Advanced Programming Assignment - 1\n"
   ]
  },
  {
   "cell_type": "markdown",
   "id": "f986057e",
   "metadata": {},
   "source": [
    "#### 1. Write a function that takes a list of lists and returns the value of all of the symbols in it, where each symbol adds or takes something from the total score. Symbol values:\n",
    "#### # = 5\n",
    "#### O = 3\n",
    "#### X = 1\n",
    "#### ! = -1\n",
    "#### !! = -3\n",
    "#### !!! = -5\n",
    "####  A list of lists containing 2 #s, a O, and a !!! would equal (0 + 5 + 5 + 3 - 5) 8. If the final score is negative, return 0 (e.g. 3 #s, 3 !!s, 2 !!!s and a X would be (0 + 5 + 5 + 5 - 3 - 3 - 3 - 5 - 5 + 1) -3, so return 0."
   ]
  },
  {
   "cell_type": "code",
   "execution_count": 5,
   "id": "1574b0f1",
   "metadata": {},
   "outputs": [
    {
     "name": "stdout",
     "output_type": "stream",
     "text": [
      "2\n",
      "0\n",
      "8\n"
     ]
    }
   ],
   "source": [
    "sym_val = {'#': 5, 'O': 3, 'X': 1, '!': -1, '!!': -3, '!!!': -5}\n",
    "\n",
    "def check_score(lst):\n",
    "    score = 0\n",
    "    \n",
    "    for i in lst:\n",
    "        for j in i:\n",
    "            score += sym_val[j]\n",
    "    \n",
    "    if score > 0:\n",
    "        print(score)\n",
    "    else:\n",
    "        print(0)\n",
    "    \n",
    "check_score([['#', '!'], \n",
    "             ['!!', 'X']])\n",
    "\n",
    "check_score([['!!!', 'O', '!'],\n",
    "             ['X', '#', '!!!'],\n",
    "             ['!!', 'X', 'O']])\n",
    "\n",
    "check_score([['#', '#'],\n",
    "            ['O', '!!!']])"
   ]
  },
  {
   "cell_type": "markdown",
   "id": "cf4899c7",
   "metadata": {},
   "source": [
    "   #### 2. Create a function that takes a variable number of arguments, each argument representing the number of items in a group, and returns the number of permutations (combinations) of items that you could get by taking one item from each group."
   ]
  },
  {
   "cell_type": "code",
   "execution_count": 33,
   "id": "ead9b83c",
   "metadata": {},
   "outputs": [
    {
     "name": "stdout",
     "output_type": "stream",
     "text": [
      "6\n",
      "84\n",
      "120\n"
     ]
    }
   ],
   "source": [
    "def combinations(*args):\n",
    "    lst = []\n",
    "    p = 1\n",
    "    \n",
    "    for i in args:\n",
    "        num = 1\n",
    "        den = 1\n",
    "        n = i\n",
    "        while n > 0:\n",
    "            num = num * n\n",
    "            n = n - 1\n",
    "        d = i-1\n",
    "        while d > 0:\n",
    "            den = den * d\n",
    "            d = d - 1\n",
    "        lst.append(num/den)\n",
    "    \n",
    "    for i in lst:\n",
    "        p = p * i\n",
    "    \n",
    "    p = int(p)\n",
    "    print(p)\n",
    "    \n",
    "combinations(2, 3)\n",
    "combinations(3, 7, 4)\n",
    "combinations(2, 3, 4, 5)"
   ]
  },
  {
   "cell_type": "markdown",
   "id": "ad8249ef",
   "metadata": {},
   "source": [
    "#### 3. Create a function that takes a string as an argument and returns the Morse code equivalent."
   ]
  },
  {
   "cell_type": "code",
   "execution_count": 46,
   "id": "c8a94cde",
   "metadata": {},
   "outputs": [
    {
     "name": "stdout",
     "output_type": "stream",
     "text": [
      ". -.. .- -... -... .. -   -.-. .... .- .-.. .-.. . -. --. .\n",
      ".... . .-.. .--.   -- . -.-.--\n"
     ]
    }
   ],
   "source": [
    "char_to_dots = {# Letters\n",
    "        \"A\": \".-\", \"B\": \"-...\", \"C\": \"-.-.\", \"D\": \"-..\", \"E\": \".\", \"F\": \"..-.\", \"G\": \"--.\", \"H\": \"....\", \"I\": \"..\",\n",
    "        \"J\": \".---\", \"K\": \"-.-\", \"L\": \".-..\", \"M\": \"--\", \"N\": \"-.\", \"O\": \"---\", \"P\": \".--.\", \"Q\": \"--.-\", \"R\": \".-.\",\n",
    "        \"S\": \"...\", \"T\": \"-\", \"U\": \"..-\", \"V\": \"...-\", \"W\": \".--\", \"X\": \"-..-\", \"Y\": \"-.--\", \"Z\": \"--..\", \n",
    "        # Numbers\n",
    "        \"0\": \"-----\", \"1\": \".----\", \"2\": \"..---\", \"3\": \"...--\", \"4\": \"....-\", \"5\": \".....\", \"6\": \"-....\", \"7\": \"--...\",\n",
    "        \"8\": \"---..\", \"9\": \"----.\",\n",
    "        # Punctuation\n",
    "        \"&\": \".-...\", \"'\": \".----.\", \"@\": \".--.-.\", \")\": \"-.--.-\", \"(\": \"-.--.\", \":\": \"---...\", \",\": \"--..--\",\n",
    "        \"=\": \"-...-\", \"!\": \"-.-.--\", \".\": \".-.-.-\", \"-\": \"-....-\", \"+\": \".-.-.\", '\"': \".-..-.\", \"?\": \"..--..\",\n",
    "        \"/\": \"-..-.\", \" \": \" \"}\n",
    "\n",
    "def encode_morse(string):\n",
    "    morse_lst = []\n",
    "    \n",
    "    for i in string:\n",
    "        j = char_to_dots[str(i)]\n",
    "        morse_lst.append(j)\n",
    "        \n",
    "    morse_code = \" \".join(morse_lst)\n",
    "    print(morse_code)\n",
    "    \n",
    "    \n",
    "encode_morse(\"EDABBIT CHALLENGE\")\n",
    "encode_morse(\"HELP ME!\")"
   ]
  },
  {
   "cell_type": "markdown",
   "id": "a9af6e3c",
   "metadata": {},
   "source": [
    "#### 4. Write a function that takes a number and returns True if it&#39;s a prime; False otherwise. The number can be 2^64-1 (2 to the power of 63, not XOR). With the standard technique it would be O(2^64-1), which is much too large for the 10 second time limit."
   ]
  },
  {
   "cell_type": "code",
   "execution_count": 58,
   "id": "3fc1cd45",
   "metadata": {},
   "outputs": [],
   "source": [
    "def prime(num):\n",
    "    \n",
    "    if num == 1:\n",
    "        print(False)\n",
    "    elif num == 2:\n",
    "        print(True)\n",
    "    else:\n",
    "        for x in range(2, num):\n",
    "            if num % x == 0:\n",
    "                return False\n",
    "        return True"
   ]
  },
  {
   "cell_type": "code",
   "execution_count": 59,
   "id": "51c2218a",
   "metadata": {},
   "outputs": [
    {
     "data": {
      "text/plain": [
       "True"
      ]
     },
     "execution_count": 59,
     "metadata": {},
     "output_type": "execute_result"
    }
   ],
   "source": [
    "prime(7)"
   ]
  },
  {
   "cell_type": "code",
   "execution_count": 60,
   "id": "03234011",
   "metadata": {},
   "outputs": [
    {
     "data": {
      "text/plain": [
       "True"
      ]
     },
     "execution_count": 60,
     "metadata": {},
     "output_type": "execute_result"
    }
   ],
   "source": [
    "prime(56963)"
   ]
  },
  {
   "cell_type": "code",
   "execution_count": 61,
   "id": "d16fff4e",
   "metadata": {},
   "outputs": [
    {
     "data": {
      "text/plain": [
       "False"
      ]
     },
     "execution_count": 61,
     "metadata": {},
     "output_type": "execute_result"
    }
   ],
   "source": [
    "prime(5151512515524)"
   ]
  },
  {
   "cell_type": "markdown",
   "id": "34f4f3ab",
   "metadata": {},
   "source": [
    "#### 5. Create a function that converts a word to a bitstring and then to a boolean list based on the following criteria:\n",
    "    1. Locate the position of the letter in the English alphabet (from 1 to 26).\n",
    "    2. Odd positions will be represented as 1 and 0 otherwise.\n",
    "    3. Convert the represented positions to boolean values, 1 for True and 0 for False.\n",
    "    4. Store the conversions into an array."
   ]
  },
  {
   "cell_type": "code",
   "execution_count": 71,
   "id": "28250c9b",
   "metadata": {},
   "outputs": [
    {
     "name": "stdout",
     "output_type": "stream",
     "text": [
      "[False, True, True, False]\n",
      "[False, True, False, True, True]\n",
      "[False, True, True, False]\n"
     ]
    }
   ],
   "source": [
    "def to_boolean_list(string):    \n",
    "    lst = []\n",
    "    \n",
    "    for i in string:\n",
    "        pos = ord(i) - 96\n",
    "        if pos%2 == 0:\n",
    "            lst.append('0')\n",
    "        else:\n",
    "            lst.append('1')\n",
    "            \n",
    "    bit_str = \"\".join(lst)\n",
    "    \n",
    "    bool_arr = [True if i=='1' else False for i in bit_str]\n",
    "    \n",
    "    print(bool_arr)\n",
    "    \n",
    "    \n",
    "to_boolean_list(\"deep\")\n",
    "to_boolean_list(\"loves\")\n",
    "to_boolean_list(\"tesh\")"
   ]
  }
 ],
 "metadata": {
  "kernelspec": {
   "display_name": "Python 3",
   "language": "python",
   "name": "python3"
  },
  "language_info": {
   "codemirror_mode": {
    "name": "ipython",
    "version": 3
   },
   "file_extension": ".py",
   "mimetype": "text/x-python",
   "name": "python",
   "nbconvert_exporter": "python",
   "pygments_lexer": "ipython3",
   "version": "3.8.8"
  }
 },
 "nbformat": 4,
 "nbformat_minor": 5
}
