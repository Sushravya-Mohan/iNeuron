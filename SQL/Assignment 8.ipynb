{
  "nbformat": 4,
  "nbformat_minor": 0,
  "metadata": {
    "colab": {
      "name": "Assignment - 8.ipynb",
      "provenance": []
    },
    "kernelspec": {
      "name": "python3",
      "display_name": "Python 3"
    },
    "language_info": {
      "name": "python"
    }
  },
  "cells": [
    {
      "cell_type": "markdown",
      "source": [
        "# **Assignment - 8**"
      ],
      "metadata": {
        "id": "lI7LKCYsffyG"
      }
    },
    {
      "cell_type": "markdown",
      "source": [
        "Creating a new table Worker2 for this exercise."
      ],
      "metadata": {
        "id": "SjpnmMkS8DSI"
      }
    },
    {
      "cell_type": "markdown",
      "source": [
        "\n",
        "\n",
        "```\n",
        "CREATE TABLE Worker2 (ID INT PRIMARY KEY IDENTITY(1,1),\n",
        "\t\t\t\t\t First_Name VARCHAR(20) NOT NULL,\n",
        "\t\t\t\t\t Last_Name VARCHAR(20),\n",
        "\t\t\t\t\t Email VARCHAR(40),\n",
        "\t\t\t\t\t Department VARCHAR(20) NOT NULL,\n",
        "\t\t\t\t\t Salary INT,\n",
        "\t\t\t\t\t Joining_Date DATE)\n",
        "\n",
        "\n",
        "```\n",
        "\n"
      ],
      "metadata": {
        "id": "_j0gUSCO8KSv"
      }
    },
    {
      "cell_type": "markdown",
      "source": [
        "\n",
        "\n",
        "```\n",
        "INSERT INTO Worker2 VALUES \n",
        "('Ankita','Hazarika','ankitahaz@gmail.com','HR',40000,'2012-01-01'),\n",
        "('Vikram','Singh','vsingh@gmail.com', 'Data Science', 45000,'2014-04-01'),\n",
        "('Digvijay','Pandey','dvpandey@gmail.com', 'HR', 80000,'2010-01-05'),\n",
        "('Amitabh','Pillai','amitabh12pillai@yahoo.in', 'SDE', 50000,'2018-07-10'),\n",
        "('Vipul','Mehta','vpl789mehta@gmail.com', 'Data Science', 65000,'2019-10-07'),\n",
        "('Satish','Ranjan','sranjan456@yahoo.in', 'HR', 45000,'2018-07-10'),\n",
        "('Saransh','Mahajan','sarmahajan@gmail.com', 'SDE', 80000,'2012-01-01')\n",
        "\n",
        "SELECT * \n",
        "FROM Worker2\n",
        "\n",
        "```\n",
        "\n"
      ],
      "metadata": {
        "id": "mgRyZ2d79NcI"
      }
    },
    {
      "cell_type": "markdown",
      "source": [
        "1. Write an SQL query to fetch intersecting records of two tables.\n",
        "\n"
      ],
      "metadata": {
        "id": "BAIAtfoZfhNd"
      }
    },
    {
      "cell_type": "markdown",
      "source": [
        "\n",
        "\n",
        "```\n",
        "SELECT * FROM Worker\n",
        "INTERSECT\n",
        "SELECT * FROM Worker2\n",
        "\n",
        "```\n",
        "\n"
      ],
      "metadata": {
        "id": "ET831UuPfhPS"
      }
    },
    {
      "cell_type": "markdown",
      "source": [
        "2. Write an SQL query to show records from one table that another table does not\n",
        "have."
      ],
      "metadata": {
        "id": "26tHo4E5fhS6"
      }
    },
    {
      "cell_type": "markdown",
      "source": [
        "\n",
        "\n",
        "```\n",
        "\n",
        "WITH new_table AS\n",
        "(SELECT w.ID\n",
        "FROM Worker w\n",
        "RIGHT JOIN Worker2 w2\n",
        "ON w.ID =w2.ID)\n",
        "\n",
        "SELECT * \n",
        "FROM Worker\n",
        "WHERE ID NOT IN (SELECT * FROM new_table)\n",
        "\n",
        "\n",
        "```\n",
        "\n"
      ],
      "metadata": {
        "id": "c_AgH4Aaff09"
      }
    }
  ]
}