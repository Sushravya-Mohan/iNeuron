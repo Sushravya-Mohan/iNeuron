{
  "nbformat": 4,
  "nbformat_minor": 0,
  "metadata": {
    "colab": {
      "name": "SQL - Assignment 1.ipynb",
      "provenance": []
    },
    "kernelspec": {
      "name": "python3",
      "display_name": "Python 3"
    },
    "language_info": {
      "name": "python"
    }
  },
  "cells": [
    {
      "cell_type": "markdown",
      "source": [
        "## **Assignment - 1**"
      ],
      "metadata": {
        "id": "Dpplrgn0ytFI"
      }
    },
    {
      "cell_type": "markdown",
      "source": [
        "1. Write an SQL query to fetch “FIRST_NAME” from Worker table using the alias\n",
        "name as &lt;WORKER_NAME&gt;."
      ],
      "metadata": {
        "id": "gq9FnFbPyuci"
      }
    },
    {
      "cell_type": "markdown",
      "source": [
        "\n",
        "\n",
        "```\n",
        "SELECT First_Name AS 'WORKER_NAME' \n",
        "FROM Worker\n",
        "\n",
        "```\n",
        "\n"
      ],
      "metadata": {
        "id": "eINhE4ctyueb"
      }
    },
    {
      "cell_type": "markdown",
      "source": [
        "2. Write an SQL query to fetch unique values of DEPARTMENT from Worker table.\n",
        "\n"
      ],
      "metadata": {
        "id": "Hidx9-MNyuh2"
      }
    },
    {
      "cell_type": "markdown",
      "source": [
        "\n",
        "\n",
        "```\n",
        "SELECT DISTINCT(Department)\n",
        "FROM Worker\n",
        "\n",
        "```\n",
        "\n"
      ],
      "metadata": {
        "id": "j1JiiBHdyuju"
      }
    },
    {
      "cell_type": "markdown",
      "source": [
        "3. Write an SQL query to show the last 5 record from a table."
      ],
      "metadata": {
        "id": "XHYaiJoDyunk"
      }
    },
    {
      "cell_type": "markdown",
      "source": [
        "\n",
        "\n",
        "```\n",
        "SELECT TOP 5 * \n",
        "FROM Worker\n",
        "ORDER BY ID DESC\n",
        "\n",
        "```\n",
        "\n"
      ],
      "metadata": {
        "id": "ODwM8wTCyupj"
      }
    }
  ]
}