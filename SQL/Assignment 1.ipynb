{
  "nbformat": 4,
  "nbformat_minor": 0,
  "metadata": {
    "colab": {
      "name": "Assignment 1.ipynb",
      "provenance": []
    },
    "kernelspec": {
      "name": "python3",
      "display_name": "Python 3"
    },
    "language_info": {
      "name": "python"
    }
  },
  "cells": [
    {
      "cell_type": "markdown",
      "source": [
        "## **Assignment - 1** "
      ],
      "metadata": {
        "id": "Dpplrgn0ytFI"
      }
    },
    {
      "cell_type": "markdown",
      "source": [
        "Creating a table for this exercise"
      ],
      "metadata": {
        "id": "mHzDIYHM_1OR"
      }
    },
    {
      "cell_type": "markdown",
      "source": [
        "\n",
        "\n",
        "```\n",
        "\n",
        "CREATE TABLE Worker (ID INT PRIMARY KEY IDENTITY(1,1),\n",
        "\t\t\t\t\t First_Name VARCHAR(20) NOT NULL,\n",
        "\t\t\t\t\t Last_Name VARCHAR(20),\n",
        "\t\t\t\t\t Email VARCHAR(40),\n",
        "\t\t\t\t\t Department VARCHAR(20) NOT NULL,\n",
        "\t\t\t\t\t Salary INT,\n",
        "\t\t\t\t\t Joining_Date DATE)\n",
        "\n",
        "\n",
        "\n",
        "```\n",
        "\n"
      ],
      "metadata": {
        "id": "zCN4Z_Jy_zyy"
      }
    },
    {
      "cell_type": "markdown",
      "source": [
        "\n",
        "\n",
        "```\n",
        "\n",
        "INSERT INTO Worker VALUES \n",
        "('Ankita','Hazarika','ankitahaz@gmail.com','HR',40000,'2012-01-01'),\n",
        "('Vikram','Singh','vsingh@gmail.com', 'Data Science', 45000,'2014-04-01'),\n",
        "('Digvijay','Pandey','dvpandey@gmail.com', 'HR', 80000,'2010-01-05'),\n",
        "('Amitabh','Pillai','amitabh12pillai@yahoo.in', 'SDE', 50000,'2018-07-10'),\n",
        "('Vipul','Mehta','vpl789mehta@gmail.com', 'Data Science', 65000,'2019-10-07'),\n",
        "('Satish','Ranjan','sranjan456@yahoo.in', 'HR', 45000,'2018-07-10'),\n",
        "('Saransh','Mahajan','sarmahajan@gmail.com', 'SDE', 80000,'2012-01-01'),\n",
        "('Shraddha','Das','shraddhadas@yahoo.in', 'IOT', 68000,'2018-08-19'),\n",
        "('Preetisha','Srivastava', 'prsri123456@gmail.com', 'Data Science', 65000,'2020-01-08'),\n",
        "('Kashish','Rai','k1478rai@gmail.com', 'IOT', 75000,'2020-01-08'),\n",
        "('Suresh','Kaushik','suresh12kaush@gmail.com', 'HR', 75000,'2020-01-08'),\n",
        "('Nithin','Kulkarni','nkulkar@gmail.com', 'HR', 65000,'2019-10-07'),\n",
        "('Saurav','Rai','saurav987rai@gmail.com','Data Science', 75000,'2020-01-08'),\n",
        "('Viha','Agarwal','agarwal12viha@gmail.com', 'SDE', 75000,'2020-01-08'),\n",
        "('Sumit','Mehta','sumit123456@gmail.com', 'SDE',65000,'2019-10-07'),\n",
        "('Nethra','Srinivas','k1478rai@gmail.com', 'HR', 65000,'2020-01-08'),\n",
        "('Vidyut','Malik','vmalik@gmail.com', 'IOT', 75000,'2020-01-08'),\n",
        "('Namita','Tiwari','tiwari.namita@gmail.com', 'HR', 75000,'2020-01-08'),\n",
        "('Amogh','Chaturvedi','chatur12amogh@gmail.com', 'Data Science',65000,'2010-01-05'),\n",
        "('Neha','Jalan','neha123456jalan@yahoo.in','Data Science', 50000,'2018-07-10'),\n",
        "('Vishal','Rathore','vishalrathore@ineuron.com','Finance', 45000,'2018-02-12'),\n",
        "('Rahul','Sarathe','rahulsarathe@ineuron.com','HR', 60000,  '2017-04-17'),\n",
        "('Anisha','Gour','anishagour@ineuron.com','Purchase', 30000, '2017-12-20'),\n",
        "('Saksham','Mahajan','sakshammahajan@ineuron.com','Finance', 60000, '2019-11-12'),\n",
        "('Aakash','Singh','amansingh@ineuron.com','Purchase',30000,  '2017-09-05'),\n",
        "('Ankit','Kumar','ankitkumar@ineuron.com','Marketing', 50000,  '2020-01-14'),\n",
        "('Riya','Agarwal','riyaagarwal@ineuron.com','Finance', 45000, '2018-04-23'),\n",
        "('Nishit','Sharma','nishitsharma@ineuron.com','Purchase', 48000, '2018-10-10'),\n",
        "('Samay','Raina','samayraina@ineuron.com','Marketing', 36000,  '2017-08-22'),\n",
        "('Aman','Singh','amansingh@ineuron.com','Finance', 45000,  '2017-08-12'),\n",
        "('Sarthak','Jain','sarthakjain@ineuron.com','Purchase', 48000,  '2018-04-08'),\n",
        "('Ashutosh','Patil','ashutoshpatil@ineuron.com','PR', 50000,  '2019-09-26'),\n",
        "('Harshit','Kumar','harshitkumar@ineuron.com','HR', 40000,  '2018-06-05'),\n",
        "('Ayush','Srivastav','ayushsrivastav@ineuron.com','Purchase', 30000,  '2018-08-24'),\n",
        "('Shreyansh','Deriya','shreyanshderiya@ineuron.com','PR', 35000, '2017-07-13'),\n",
        "('Aryan','Sharma','aryansharma@ineuron.com','Finance', 60000,  '2019-10-31'),\n",
        "('Snehal','Reddy','snehalreddy@ineuron.com','HR', 40000, '2019-03-28'),\n",
        "('Shubham','Mittal','shubhammittal@ineuron.com','PR', 35000,'2020-02-01'),\n",
        "('Rakshit','Rao','rakshitao@ineuron.com','Marketing', 36000, '2018-11-30')\n",
        "\n",
        "\n",
        "\n",
        "```\n",
        "\n"
      ],
      "metadata": {
        "id": "H8JL4b_SAEmx"
      }
    },
    {
      "cell_type": "markdown",
      "source": [
        "1. Write an SQL query to fetch “FIRST_NAME” from Worker table using the alias\n",
        "name as &lt;WORKER_NAME&gt;."
      ],
      "metadata": {
        "id": "gq9FnFbPyuci"
      }
    },
    {
      "cell_type": "markdown",
      "source": [
        "\n",
        "\n",
        "```\n",
        "SELECT First_Name AS 'WORKER_NAME' \n",
        "FROM Worker\n",
        "\n",
        "```\n",
        "\n"
      ],
      "metadata": {
        "id": "eINhE4ctyueb"
      }
    },
    {
      "cell_type": "markdown",
      "source": [
        "2. Write an SQL query to fetch unique values of DEPARTMENT from Worker table.\n",
        "\n"
      ],
      "metadata": {
        "id": "Hidx9-MNyuh2"
      }
    },
    {
      "cell_type": "markdown",
      "source": [
        "\n",
        "\n",
        "```\n",
        "SELECT DISTINCT(Department)\n",
        "FROM Worker\n",
        "\n",
        "```\n",
        "\n"
      ],
      "metadata": {
        "id": "j1JiiBHdyuju"
      }
    },
    {
      "cell_type": "markdown",
      "source": [
        "3. Write an SQL query to show the last 5 record from a table."
      ],
      "metadata": {
        "id": "XHYaiJoDyunk"
      }
    },
    {
      "cell_type": "markdown",
      "source": [
        "\n",
        "\n",
        "```\n",
        "SELECT TOP 5 * \n",
        "FROM Worker\n",
        "ORDER BY ID DESC\n",
        "\n",
        "```\n",
        "\n"
      ],
      "metadata": {
        "id": "ODwM8wTCyupj"
      }
    }
  ]
}