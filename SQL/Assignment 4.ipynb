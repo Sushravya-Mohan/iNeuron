{
  "nbformat": 4,
  "nbformat_minor": 0,
  "metadata": {
    "colab": {
      "name": "Assignment - 4.ipynb",
      "provenance": []
    },
    "kernelspec": {
      "name": "python3",
      "display_name": "Python 3"
    },
    "language_info": {
      "name": "python"
    }
  },
  "cells": [
    {
      "cell_type": "markdown",
      "source": [
        "## **Assignment - 4**"
      ],
      "metadata": {
        "id": "keMVBt__2j-9"
      }
    },
    {
      "cell_type": "markdown",
      "source": [
        "1. Write an SQL query to print the FIRST_NAME from Worker table after replacing ‘a’ with ‘A’."
      ],
      "metadata": {
        "id": "jf3wQtoe2nV_"
      }
    },
    {
      "cell_type": "markdown",
      "source": [
        "\n",
        "\n",
        "```\n",
        "\n",
        "SELECT First_Name, \n",
        "REPLACE(First_Name, 'a', 'A') as 'Replaced Name'\n",
        "FROM Worker\n",
        "\n",
        "```\n",
        "\n"
      ],
      "metadata": {
        "id": "PERTTn1h2nJN"
      }
    },
    {
      "cell_type": "markdown",
      "source": [
        "2. Write an SQL query to print all Worker details from the Worker table order by\n",
        "FIRST_NAME Ascending and DEPARTMENT Descending."
      ],
      "metadata": {
        "id": "4SSGgeuC2m26"
      }
    },
    {
      "cell_type": "markdown",
      "source": [
        "\n",
        "\n",
        "```\n",
        "\n",
        "SELECT * \n",
        "FROM Worker\n",
        "ORDER BY First_Name,\n",
        "Department DESC\n",
        "\n",
        "\n",
        "\n",
        "```\n",
        "\n"
      ],
      "metadata": {
        "id": "nPFhIi672l4B"
      }
    },
    {
      "cell_type": "markdown",
      "source": [
        "3. Write an SQL query to fetch the names of workers who earn the highest salary."
      ],
      "metadata": {
        "id": "7iNQivYa2l9E"
      }
    },
    {
      "cell_type": "markdown",
      "source": [
        "\n",
        "\n",
        "```\n",
        "\n",
        "SELECT First_Name,\n",
        "Salary\n",
        "FROM Worker\n",
        "WHERE Salary = (SELECT MAX(Salary) FROM Worker)\n",
        "\n",
        "\n",
        "```\n",
        "\n"
      ],
      "metadata": {
        "id": "3J-9SUI12l-o"
      }
    }
  ]
}