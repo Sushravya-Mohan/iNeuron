{
  "nbformat": 4,
  "nbformat_minor": 0,
  "metadata": {
    "colab": {
      "name": "Assignment 5.ipynb",
      "provenance": []
    },
    "kernelspec": {
      "name": "python3",
      "display_name": "Python 3"
    },
    "language_info": {
      "name": "python"
    }
  },
  "cells": [
    {
      "cell_type": "markdown",
      "source": [
        "## **Assignment - 5**"
      ],
      "metadata": {
        "id": "CIDsa6xa6YiK"
      }
    },
    {
      "cell_type": "markdown",
      "source": [
        "1. Write an SQL query to print details of workers excluding first names, “Vipul” and “Satish” from Worker table."
      ],
      "metadata": {
        "id": "7uKA4K7_6YwK"
      }
    },
    {
      "cell_type": "markdown",
      "source": [
        "\n",
        "\n",
        "```\n",
        "SELECT * \n",
        "FROM Worker\n",
        "WHERE First_Name NOT IN ('Vipul', 'Satish')\n",
        "\n",
        "```\n",
        "\n"
      ],
      "metadata": {
        "id": "uHXBRMC-6ZCY"
      }
    },
    {
      "cell_type": "markdown",
      "source": [
        "2. Write an SQL query to print details of the Workers whose FIRST_NAME ends with\n",
        "‘h’ and contains six alphabets."
      ],
      "metadata": {
        "id": "ZVyDDBMi6ZEt"
      }
    },
    {
      "cell_type": "markdown",
      "source": [
        "\n",
        "\n",
        "```\n",
        "\n",
        "SELECT *\n",
        "FROM Worker\n",
        "WHERE First_Name LIKE ('_____h')\n",
        "\n",
        "\n",
        "```\n",
        "\n"
      ],
      "metadata": {
        "id": "kYT_ACN66ZIo"
      }
    },
    {
      "cell_type": "markdown",
      "source": [
        "3. Write a query to validate Email of Employee."
      ],
      "metadata": {
        "id": "YmMunMNS6ZLg"
      }
    },
    {
      "cell_type": "markdown",
      "source": [
        "\n",
        "\n",
        "```\n",
        "\n",
        "SELECT *\n",
        "FROM Worker\n",
        "WHERE Email LIKE ('%_@_%._%')\n",
        "AND PATINDEX('%[^a-z,0-9,@,.,_]%', REPLACE(Email,'-','a'))=0\n",
        "\n",
        "```\n",
        "\n"
      ],
      "metadata": {
        "id": "Q0uZr9pv6ZUn"
      }
    }
  ]
}