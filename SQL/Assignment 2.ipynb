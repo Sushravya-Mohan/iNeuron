{
  "nbformat": 4,
  "nbformat_minor": 0,
  "metadata": {
    "colab": {
      "name": "Assignment 2.ipynb",
      "provenance": []
    },
    "kernelspec": {
      "name": "python3",
      "display_name": "Python 3"
    },
    "language_info": {
      "name": "python"
    }
  },
  "cells": [
    {
      "cell_type": "markdown",
      "source": [
        "## **Assignment - 2** "
      ],
      "metadata": {
        "id": "QDZbIr3Q7_0Z"
      }
    },
    {
      "cell_type": "markdown",
      "source": [
        "1. Write an SQL query to print the first three characters of  FIRST_NAME from Worker table."
      ],
      "metadata": {
        "id": "d1hLyN8w8CC6"
      }
    },
    {
      "cell_type": "markdown",
      "source": [
        "```\n",
        "SELECT LEFT(First_Name, 3) AS 'FIRST 3 CHARS'\n",
        "FROM Worker\n",
        "\n",
        "```\n"
      ],
      "metadata": {
        "id": "o6Ckdzlr8CFz"
      }
    },
    {
      "cell_type": "markdown",
      "source": [
        "2. Write an SQL query to find the position of the alphabet (‘a’) in the first name column ‘Amitabh’ from Worker table."
      ],
      "metadata": {
        "id": "bf-YbWuR8ASv"
      }
    },
    {
      "cell_type": "markdown",
      "source": [
        "\n",
        "\n",
        "```\n",
        "SELECT CHARINDEX('a', First_Name COLLATE Latin1_General_CS_AS) as 'Index'\n",
        "FROM Worker\n",
        "WHERE First_Name = 'Amitabh'\n",
        "\n",
        "```\n",
        "\n"
      ],
      "metadata": {
        "id": "O0R_NplW8AUl"
      }
    },
    {
      "cell_type": "markdown",
      "source": [
        "3. Write an SQL query to print the name of employees having the highest salary in each department."
      ],
      "metadata": {
        "id": "OFPTu-kh8AY1"
      }
    },
    {
      "cell_type": "markdown",
      "source": [
        "\n",
        "\n",
        "```\n",
        "\n",
        "SELECT \n",
        "First_Name as 'First Name',\n",
        "t1.Department as 'Department',\n",
        "t1.Salary as 'Salary'\n",
        "FROM Worker\n",
        "INNER JOIN\n",
        "(SELECT\n",
        "MAX(Salary) as 'Salary', \n",
        "DEPARTMENT as 'Department'\n",
        "FROM Worker\n",
        "GROUP BY Department) AS t1\n",
        "ON Worker.Department = t1.Department \n",
        "AND Worker.Salary = t1.Salary\n",
        "\n",
        "\n",
        "```\n",
        "\n"
      ],
      "metadata": {
        "id": "rH8RXEcl8Ab0"
      }
    }
  ]
}