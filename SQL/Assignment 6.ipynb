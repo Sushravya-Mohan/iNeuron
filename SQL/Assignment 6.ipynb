{
  "nbformat": 4,
  "nbformat_minor": 0,
  "metadata": {
    "colab": {
      "name": "Assignment - 6.ipynb",
      "provenance": []
    },
    "kernelspec": {
      "name": "python3",
      "display_name": "Python 3"
    },
    "language_info": {
      "name": "python"
    }
  },
  "cells": [
    {
      "cell_type": "markdown",
      "source": [
        "## **Assignment - 6**"
      ],
      "metadata": {
        "id": "1WtbT9RVXLtv"
      }
    },
    {
      "cell_type": "markdown",
      "source": [
        "1. Write an SQL query to print details of the Workers who have joined in Feb’2014."
      ],
      "metadata": {
        "id": "jCBa4U7NXLhD"
      }
    },
    {
      "cell_type": "markdown",
      "source": [
        "\n",
        "\n",
        "```\n",
        "SELECT *\n",
        "FROM Worker\n",
        "WHERE MONTH(Joining_Date) = 2 \n",
        "AND YEAR(Joining_Date) = 2014\n",
        "\n",
        "```\n",
        "\n"
      ],
      "metadata": {
        "id": "brZTYHnbYUxK"
      }
    },
    {
      "cell_type": "markdown",
      "source": [
        "2. Write an SQL query to fetch duplicate records having matching data in some fields of a table."
      ],
      "metadata": {
        "id": "IB0spAoPYTiL"
      }
    },
    {
      "cell_type": "markdown",
      "source": [
        "\n",
        "\n",
        "```\n",
        "\n",
        "SELECT First_Name, \n",
        "Last_Name,\n",
        "Department,\n",
        "COUNT(*) as 'Count'\n",
        "FROM Worker\n",
        "GROUP BY First_Name, Last_Name, Department\n",
        "HAVING COUNT(*) > 1\n",
        "\n",
        "```\n",
        "\n"
      ],
      "metadata": {
        "id": "V_t_IJILYTCB"
      }
    },
    {
      "cell_type": "markdown",
      "source": [
        "3. How to remove duplicate rows from Employees table."
      ],
      "metadata": {
        "id": "xm2iKcOWXLQl"
      }
    },
    {
      "cell_type": "markdown",
      "source": [
        "\n",
        "\n",
        "```\n",
        "\n",
        "WITH CTE AS\n",
        "(SELECT *, ROW_NUMBER() \n",
        "\tOVER(PARTITION BY First_Name, Last_Name, Department\n",
        "\tORDER BY (ID)) AS RN\n",
        "FROM Worker)\n",
        "DELETE FROM CTE\n",
        "WHERE RN > 1\n",
        "\n",
        "```\n",
        "\n"
      ],
      "metadata": {
        "id": "zNQYWXMFXD3_"
      }
    }
  ]
}