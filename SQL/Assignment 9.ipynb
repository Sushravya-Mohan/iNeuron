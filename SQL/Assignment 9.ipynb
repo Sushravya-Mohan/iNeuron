{
  "nbformat": 4,
  "nbformat_minor": 0,
  "metadata": {
    "colab": {
      "name": "Assignment - 9.ipynb",
      "provenance": []
    },
    "kernelspec": {
      "name": "python3",
      "display_name": "Python 3"
    },
    "language_info": {
      "name": "python"
    }
  },
  "cells": [
    {
      "cell_type": "markdown",
      "source": [
        "# **Assignment - 9**"
      ],
      "metadata": {
        "id": "DIbkc-BgeZwZ"
      }
    },
    {
      "cell_type": "markdown",
      "source": [
        "1. Write an SQL query to show the top n (say 10) records of a table."
      ],
      "metadata": {
        "id": "pyrKliTneZh_"
      }
    },
    {
      "cell_type": "markdown",
      "source": [
        "\n",
        "\n",
        "```\n",
        "\n",
        "SELECT TOP 10 *\n",
        "FROM Worker\n",
        "\n",
        "\n",
        "```\n",
        "\n"
      ],
      "metadata": {
        "id": "sAVsB_5NeZaX"
      }
    },
    {
      "cell_type": "markdown",
      "source": [
        "2. Write an SQL query to determine the nth (say n=5) highest salary from a table."
      ],
      "metadata": {
        "id": "xgY6-NXheZPU"
      }
    },
    {
      "cell_type": "markdown",
      "source": [
        "\n",
        "\n",
        "```\n",
        "\n",
        "SELECT MAX(Salary) AS '5th Highest Salary'\n",
        "FROM Worker\n",
        "WHERE Salary NOT IN\n",
        "(SELECT DISTINCT TOP 4 (Salary)\n",
        "FROM Worker\n",
        "ORDER BY Salary DESC)\n",
        "\n",
        "\n",
        "```\n",
        "\n"
      ],
      "metadata": {
        "id": "dzoqf7ANeZBC"
      }
    },
    {
      "cell_type": "code",
      "source": [
        ""
      ],
      "metadata": {
        "id": "syxXb8u1i6cC"
      },
      "execution_count": null,
      "outputs": []
    }
  ]
}