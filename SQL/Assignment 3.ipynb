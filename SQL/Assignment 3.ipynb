{
  "nbformat": 4,
  "nbformat_minor": 0,
  "metadata": {
    "colab": {
      "name": "Assignment - 3.ipynb",
      "provenance": []
    },
    "kernelspec": {
      "name": "python3",
      "display_name": "Python 3"
    },
    "language_info": {
      "name": "python"
    }
  },
  "cells": [
    {
      "cell_type": "markdown",
      "source": [
        "## **Assignment - 3**"
      ],
      "metadata": {
        "id": "Dy8N4YoywL_T"
      }
    },
    {
      "cell_type": "markdown",
      "source": [
        "\n",
        "1. Write an SQL query to print the FIRST_NAME from Worker table after removing\n",
        "white spaces from the right side.\n"
      ],
      "metadata": {
        "id": "xnPJvn_3wPON"
      }
    },
    {
      "cell_type": "markdown",
      "source": [
        "\n",
        "\n",
        "```\n",
        "SELECT RTRIM(First_Name) as 'First Name'\n",
        "FROM Worker\n",
        "\n",
        "```\n",
        "\n"
      ],
      "metadata": {
        "id": "L6tQsbc8wPD1"
      }
    },
    {
      "cell_type": "markdown",
      "source": [
        "2. Write an SQL query that fetches the unique values of DEPARTMENT from Worker\n",
        "table and prints its length."
      ],
      "metadata": {
        "id": "f6NQqeqtwPAK"
      }
    },
    {
      "cell_type": "markdown",
      "source": [
        "\n",
        "\n",
        "```\n",
        "\n",
        "SELECT DISTINCT(Department) as 'Department',\n",
        "LEN(Department) as 'Length'\n",
        "FROM Worker\n",
        "\n",
        "\n",
        "```\n",
        "\n"
      ],
      "metadata": {
        "id": "4vN9jlLdwO-U"
      }
    },
    {
      "cell_type": "markdown",
      "source": [
        "\n",
        "3. Write an SQL query to fetch nth max salaries from a table."
      ],
      "metadata": {
        "id": "RHmZ0P4fwOzY"
      }
    },
    {
      "cell_type": "markdown",
      "source": [
        "\n",
        "\n",
        "\n",
        "```\n",
        "\n",
        "SELECT MAX(Salary) as '5th Highest Salary'\n",
        "FROM Worker\n",
        "WHERE Salary NOT IN\n",
        "(SELECT DISTINCT TOP 4 (Salary)\n",
        "FROM Worker\n",
        "ORDER BY Salary DESC)\n",
        "\n",
        "\n",
        "```\n",
        "\n",
        "\n",
        "\n"
      ],
      "metadata": {
        "id": "2IAU55guwOwa"
      }
    }
  ]
}