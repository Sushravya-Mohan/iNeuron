{
  "nbformat": 4,
  "nbformat_minor": 0,
  "metadata": {
    "colab": {
      "name": "Assignment - 7.ipynb",
      "provenance": []
    },
    "kernelspec": {
      "name": "python3",
      "display_name": "Python 3"
    },
    "language_info": {
      "name": "python"
    }
  },
  "cells": [
    {
      "cell_type": "markdown",
      "source": [
        "# **Assignment - 7**"
      ],
      "metadata": {
        "id": "zt_RW88iXR1Y"
      }
    },
    {
      "cell_type": "markdown",
      "source": [
        "1. Write an SQL query to show only odd rows from a table."
      ],
      "metadata": {
        "id": "ZVftWfzyXSIC"
      }
    },
    {
      "cell_type": "markdown",
      "source": [
        "\n",
        "\n",
        "```\n",
        "\n",
        "WITH new_table AS(\n",
        "SELECT *, ROW_NUMBER() OVER (ORDER BY ID) row_no\n",
        "FROM Worker)\n",
        "SELECT * \n",
        "FROM new_table\n",
        "WHERE new_table.row_no % 2 != 0\n",
        "\n",
        "```\n",
        "\n"
      ],
      "metadata": {
        "id": "hHdpWb8wXS0o"
      }
    },
    {
      "cell_type": "markdown",
      "source": [
        "2. Write an SQL query to clone a new table from another table."
      ],
      "metadata": {
        "id": "G1EjWmiBXS_-"
      }
    },
    {
      "cell_type": "markdown",
      "source": [
        "\n",
        "\n",
        "```\n",
        "\n",
        "SELECT *\n",
        "INTO Worker_Clone\n",
        "FROM Worker\n",
        "\n",
        "SELECT *\n",
        "FROM Worker_Clone\n",
        "\n",
        "```\n",
        "\n"
      ],
      "metadata": {
        "id": "VLsPVKaBXTC3"
      }
    }
  ]
}