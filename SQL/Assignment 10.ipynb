{
  "nbformat": 4,
  "nbformat_minor": 0,
  "metadata": {
    "colab": {
      "name": "Assignment 10",
      "provenance": []
    },
    "kernelspec": {
      "name": "python3",
      "display_name": "Python 3"
    },
    "language_info": {
      "name": "python"
    }
  },
  "cells": [
    {
      "cell_type": "markdown",
      "source": [
        "# **Assignment - 10**"
      ],
      "metadata": {
        "id": "LkigipaDiBqM"
      }
    },
    {
      "cell_type": "markdown",
      "source": [
        "1. Write an SQL query to determine the 5th highest salary without using TOP or limit method."
      ],
      "metadata": {
        "id": "Mfy3CTNyiEjY"
      }
    },
    {
      "cell_type": "markdown",
      "source": [
        "\n",
        "\n",
        "```\n",
        "SELECT DISTINCT(w1.[Salary]) AS [Fifth Highest Salary]\n",
        "FROM Worker w1\n",
        "WHERE 5-1 = \n",
        "(SELECT COUNT(DISTINCT w2.[Salary])\n",
        "FROM Worker w2\n",
        "WHERE w2.[Salary]> w1.[Salary])\n",
        "\n",
        "\n",
        "```\n",
        "\n"
      ],
      "metadata": {
        "id": "4psOE3x_iDrx"
      }
    },
    {
      "cell_type": "markdown",
      "source": [
        "2. Write an SQL query to fetch the list of employees with the same salary."
      ],
      "metadata": {
        "id": "c49uqT8viCHv"
      }
    },
    {
      "cell_type": "markdown",
      "source": [
        "\n",
        "\n",
        "```\n",
        "\n",
        "SELECT *\n",
        "FROM Worker\n",
        "WHERE [Salary] IN\n",
        "(SELECT [Salary]\n",
        "FROM Worker\n",
        "GROUP BY [Salary]\n",
        "HAVING COUNT(1) > 1)\n",
        "ORDER BY [Salary]\n",
        "\n",
        "\n",
        "```\n",
        "\n"
      ],
      "metadata": {
        "id": "erjmLB5liCJH"
      }
    }
  ]
}