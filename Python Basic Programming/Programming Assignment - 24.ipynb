{
 "cells": [
  {
   "cell_type": "markdown",
   "id": "e5299a8e",
   "metadata": {},
   "source": [
    "# Assignment - 24\n"
   ]
  },
  {
   "cell_type": "markdown",
   "id": "f986057e",
   "metadata": {},
   "source": [
    "#### 1. Create a function that takes an integer and returns a list from 1 to the given number, where:\n",
    "    \n",
    "    1. If the number can be divided evenly by 4, amplify it by 10 (i.e. return 10 times the\n",
    "    number).\n",
    "    \n",
    "    2. If the number cannot be divided evenly by 4, simply return the number."
   ]
  },
  {
   "cell_type": "code",
   "execution_count": 4,
   "id": "1574b0f1",
   "metadata": {},
   "outputs": [
    {
     "name": "stdout",
     "output_type": "stream",
     "text": [
      "[1, 2, 3, 40]\n",
      "[1, 2, 3]\n",
      "[1, 2, 3, 40, 5, 6, 7, 80, 9, 10, 11, 120, 13, 14, 15, 160, 17, 18, 19, 200, 21, 22, 23, 240, 25]\n"
     ]
    }
   ],
   "source": [
    "def amplify(num):\n",
    "    \n",
    "    amp_lst = [i*10 if i%4== 0 else i for i in range(1, num+1)]\n",
    "            \n",
    "    print(amp_lst)\n",
    "    \n",
    "amplify(4)\n",
    "amplify(3)\n",
    "amplify(25)\n",
    "    "
   ]
  },
  {
   "cell_type": "markdown",
   "id": "cf4899c7",
   "metadata": {},
   "source": [
    "   #### 2. Create a function that takes a list of numbers and return the number that&#39;s unique."
   ]
  },
  {
   "cell_type": "code",
   "execution_count": 9,
   "id": "ead9b83c",
   "metadata": {},
   "outputs": [
    {
     "name": "stdout",
     "output_type": "stream",
     "text": [
      "7\n",
      "0.77\n",
      "0\n"
     ]
    }
   ],
   "source": [
    "def unique(lst):\n",
    "    d = {}\n",
    "    \n",
    "    for i in lst:\n",
    "        d[i] = lst.count(i)\n",
    "    \n",
    "    for i in d.keys():\n",
    "        if d[i] == 1:\n",
    "            print(i)\n",
    "        else:\n",
    "            pass\n",
    "    \n",
    "unique([3, 3, 3, 7, 3, 3])\n",
    "unique([0, 0, 0.77, 0, 0])\n",
    "unique([0, 1, 1, 1, 1, 1, 1, 1])"
   ]
  },
  {
   "cell_type": "markdown",
   "id": "ad8249ef",
   "metadata": {},
   "source": [
    "#### 3. Your task is to create a Circle constructor that creates a circle with a radius provided by an argument. The circles constructed must have two getters getArea() (PIr^2) and getPerimeter() (2PI*r) which give both respective areas and perimeter (circumference)."
   ]
  },
  {
   "cell_type": "code",
   "execution_count": 19,
   "id": "c8a94cde",
   "metadata": {},
   "outputs": [
    {
     "name": "stdout",
     "output_type": "stream",
     "text": [
      "380.132711084365\n",
      "27.897342763877365\n"
     ]
    }
   ],
   "source": [
    "import math\n",
    "\n",
    "class Circle():\n",
    "        \n",
    "    def __init__(self, radius):\n",
    "        self.radius = radius\n",
    "    \n",
    "    def getArea(self):\n",
    "        area = (math.pi)*(self.radius**2)\n",
    "        print(area)\n",
    "    \n",
    "    def getPerimeter(self):\n",
    "        perimeter = 2 * (math.pi) * (self.radius)\n",
    "        print(perimeter)\n",
    "    \n",
    "circy = Circle(11)\n",
    "circy.getArea()\n",
    "\n",
    "circy = Circle(4.44)\n",
    "circy.getPerimeter()"
   ]
  },
  {
   "cell_type": "markdown",
   "id": "a9af6e3c",
   "metadata": {},
   "source": [
    "#### 4. Create a function that takes a list of strings and return a list, sorted from shortest to longest."
   ]
  },
  {
   "cell_type": "code",
   "execution_count": 23,
   "id": "0bc71353",
   "metadata": {},
   "outputs": [
    {
     "name": "stdout",
     "output_type": "stream",
     "text": [
      "['Apple', 'Google', 'Microsoft']\n",
      "['Raphael', 'Leonardo', 'Donatello', 'Michelangelo']\n",
      "['Jung', 'Turing', 'Einstein']\n"
     ]
    }
   ],
   "source": [
    "def sort_by_length(lst):\n",
    "    \n",
    "    d = {i:len(i) for i in lst}\n",
    "    sort_dict = sorted(d.items(), key=lambda x:x[1])\n",
    "    \n",
    "    sort_lst = [j[0] for j in sort_dict]\n",
    "    print(sort_lst)\n",
    "    \n",
    "    \n",
    "sort_by_length([\"Google\", \"Apple\", \"Microsoft\"])\n",
    "sort_by_length([\"Leonardo\", \"Michelangelo\", \"Raphael\", \"Donatello\"])\n",
    "sort_by_length([\"Turing\", \"Einstein\", \"Jung\"])"
   ]
  },
  {
   "cell_type": "markdown",
   "id": "34f4f3ab",
   "metadata": {},
   "source": [
    "#### 5. Create a function that validates whether three given integers form a Pythagorean triplet. The sum of the squares of the two smallest integers must equal the square of the largest number to be validated."
   ]
  },
  {
   "cell_type": "code",
   "execution_count": 24,
   "id": "28250c9b",
   "metadata": {},
   "outputs": [
    {
     "name": "stdout",
     "output_type": "stream",
     "text": [
      "True\n",
      "True\n",
      "False\n"
     ]
    }
   ],
   "source": [
    "def is_triplet(a, b, c):\n",
    "    \n",
    "    lst = [a, b, c]\n",
    "    lst.sort()\n",
    "    \n",
    "    sum_two = (lst[0]**2) + (lst[1]**2)\n",
    "    sq_third = lst[2]**2\n",
    "    \n",
    "    if sum_two == sq_third:\n",
    "        print(True)\n",
    "    else:\n",
    "        print(False)\n",
    "        \n",
    "is_triplet(3, 4, 5)\n",
    "is_triplet(13, 5, 12)\n",
    "is_triplet(1, 2, 3)"
   ]
  },
  {
   "cell_type": "code",
   "execution_count": null,
   "id": "6818b528",
   "metadata": {},
   "outputs": [],
   "source": []
  }
 ],
 "metadata": {
  "kernelspec": {
   "display_name": "Python 3",
   "language": "python",
   "name": "python3"
  },
  "language_info": {
   "codemirror_mode": {
    "name": "ipython",
    "version": 3
   },
   "file_extension": ".py",
   "mimetype": "text/x-python",
   "name": "python",
   "nbconvert_exporter": "python",
   "pygments_lexer": "ipython3",
   "version": "3.8.8"
  }
 },
 "nbformat": 4,
 "nbformat_minor": 5
}
