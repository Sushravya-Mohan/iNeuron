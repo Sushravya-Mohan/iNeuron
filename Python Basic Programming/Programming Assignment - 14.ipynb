{
 "cells": [
  {
   "cell_type": "markdown",
   "id": "e5299a8e",
   "metadata": {},
   "source": [
    "# Assignment - 14"
   ]
  },
  {
   "cell_type": "markdown",
   "id": "f986057e",
   "metadata": {},
   "source": [
    "#### 1. Define a class with a generator which can iterate the numbers, which are divisible by 7, between a given range 0 and n."
   ]
  },
  {
   "cell_type": "code",
   "execution_count": 4,
   "id": "1574b0f1",
   "metadata": {},
   "outputs": [
    {
     "name": "stdout",
     "output_type": "stream",
     "text": [
      "Enter the value of n - 100\n",
      "0\n",
      "7\n",
      "14\n",
      "21\n",
      "28\n",
      "35\n",
      "42\n",
      "49\n",
      "56\n",
      "63\n",
      "70\n",
      "77\n",
      "84\n",
      "91\n",
      "98\n"
     ]
    }
   ],
   "source": [
    "class iterator:\n",
    "    def __init__(self, n):\n",
    "        self.n = n        \n",
    "        \n",
    "    def div_7(self):\n",
    "        for i in range(0, self.n):\n",
    "            if i % 7 == 0:\n",
    "                yield i\n",
    "\n",
    "n = int(input('Enter the value of n - '))\n",
    "\n",
    "for i in iterator(n).div_7():\n",
    "    print(i)\n",
    "        "
   ]
  },
  {
   "cell_type": "markdown",
   "id": "cf4899c7",
   "metadata": {},
   "source": [
    "   #### 2. Write a program to compute the frequency of the words from the input. The output should output after sorting the key alphanumerically."
   ]
  },
  {
   "cell_type": "code",
   "execution_count": 10,
   "id": "ead9b83c",
   "metadata": {},
   "outputs": [
    {
     "name": "stdout",
     "output_type": "stream",
     "text": [
      "2:2\n",
      "3.:1\n",
      "3?:1\n",
      "New:1\n",
      "Python:5\n",
      "Read:1\n",
      "and:1\n",
      "between:1\n",
      "choosing:1\n",
      "or:2\n",
      "to:1\n"
     ]
    }
   ],
   "source": [
    "def freq(s):\n",
    "    l = s.split(\" \")\n",
    "    l = sorted(l, key=str)\n",
    "    d = dict()\n",
    "    \n",
    "    for i in l:\n",
    "        d[i] = l.count(i)\n",
    "        \n",
    "    return d\n",
    "\n",
    "string = 'New to Python or choosing between Python 2 and Python 3? Read Python 2 or Python 3.'\n",
    "\n",
    "sort_dict = freq(string)\n",
    "\n",
    "for keys, values in sort_dict.items():\n",
    "    print(f'{keys}:{values}')"
   ]
  },
  {
   "cell_type": "markdown",
   "id": "ad8249ef",
   "metadata": {},
   "source": [
    "#### 3. Define a class Person and its two child classes: Male and Female. All classes have a method &quot;getGender&quot; which can print &quot;Male&quot; for Male class and &quot;Female&quot; for Female class."
   ]
  },
  {
   "cell_type": "code",
   "execution_count": 13,
   "id": "c8a94cde",
   "metadata": {},
   "outputs": [
    {
     "name": "stdout",
     "output_type": "stream",
     "text": [
      "Male\n",
      "Female\n"
     ]
    }
   ],
   "source": [
    "class Person:    \n",
    "    def getGender(self):\n",
    "        return \"Unknown\"\n",
    "        \n",
    "class Male(Person):    \n",
    "    def getGender(self):\n",
    "        return \"Male\"\n",
    "        \n",
    "class Female(Person):\n",
    "    def getGender(self):\n",
    "        return \"Female\"\n",
    "        \n",
    "male = Male()\n",
    "female = Female()\n",
    "\n",
    "print(male.getGender())\n",
    "print(female.getGender())"
   ]
  },
  {
   "cell_type": "markdown",
   "id": "a9af6e3c",
   "metadata": {},
   "source": [
    "#### 4. Please write a program to generate all sentences where subject is in [&quot;I&quot;, &quot;You&quot;] and verb is in [&quot;Play&quot;, &quot;Love&quot;] and the object is in [&quot;Hockey&quot;,&quot;Football&quot;]."
   ]
  },
  {
   "cell_type": "code",
   "execution_count": 14,
   "id": "0bc71353",
   "metadata": {},
   "outputs": [
    {
     "name": "stdout",
     "output_type": "stream",
     "text": [
      "I Play Hockey\n",
      "I Play Football\n",
      "I Love Hockey\n",
      "I Love Football\n",
      "You Play Hockey\n",
      "You Play Football\n",
      "You Love Hockey\n",
      "You Love Football\n"
     ]
    }
   ],
   "source": [
    "subject = [\"I\", \"You\"]\n",
    "verb = [\"Play\", \"Love\"]\n",
    "objects = [\"Hockey\", \"Football\"]\n",
    "\n",
    "svo = [[i,j,k] for i in subject for j in verb for k in objects]\n",
    "\n",
    "for s in svo:\n",
    "    print(\" \".join(s))"
   ]
  },
  {
   "cell_type": "markdown",
   "id": "34f4f3ab",
   "metadata": {},
   "source": [
    "#### 5. Please write a program to compress and decompress the string &quot;hello world!hello world!hello world!hello world!&quot;."
   ]
  },
  {
   "cell_type": "code",
   "execution_count": 25,
   "id": "28250c9b",
   "metadata": {},
   "outputs": [
    {
     "name": "stdout",
     "output_type": "stream",
     "text": [
      "\n",
      " The compressed string is - b'x\\x9c\\xcbH\\xcd\\xc9\\xc9W(\\xcf/\\xcaIQ\\xcc \\x82\\r\\x00\\xbd[\\x11\\xf5'\n",
      "\n",
      " The decompressed string is - b'hello world!hello world!hello world!hello world!'\n"
     ]
    }
   ],
   "source": [
    "import zlib\n",
    "\n",
    "string = \"hello world!hello world!hello world!hello world!\".encode()\n",
    "\n",
    "comp_str = zlib.compress(string)\n",
    "print(f'\\n The compressed string is - {comp_str}')\n",
    "\n",
    "decomp_str = zlib.decompress(comp_str)\n",
    "print(f'\\n The decompressed string is - {decomp_str}')"
   ]
  },
  {
   "cell_type": "markdown",
   "id": "24636018",
   "metadata": {},
   "source": [
    "#### 6. Please write a binary search function which searches an item in a sorted list. The function should return the index of element to be searched in the list."
   ]
  },
  {
   "cell_type": "code",
   "execution_count": 4,
   "id": "90969c20",
   "metadata": {},
   "outputs": [
    {
     "name": "stdout",
     "output_type": "stream",
     "text": [
      "The index of the element searched is 8\n"
     ]
    }
   ],
   "source": [
    "def bin_search(l, term):    \n",
    "    lower = 0\n",
    "    upper = len(l)    \n",
    "    while lower < upper:        \n",
    "        mid = (lower + upper) // 2        \n",
    "        comp = l[mid]        \n",
    "        if term == comp:\n",
    "            return mid\n",
    "        elif term > comp:\n",
    "            lower = mid\n",
    "        elif term < comp:\n",
    "            upper = mid\n",
    "            \n",
    "            \n",
    "l = [1, 3, 8, 13, 19, 27, 43, 55, 62, 69, 73, 90, 97, 103]\n",
    "\n",
    "print(f'The index of the element searched is {bin_search(l, 62)}')\n"
   ]
  },
  {
   "cell_type": "code",
   "execution_count": null,
   "id": "860f4d26",
   "metadata": {},
   "outputs": [],
   "source": []
  }
 ],
 "metadata": {
  "kernelspec": {
   "display_name": "Python 3",
   "language": "python",
   "name": "python3"
  },
  "language_info": {
   "codemirror_mode": {
    "name": "ipython",
    "version": 3
   },
   "file_extension": ".py",
   "mimetype": "text/x-python",
   "name": "python",
   "nbconvert_exporter": "python",
   "pygments_lexer": "ipython3",
   "version": "3.8.8"
  }
 },
 "nbformat": 4,
 "nbformat_minor": 5
}
