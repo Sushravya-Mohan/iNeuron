{
 "cells": [
  {
   "cell_type": "markdown",
   "id": "2be79761",
   "metadata": {},
   "source": [
    "# Assignment - 10\n",
    "\n",
    "\n"
   ]
  },
  {
   "cell_type": "markdown",
   "id": "6f726a0b",
   "metadata": {},
   "source": [
    "#### 1. Write a Python program to find sum of elements in list?"
   ]
  },
  {
   "cell_type": "code",
   "execution_count": 3,
   "id": "0e61b692",
   "metadata": {},
   "outputs": [
    {
     "name": "stdout",
     "output_type": "stream",
     "text": [
      "The sum of elements in [61, 12, 43, 98, 51, 88] is - 353\n"
     ]
    }
   ],
   "source": [
    "def sum_of_list(l):\n",
    "    s = 0\n",
    "    for i in range(len(l)):\n",
    "        s = s + l[i]\n",
    "    return s\n",
    "\n",
    "a = [61, 12, 43, 98, 51, 88]\n",
    "\n",
    "print(f'The sum of elements in {a} is - {sum_of_list(a)}')\n"
   ]
  },
  {
   "cell_type": "markdown",
   "id": "6495247a",
   "metadata": {},
   "source": [
    "#### 2. Write a Python program to Multiply all numbers in the list?"
   ]
  },
  {
   "cell_type": "code",
   "execution_count": 5,
   "id": "b641b203",
   "metadata": {},
   "outputs": [
    {
     "name": "stdout",
     "output_type": "stream",
     "text": [
      "The product of elements in [1, 4, 8, 9, 5, 12] is - 17280\n"
     ]
    }
   ],
   "source": [
    "def pro_of_list(l):\n",
    "    p = 1\n",
    "    for i in range(len(l)):\n",
    "        p = p * l[i]\n",
    "    return p\n",
    "\n",
    "b = [1, 4, 8, 9, 5, 12]\n",
    "\n",
    "print(f'The product of elements in {b} is - {pro_of_list(b)}')"
   ]
  },
  {
   "cell_type": "markdown",
   "id": "6d3eca6f",
   "metadata": {},
   "source": [
    "#### 3. Write a Python program to find smallest number in a list?"
   ]
  },
  {
   "cell_type": "code",
   "execution_count": 7,
   "id": "c24b8364",
   "metadata": {},
   "outputs": [
    {
     "name": "stdout",
     "output_type": "stream",
     "text": [
      "The smallest number in [21, 32, 19, 76, 13, 88, 54, 23, 12, 9] is - 9\n"
     ]
    }
   ],
   "source": [
    "def smallest_no(l):\n",
    "    s = l[0]\n",
    "    for i in range(1, len(l)):\n",
    "        if s > l[i]:\n",
    "            s = l[i]\n",
    "        else:\n",
    "            pass\n",
    "    return s\n",
    "\n",
    "c = [21, 32, 19, 76, 13, 88, 54, 23, 12, 9]\n",
    "\n",
    "print(f'The smallest number in {c} is - {smallest_no(c)}')"
   ]
  },
  {
   "cell_type": "markdown",
   "id": "582767de",
   "metadata": {},
   "source": [
    "#### 4. Write a Python program to find largest number in a list?"
   ]
  },
  {
   "cell_type": "code",
   "execution_count": 9,
   "id": "021dfaeb",
   "metadata": {},
   "outputs": [
    {
     "name": "stdout",
     "output_type": "stream",
     "text": [
      "The largest number in [22, 98, 67, 109, 743, 120, 3, 542, 156, 654] is - 743\n"
     ]
    }
   ],
   "source": [
    "def largest_no(l):\n",
    "    s = l[0]\n",
    "    for i in range(1, len(l)):\n",
    "        if s < l[i]:\n",
    "            s = l[i]\n",
    "        else:\n",
    "            pass\n",
    "    return s\n",
    "\n",
    "d = [22, 98, 67, 109, 743, 120, 3, 542, 156, 654]\n",
    "\n",
    "print(f'The largest number in {d} is - {largest_no(d)}')"
   ]
  },
  {
   "cell_type": "markdown",
   "id": "0655a365",
   "metadata": {},
   "source": [
    "#### 5. Write a Python program to find second largest number in a list?"
   ]
  },
  {
   "cell_type": "code",
   "execution_count": 14,
   "id": "2e03c323",
   "metadata": {},
   "outputs": [
    {
     "name": "stdout",
     "output_type": "stream",
     "text": [
      "The second largest number in [22, 98, 67, 109, 743, 120, 3, 542, 156, 654] is 654\n"
     ]
    }
   ],
   "source": [
    "def sec_largest(l):\n",
    "    m = l.copy()\n",
    "    l.sort()\n",
    "    print(f'The second largest number in {m} is {l[-2]}')\n",
    "\n",
    "d = [22, 98, 67, 109, 743, 120, 3, 542, 156, 654]\n",
    "\n",
    "sec_largest(d)"
   ]
  },
  {
   "cell_type": "markdown",
   "id": "fefde590",
   "metadata": {},
   "source": [
    "#### 6. Write a Python program to find N largest elements from a list?"
   ]
  },
  {
   "cell_type": "code",
   "execution_count": 18,
   "id": "e6f7a6af",
   "metadata": {},
   "outputs": [
    {
     "name": "stdout",
     "output_type": "stream",
     "text": [
      "The 4 largest numbers in [432, 134, 12, 15, 89, 283, 874, 527, 21, 4882, 384, 254, 112] are -\n",
      "4882\n",
      "874\n",
      "527\n",
      "432\n"
     ]
    }
   ],
   "source": [
    "def n_large(l, n):\n",
    "    m = l.copy()\n",
    "    l.sort()\n",
    "    print(f'The {n} largest numbers in {m} are -')\n",
    "    for i in range(1, n+1):\n",
    "        print(l[-i])\n",
    "    \n",
    "    \n",
    "    \n",
    "e = [432, 134, 12, 15, 89, 283, 874, 527, 21, 4882, 384, 254, 112]\n",
    "\n",
    "n_large(e, 4)"
   ]
  },
  {
   "cell_type": "markdown",
   "id": "1b81d9c2",
   "metadata": {},
   "source": [
    "#### 7. Write a Python program to print even numbers in a list?"
   ]
  },
  {
   "cell_type": "code",
   "execution_count": 20,
   "id": "1d680b93",
   "metadata": {},
   "outputs": [
    {
     "name": "stdout",
     "output_type": "stream",
     "text": [
      "The even numbers in [3, 9, 78, 23, 12, 56, 33, 29, 88, 65, 34] are -\n",
      "78\n",
      "12\n",
      "56\n",
      "88\n",
      "34\n"
     ]
    }
   ],
   "source": [
    "def even_no(l):\n",
    "    for i in range(len(l)):\n",
    "        if l[i] % 2 == 0:\n",
    "            print(l[i])\n",
    "        else:\n",
    "            pass\n",
    "        \n",
    "        \n",
    "f = [3, 9, 78, 23, 12, 56, 33, 29, 88, 65, 34]\n",
    "print(f'The even numbers in {f} are -')\n",
    "even_no(f)\n"
   ]
  },
  {
   "cell_type": "markdown",
   "id": "697a805d",
   "metadata": {},
   "source": [
    "#### 8. Write a Python program to print odd numbers in a List?"
   ]
  },
  {
   "cell_type": "code",
   "execution_count": 21,
   "id": "edfead18",
   "metadata": {},
   "outputs": [
    {
     "name": "stdout",
     "output_type": "stream",
     "text": [
      "The odd numbers in [3, 9, 78, 23, 12, 56, 33, 29, 88, 65, 34] are -\n",
      "3\n",
      "9\n",
      "23\n",
      "33\n",
      "29\n",
      "65\n"
     ]
    }
   ],
   "source": [
    "def odd_no(l):\n",
    "    for i in range(len(l)):\n",
    "        if l[i] % 2 != 0:\n",
    "            print(l[i])\n",
    "        else:\n",
    "            pass\n",
    "        \n",
    "        \n",
    "f = [3, 9, 78, 23, 12, 56, 33, 29, 88, 65, 34]\n",
    "print(f'The odd numbers in {f} are -')\n",
    "odd_no(f)\n"
   ]
  },
  {
   "cell_type": "markdown",
   "id": "749e1f69",
   "metadata": {},
   "source": [
    "#### 9. Write a Python program to Remove empty List from List?"
   ]
  },
  {
   "cell_type": "code",
   "execution_count": 24,
   "id": "ed8e5e0c",
   "metadata": {},
   "outputs": [
    {
     "name": "stdout",
     "output_type": "stream",
     "text": [
      "[1, 2, 3, [3, 4], [42, 3.2, 'good'], [3.04, True, 'apple']]\n"
     ]
    }
   ],
   "source": [
    "l = [1, 2, [], 3, [3, 4], [], [42, 3.2, \"good\"], [3.04, True, \"apple\"], []]\n",
    "\n",
    "m = [i for i in l if i != []]\n",
    "\n",
    "print(m)"
   ]
  },
  {
   "cell_type": "markdown",
   "id": "cd5960b4",
   "metadata": {},
   "source": [
    "#### 10. Write a Python program to Cloning or Copying a list?"
   ]
  },
  {
   "cell_type": "code",
   "execution_count": 32,
   "id": "6a48bf98",
   "metadata": {},
   "outputs": [
    {
     "name": "stdout",
     "output_type": "stream",
     "text": [
      "The cloned list is ['rainy', 'earth', 'sky', 'blue', 'rainbow']\n"
     ]
    }
   ],
   "source": [
    "def clone(l):\n",
    "    n = []\n",
    "    for i in range(len(l)):\n",
    "        n.append(l[i])\n",
    "    print(f'The cloned list is {n}')\n",
    "\n",
    "g = [\"rainy\", \"earth\", \"sky\", \"blue\", \"rainbow\"]\n",
    "\n",
    "clone(g)\n"
   ]
  },
  {
   "cell_type": "markdown",
   "id": "b7ceff99",
   "metadata": {},
   "source": [
    "#### 11. Write a Python program to Count occurrences of an element in a list?"
   ]
  },
  {
   "cell_type": "code",
   "execution_count": 35,
   "id": "58dd9fc2",
   "metadata": {},
   "outputs": [
    {
     "name": "stdout",
     "output_type": "stream",
     "text": [
      "The number of occurences of 'bb' in ['aa', 'bb', 'bb', 'cc', 'cc', 'ca', 'ab', 'cc', 'ac', 'ab'] is - \n",
      "2\n"
     ]
    }
   ],
   "source": [
    "def count_list(l, n):\n",
    "    c = l.count(n)\n",
    "    return c\n",
    "\n",
    "h = ['aa', 'bb', 'bb', 'cc', 'cc', 'ca', 'ab', 'cc', 'ac', 'ab']\n",
    "\n",
    "print(f\"The number of occurences of 'bb' in {h} is - \")\n",
    "print(count_list(h, 'bb'))\n",
    "    "
   ]
  }
 ],
 "metadata": {
  "kernelspec": {
   "display_name": "Python 3",
   "language": "python",
   "name": "python3"
  },
  "language_info": {
   "codemirror_mode": {
    "name": "ipython",
    "version": 3
   },
   "file_extension": ".py",
   "mimetype": "text/x-python",
   "name": "python",
   "nbconvert_exporter": "python",
   "pygments_lexer": "ipython3",
   "version": "3.8.8"
  }
 },
 "nbformat": 4,
 "nbformat_minor": 5
}
