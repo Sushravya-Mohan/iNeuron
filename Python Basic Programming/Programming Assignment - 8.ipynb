{
 "cells": [
  {
   "cell_type": "markdown",
   "id": "2be79761",
   "metadata": {},
   "source": [
    "# Assignment - 8\n"
   ]
  },
  {
   "cell_type": "markdown",
   "id": "6f726a0b",
   "metadata": {},
   "source": [
    "#### 1. Write a Python Program to Add Two Matrices?"
   ]
  },
  {
   "cell_type": "code",
   "execution_count": 33,
   "id": "0e61b692",
   "metadata": {},
   "outputs": [
    {
     "name": "stdout",
     "output_type": "stream",
     "text": [
      "The sum of given matrices is \n",
      " \n",
      "[[6, 8, 10], [10, 12, 14]]\n"
     ]
    }
   ],
   "source": [
    "def matrix_add(x, y):\n",
    "    if (len(x) == len(y)) and (len(x[0]) == len(y[0])):\n",
    "        s = [[x[i][j] + y[i][j] for j in range(len(x[0]))] for i in range(len(x))]\n",
    "        return s\n",
    "    else:\n",
    "        print('The given matrices cannot be added')\n",
    "    \n",
    "\n",
    "X = [[1, 2, 3], [3, 4, 5]]\n",
    "\n",
    "Y = [[5, 6, 7], [7, 8, 9]]\n",
    "\n",
    "print('The sum of given matrices is \\n ')\n",
    "print(matrix_add(X, Y))"
   ]
  },
  {
   "cell_type": "code",
   "execution_count": 31,
   "id": "da599d1d",
   "metadata": {},
   "outputs": [
    {
     "name": "stdout",
     "output_type": "stream",
     "text": [
      "The given matrices cannot be added\n"
     ]
    }
   ],
   "source": [
    "X = [[1, 2], [3, 4]]\n",
    "\n",
    "Y = [[5, 6, 7], [7, 8, 9]]\n",
    "\n",
    "matrix_add(X, Y)"
   ]
  },
  {
   "cell_type": "markdown",
   "id": "6495247a",
   "metadata": {},
   "source": [
    "#### 2. Write a Python Program to Multiply Two Matrices?"
   ]
  },
  {
   "cell_type": "code",
   "execution_count": 34,
   "id": "b641b203",
   "metadata": {},
   "outputs": [
    {
     "name": "stdout",
     "output_type": "stream",
     "text": [
      "The product of given matrices is \n",
      " \n",
      "[[19, 22, 25], [43, 50, 57]]\n"
     ]
    }
   ],
   "source": [
    "def matrix_mul(x, y):\n",
    "    if (len(x[0]) == len(y)):\n",
    "        p = [[sum(a*b for a,b in zip(x_row, y_col))\n",
    "             for y_col in zip(*y)]\n",
    "             for x_row in x]\n",
    "        return p\n",
    "    else:\n",
    "        print('The given matrices cannot be multiplied')\n",
    "        \n",
    "X = [[1, 2], [3, 4]]\n",
    "\n",
    "Y = [[5, 6, 7], [7, 8, 9]]\n",
    "\n",
    "print('The product of given matrices is \\n ')\n",
    "print(matrix_mul(X, Y))\n",
    "\n"
   ]
  },
  {
   "cell_type": "code",
   "execution_count": 36,
   "id": "1348ef9b",
   "metadata": {},
   "outputs": [
    {
     "name": "stdout",
     "output_type": "stream",
     "text": [
      "The given matrices cannot be multiplied\n"
     ]
    }
   ],
   "source": [
    "X = [[1, 2, 3], [3, 4, 5]]\n",
    "\n",
    "Y = [[5, 6, 7], [7, 8, 9]]\n",
    "\n",
    "matrix_mul(X, Y)"
   ]
  },
  {
   "cell_type": "markdown",
   "id": "6d3eca6f",
   "metadata": {},
   "source": [
    "#### 3. Write a Python Program to Transpose a Matrix?"
   ]
  },
  {
   "cell_type": "code",
   "execution_count": 48,
   "id": "c24b8364",
   "metadata": {},
   "outputs": [
    {
     "name": "stdout",
     "output_type": "stream",
     "text": [
      "The transpose of [[1, 2, 3], [4, 5, 6], [7, 8, 9]] is\n",
      "[[1, 4, 7], [2, 5, 8], [3, 6, 9]]\n"
     ]
    }
   ],
   "source": [
    "def transpose(x):\n",
    "    t = [[0 for j in range(len(x))] for i in range(len(x[0]))]\n",
    "    for i in range(len(x[0])):\n",
    "        for j in range(len(x)):\n",
    "            t[i][j] = x[j][i]\n",
    "    return t\n",
    "    \n",
    "\n",
    "X = [[1, 2, 3], [4, 5, 6], [7, 8, 9]]\n",
    "\n",
    "print(f'The transpose of {X} is')\n",
    "print(transpose(X))"
   ]
  },
  {
   "cell_type": "markdown",
   "id": "582767de",
   "metadata": {},
   "source": [
    "#### 4. Write a Python Program to Sort Words in Alphabetic Order?"
   ]
  },
  {
   "cell_type": "code",
   "execution_count": 58,
   "id": "021dfaeb",
   "metadata": {},
   "outputs": [
    {
     "name": "stdout",
     "output_type": "stream",
     "text": [
      "Enter a string of your choice - \n",
      "I am checking the program written by me\n",
      "\n",
      "\n",
      "The sorted words are - \n",
      "\n",
      "am\n",
      "by\n",
      "checking\n",
      "i\n",
      "me\n",
      "program\n",
      "the\n",
      "written\n"
     ]
    }
   ],
   "source": [
    "input_str = input('Enter a string of your choice - \\n')\n",
    "\n",
    "def sort_str(a):\n",
    "    l = a.lower()\n",
    "    w = l.split()\n",
    "    w.sort()\n",
    "    print('\\n')\n",
    "    print('The sorted words are - \\n')\n",
    "    for i in w:\n",
    "        print(i)\n",
    "        \n",
    "        \n",
    "sort_str(input_str)"
   ]
  },
  {
   "cell_type": "markdown",
   "id": "0655a365",
   "metadata": {},
   "source": [
    "#### 5. Write a Python Program to Remove Punctuation From a String?"
   ]
  },
  {
   "cell_type": "code",
   "execution_count": 64,
   "id": "fc9d8446",
   "metadata": {},
   "outputs": [
    {
     "name": "stdout",
     "output_type": "stream",
     "text": [
      "Enter a string of your choice - Hi!!! Enjoying the weather?....\n",
      "The string after removing the punctuations is - \n",
      "Hi Enjoying the weather\n"
     ]
    }
   ],
   "source": [
    "punctuations = '''.?\"',-_!:;()[]/'''\n",
    "\n",
    "def remove_punc(a):\n",
    "    final_string = \"\"\n",
    "    for char in a:\n",
    "        if char not in punctuations:\n",
    "            final_string += char\n",
    "        else:\n",
    "            pass\n",
    "    return final_string\n",
    "\n",
    "input_str = input('Enter a string of your choice - ')\n",
    "\n",
    "print('The string after removing the punctuations is - ')\n",
    "print(remove_punc(input_str))\n",
    "            "
   ]
  }
 ],
 "metadata": {
  "kernelspec": {
   "display_name": "Python 3",
   "language": "python",
   "name": "python3"
  },
  "language_info": {
   "codemirror_mode": {
    "name": "ipython",
    "version": 3
   },
   "file_extension": ".py",
   "mimetype": "text/x-python",
   "name": "python",
   "nbconvert_exporter": "python",
   "pygments_lexer": "ipython3",
   "version": "3.8.8"
  }
 },
 "nbformat": 4,
 "nbformat_minor": 5
}
