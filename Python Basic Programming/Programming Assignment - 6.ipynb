{
 "cells": [
  {
   "cell_type": "markdown",
   "id": "2be79761",
   "metadata": {},
   "source": [
    "# Assignment - 6\n"
   ]
  },
  {
   "cell_type": "markdown",
   "id": "6f726a0b",
   "metadata": {},
   "source": [
    "#### 1. Write a Python Program to Display Fibonacci Sequence Using Recursion?"
   ]
  },
  {
   "cell_type": "code",
   "execution_count": 27,
   "id": "0e61b692",
   "metadata": {},
   "outputs": [
    {
     "name": "stdout",
     "output_type": "stream",
     "text": [
      "Enter the number of terms in the Fibonacci sequence - 15\n",
      "The fibonacci sequence is - \n",
      "\n",
      "0\t1\t1\t2\t3\t5\t8\t13\t21\t34\t55\t89\t144\t233\t377\t"
     ]
    }
   ],
   "source": [
    "n = int(input(\"Enter the number of terms in the Fibonacci sequence - \"))\n",
    "\n",
    "def rec_fib(x):\n",
    "    if x <= 1:\n",
    "        return x\n",
    "    else:\n",
    "        return rec_fib(x-1) + rec_fib(x-2)\n",
    "\n",
    "if n <= 0:\n",
    "    print(\"Enter a positive number\")\n",
    "else:\n",
    "    print(\"The fibonacci sequence is - \\n\")\n",
    "    for i in range(n):\n",
    "        print(rec_fib(i), end = \"\\t\")\n",
    "        "
   ]
  },
  {
   "cell_type": "markdown",
   "id": "6495247a",
   "metadata": {},
   "source": [
    "#### 2. Write a Python Program to Find Factorial of Number Using Recursion?"
   ]
  },
  {
   "cell_type": "code",
   "execution_count": 19,
   "id": "b641b203",
   "metadata": {},
   "outputs": [
    {
     "name": "stdout",
     "output_type": "stream",
     "text": [
      "Enter the number for which factorial is required - 7\n",
      "The factorial of 7 is 5040\n",
      "\n"
     ]
    }
   ],
   "source": [
    "n = int(input(\"Enter the number for which factorial is required - \"))\n",
    "\n",
    "def rec_fact(x):\n",
    "    if x <= 1:\n",
    "        return 1\n",
    "    else:\n",
    "        return x * rec_fact(x-1)\n",
    "\n",
    "if n < 0:\n",
    "    print(\"Enter a positive number\")\n",
    "else:\n",
    "    print(f\"The factorial of {n} is {rec_fact(n)}\\n\")    \n",
    "    "
   ]
  },
  {
   "cell_type": "markdown",
   "id": "6d3eca6f",
   "metadata": {},
   "source": [
    "#### 3. Write a Python Program to calculate your Body Mass Index?"
   ]
  },
  {
   "cell_type": "code",
   "execution_count": 31,
   "id": "c24b8364",
   "metadata": {},
   "outputs": [
    {
     "name": "stdout",
     "output_type": "stream",
     "text": [
      "Enter your weight in kgs - 40\n",
      "Enter your height in meters - 1.5\n",
      "Your body mass index is 17.77777777777778\n",
      "You are Underweight\n"
     ]
    }
   ],
   "source": [
    "weight = float(input(\"Enter your weight in kgs - \"))\n",
    "height = float(input(\"Enter your height in meters - \"))\n",
    "\n",
    "def bmi(x, y):\n",
    "    bmi = x / (y * y)\n",
    "    print(f\"Your body mass index is {bmi}\")\n",
    "    \n",
    "    if bmi < 18.5:\n",
    "        print(\"You are Underweight\")\n",
    "    elif (bmi >= 18.5 and bmi < 24.9):\n",
    "        print(\"You are Healthy\")\n",
    "    elif (bmi >= 24.9 and bmi < 29.9):\n",
    "        print(\"You are Overweight\")\n",
    "    elif bmi >=29.9:\n",
    "        print(\"You are Obese\")\n",
    "        \n",
    "        \n",
    "bmi(weight, height)\n"
   ]
  },
  {
   "cell_type": "markdown",
   "id": "582767de",
   "metadata": {},
   "source": [
    "#### 4. Write a Python Program to calculate the natural logarithm of any number?"
   ]
  },
  {
   "cell_type": "code",
   "execution_count": 53,
   "id": "021dfaeb",
   "metadata": {},
   "outputs": [
    {
     "name": "stdout",
     "output_type": "stream",
     "text": [
      "Enter the number for calculating natural logarithm - 12\n",
      "\n",
      " The natural logarithm of 12.0 is -  2.4849066497880004\n"
     ]
    }
   ],
   "source": [
    "import math\n",
    "\n",
    "n = float(input('Enter the number for calculating natural logarithm - '))\n",
    "\n",
    "def n_log(x):\n",
    "    print(f\"\\n The natural logarithm of {x} is - \", end = \" \")\n",
    "    print(math.log(x, math.exp(1)))\n",
    "\n",
    "n_log(n)\n",
    "    "
   ]
  },
  {
   "cell_type": "markdown",
   "id": "0655a365",
   "metadata": {},
   "source": [
    "#### 5. Write a Python Program for cube sum of first n natural numbers?"
   ]
  },
  {
   "cell_type": "code",
   "execution_count": 3,
   "id": "2e03c323",
   "metadata": {},
   "outputs": [
    {
     "name": "stdout",
     "output_type": "stream",
     "text": [
      "Enter the nth natural number - 5\n",
      "The sum of cube of first 5 natural numbers is 225\n"
     ]
    }
   ],
   "source": [
    "n = int(input(\"Enter the nth natural number - \"))\n",
    "\n",
    "\n",
    "def sum_of_cubes(x):\n",
    "    s = int(((n**2) * ((n+1)**2))/4)\n",
    "    print(f'The sum of cube of first {x} natural numbers is {s}')\n",
    "    \n",
    "sum_of_cubes(n)"
   ]
  }
 ],
 "metadata": {
  "kernelspec": {
   "display_name": "Python 3",
   "language": "python",
   "name": "python3"
  },
  "language_info": {
   "codemirror_mode": {
    "name": "ipython",
    "version": 3
   },
   "file_extension": ".py",
   "mimetype": "text/x-python",
   "name": "python",
   "nbconvert_exporter": "python",
   "pygments_lexer": "ipython3",
   "version": "3.8.8"
  }
 },
 "nbformat": 4,
 "nbformat_minor": 5
}
