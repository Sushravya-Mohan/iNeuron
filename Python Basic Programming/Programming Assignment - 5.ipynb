{
 "cells": [
  {
   "cell_type": "markdown",
   "id": "2be79761",
   "metadata": {},
   "source": [
    "# Assignment - 5\n",
    "\n",
    "\n"
   ]
  },
  {
   "cell_type": "markdown",
   "id": "6f726a0b",
   "metadata": {},
   "source": [
    "#### 1. Write a Python Program to Find LCM?"
   ]
  },
  {
   "cell_type": "code",
   "execution_count": 20,
   "id": "0e61b692",
   "metadata": {},
   "outputs": [
    {
     "name": "stdout",
     "output_type": "stream",
     "text": [
      "Enter the first number: 55\n",
      "Enter the second number: 43\n"
     ]
    },
    {
     "data": {
      "text/plain": [
       "2365"
      ]
     },
     "execution_count": 20,
     "metadata": {},
     "output_type": "execute_result"
    }
   ],
   "source": [
    "a = int(input(\"Enter the first number: \"))\n",
    "b = int(input(\"Enter the second number: \"))\n",
    "\n",
    "def lcm(x, y):\n",
    "    l = []\n",
    "    for i in range(2, x*y+1):\n",
    "        if i%x == 0 and i%y == 0:\n",
    "            l.append(i)\n",
    "        else:\n",
    "            pass\n",
    "            \n",
    "    return min(l)\n",
    "\n",
    "lcm(a, b)\n",
    "            "
   ]
  },
  {
   "cell_type": "markdown",
   "id": "6495247a",
   "metadata": {},
   "source": [
    "#### 2. Write a Python Program to Find HCF?"
   ]
  },
  {
   "cell_type": "code",
   "execution_count": 26,
   "id": "b641b203",
   "metadata": {},
   "outputs": [
    {
     "name": "stdout",
     "output_type": "stream",
     "text": [
      "Enter the first number: 540\n",
      "Enter the second number: 480\n"
     ]
    },
    {
     "data": {
      "text/plain": [
       "60"
      ]
     },
     "execution_count": 26,
     "metadata": {},
     "output_type": "execute_result"
    }
   ],
   "source": [
    "a = int(input(\"Enter the first number: \"))\n",
    "b = int(input(\"Enter the second number: \"))\n",
    "\n",
    "def lcm(x, y):\n",
    "    l = []\n",
    "    if x > y:\n",
    "        for i in range(1, x+1):\n",
    "            if x%i == 0 and y%i == 0:\n",
    "                l.append(i)\n",
    "            else:\n",
    "                pass\n",
    "    \n",
    "    if y > x:\n",
    "        for i in range(1, y+1):\n",
    "            if x%i == 0 and y%i == 0:\n",
    "                l.append(i)\n",
    "            else:\n",
    "                pass\n",
    "            \n",
    "    return max(l)\n",
    "\n",
    "lcm(a, b)"
   ]
  },
  {
   "cell_type": "markdown",
   "id": "6d3eca6f",
   "metadata": {},
   "source": [
    "#### 3. Write a Python Program to Convert Decimal to Binary, Octal and Hexadecimal?"
   ]
  },
  {
   "cell_type": "code",
   "execution_count": 31,
   "id": "c24b8364",
   "metadata": {},
   "outputs": [
    {
     "name": "stdout",
     "output_type": "stream",
     "text": [
      "Enter the number you want to convert - 156\n",
      "\n",
      "\n",
      " The binary conversion of 156 is - 10011100\n",
      "\n",
      "\n",
      " The octal conversion of 156 is - 234\n",
      "\n",
      "\n",
      " The hexadecimal conversion of 156 is - 9C\n"
     ]
    }
   ],
   "source": [
    "a = int(input(\"Enter the number you want to convert - \"))\n",
    "\n",
    "def dec_to_bina(x):\n",
    "   \n",
    "    bina_r = ['0', '1']\n",
    "    bina = ''\n",
    "\n",
    "    while(x > 0):\n",
    "        r = x % 2\n",
    "        bina = bina_r[r]+ bina\n",
    "        x = x // 2\n",
    "    print(f'\\n\\n The binary conversion of {a} is - {bina}')\n",
    "    \n",
    "dec_to_bina(a) \n",
    "\n",
    "def dec_to_octa(x):\n",
    "   \n",
    "    octa_r = ['0', '1', '2', '3', '4', '5', '6', '7', '8']\n",
    "    octa = ''\n",
    "\n",
    "    while(x > 0):\n",
    "        r = x % 8\n",
    "        octa = octa_r[r]+ octa\n",
    "        x = x // 8\n",
    "    print(f'\\n\\n The octal conversion of {a} is - {octa}')\n",
    "    \n",
    "dec_to_octa(a) \n",
    "\n",
    "\n",
    "def dec_to_hexa(x):\n",
    "   \n",
    "    hexa_r = ['0', '1', '2', '3', '4', '5', '6', '7', '8', '9', 'A', 'B', 'C', 'D', 'E', 'F']\n",
    "    hexa = ''\n",
    "\n",
    "    while(x > 0):\n",
    "        r = x % 16\n",
    "        hexa = hexa_r[r]+ hexa\n",
    "        x = x // 16\n",
    "    print(f'\\n\\n The hexadecimal conversion of {a} is - {hexa}')\n",
    "    \n",
    "dec_to_hexa(a) \n"
   ]
  },
  {
   "cell_type": "markdown",
   "id": "582767de",
   "metadata": {},
   "source": [
    "#### 4. Write a Python Program To Find ASCII value of a character?"
   ]
  },
  {
   "cell_type": "code",
   "execution_count": 35,
   "id": "67149883",
   "metadata": {},
   "outputs": [
    {
     "name": "stdout",
     "output_type": "stream",
     "text": [
      "Enter a string - Morning\n",
      "The ASCII value of character M is 77\n",
      "The ASCII value of character o is 111\n",
      "The ASCII value of character r is 114\n",
      "The ASCII value of character n is 110\n",
      "The ASCII value of character i is 105\n",
      "The ASCII value of character n is 110\n",
      "The ASCII value of character g is 103\n"
     ]
    }
   ],
   "source": [
    "string = input(\"Enter a string - \")\n",
    "\n",
    "def ascii_val(x):\n",
    "    for char in x:\n",
    "        ascii_val = ord(char)\n",
    "        print(f'The ASCII value of character {char} is {ascii_val}')\n",
    "\n",
    "ascii_val(string)"
   ]
  },
  {
   "cell_type": "markdown",
   "id": "0655a365",
   "metadata": {},
   "source": [
    "#### 5. Write a Python Program to Make a Simple Calculator with 4 basic mathematical operations?"
   ]
  },
  {
   "cell_type": "code",
   "execution_count": 49,
   "id": "dff6c3b3",
   "metadata": {},
   "outputs": [
    {
     "name": "stdout",
     "output_type": "stream",
     "text": [
      "1. Addition \n",
      "\n",
      "2. Subtraction \n",
      "\n",
      "3. Multiplication \n",
      "\n",
      "4. Division\n",
      "\n",
      " Select the operation you want to perform from the above list - 3\n",
      "Enter the first number - 173716\n",
      "Enter the second number - 323\n",
      "\n",
      " The product 173716 * 323 is 56110268\n",
      "\n",
      " Do you want to continue with another operation? - Choose 'YES' or 'NO' - yes\n",
      "\n",
      " Select the operation you want to perform from the above list - 1\n",
      "Enter the first number - 247\n",
      "Enter the second number - 434\n",
      "\n",
      " The sum 247 + 434 is 681\n",
      "\n",
      " Do you want to continue with another operation? - Choose 'YES' or 'NO' - no\n"
     ]
    }
   ],
   "source": [
    "def add(x, y):\n",
    "    return x + y\n",
    "\n",
    "def subtract(x, y):\n",
    "    return x - y\n",
    "\n",
    "def multiply(x, y):\n",
    "    return x * y\n",
    "\n",
    "def divide (x, y):\n",
    "    return x / y\n",
    "\n",
    "\n",
    "print(\"1. Addition \\n\")\n",
    "print(\"2. Subtraction \\n\")\n",
    "print(\"3. Multiplication \\n\")\n",
    "print(\"4. Division\")\n",
    "\n",
    "\n",
    "\n",
    "while True:\n",
    "    op = input(\"\\n Select the operation you want to perform from the above list - \")\n",
    "    \n",
    "    if op in ['1', '2', '3', '4']:\n",
    "        \n",
    "        a = int(input(\"Enter the first number - \"))\n",
    "        b = int(input(\"Enter the second number - \"))\n",
    "\n",
    "\n",
    "        if op == '1':\n",
    "            print(f'\\n The sum {a} + {b} is {add(a, b)}')\n",
    "        elif op == '2':\n",
    "            print(f'\\n The difference {a} - {b} is {subtract(a, b)}')\n",
    "        elif op == '3':\n",
    "            print(f'\\n The product {a} * {b} is {multiply(a, b)}')\n",
    "        elif op == '4':\n",
    "            print(f'\\n The quotient {a} / {b} is {divide(a, b)}')\n",
    "\n",
    "        cont = input(\"\\n Do you want to continue with another operation? - Choose 'YES' or 'NO' - \").upper()\n",
    "        if cont == 'NO':\n",
    "            break\n",
    "    \n",
    "    else:\n",
    "        print(\"\\n Please select a correct choice\")\n"
   ]
  }
 ],
 "metadata": {
  "kernelspec": {
   "display_name": "Python 3",
   "language": "python",
   "name": "python3"
  },
  "language_info": {
   "codemirror_mode": {
    "name": "ipython",
    "version": 3
   },
   "file_extension": ".py",
   "mimetype": "text/x-python",
   "name": "python",
   "nbconvert_exporter": "python",
   "pygments_lexer": "ipython3",
   "version": "3.8.8"
  }
 },
 "nbformat": 4,
 "nbformat_minor": 5
}
