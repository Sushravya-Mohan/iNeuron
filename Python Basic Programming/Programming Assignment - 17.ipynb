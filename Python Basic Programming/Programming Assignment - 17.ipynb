{
 "cells": [
  {
   "cell_type": "markdown",
   "id": "e5299a8e",
   "metadata": {},
   "source": [
    "# Assignment - 17"
   ]
  },
  {
   "cell_type": "markdown",
   "id": "f986057e",
   "metadata": {},
   "source": [
    "#### 1. Create a function that takes three arguments a, b, c and returns the sum of the numbers that are evenly divided by c from the range a, b inclusive."
   ]
  },
  {
   "cell_type": "code",
   "execution_count": 1,
   "id": "1574b0f1",
   "metadata": {},
   "outputs": [
    {
     "name": "stdout",
     "output_type": "stream",
     "text": [
      "0\n",
      "30\n",
      "18\n"
     ]
    }
   ],
   "source": [
    "def evenly_divisible(a, b, c):\n",
    "    \n",
    "    l = []\n",
    "    \n",
    "    for i in range(a, b+1):\n",
    "        if i % c == 0:\n",
    "            l.append(i)\n",
    "        else:\n",
    "            pass\n",
    "        \n",
    "    s = sum(l)\n",
    "    print(s)\n",
    "    \n",
    "evenly_divisible(1, 10, 20)\n",
    "\n",
    "evenly_divisible(1, 10, 2)\n",
    "\n",
    "evenly_divisible(1, 10, 3)"
   ]
  },
  {
   "cell_type": "markdown",
   "id": "cf4899c7",
   "metadata": {},
   "source": [
    "   #### 2. Create a function that returns True if a given inequality expression is correct and False otherwise."
   ]
  },
  {
   "cell_type": "code",
   "execution_count": 4,
   "id": "ead9b83c",
   "metadata": {},
   "outputs": [
    {
     "name": "stdout",
     "output_type": "stream",
     "text": [
      "True\n",
      "False\n",
      "True\n"
     ]
    }
   ],
   "source": [
    "def correct_signs(s):\n",
    "    \n",
    "    exp = eval(s)\n",
    "    \n",
    "    if exp:\n",
    "        return True\n",
    "    else:\n",
    "        return False\n",
    "    \n",
    "print(correct_signs(\"3 < 7 < 11\"))\n",
    "\n",
    "print(correct_signs(\"13 > 44 > 33 > 1\"))\n",
    "\n",
    "print(correct_signs(\"1 < 2 < 6 < 9 > 3\"))"
   ]
  },
  {
   "cell_type": "markdown",
   "id": "ad8249ef",
   "metadata": {},
   "source": [
    "#### 3. Create a function that replaces all the vowels in a string with a specified character."
   ]
  },
  {
   "cell_type": "code",
   "execution_count": 6,
   "id": "c8a94cde",
   "metadata": {},
   "outputs": [
    {
     "name": "stdout",
     "output_type": "stream",
     "text": [
      "th# ##rdv#rk\n",
      "m?nn?? m??s?\n",
      "sh*k*sp**r*\n"
     ]
    }
   ],
   "source": [
    "def replace_vowels(s, c):\n",
    "    \n",
    "    vowels = [\"a\", \"e\", \"i\", \"o\", \"u\"]    \n",
    "    l = []\n",
    "    \n",
    "    for i in s:\n",
    "        \n",
    "        if i in vowels:\n",
    "            l.append(c)\n",
    "        else:\n",
    "            l.append(i)\n",
    "            \n",
    "    print(\"\".join(l))\n",
    "    \n",
    "replace_vowels(\"the aardvark\", \"#\")\n",
    "\n",
    "replace_vowels(\"minnie mouse\", \"?\")\n",
    "\n",
    "replace_vowels(\"shakespeare\", \"*\")"
   ]
  },
  {
   "cell_type": "markdown",
   "id": "a9af6e3c",
   "metadata": {},
   "source": [
    "#### 4. Write a function that calculates the factorial of a number recursively."
   ]
  },
  {
   "cell_type": "code",
   "execution_count": 11,
   "id": "0bc71353",
   "metadata": {},
   "outputs": [
    {
     "name": "stdout",
     "output_type": "stream",
     "text": [
      "120\n",
      "6\n",
      "1\n",
      "1\n"
     ]
    }
   ],
   "source": [
    "def factorial(n):\n",
    "    r = 1\n",
    "    \n",
    "    while n > 0:\n",
    "        r = r * n\n",
    "        n = n - 1\n",
    "        \n",
    "    return r\n",
    "\n",
    "print(factorial(5))\n",
    "\n",
    "print(factorial(3))\n",
    "\n",
    "print(factorial(1))\n",
    "\n",
    "print(factorial(0))"
   ]
  },
  {
   "cell_type": "markdown",
   "id": "34f4f3ab",
   "metadata": {},
   "source": [
    "#### 5. Hamming distance is the number of characters that differ between two strings. Create a function that computes the hamming distance between two strings.\n"
   ]
  },
  {
   "cell_type": "code",
   "execution_count": 14,
   "id": "28250c9b",
   "metadata": {},
   "outputs": [
    {
     "name": "stdout",
     "output_type": "stream",
     "text": [
      "5\n",
      "0\n",
      "1\n"
     ]
    }
   ],
   "source": [
    "def hamming_distance(s1, s2):\n",
    "    \n",
    "    hd = 0\n",
    "    \n",
    "    for i in range(len(s1)):\n",
    "        if s1[i] == s2[i]:\n",
    "            hd += 0\n",
    "        else:\n",
    "            hd += 1\n",
    "            \n",
    "    return hd\n",
    "\n",
    "print(hamming_distance(\"abcde\", \"bcdef\"))\n",
    "print(hamming_distance(\"abcde\", \"abcde\"))\n",
    "print(hamming_distance(\"strong\", \"strung\"))"
   ]
  }
 ],
 "metadata": {
  "kernelspec": {
   "display_name": "Python 3",
   "language": "python",
   "name": "python3"
  },
  "language_info": {
   "codemirror_mode": {
    "name": "ipython",
    "version": 3
   },
   "file_extension": ".py",
   "mimetype": "text/x-python",
   "name": "python",
   "nbconvert_exporter": "python",
   "pygments_lexer": "ipython3",
   "version": "3.8.8"
  }
 },
 "nbformat": 4,
 "nbformat_minor": 5
}
