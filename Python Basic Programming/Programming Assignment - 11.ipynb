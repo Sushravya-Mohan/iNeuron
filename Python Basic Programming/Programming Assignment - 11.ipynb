{
 "cells": [
  {
   "cell_type": "markdown",
   "id": "2be79761",
   "metadata": {},
   "source": [
    "# Assignment - 11\n",
    "\n",
    "\n",
    "\n"
   ]
  },
  {
   "cell_type": "markdown",
   "id": "6f726a0b",
   "metadata": {},
   "source": [
    "#### 1. Write a Python program to find words which are greater than given length k?"
   ]
  },
  {
   "cell_type": "code",
   "execution_count": 7,
   "id": "0e61b692",
   "metadata": {},
   "outputs": [
    {
     "name": "stdout",
     "output_type": "stream",
     "text": [
      "Enter a sentence - It is raining heavily today . The weather forecast department has predicted heavy rainfall for the next two days\n",
      "Enter a the length k - 4\n",
      "The words whose length are greater than 4 are ['raining', 'heavily', 'today', 'weather', 'forecast', 'department', 'predicted', 'heavy', 'rainfall']\n"
     ]
    }
   ],
   "source": [
    "def words_len(s,k):\n",
    "    w = []\n",
    "    l = s.split(\" \")\n",
    "    for i in l:\n",
    "        if len(i) > k:\n",
    "            w.append(i)\n",
    "        else:\n",
    "            pass\n",
    "    print(f'The words whose length are greater than {k} are {w}')\n",
    "        \n",
    "s = input(\"Enter a sentence - \")\n",
    "k = int(input(\"Enter a the length k - \"))\n",
    "\n",
    "\n",
    "\n",
    "words_len(s,k)\n"
   ]
  },
  {
   "cell_type": "markdown",
   "id": "6495247a",
   "metadata": {},
   "source": [
    "#### 2. Write a Python program for removing i-th character from a string?"
   ]
  },
  {
   "cell_type": "code",
   "execution_count": 25,
   "id": "b641b203",
   "metadata": {},
   "outputs": [
    {
     "name": "stdout",
     "output_type": "stream",
     "text": [
      "Enter a string - Programming\n",
      "Enter the position of character to be removed - 9\n",
      "The string obtained after removing the character 3 from Programming is Programmng\n"
     ]
    }
   ],
   "source": [
    "def remove_char(s,i):\n",
    "    \n",
    "    l = []\n",
    "    new_string = ''\n",
    "    \n",
    "    if len(s) >= i:\n",
    "        for j in range(len(s)):\n",
    "            if j != (i-1):\n",
    "                l.append(s[j])\n",
    "            else:\n",
    "                pass\n",
    "        \n",
    "        for k in l:\n",
    "            new_string += k\n",
    "            \n",
    "        print(f'The string obtained after removing the character {3} from {s} is {new_string}')\n",
    "    \n",
    "    else:\n",
    "        print(f'The length of the string is smaller than {i}')\n",
    "    \n",
    "    pass     \n",
    "\n",
    "s = input('Enter a string - ')\n",
    "i = int(input('Enter the position of character to be removed - '))\n",
    "\n",
    "\n",
    "remove_char(s,i)"
   ]
  },
  {
   "cell_type": "markdown",
   "id": "6d3eca6f",
   "metadata": {},
   "source": [
    "#### 3. Write a Python program to split and join a string?"
   ]
  },
  {
   "cell_type": "code",
   "execution_count": 26,
   "id": "c24b8364",
   "metadata": {},
   "outputs": [
    {
     "name": "stdout",
     "output_type": "stream",
     "text": [
      "Enter a string - Intelligence\n",
      "\n",
      "After splitting the string we get ['I', 'n', 't', 'e', 'l', 'l', 'i', 'g', 'e', 'n', 'c', 'e'] \n",
      "\n",
      "After joining the string we get Intelligence \n",
      "\n"
     ]
    }
   ],
   "source": [
    "def split_join(s):\n",
    "    \n",
    "    l = []\n",
    "    string = ''\n",
    "    \n",
    "    for i in s:\n",
    "        l.append(i)\n",
    "    \n",
    "    for j in l:\n",
    "        string += j\n",
    "    \n",
    "    print(f'\\nAfter splitting the string we get {l} \\n')\n",
    "    print(f'After joining the string we get {string} \\n')\n",
    "\n",
    "s = input('Enter a string - ')\n",
    "\n",
    "split_join(s)\n"
   ]
  },
  {
   "cell_type": "markdown",
   "id": "582767de",
   "metadata": {},
   "source": [
    "#### 4. Write a Python to check if a given string is binary string or not?"
   ]
  },
  {
   "cell_type": "code",
   "execution_count": 32,
   "id": "021dfaeb",
   "metadata": {},
   "outputs": [
    {
     "name": "stdout",
     "output_type": "stream",
     "text": [
      "Enter a string - 01100000001\n",
      "The string 01100000001 is a binary string\n"
     ]
    }
   ],
   "source": [
    "def binary_str(s):\n",
    "    \n",
    "    count = 0\n",
    "    \n",
    "    for i in s:\n",
    "        if i!='1' and i!='0':\n",
    "            count += 1\n",
    "    \n",
    "    if count > 0:\n",
    "        print(f'The string {s} is not a binary string')\n",
    "    else:\n",
    "        print(f'The string {s} is a binary string')\n",
    "        \n",
    "\n",
    "s = input('Enter a string - ')\n",
    "\n",
    "binary_str(s)        \n",
    "            "
   ]
  },
  {
   "cell_type": "markdown",
   "id": "0655a365",
   "metadata": {},
   "source": [
    "#### 5. Write a Python program to find uncommon words from two Strings?"
   ]
  },
  {
   "cell_type": "code",
   "execution_count": 38,
   "id": "2e03c323",
   "metadata": {},
   "outputs": [
    {
     "name": "stdout",
     "output_type": "stream",
     "text": [
      "Enter string 1 - Deep Learning and Machine learning\n",
      "Enter string 2 - Artificial Intelligence and Deep Learning\n",
      "The uncommon words are ['Machine', 'learning', 'Artificial', 'Intelligence']\n"
     ]
    }
   ],
   "source": [
    "def uncommon_word(a,b):\n",
    "    \n",
    "    la = a.split(\" \")\n",
    "    lb = b.split(\" \")    \n",
    "    un_w = []\n",
    "    \n",
    "    for m in la:\n",
    "        if m not in lb:\n",
    "            un_w.append(m)\n",
    "        else:\n",
    "            pass\n",
    "    \n",
    "    for n in lb:\n",
    "        if n not in la:\n",
    "            un_w.append(n)\n",
    "        else:\n",
    "            pass\n",
    "            \n",
    "    print(f'The uncommon words are {un_w}')\n",
    "    \n",
    "a = input('Enter string 1 - ')\n",
    "b = input('Enter string 2 - ')\n",
    "\n",
    "uncommon_word(a,b)"
   ]
  },
  {
   "cell_type": "markdown",
   "id": "fefde590",
   "metadata": {},
   "source": [
    "#### 6. Write a Python to find all duplicate characters in string?"
   ]
  },
  {
   "cell_type": "code",
   "execution_count": 3,
   "id": "e6f7a6af",
   "metadata": {},
   "outputs": [
    {
     "name": "stdout",
     "output_type": "stream",
     "text": [
      "Enter a string - Constant\n",
      "The duplicate characters in string Constant are ['n', 't']\n"
     ]
    }
   ],
   "source": [
    "def duplicates(s):\n",
    "    l = []\n",
    "    d = []\n",
    "    \n",
    "    for i in s:\n",
    "        l.append(i)\n",
    "        \n",
    "    for j in l:\n",
    "        if l.count(j) > 1:\n",
    "            if j not in d:\n",
    "                d.append(j)\n",
    "            else:\n",
    "                pass\n",
    "        else:\n",
    "            pass\n",
    "    \n",
    "    print(f'The duplicate characters in string {s} are {d}')\n",
    "    \n",
    "s = input('Enter a string - ')\n",
    "\n",
    "duplicates(s)  \n",
    "    "
   ]
  },
  {
   "cell_type": "markdown",
   "id": "1b81d9c2",
   "metadata": {},
   "source": [
    "#### 7. Write a Python Program to check if a string contains any special character?"
   ]
  },
  {
   "cell_type": "code",
   "execution_count": 18,
   "id": "1d680b93",
   "metadata": {},
   "outputs": [
    {
     "name": "stdout",
     "output_type": "stream",
     "text": [
      "Enter a string - sush@fhd.com#\n",
      "The list of special characters in the string sush@fhd.com# is ['@', '#']\n"
     ]
    }
   ],
   "source": [
    "\n",
    "def sp_char(s):\n",
    "    sp_char = \"\"\"!@#$%^&*()\"-+?_=,<>'/\"\"\"\n",
    "    \n",
    "    l = []\n",
    "    \n",
    "    for i in s:\n",
    "        if i in sp_char:\n",
    "            l.append(i)\n",
    "        else:\n",
    "            pass\n",
    "    \n",
    "      \n",
    "    print(f'The list of special characters in the string {s} is {l}')\n",
    "    \n",
    "\n",
    "s = input('Enter a string - ')\n",
    "\n",
    "sp_char(s)     \n",
    "    "
   ]
  }
 ],
 "metadata": {
  "kernelspec": {
   "display_name": "Python 3",
   "language": "python",
   "name": "python3"
  },
  "language_info": {
   "codemirror_mode": {
    "name": "ipython",
    "version": 3
   },
   "file_extension": ".py",
   "mimetype": "text/x-python",
   "name": "python",
   "nbconvert_exporter": "python",
   "pygments_lexer": "ipython3",
   "version": "3.8.8"
  }
 },
 "nbformat": 4,
 "nbformat_minor": 5
}
