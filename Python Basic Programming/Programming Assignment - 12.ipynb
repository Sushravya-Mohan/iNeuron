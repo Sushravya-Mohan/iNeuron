{
 "cells": [
  {
   "cell_type": "markdown",
   "id": "2be79761",
   "metadata": {},
   "source": [
    "# Assignment - 12\n",
    "\n",
    "\n",
    "\n"
   ]
  },
  {
   "cell_type": "markdown",
   "id": "6f726a0b",
   "metadata": {},
   "source": [
    "#### 1. Write a Python program to Extract Unique values dictionary values?"
   ]
  },
  {
   "cell_type": "code",
   "execution_count": 33,
   "id": "0e61b692",
   "metadata": {},
   "outputs": [
    {
     "name": "stdout",
     "output_type": "stream",
     "text": [
      "The unique dictionary values are - [1, 2, 3, 5, 6, 7, 8, 9, 10, 11, 12]\n"
     ]
    }
   ],
   "source": [
    "def uni_dict(d):\n",
    "    l = []\n",
    "    a = [i for i in d.values()]\n",
    "    for i in a:\n",
    "        for j in range(len(i)):\n",
    "            if i[j] not in l:\n",
    "                l.append(i[j])\n",
    "            else:\n",
    "                pass\n",
    "        l.sort()\n",
    "    print(f'The unique dictionary values are - {l}')\n",
    "\n",
    "dict_1 = {'a' : [5, 6, 7, 8],\n",
    "     'b' : [10, 11, 7, 5],\n",
    "     'c' : [6, 12, 10, 8],\n",
    "     'd' : [1, 2, 5, 9],\n",
    "     'e' : [3, 5, 12, 7]}\n",
    "\n",
    "uni_dict(dict_1)\n",
    "    "
   ]
  },
  {
   "cell_type": "markdown",
   "id": "6495247a",
   "metadata": {},
   "source": [
    "#### 2. Write a Python program to find the sum of all items in a dictionary?"
   ]
  },
  {
   "cell_type": "code",
   "execution_count": 35,
   "id": "b641b203",
   "metadata": {},
   "outputs": [
    {
     "name": "stdout",
     "output_type": "stream",
     "text": [
      "The sum of all items in the dictionary is 13722\n"
     ]
    }
   ],
   "source": [
    "def sum_dict(d):\n",
    "    \n",
    "    s = 0\n",
    "    \n",
    "    for i in d.values():\n",
    "        s += i\n",
    "    \n",
    "    print(f'The sum of all items in the dictionary is {s}')\n",
    "    \n",
    "dict_2 = {'a' : 328, 'b' : 7643, 'c' : 132, 'd' : 5198, 'e' : 421}\n",
    "\n",
    "sum_dict(dict_2)\n",
    "        "
   ]
  },
  {
   "cell_type": "markdown",
   "id": "6d3eca6f",
   "metadata": {},
   "source": [
    "#### 3. Write a Python program to Merging two Dictionaries?"
   ]
  },
  {
   "cell_type": "code",
   "execution_count": 1,
   "id": "c24b8364",
   "metadata": {},
   "outputs": [
    {
     "name": "stdout",
     "output_type": "stream",
     "text": [
      "The merged dictionary is {'a': '10', 'b': '12', 'c': '13', 'd': '14', 'e': '15', 'f': '16'}\n"
     ]
    }
   ],
   "source": [
    "def merge_dict(x, y):\n",
    "    \n",
    "    z = x.copy()\n",
    "    z.update(y)\n",
    "        \n",
    "    print(f'The merged dictionary is {z}')\n",
    "    \n",
    "x = {'a':'10', 'b':'12', 'c':'13'}\n",
    "y = {'d':'14', 'e':'15', 'f':'16'}\n",
    "\n",
    "merge_dict(x,y)"
   ]
  },
  {
   "cell_type": "markdown",
   "id": "582767de",
   "metadata": {},
   "source": [
    "#### 4. Write a Python program to convert key-values list to flat dictionary?"
   ]
  },
  {
   "cell_type": "code",
   "execution_count": 1,
   "id": "021dfaeb",
   "metadata": {},
   "outputs": [
    {
     "name": "stdout",
     "output_type": "stream",
     "text": [
      "The flat dictionary is {'1': 'Jan', '2': 'Feb', '3': 'Mar', '4': 'Apr', '5': 'May', '6': 'Jun', '7': 'Jul', '8': 'Aug', '9': 'Sep', '10': 'Oct', '11': 'Nov', '12': 'Dec'}\n"
     ]
    }
   ],
   "source": [
    "d = {'month_number':['1','2','3','4','5','6','7','8','9','10','11','12'],\n",
    "     'month_name':['Jan','Feb','Mar','Apr','May','Jun','Jul','Aug','Sep','Oct','Nov','Dec']}\n",
    "\n",
    "l = []\n",
    "    \n",
    "for i in d.keys():\n",
    "    l.append(i)\n",
    "        \n",
    "f_d = dict(zip(d[l[0]],d[l[1]]))\n",
    "    \n",
    "print(f'The flat dictionary is {f_d}')"
   ]
  },
  {
   "cell_type": "markdown",
   "id": "0655a365",
   "metadata": {},
   "source": [
    "#### 5. Write a Python program to insertion at the beginning in OrderedDict?"
   ]
  },
  {
   "cell_type": "code",
   "execution_count": 9,
   "id": "2e03c323",
   "metadata": {},
   "outputs": [
    {
     "name": "stdout",
     "output_type": "stream",
     "text": [
      "The resultant dictionary is - OrderedDict([('c', '4'), ('a', '1'), ('b', '2')])\n"
     ]
    }
   ],
   "source": [
    "from collections import OrderedDict\n",
    "\n",
    "new_dict = OrderedDict([('a','1'),('b','2')])\n",
    "new_dict.update({'c':'4'})\n",
    "new_dict.move_to_end('c',last=False)\n",
    "\n",
    "print(f'The resultant dictionary is - {new_dict}')"
   ]
  },
  {
   "cell_type": "markdown",
   "id": "fefde590",
   "metadata": {},
   "source": [
    "#### 6. Write a Python program to check order of character in string using OrderedDict()?"
   ]
  },
  {
   "cell_type": "code",
   "execution_count": 14,
   "id": "e6f7a6af",
   "metadata": {},
   "outputs": [
    {
     "name": "stdout",
     "output_type": "stream",
     "text": [
      "Enter a string - Happy Birthday!\n",
      "Enter the pattern to be checked - ya\n"
     ]
    },
    {
     "data": {
      "text/plain": [
       "'The pattern order is not matching'"
      ]
     },
     "execution_count": 14,
     "metadata": {},
     "output_type": "execute_result"
    }
   ],
   "source": [
    "from collections import OrderedDict\n",
    "\n",
    "def order_char(string, pattern):\n",
    "    new_dict = OrderedDict.fromkeys(string)\n",
    "    p_len = 0\n",
    "    for key,values in new_dict.items():\n",
    "        if(key == pattern[p_len]):\n",
    "            p_len += 1\n",
    "        \n",
    "        if(p_len == len(pattern)):\n",
    "            return 'The pattern order is matching'\n",
    "    \n",
    "    return 'The pattern order is not matching'\n",
    "\n",
    "string = input('Enter a string - ')\n",
    "pattern = input('Enter the pattern to be checked - ')\n",
    "\n",
    "order_char(string, pattern)"
   ]
  },
  {
   "cell_type": "markdown",
   "id": "1b81d9c2",
   "metadata": {},
   "source": [
    "#### 7. Write a Python program to sort Python Dictionaries by Key or Value?"
   ]
  },
  {
   "cell_type": "code",
   "execution_count": 30,
   "id": "1d680b93",
   "metadata": {},
   "outputs": [
    {
     "name": "stdout",
     "output_type": "stream",
     "text": [
      "Enter the sorting choice - VALUE\n",
      "The sorted dictionary by value is {'b': '1', 'a': '3', 'c': '5', 'g': '7', 'i': '9'}\n"
     ]
    }
   ],
   "source": [
    "def sort_dict(d,choice):\n",
    "    \n",
    "    if choice.lower() == 'key':\n",
    "        sd = dict(sorted(d.items(), key = lambda a:a[0]))\n",
    "    elif choice.lower() =='value':\n",
    "        sd = dict(sorted(d.items(), key = lambda a:a[1]))\n",
    "    else:\n",
    "        print('Enter the correct choice')\n",
    "        \n",
    "    print(f'The sorted dictionary by {choice.lower()} is {sd}')\n",
    "    \n",
    "d = {'b': '1', 'c': '5', 'i': '9', 'a': '3', 'g': '7'}\n",
    "choice = input('Enter the sorting choice - ')\n",
    "\n",
    "sort_dict(d, choice)"
   ]
  }
 ],
 "metadata": {
  "kernelspec": {
   "display_name": "Python 3",
   "language": "python",
   "name": "python3"
  },
  "language_info": {
   "codemirror_mode": {
    "name": "ipython",
    "version": 3
   },
   "file_extension": ".py",
   "mimetype": "text/x-python",
   "name": "python",
   "nbconvert_exporter": "python",
   "pygments_lexer": "ipython3",
   "version": "3.8.8"
  }
 },
 "nbformat": 4,
 "nbformat_minor": 5
}
