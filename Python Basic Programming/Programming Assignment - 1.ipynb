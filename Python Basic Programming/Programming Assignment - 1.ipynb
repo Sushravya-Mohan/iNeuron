{
 "cells": [
  {
   "cell_type": "markdown",
   "id": "c1580226",
   "metadata": {},
   "source": [
    "### Write a python program to print \"Hello Python\""
   ]
  },
  {
   "cell_type": "code",
   "execution_count": 1,
   "id": "dcf268ec",
   "metadata": {},
   "outputs": [
    {
     "name": "stdout",
     "output_type": "stream",
     "text": [
      "Hello Python\n"
     ]
    }
   ],
   "source": [
    "print(\"Hello Python\")"
   ]
  },
  {
   "cell_type": "markdown",
   "id": "5e7b11cc",
   "metadata": {},
   "source": [
    "### Write a python program to do arithmetical operations addition and division"
   ]
  },
  {
   "cell_type": "code",
   "execution_count": 2,
   "id": "ddbfdfeb",
   "metadata": {},
   "outputs": [
    {
     "name": "stdout",
     "output_type": "stream",
     "text": [
      "Enter a non-zero integer - 10\n",
      "Enter a non-zero integer - 3\n",
      "\n",
      " Sum - 13\n",
      "\n",
      " Quotient - 3.3333333333333335\n"
     ]
    }
   ],
   "source": [
    "a = int(input(\"Enter a non-zero integer - \"))\n",
    "b = int(input(\"Enter a non-zero integer - \"))\n",
    "\n",
    "def add(a, b):\n",
    "    s = a + b\n",
    "    print(f\"\\n Sum - {s}\")\n",
    "\n",
    "def divide(a, b):\n",
    "    q = a / b\n",
    "    print(f\"\\n Quotient - {q}\")\n",
    "\n",
    "add(a, b)\n",
    "divide(a, b)\n",
    "\n"
   ]
  },
  {
   "cell_type": "markdown",
   "id": "43f270c9",
   "metadata": {},
   "source": [
    "### Write a python program to find the area of a triangle"
   ]
  },
  {
   "cell_type": "code",
   "execution_count": 3,
   "id": "b92c970b",
   "metadata": {},
   "outputs": [
    {
     "name": "stdout",
     "output_type": "stream",
     "text": [
      "Enter the measure of the first side of the triangle 8\n",
      "Enter the measure of the second side of the triangle 6\n",
      "Enter the measure of the third side of the triangle 10\n",
      "\n",
      " Area of the given triangle is 24.0 sq units\n"
     ]
    }
   ],
   "source": [
    "import math\n",
    "\n",
    "a = int(input(\"Enter the measure of the first side of the triangle \"))\n",
    "b = int(input(\"Enter the measure of the second side of the triangle \"))\n",
    "c = int(input(\"Enter the measure of the third side of the triangle \"))\n",
    "\n",
    "def area(a, b, c):\n",
    "    \n",
    "    if(a < 0 or b < 0 or c < 0):\n",
    "        print(\"\\n The values entered are not valid sides of a triangle\")\n",
    "        \n",
    "    elif(abs(a-b) > c or abs(b-c) > a or abs(c-a) > b):\n",
    "        print(\"\\n The difference of two sides of a triangle should be less than the third side\")\n",
    "        \n",
    "    elif((a+b) < c or (b+c) < a or (c+a) < b):\n",
    "        print(\"\\n The sum of two sides of a triangle should be greater than the third side\")\n",
    "        \n",
    "    else:        \n",
    "        s = (a + b + c)/2\n",
    "        a = math.sqrt((s)*(s-a)*(s-b)*(s-c))\n",
    "        print(f\"\\n Area of the given triangle is {a} sq units\")\n",
    "        \n",
    "\n",
    "area(a, b, c)"
   ]
  },
  {
   "cell_type": "markdown",
   "id": "48781b05",
   "metadata": {},
   "source": [
    "### Write a python program to swap two variables"
   ]
  },
  {
   "cell_type": "code",
   "execution_count": 4,
   "id": "4d669a81",
   "metadata": {},
   "outputs": [
    {
     "name": "stdout",
     "output_type": "stream",
     "text": [
      "Enter the first variable - Good\n",
      "Enter the second variable - Bad\n",
      "\n",
      " Before swap : Variable 1 is Good and Variable 2 is Bad\n",
      "\n",
      " After swap : Variable 1 is Bad and Variable 2 is Good\n"
     ]
    }
   ],
   "source": [
    "var1 = input(\"Enter the first variable - \")\n",
    "var2 = input(\"Enter the second variable - \")\n",
    "\n",
    "def swap(var1, var2):\n",
    "    print(f\"\\n Before swap : Variable 1 is {var1} and Variable 2 is {var2}\")\n",
    "    c = var1\n",
    "    var1 = var2\n",
    "    var2 = c\n",
    "    print(f\"\\n After swap : Variable 1 is {var1} and Variable 2 is {var2}\")\n",
    "\n",
    "swap(var1, var2)"
   ]
  },
  {
   "cell_type": "markdown",
   "id": "918c0176",
   "metadata": {},
   "source": [
    "### Write a python program to generate a random number"
   ]
  },
  {
   "cell_type": "code",
   "execution_count": 5,
   "id": "936ff18c",
   "metadata": {},
   "outputs": [
    {
     "name": "stdout",
     "output_type": "stream",
     "text": [
      "\n",
      " The random number is 7952\n"
     ]
    }
   ],
   "source": [
    "import random\n",
    "\n",
    "l = list(range(0,10000))\n",
    "\n",
    "def random_number(l):\n",
    "    n = random.choice(l)\n",
    "    print(f\"\\n The random number is {n}\")\n",
    "\n",
    "random_number(l)"
   ]
  },
  {
   "cell_type": "code",
   "execution_count": null,
   "id": "628269db",
   "metadata": {},
   "outputs": [],
   "source": []
  },
  {
   "cell_type": "code",
   "execution_count": null,
   "id": "c5d40b21",
   "metadata": {},
   "outputs": [],
   "source": []
  }
 ],
 "metadata": {
  "kernelspec": {
   "display_name": "Python 3",
   "language": "python",
   "name": "python3"
  },
  "language_info": {
   "codemirror_mode": {
    "name": "ipython",
    "version": 3
   },
   "file_extension": ".py",
   "mimetype": "text/x-python",
   "name": "python",
   "nbconvert_exporter": "python",
   "pygments_lexer": "ipython3",
   "version": "3.8.8"
  }
 },
 "nbformat": 4,
 "nbformat_minor": 5
}
