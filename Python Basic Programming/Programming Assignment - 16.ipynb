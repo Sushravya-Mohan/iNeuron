{
 "cells": [
  {
   "cell_type": "markdown",
   "id": "e5299a8e",
   "metadata": {},
   "source": [
    "# Assignment - 16"
   ]
  },
  {
   "cell_type": "markdown",
   "id": "f986057e",
   "metadata": {},
   "source": [
    "#### 1. Write a function that stutters a word as if someone is struggling to read it. The first two letters are repeated twice with an ellipsis ... and space after each, and then the word is pronounced with a question mark ?."
   ]
  },
  {
   "cell_type": "code",
   "execution_count": 30,
   "id": "1574b0f1",
   "metadata": {},
   "outputs": [
    {
     "name": "stdout",
     "output_type": "stream",
     "text": [
      "in... in... incredible?\n",
      "en... en... enthusiastic?\n",
      "ou... ou... outstanding?\n"
     ]
    }
   ],
   "source": [
    "def stutter(word):\n",
    "    l = []\n",
    "    for i in range(0,2):\n",
    "        l.extend([word[:2],\"... \"])\n",
    "    l.extend([word,\"?\"])\n",
    "    \n",
    "    print(\"\".join(l))\n",
    "\n",
    "stutter(\"incredible\")\n",
    "\n",
    "stutter(\"enthusiastic\")\n",
    "\n",
    "stutter(\"outstanding\")\n",
    "    "
   ]
  },
  {
   "cell_type": "markdown",
   "id": "cf4899c7",
   "metadata": {},
   "source": [
    "   #### 2.Create a function that takes an angle in radians and returns the corresponding angle in degrees rounded to one decimal place."
   ]
  },
  {
   "cell_type": "code",
   "execution_count": 28,
   "id": "ead9b83c",
   "metadata": {},
   "outputs": [
    {
     "name": "stdout",
     "output_type": "stream",
     "text": [
      "1 radians is 57.3 degrees\n",
      "20 radians is 1145.9 degrees\n",
      "50 radians is 2864.8 degrees\n"
     ]
    }
   ],
   "source": [
    "import math\n",
    "\n",
    "def radians_to_degrees(angle):\n",
    "    \n",
    "    deg = round((180 * angle)/(math.pi),1)\n",
    "    \n",
    "    print(f'{angle} radians is {deg} degrees')\n",
    "    \n",
    "\n",
    "radians_to_degrees(1)\n",
    "\n",
    "radians_to_degrees(20)\n",
    "\n",
    "radians_to_degrees(50)"
   ]
  },
  {
   "cell_type": "markdown",
   "id": "ad8249ef",
   "metadata": {},
   "source": [
    "#### 3. In this challenge, establish if a given integer num is a Curzon number. If 1 plus 2 elevated to num is exactly divisible by 1 plus 2 multiplied by num, then num is a Curzon number. Given a non-negative integer num, implement a function that returns True if num is a Curzon number, or False otherwise."
   ]
  },
  {
   "cell_type": "code",
   "execution_count": 26,
   "id": "c8a94cde",
   "metadata": {},
   "outputs": [
    {
     "name": "stdout",
     "output_type": "stream",
     "text": [
      "True\n",
      "False\n",
      "True\n"
     ]
    }
   ],
   "source": [
    "def is_curzon(num):\n",
    "    \n",
    "    a = (2 ** num) + 1\n",
    "    b = (2 * num) + 1\n",
    "    \n",
    "    if a % b == 0:\n",
    "        print(\"True\")\n",
    "    else:\n",
    "        print(\"False\")\n",
    "    \n",
    "is_curzon(5)\n",
    "\n",
    "is_curzon(10)\n",
    "\n",
    "is_curzon(14)"
   ]
  },
  {
   "cell_type": "markdown",
   "id": "a9af6e3c",
   "metadata": {},
   "source": [
    "#### 4.Given the side length x find the area of a hexagon."
   ]
  },
  {
   "cell_type": "code",
   "execution_count": 31,
   "id": "0bc71353",
   "metadata": {},
   "outputs": [
    {
     "name": "stdout",
     "output_type": "stream",
     "text": [
      "Area of hexagon of side 1 is 2.6\n",
      "Area of hexagon of side 2 is 10.4\n",
      "Area of hexagon of side 3 is 23.4\n"
     ]
    }
   ],
   "source": [
    "import math\n",
    "\n",
    "def area_of_hexagon(x):\n",
    "    \n",
    "    area = round((3 * math.sqrt(3) * x**2)/2,1)\n",
    "    \n",
    "    print(f'Area of hexagon of side {x} is {area}')\n",
    "\n",
    "area_of_hexagon(1)\n",
    "\n",
    "area_of_hexagon(2)\n",
    "\n",
    "area_of_hexagon(3)\n",
    "    "
   ]
  },
  {
   "cell_type": "markdown",
   "id": "34f4f3ab",
   "metadata": {},
   "source": [
    "#### 5. Create a function that returns a base-2 (binary) representation of a base-10 (decimal) string number. To convert is simple: ((2) means base-2 and (10) means base-10) 010101001(2) = 1 + 8 + 32 + 128. Going from right to left, the value of the most right bit is 1, now from that every bit to the left will be x2 the value, value of an 8 bit binary numbers are (256, 128, 64, 32, 16, 8, 4, 2, 1)."
   ]
  },
  {
   "cell_type": "code",
   "execution_count": 35,
   "id": "28250c9b",
   "metadata": {},
   "outputs": [
    {
     "name": "stdout",
     "output_type": "stream",
     "text": [
      "1\n",
      "101\n",
      "1010\n"
     ]
    }
   ],
   "source": [
    "def binary(num):\n",
    "    r = ''\n",
    "    \n",
    "    while num != 0:\n",
    "        \n",
    "        r = str(num % 2) + r\n",
    "        num = num // 2\n",
    "        \n",
    "    print(r)\n",
    "\n",
    "binary(1)\n",
    "binary(5)\n",
    "binary(10)      "
   ]
  },
  {
   "cell_type": "code",
   "execution_count": null,
   "id": "653256c3",
   "metadata": {},
   "outputs": [],
   "source": []
  }
 ],
 "metadata": {
  "kernelspec": {
   "display_name": "Python 3",
   "language": "python",
   "name": "python3"
  },
  "language_info": {
   "codemirror_mode": {
    "name": "ipython",
    "version": 3
   },
   "file_extension": ".py",
   "mimetype": "text/x-python",
   "name": "python",
   "nbconvert_exporter": "python",
   "pygments_lexer": "ipython3",
   "version": "3.8.8"
  }
 },
 "nbformat": 4,
 "nbformat_minor": 5
}
