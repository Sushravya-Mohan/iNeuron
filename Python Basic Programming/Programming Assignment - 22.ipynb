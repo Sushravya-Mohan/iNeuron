{
 "cells": [
  {
   "cell_type": "markdown",
   "id": "e5299a8e",
   "metadata": {},
   "source": [
    "# Assignment - 22\n"
   ]
  },
  {
   "cell_type": "markdown",
   "id": "f986057e",
   "metadata": {},
   "source": [
    "#### 1. Create a function that takes three parameters where:\n",
    "####  x is the start of the range (inclusive).\n",
    "####  y is the end of the range (inclusive).\n",
    "####  n is the divisor to be checked against.\n",
    "####   Return an ordered list with numbers in the range that are divisible by the third parameter n. Return an empty list if there are no numbers that are divisible by n."
   ]
  },
  {
   "cell_type": "code",
   "execution_count": 2,
   "id": "1574b0f1",
   "metadata": {},
   "outputs": [
    {
     "name": "stdout",
     "output_type": "stream",
     "text": [
      "[3, 6, 9]\n",
      "[8]\n",
      "[]\n"
     ]
    }
   ],
   "source": [
    "def list_operation(x, y, n):\n",
    "    \n",
    "    ord_lst = []\n",
    "    \n",
    "    for i in range(x, y+1):\n",
    "        if i%n == 0:\n",
    "            ord_lst.append(i)\n",
    "        else:\n",
    "            pass\n",
    "        \n",
    "    print(ord_lst)\n",
    "        \n",
    "list_operation(1, 10, 3)\n",
    "list_operation(7, 9, 2)\n",
    "list_operation(15, 20, 7)\n",
    "    "
   ]
  },
  {
   "cell_type": "markdown",
   "id": "cf4899c7",
   "metadata": {},
   "source": [
    "   #### 2. Create a function that takes in two lists and returns True if the second list follows the first list by one element, and False otherwise. In other words, determine if the second list is the first list shifted to the right by 1."
   ]
  },
  {
   "cell_type": "code",
   "execution_count": 4,
   "id": "ead9b83c",
   "metadata": {},
   "outputs": [
    {
     "name": "stdout",
     "output_type": "stream",
     "text": [
      "True\n",
      "False\n",
      "True\n",
      "False\n"
     ]
    }
   ],
   "source": [
    "def simon_says(lst1, lst2):\n",
    "    \n",
    "    if lst1[0:-1] == lst2[1:]:\n",
    "        print(True)\n",
    "    else:\n",
    "        print(False)\n",
    "        \n",
    "simon_says([1, 2], [5, 1])\n",
    "simon_says([1, 2], [5, 5])\n",
    "simon_says([1, 2, 3, 4, 5], [0, 1, 2, 3, 4])\n",
    "simon_says([1, 2, 3, 4, 5], [5, 5, 1, 2, 3])"
   ]
  },
  {
   "cell_type": "markdown",
   "id": "ad8249ef",
   "metadata": {},
   "source": [
    "#### 3. A group of friends have decided to start a secret society. The name will be the first letter of each of their names, sorted in alphabetical order. Create a function that takes in a list of names and returns the name of the secret society."
   ]
  },
  {
   "cell_type": "code",
   "execution_count": 6,
   "id": "c8a94cde",
   "metadata": {},
   "outputs": [
    {
     "name": "stdout",
     "output_type": "stream",
     "text": [
      "AMS\n",
      "CHLN\n",
      "CJMPRR\n"
     ]
    }
   ],
   "source": [
    "def society_name(name_lst):\n",
    "    \n",
    "    new_lst = []\n",
    "    \n",
    "    for i in name_lst:\n",
    "        new_lst.append(i[0])\n",
    "    \n",
    "    new_lst.sort()\n",
    "    print(\"\".join(new_lst))\n",
    "    \n",
    "society_name([\"Adam\", \"Sarah\", \"Malcolm\"])\n",
    "society_name([\"Harry\", \"Newt\", \"Luna\", \"Cho\"])\n",
    "society_name([\"Phoebe\", \"Chandler\", \"Rachel\", \"Ross\", \"Monica\", \"Joey\"])"
   ]
  },
  {
   "cell_type": "markdown",
   "id": "a9af6e3c",
   "metadata": {},
   "source": [
    "#### 4. An isogram is a word that has no duplicate letters. Create a function that takes a string and returns either True or False depending on whether or not it&#39;s an &quot;isogram&quot;."
   ]
  },
  {
   "cell_type": "code",
   "execution_count": 15,
   "id": "0bc71353",
   "metadata": {},
   "outputs": [
    {
     "name": "stdout",
     "output_type": "stream",
     "text": [
      "True\n",
      "False\n",
      "False\n",
      "Not a valid input\n"
     ]
    }
   ],
   "source": [
    "def is_isogram(string):\n",
    "    \n",
    "    s = string.lower()\n",
    "    l = s.split(\" \")\n",
    "    count = 0\n",
    "    new_lst = []\n",
    "    \n",
    "    if len(l) > 1:\n",
    "        print(\"Not a valid input\")\n",
    "    else:\n",
    "        for i in s:\n",
    "            if i in new_lst:\n",
    "                new_lst.append(i)\n",
    "                count += 1\n",
    "            else:\n",
    "                new_lst.append(i)\n",
    "                count += 0\n",
    "            \n",
    "        if count > 0:\n",
    "            print(False)\n",
    "        else:\n",
    "            print(True)\n",
    "        \n",
    "is_isogram(\"Algorism\")\n",
    "is_isogram(\"PasSword\")\n",
    "is_isogram(\"Consecutive\")\n",
    "is_isogram(\"Hello World\")"
   ]
  },
  {
   "cell_type": "markdown",
   "id": "34f4f3ab",
   "metadata": {},
   "source": [
    "#### 5. Create a function that takes a string and returns True or False, depending on whether the characters are in order or not."
   ]
  },
  {
   "cell_type": "code",
   "execution_count": 20,
   "id": "28250c9b",
   "metadata": {},
   "outputs": [
    {
     "name": "stdout",
     "output_type": "stream",
     "text": [
      "True\n",
      "False\n",
      "True\n",
      "True\n",
      "Not valid input\n"
     ]
    }
   ],
   "source": [
    "def is_in_order(string):\n",
    "    \n",
    "    lst1 = [i for i in string]\n",
    "    lst1.sort()\n",
    "       \n",
    "    s1 = \"\".join(lst1)\n",
    "    \n",
    "    if len(lst1) == 0:\n",
    "        print(\"Not valid input\")\n",
    "    else:\n",
    "        if string == s1:\n",
    "            print(True)\n",
    "        else:\n",
    "            print(False)\n",
    "        \n",
    "is_in_order(\"abc\")\n",
    "is_in_order(\"edabit\")\n",
    "is_in_order(\"123\")\n",
    "is_in_order(\"xyzz\")\n",
    "is_in_order(\"\")"
   ]
  },
  {
   "cell_type": "code",
   "execution_count": null,
   "id": "a0273d65",
   "metadata": {},
   "outputs": [],
   "source": []
  }
 ],
 "metadata": {
  "kernelspec": {
   "display_name": "Python 3",
   "language": "python",
   "name": "python3"
  },
  "language_info": {
   "codemirror_mode": {
    "name": "ipython",
    "version": 3
   },
   "file_extension": ".py",
   "mimetype": "text/x-python",
   "name": "python",
   "nbconvert_exporter": "python",
   "pygments_lexer": "ipython3",
   "version": "3.8.8"
  }
 },
 "nbformat": 4,
 "nbformat_minor": 5
}
