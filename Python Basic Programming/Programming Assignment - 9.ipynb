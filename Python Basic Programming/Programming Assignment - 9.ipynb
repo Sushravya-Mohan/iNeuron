{
 "cells": [
  {
   "cell_type": "markdown",
   "id": "2be79761",
   "metadata": {},
   "source": [
    "# Assignment - 9\n"
   ]
  },
  {
   "cell_type": "markdown",
   "id": "6f726a0b",
   "metadata": {},
   "source": [
    "#### 1. Write a Python program to check if the given number is a Disarium Number?"
   ]
  },
  {
   "cell_type": "code",
   "execution_count": 48,
   "id": "9d0b6682",
   "metadata": {},
   "outputs": [
    {
     "name": "stdout",
     "output_type": "stream",
     "text": [
      "Enter a number of your choice - 518\n",
      "518 is a Disarium number\n"
     ]
    }
   ],
   "source": [
    "def disarium(x):\n",
    "    m = [i for i in x]\n",
    "    s = 0\n",
    "    for j in range(len(m)):\n",
    "        s = s + int(m[j])**(j+1)\n",
    "        \n",
    "    if s == int(x):\n",
    "        print(f'{x} is a Disarium number')\n",
    "    else:\n",
    "        print(f'{x} is not a Disarium number') \n",
    "\n",
    "        \n",
    "num = input(\"Enter a number of your choice - \")        \n",
    "disarium(num)\n",
    "    "
   ]
  },
  {
   "cell_type": "markdown",
   "id": "6495247a",
   "metadata": {},
   "source": [
    "#### 2. Write a Python program to print all disarium numbers between 1 to 100?"
   ]
  },
  {
   "cell_type": "code",
   "execution_count": 29,
   "id": "b641b203",
   "metadata": {},
   "outputs": [
    {
     "name": "stdout",
     "output_type": "stream",
     "text": [
      "The Disarium numbers between 1 to 100 are - \n",
      "[1, 2, 3, 4, 5, 6, 7, 8, 9, 89]\n"
     ]
    }
   ],
   "source": [
    "def dis1_100():\n",
    "    \"\"\"Prints all the disarium numbers between 1 to 100\"\"\"\n",
    "    l = []\n",
    "    for i in range(1,101):\n",
    "        i = str(i)\n",
    "        m = [j for j in i]\n",
    "        s = 0       \n",
    "        for k in range(0,len(m)):\n",
    "            s = s + int(m[k])**(k+1)\n",
    "        \n",
    "        if s == int(i):\n",
    "            l.append(s)\n",
    "    return l\n",
    "\n",
    "print('The Disarium numbers between 1 to 100 are - ')\n",
    "print(dis1_100())\n"
   ]
  },
  {
   "cell_type": "markdown",
   "id": "6d3eca6f",
   "metadata": {},
   "source": [
    "#### 3. Write a Python program to check if the given number is Happy Number?"
   ]
  },
  {
   "cell_type": "code",
   "execution_count": 43,
   "id": "86a472d9",
   "metadata": {},
   "outputs": [
    {
     "name": "stdout",
     "output_type": "stream",
     "text": [
      "Enter a number of your choice - 97\n",
      "97 is a Happy Number\n"
     ]
    }
   ],
   "source": [
    "def happy_no(x):\n",
    "    r = 0\n",
    "    s = 0\n",
    "    \n",
    "    while (x > 0):\n",
    "        r = x%10\n",
    "        s = s + (r*r)\n",
    "        x = x//10\n",
    "    return s\n",
    "\n",
    "\n",
    "\n",
    "a = int(input('Enter a number of your choice - '))\n",
    "result = a\n",
    "\n",
    "while(result != 1 and result != 4):\n",
    "    result = happy_no(result)\n",
    "    \n",
    "if(result == 1):\n",
    "    print(f'{a} is a Happy Number')\n",
    "elif(result == 4):\n",
    "    print(f'{a} is not a Happy Number')\n",
    "        \n",
    "    "
   ]
  },
  {
   "cell_type": "markdown",
   "id": "582767de",
   "metadata": {},
   "source": [
    "#### 4. Write a Python program to print all happy numbers between 1 and 100?"
   ]
  },
  {
   "cell_type": "code",
   "execution_count": 45,
   "id": "021dfaeb",
   "metadata": {},
   "outputs": [
    {
     "name": "stdout",
     "output_type": "stream",
     "text": [
      "The Happy Numbers between 1 and 100 are - \n",
      "\n",
      "[1, 7, 10, 13, 19, 23, 28, 31, 32, 44, 49, 68, 70, 79, 82, 86, 91, 94, 97, 100]\n"
     ]
    }
   ],
   "source": [
    "l = []\n",
    "for i in range(1,101):\n",
    "    result = i\n",
    "    \n",
    "    while(result != 1 and result != 4):\n",
    "        result = happy_no(result)\n",
    "    \n",
    "    if(result == 1):\n",
    "        l.append(i)\n",
    "    else:\n",
    "        pass\n",
    "    \n",
    "print('The Happy Numbers between 1 and 100 are - \\n')\n",
    "print(l)"
   ]
  },
  {
   "cell_type": "markdown",
   "id": "0655a365",
   "metadata": {},
   "source": [
    "#### 5. Write a Python program to determine whether the given number is a Harshad Number?"
   ]
  },
  {
   "cell_type": "code",
   "execution_count": 50,
   "id": "2e03c323",
   "metadata": {},
   "outputs": [
    {
     "name": "stdout",
     "output_type": "stream",
     "text": [
      "Enter a number of your choice - 156\n",
      "156 is a Harshad number\n"
     ]
    }
   ],
   "source": [
    "def harshad_no(x):\n",
    "    r = 0\n",
    "    s = 0\n",
    "    n = x\n",
    "    \n",
    "    while(n > 0):\n",
    "        r = n % 10\n",
    "        s = s + r\n",
    "        n = n // 10\n",
    "        \n",
    "    if(n % s == 0):\n",
    "        print(f'{x} is a Harshad number')\n",
    "    else:\n",
    "        print(f'{x} is not a Harshad number')\n",
    "        \n",
    "num = int(input('Enter a number of your choice - '))\n",
    "harshad_no(num)\n",
    "\n",
    "        "
   ]
  },
  {
   "cell_type": "markdown",
   "id": "fefde590",
   "metadata": {},
   "source": [
    "#### 6. Write a Python program to print all pronic numbers between 1 and 100?"
   ]
  },
  {
   "cell_type": "code",
   "execution_count": 52,
   "id": "e6f7a6af",
   "metadata": {},
   "outputs": [
    {
     "name": "stdout",
     "output_type": "stream",
     "text": [
      "The pronic numbers between 1 and 100 are - \n",
      "\n",
      "[2, 6, 12, 20, 30, 42, 56, 72, 90]\n"
     ]
    }
   ],
   "source": [
    "l = []\n",
    "for i in range(1, 101):\n",
    "    p = i * (i+1)\n",
    "    if p <= 100:\n",
    "        l.append(p)\n",
    "\n",
    "print('The pronic numbers between 1 and 100 are - \\n')\n",
    "print(l)\n",
    "        \n",
    "    "
   ]
  }
 ],
 "metadata": {
  "kernelspec": {
   "display_name": "Python 3",
   "language": "python",
   "name": "python3"
  },
  "language_info": {
   "codemirror_mode": {
    "name": "ipython",
    "version": 3
   },
   "file_extension": ".py",
   "mimetype": "text/x-python",
   "name": "python",
   "nbconvert_exporter": "python",
   "pygments_lexer": "ipython3",
   "version": "3.8.8"
  }
 },
 "nbformat": 4,
 "nbformat_minor": 5
}
