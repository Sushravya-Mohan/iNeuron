{
 "cells": [
  {
   "cell_type": "markdown",
   "id": "e5299a8e",
   "metadata": {},
   "source": [
    "# Assignment - 13"
   ]
  },
  {
   "cell_type": "markdown",
   "id": "f986057e",
   "metadata": {},
   "source": [
    "#### 1. Write a program that calculates and prints the value according to the given formula: \n",
    "#### Q = Square root of [(2 * C * D)/H]\n",
    "#### Following are the fixed values of C and H: \n",
    "#### C is 50. H is 30. \n",
    "#### D is the variable whose values should be input to your program in a comma-separated sequence."
   ]
  },
  {
   "cell_type": "code",
   "execution_count": 5,
   "id": "1574b0f1",
   "metadata": {},
   "outputs": [
    {
     "name": "stdout",
     "output_type": "stream",
     "text": [
      "Enter the values of D separted by commas - 100,150,180\n",
      "The ouput values are - [18, 22, 24]\n"
     ]
    }
   ],
   "source": [
    "import math\n",
    "\n",
    "def f1(values):\n",
    "    C = 50\n",
    "    H = 30\n",
    "    s = []\n",
    "    l = values.split(\",\")\n",
    "    \n",
    "    for D in l:\n",
    "        Q = round(math.sqrt((2*C*int(D)/H)))\n",
    "        s.append(Q)\n",
    "    \n",
    "    print(f'The ouput values are - {s}')\n",
    "\n",
    "values = input('Enter the values of D separted by commas - ')\n",
    "    \n",
    "f1(values)"
   ]
  },
  {
   "cell_type": "markdown",
   "id": "cf4899c7",
   "metadata": {},
   "source": [
    "   #### 2. Write a program which takes 2 digits, X,Y as input and generates a 2-dimensional array. The element value in the i-th row and j-th column of the array should be i*j.\n",
    "   \n",
    "   #### Note: i=0,1.., X-1; j=0,1,¡Y-1."
   ]
  },
  {
   "cell_type": "code",
   "execution_count": 13,
   "id": "ead9b83c",
   "metadata": {},
   "outputs": [
    {
     "name": "stdout",
     "output_type": "stream",
     "text": [
      "Enter the first digit - 3\n",
      "Enter the second digit - 5\n",
      "The 2d-array is [[0, 0, 0, 0, 0], [0, 1, 2, 3, 4], [0, 2, 4, 6, 8]]\n"
     ]
    }
   ],
   "source": [
    "def arr_2d(X, Y):\n",
    "    \n",
    "    arr_2 = [[0 for y in range(Y)] for x in range(X)]\n",
    "    \n",
    "    for i in range(0, X):\n",
    "        for j in range(0, Y):\n",
    "            arr_2[i][j] = i*j   \n",
    "    \n",
    "    print(f'The 2d-array is {arr_2}')\n",
    "\n",
    "X = int(input('Enter the first digit - '))\n",
    "Y = int(input('Enter the second digit - '))\n",
    "\n",
    "arr_2d(X, Y)"
   ]
  },
  {
   "cell_type": "markdown",
   "id": "ad8249ef",
   "metadata": {},
   "source": [
    "#### 3. Write a program that accepts a comma separated sequence of words as input and prints the words in a comma-separated sequence after sorting them alphabetically."
   ]
  },
  {
   "cell_type": "code",
   "execution_count": 19,
   "id": "c8a94cde",
   "metadata": {},
   "outputs": [
    {
     "name": "stdout",
     "output_type": "stream",
     "text": [
      "Enter the sequence of words to be sorted - without,hello,bag,world\n",
      "\n",
      "The sequence after sorting alphabetically is\n",
      "\n",
      "bag,hello,without,world\n"
     ]
    }
   ],
   "source": [
    "def alpha_sort(seq):\n",
    "    \n",
    "    l = seq.split(\",\")\n",
    "    l.sort()\n",
    "    print('\\nThe sequence after sorting alphabetically is\\n')\n",
    "    print(\",\".join(l))\n",
    "    \n",
    "seq = input('Enter the sequence of words to be sorted - ')\n",
    "\n",
    "alpha_sort(seq)\n",
    "    "
   ]
  },
  {
   "cell_type": "markdown",
   "id": "a9af6e3c",
   "metadata": {},
   "source": [
    "#### 4. Write a program that accepts a sequence of whitespace separated words as input and prints the words after removing all duplicate words and sorting them alphanumerically."
   ]
  },
  {
   "cell_type": "code",
   "execution_count": 21,
   "id": "0bc71353",
   "metadata": {},
   "outputs": [
    {
     "name": "stdout",
     "output_type": "stream",
     "text": [
      "Enter the sequence - hello world and practice makes perfect and hello world again\n",
      "\n",
      "The sequence obtained after removing duplicates and sorting is\n",
      "\n",
      "again and hello makes perfect practice world\n"
     ]
    }
   ],
   "source": [
    "def sort_unique(seq):\n",
    "    \n",
    "    l = seq.split(\" \")\n",
    "    m = []\n",
    "    \n",
    "    for i in l:\n",
    "        if i not in m:\n",
    "            m.append(i)\n",
    "        else:\n",
    "            pass\n",
    "    m.sort()\n",
    "    print('\\nThe sequence obtained after removing duplicates and sorting is\\n')\n",
    "    print(\" \".join(m))\n",
    "    \n",
    "seq = input('Enter the sequence - ')\n",
    "\n",
    "sort_unique(seq)"
   ]
  },
  {
   "cell_type": "markdown",
   "id": "34f4f3ab",
   "metadata": {},
   "source": [
    "#### 5. Write a program that accepts a sentence and calculate the number of letters and digits."
   ]
  },
  {
   "cell_type": "code",
   "execution_count": 28,
   "id": "28250c9b",
   "metadata": {},
   "outputs": [
    {
     "name": "stdout",
     "output_type": "stream",
     "text": [
      "Enter the sentence - hello world! 123\n",
      "\n",
      "LETTERS 10\n",
      "\n",
      "DIGITS 3\n"
     ]
    }
   ],
   "source": [
    "def count_ld(seq):\n",
    "    \n",
    "    l = 0\n",
    "    d = 0\n",
    "    \n",
    "    for i in seq:\n",
    "        if i.isdigit() == True:\n",
    "            d += 1\n",
    "        elif i.isalpha() == True:\n",
    "            l += 1\n",
    "        else:\n",
    "            pass\n",
    "    \n",
    "    print(f'\\nLETTERS {l}')\n",
    "    print(f'\\nDIGITS {d}')\n",
    "    \n",
    "seq = input('Enter the sentence - ')\n",
    "\n",
    "count_ld(seq)"
   ]
  },
  {
   "cell_type": "markdown",
   "id": "24636018",
   "metadata": {},
   "source": [
    "#### 6. A website requires the users to input username and password to register. Write a program to check the validity of password input by users.\n",
    "#### Following are the criteria for checking the password:\n",
    "#### 1. At least 1 letter between [a-z]\n",
    "#### 2. At least 1 number between [0-9]\n",
    "#### 1. At least 1 letter between [A-Z]\n",
    "#### 3. At least 1 character from [$#@]\n",
    "#### 4. Minimum length of transaction password: 6\n",
    "#### 5. Maximum length of transaction password: 12\n",
    "#### Your program should accept a sequence of comma separated passwords and will check them according to the above criteria. Passwords that match the criteria are to be printed, each separated by a comma."
   ]
  },
  {
   "cell_type": "code",
   "execution_count": 64,
   "id": "90969c20",
   "metadata": {},
   "outputs": [
    {
     "name": "stdout",
     "output_type": "stream",
     "text": [
      "Enter a sequence of passwords separated by commas - ABd1234@1,a F1#,2w3E*,2We3345\n",
      "\n",
      "The accepted passwords are - \n",
      "ABd1234@1\n"
     ]
    }
   ],
   "source": [
    "import re\n",
    "\n",
    "def password(seq):\n",
    "    \n",
    "    pw_accept = []\n",
    "    \n",
    "    p_w = seq.split(\",\")\n",
    "    \n",
    "    for i in p_w:\n",
    "        \n",
    "        if len(i) < 6 or len(i) > 12:\n",
    "            continue\n",
    "        \n",
    "        elif not re.search(\"([a-z])+\", i):\n",
    "            continue\n",
    "            \n",
    "        elif not re.search(\"([0-9])+\",i):\n",
    "            continue\n",
    "            \n",
    "        elif not re.search(\"([A-Z])+\",i):\n",
    "            continue\n",
    "            \n",
    "        elif not re.search(\"([$#@])\",i):\n",
    "            continue\n",
    "            \n",
    "        else:\n",
    "            pw_accept.append(i)\n",
    "    \n",
    "    print('\\nThe accepted passwords are - ')            \n",
    "    print(\",\".join(pw_accept))\n",
    "\n",
    "    \n",
    "seq = input('Enter a sequence of passwords separated by commas - ')\n",
    "\n",
    "password(seq)"
   ]
  }
 ],
 "metadata": {
  "kernelspec": {
   "display_name": "Python 3",
   "language": "python",
   "name": "python3"
  },
  "language_info": {
   "codemirror_mode": {
    "name": "ipython",
    "version": 3
   },
   "file_extension": ".py",
   "mimetype": "text/x-python",
   "name": "python",
   "nbconvert_exporter": "python",
   "pygments_lexer": "ipython3",
   "version": "3.8.8"
  }
 },
 "nbformat": 4,
 "nbformat_minor": 5
}
