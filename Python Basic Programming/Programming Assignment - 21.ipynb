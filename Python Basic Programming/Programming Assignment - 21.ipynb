{
 "cells": [
  {
   "cell_type": "markdown",
   "id": "e5299a8e",
   "metadata": {},
   "source": [
    "# Assignment - 21\n"
   ]
  },
  {
   "cell_type": "markdown",
   "id": "f986057e",
   "metadata": {},
   "source": [
    "#### 1. Write a function that takes a list and a number as arguments. Add the number to the end of the list, then remove the first element of the list. The function should then return the updated list."
   ]
  },
  {
   "cell_type": "code",
   "execution_count": 7,
   "id": "1574b0f1",
   "metadata": {},
   "outputs": [
    {
     "name": "stdout",
     "output_type": "stream",
     "text": [
      "[6, 7, 8, 9, 1]\n",
      "[6, 3, 23, 17, 10]\n",
      "[10, 20, 42, 6]\n",
      "No list has been selected\n"
     ]
    }
   ],
   "source": [
    "def next_in_line(lst, num):\n",
    "    up_lst = []\n",
    "    \n",
    "    if len(lst) != 0:\n",
    "        for i in range(len(lst)-1):\n",
    "            up_lst.append(lst[i+1])\n",
    "        up_lst.append(num)\n",
    "        print(up_lst)\n",
    "    else:\n",
    "        print(\"No list has been selected\")\n",
    "    \n",
    "next_in_line([5, 6, 7, 8, 9], 1)\n",
    "next_in_line([7, 6, 3, 23, 17], 10)\n",
    "next_in_line([1, 10, 20, 42], 6)\n",
    "next_in_line([], 6)\n",
    "    "
   ]
  },
  {
   "cell_type": "markdown",
   "id": "cf4899c7",
   "metadata": {},
   "source": [
    "   #### 2. Create the function that takes a list of dictionaries and returns the sum of people&#39;s budgets."
   ]
  },
  {
   "cell_type": "code",
   "execution_count": 8,
   "id": "ead9b83c",
   "metadata": {},
   "outputs": [
    {
     "name": "stdout",
     "output_type": "stream",
     "text": [
      "65700\n",
      "62600\n"
     ]
    }
   ],
   "source": [
    "def get_budgets(lst):\n",
    "    \n",
    "    s = 0\n",
    "    \n",
    "    for i in lst:\n",
    "        s += i['budget']\n",
    "    \n",
    "    print(s)\n",
    "    \n",
    "get_budgets([{'name':'John', 'age':21, 'budget':23000 }, \n",
    "             {'name':'Steve', 'age':32, 'budget':40000 },\n",
    "             {'name':'Martin', 'age':16, 'budget':2700 }])\n",
    "get_budgets([{'name':'John', 'age':21, 'budget':29000 }, \n",
    "             {'name':'Steve', 'age':32, 'budget':32000 },\n",
    "             {'name':'Martin', 'age':16, 'budget':1600 }])"
   ]
  },
  {
   "cell_type": "markdown",
   "id": "ad8249ef",
   "metadata": {},
   "source": [
    "#### 3. Create a function that takes a string and returns a string with its letters in alphabetical order.\n"
   ]
  },
  {
   "cell_type": "code",
   "execution_count": 17,
   "id": "c8a94cde",
   "metadata": {},
   "outputs": [
    {
     "name": "stdout",
     "output_type": "stream",
     "text": [
      "ehllo\n",
      "abdeit\n",
      "acehkr\n",
      "eegk\n",
      "aacijprstv\n"
     ]
    }
   ],
   "source": [
    "def alphabet_sort(string):\n",
    "    lst = [i for i in string]\n",
    "    lst.sort()\n",
    "    print(\"\".join(lst))\n",
    "    \n",
    "alphabet_sort(\"hello\")\n",
    "alphabet_sort(\"edabit\")   \n",
    "alphabet_sort(\"hacker\")\n",
    "alphabet_sort(\"geek\")\n",
    "alphabet_sort(\"javascript\")"
   ]
  },
  {
   "cell_type": "markdown",
   "id": "a9af6e3c",
   "metadata": {},
   "source": [
    "#### 4. Suppose that you invest 10,000 dollars for 10 years at an interest rate of 6% compounded monthly. What will be the value of your investment at the end of the 10 year period? \n",
    "\n",
    "#### Create a function that accepts the principal p, the term in years t, the interest rate r, and the number of compounding periods per year n. The function returns the value at the end of term rounded to the nearest cent."
   ]
  },
  {
   "cell_type": "code",
   "execution_count": 30,
   "id": "0bc71353",
   "metadata": {},
   "outputs": [
    {
     "name": "stdout",
     "output_type": "stream",
     "text": [
      "18193.97\n",
      "105.0\n",
      "15399.26\n",
      "2007316.26\n"
     ]
    }
   ],
   "source": [
    "def compound_interest(p, t, r, n):\n",
    "    \"\"\"p : Principal,\n",
    "       t : Term in years,\n",
    "       r : Interest Rate,\n",
    "       n : Number of compounding periods per year\"\"\"\n",
    "    \n",
    "    r = r/100\n",
    "    A = p * ((1 + (r / n))**(n*t))\n",
    "    A = round(A, 2)\n",
    "    print(A)\n",
    "    \n",
    "compound_interest(10000, 10, 6, 12)\n",
    "compound_interest(100, 1, 5, 1)\n",
    "compound_interest(3500, 15, 10, 4)\n",
    "compound_interest(100000, 20, 15, 365)"
   ]
  },
  {
   "cell_type": "markdown",
   "id": "34f4f3ab",
   "metadata": {},
   "source": [
    "#### 5. Write a function that takes a list of elements and returns only the integers."
   ]
  },
  {
   "cell_type": "code",
   "execution_count": 33,
   "id": "28250c9b",
   "metadata": {},
   "outputs": [
    {
     "name": "stdout",
     "output_type": "stream",
     "text": [
      "[9, 2, 16]\n",
      "[81, 123]\n",
      "[10, 56, 20, 3]\n",
      "[1]\n",
      "No integer is present in the given list\n"
     ]
    }
   ],
   "source": [
    "def return_only_integer(lst):\n",
    "    \n",
    "    int_lst = []\n",
    "    \n",
    "    for i in lst:\n",
    "        if type(i) == int:\n",
    "            int_lst.append(i)\n",
    "        else:\n",
    "            pass\n",
    "    \n",
    "    if len(int_lst) == 0:\n",
    "        print(\"No integer is present in the given list\")\n",
    "    else:\n",
    "        print(int_lst)\n",
    "    \n",
    "return_only_integer([9, 2, \"space\", \"car\", \"lion\", 16])\n",
    "return_only_integer([\"hello\", 81, \"basketball\", 123, \"fox\"])\n",
    "return_only_integer([10, \"121\", 56, 20, \"car\", 3, \"lion\"])\n",
    "return_only_integer([\"String\", True, 3.3, 1])\n",
    "return_only_integer([\"hi\", \"lion\", False, 9.76])"
   ]
  },
  {
   "cell_type": "code",
   "execution_count": null,
   "id": "a0273d65",
   "metadata": {},
   "outputs": [],
   "source": []
  }
 ],
 "metadata": {
  "kernelspec": {
   "display_name": "Python 3",
   "language": "python",
   "name": "python3"
  },
  "language_info": {
   "codemirror_mode": {
    "name": "ipython",
    "version": 3
   },
   "file_extension": ".py",
   "mimetype": "text/x-python",
   "name": "python",
   "nbconvert_exporter": "python",
   "pygments_lexer": "ipython3",
   "version": "3.8.8"
  }
 },
 "nbformat": 4,
 "nbformat_minor": 5
}
