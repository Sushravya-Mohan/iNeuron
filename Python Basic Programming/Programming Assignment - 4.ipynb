{
 "cells": [
  {
   "cell_type": "markdown",
   "id": "2be79761",
   "metadata": {},
   "source": [
    "# Assignment - 4"
   ]
  },
  {
   "cell_type": "markdown",
   "id": "6f726a0b",
   "metadata": {},
   "source": [
    "#### 1. Write a python program to find the factorial of a number"
   ]
  },
  {
   "cell_type": "code",
   "execution_count": 6,
   "id": "0e61b692",
   "metadata": {},
   "outputs": [
    {
     "name": "stdout",
     "output_type": "stream",
     "text": [
      "Enter the number : 5\n",
      "The factorial of 5 is 120\n"
     ]
    }
   ],
   "source": [
    "num = int(input(\"Enter the number : \"))\n",
    "\n",
    "def fact(x):\n",
    "    f = 1\n",
    "    for i in range(1, x+1):\n",
    "        f = i * f\n",
    "    print(f\"The factorial of {x} is {f}\")\n",
    "\n",
    "fact(num)"
   ]
  },
  {
   "cell_type": "markdown",
   "id": "6495247a",
   "metadata": {},
   "source": [
    "#### 2. Write a python program to display the multiplication table"
   ]
  },
  {
   "cell_type": "code",
   "execution_count": 15,
   "id": "b641b203",
   "metadata": {},
   "outputs": [
    {
     "name": "stdout",
     "output_type": "stream",
     "text": [
      "Enter the number for which the multiplication table is required : 4\n",
      "The multiplication table for 4 is : \n",
      "4 x 1 = 4\n",
      "4 x 2 = 8\n",
      "4 x 3 = 12\n",
      "4 x 4 = 16\n",
      "4 x 5 = 20\n",
      "4 x 6 = 24\n",
      "4 x 7 = 28\n",
      "4 x 8 = 32\n",
      "4 x 9 = 36\n",
      "4 x 10 = 40\n"
     ]
    }
   ],
   "source": [
    "table = int(input(\"Enter the number for which the multiplication table is required : \"))\n",
    "\n",
    "def mul_tab(x):\n",
    "    print(f\"The multiplication table for {x} is : \", end = \"\\n\")\n",
    "    for i in range(1, 11):\n",
    "        n = x * i\n",
    "        print(f\"{x} x {i} = {n}\")\n",
    "        \n",
    "mul_tab(table)"
   ]
  },
  {
   "cell_type": "markdown",
   "id": "6d3eca6f",
   "metadata": {},
   "source": [
    "#### 3. Write a python program to print the Fibonacci sequence"
   ]
  },
  {
   "cell_type": "code",
   "execution_count": 25,
   "id": "c24b8364",
   "metadata": {},
   "outputs": [
    {
     "name": "stdout",
     "output_type": "stream",
     "text": [
      "Enter the number of terms : 15\n",
      "The fibonacci series containing 15 terms is [0, 1, 1, 2, 3, 5, 8, 13, 21, 34, 55, 89, 144, 233, 377]\n"
     ]
    }
   ],
   "source": [
    "n = int(input(\"Enter the number of terms : \"))\n",
    "\n",
    "def fib(x):\n",
    "    a = 0\n",
    "    b = 1\n",
    "    l = [a]\n",
    "    for i in range(1,x):\n",
    "        a, b = b, a+b\n",
    "        l.append(a)\n",
    "    print(f\"The fibonacci series containing {x} terms is {l}\")\n",
    "        \n",
    "fib(n)"
   ]
  },
  {
   "cell_type": "markdown",
   "id": "582767de",
   "metadata": {},
   "source": [
    "#### 4. Write a python program to check Armstrong number"
   ]
  },
  {
   "cell_type": "code",
   "execution_count": 55,
   "id": "1b52fdc5",
   "metadata": {},
   "outputs": [
    {
     "name": "stdout",
     "output_type": "stream",
     "text": [
      "Enter the number you want to check :153\n",
      "153 is an Armstrong number\n"
     ]
    }
   ],
   "source": [
    "a_num = int(input(\"Enter the number you want to check :\"))\n",
    "\n",
    "def check_arm_no(x):\n",
    "    c = len(str(x))\n",
    "    s = 0\n",
    "    y = x\n",
    "    while y > 0:\n",
    "        p = y % 10\n",
    "        s += p ** c\n",
    "        y //= 10\n",
    "    \n",
    "    if x == s:\n",
    "        print(f\"{x} is an Armstrong number\")\n",
    "    else:\n",
    "        print(f\"{x} is not an Armstrong number\")\n",
    "    \n",
    "check_arm_no(a_num)"
   ]
  },
  {
   "cell_type": "markdown",
   "id": "0655a365",
   "metadata": {},
   "source": [
    "#### 5. Write a python program to find Armstrong number in an interval"
   ]
  },
  {
   "cell_type": "code",
   "execution_count": 69,
   "id": "7629be11",
   "metadata": {},
   "outputs": [
    {
     "name": "stdout",
     "output_type": "stream",
     "text": [
      "Enter the lower bound of the interval : 200\n",
      "Enter the upper bound of the interval : 10000\n",
      "The armstrong numbers in the interval ( 200 , 10000 ) are : [370, 371, 407, 1634, 8208, 9474] \n"
     ]
    }
   ],
   "source": [
    "m = int(input(\"Enter the lower bound of the interval : \"))\n",
    "n = int(input(\"Enter the upper bound of the interval : \"))\n",
    "\n",
    "def find_arm_no(a, b):\n",
    "    l = []\n",
    "    for i in range(a, b):\n",
    "        if i == 0:\n",
    "            l.append(i)\n",
    "        else:\n",
    "            c = len(str(i))\n",
    "            s = 0\n",
    "            y = i\n",
    "            while y > 0:\n",
    "                p = y % 10\n",
    "                s += p ** c\n",
    "                y //= 10\n",
    "            \n",
    "            if i == s:\n",
    "                l.append(i)\n",
    "       \n",
    "    print(f\"The armstrong numbers in the interval ( {a} , {b} ) are : {l} \")\n",
    "       \n",
    "find_arm_no(m, n)"
   ]
  },
  {
   "cell_type": "markdown",
   "id": "e688836c",
   "metadata": {},
   "source": [
    "#### 6. Write a python program to find the sum of natural numbers"
   ]
  },
  {
   "cell_type": "code",
   "execution_count": 75,
   "id": "a547db2e",
   "metadata": {},
   "outputs": [
    {
     "name": "stdout",
     "output_type": "stream",
     "text": [
      "Enter the number : 8\n",
      "The sum of 8 natural numbers is 36\n"
     ]
    }
   ],
   "source": [
    "num = int(input(\"Enter the number : \"))\n",
    "\n",
    "def sum_nn(x):\n",
    "    s = int((x * (x+1))/2)\n",
    "    print(f\"The sum of {x} natural numbers is {s}\")\n",
    "    \n",
    "sum_nn(num)"
   ]
  },
  {
   "cell_type": "code",
   "execution_count": null,
   "id": "dff6c3b3",
   "metadata": {},
   "outputs": [],
   "source": []
  },
  {
   "cell_type": "code",
   "execution_count": null,
   "id": "d345ee09",
   "metadata": {},
   "outputs": [],
   "source": []
  },
  {
   "cell_type": "code",
   "execution_count": null,
   "id": "6bb21931",
   "metadata": {},
   "outputs": [],
   "source": []
  },
  {
   "cell_type": "code",
   "execution_count": null,
   "id": "2edf82c3",
   "metadata": {},
   "outputs": [],
   "source": []
  },
  {
   "cell_type": "code",
   "execution_count": null,
   "id": "bae10521",
   "metadata": {},
   "outputs": [],
   "source": []
  }
 ],
 "metadata": {
  "kernelspec": {
   "display_name": "Python 3",
   "language": "python",
   "name": "python3"
  },
  "language_info": {
   "codemirror_mode": {
    "name": "ipython",
    "version": 3
   },
   "file_extension": ".py",
   "mimetype": "text/x-python",
   "name": "python",
   "nbconvert_exporter": "python",
   "pygments_lexer": "ipython3",
   "version": "3.8.8"
  }
 },
 "nbformat": 4,
 "nbformat_minor": 5
}
