{
 "cells": [
  {
   "cell_type": "markdown",
   "id": "2be79761",
   "metadata": {},
   "source": [
    "# Assignment - 7\n"
   ]
  },
  {
   "cell_type": "markdown",
   "id": "6f726a0b",
   "metadata": {},
   "source": [
    "#### 1. Write a Python Program to find sum of array?"
   ]
  },
  {
   "cell_type": "code",
   "execution_count": 17,
   "id": "0e61b692",
   "metadata": {},
   "outputs": [
    {
     "name": "stdout",
     "output_type": "stream",
     "text": [
      "Sum of the array [45, 22, 31, 14, 59] is 171\n"
     ]
    }
   ],
   "source": [
    "# For array of numbers\n",
    "\n",
    "def sum_of_array(x):\n",
    "    s = 0\n",
    "    for i in range(len(x)):\n",
    "        s = s + x[i]\n",
    "    print(f'Sum of the array {x} is {s}')\n",
    "    \n",
    "a = [45,22,31,14,59]\n",
    "\n",
    "sum_of_array(a)"
   ]
  },
  {
   "cell_type": "code",
   "execution_count": 18,
   "id": "dd8da2c0",
   "metadata": {},
   "outputs": [
    {
     "name": "stdout",
     "output_type": "stream",
     "text": [
      "Sum of the array ['cat', 'dog', 'kitten', 'puppy'] is catdogkittenpuppy\n"
     ]
    }
   ],
   "source": [
    "# For array of strings\n",
    "\n",
    "def sum_of_array(x):\n",
    "    s = ''\n",
    "    for i in range(len(x)):\n",
    "        s = s + x[i]\n",
    "    print(f'Sum of the array {x} is {s}')\n",
    "    \n",
    "a = ['cat', 'dog', 'kitten', 'puppy']\n",
    "\n",
    "sum_of_array(a)"
   ]
  },
  {
   "cell_type": "markdown",
   "id": "6495247a",
   "metadata": {},
   "source": [
    "#### 2. Write a Python Program to find largest element in an array?"
   ]
  },
  {
   "cell_type": "code",
   "execution_count": 16,
   "id": "e8c3973d",
   "metadata": {},
   "outputs": [
    {
     "name": "stdout",
     "output_type": "stream",
     "text": [
      "\n",
      " The largest element in the array [32, 434, 42.21, -98, 76] is 434\n",
      "\n",
      " The largest element in the array ['apple', 'mangoes', 'kiwi', 'orange'] is orange\n"
     ]
    }
   ],
   "source": [
    "a = [32, 434, 42.21, -98, 76]\n",
    "\n",
    "b = [\"apple\", \"mangoes\", \"kiwi\", \"orange\"]\n",
    "\n",
    "print(f'\\n The largest element in the array {a} is {max(a)}')\n",
    "\n",
    "print(f'\\n The largest element in the array {b} is {max(b)}')\n"
   ]
  },
  {
   "cell_type": "markdown",
   "id": "6d3eca6f",
   "metadata": {},
   "source": [
    "#### 3. Write a Python Program for array rotation?"
   ]
  },
  {
   "cell_type": "code",
   "execution_count": 37,
   "id": "c24b8364",
   "metadata": {},
   "outputs": [
    {
     "name": "stdout",
     "output_type": "stream",
     "text": [
      "\n",
      " The given array is ['apple', 'mango', 'kiwi', 'orange', 'pineapple', 'banana']\n",
      "\n",
      " The array rotated by 2 places is ['kiwi', 'orange', 'pineapple', 'banana', 'apple', 'mango']\n",
      "\n",
      " The array rotated by 1 place is ['mango', 'kiwi', 'orange', 'pineapple', 'banana', 'apple']\n"
     ]
    }
   ],
   "source": [
    "def array_rot(x, n):\n",
    "    a_r = []\n",
    "    for i in range(n, len(x)+n):\n",
    "        if i < len(x):\n",
    "            a_r.append(x[i])\n",
    "        else:\n",
    "            a_r.append(x[(i)-len(x)])\n",
    "    return a_r\n",
    "    \n",
    "a = ['apple', 'mango', 'kiwi', 'orange', 'pineapple', 'banana']\n",
    "\n",
    "print(f'\\n The given array is {a}')\n",
    "\n",
    "print(f'\\n The array rotated by 2 places is {array_rot(a, 2)}')\n",
    "\n",
    "print(f'\\n The array rotated by 1 place is {array_rot(a, 1)}')"
   ]
  },
  {
   "cell_type": "markdown",
   "id": "582767de",
   "metadata": {},
   "source": [
    "#### 4. Write a Python Program to Split the array and add the first part to the end?"
   ]
  },
  {
   "cell_type": "code",
   "execution_count": 41,
   "id": "021dfaeb",
   "metadata": {},
   "outputs": [
    {
     "name": "stdout",
     "output_type": "stream",
     "text": [
      "\n",
      " The array after splitting is [5, 6, 7, 1, 2, 3, 4]\n",
      "\n",
      " The array after splitting is ['orange', 'banana', 'grapes', 'apple', 'mango', 'kiwi']\n"
     ]
    }
   ],
   "source": [
    "def array_split(x):\n",
    "    a_r = []\n",
    "    m = int(len(x)/2)\n",
    "    n = int((len(x)/2)+1)\n",
    "    if len(x)%2 == 0:\n",
    "        a_r = x[m:2*m] + x[0:m]\n",
    "    else:\n",
    "        a_r = x[n:2*n] + x[0:n]\n",
    "    \n",
    "    return a_r\n",
    "    \n",
    "\n",
    "a = [1, 2, 3, 4, 5, 6, 7]\n",
    "\n",
    "b = ['apple', 'mango', 'kiwi', 'orange', 'banana', 'grapes']\n",
    "\n",
    "print(f'\\n The array after splitting is {array_split(a)}')\n",
    "\n",
    "print(f'\\n The array after splitting is {array_split(b)}')"
   ]
  },
  {
   "cell_type": "markdown",
   "id": "0655a365",
   "metadata": {},
   "source": [
    "#### 5. Write a Python Program to check if given array is Monotonic?"
   ]
  },
  {
   "cell_type": "code",
   "execution_count": 50,
   "id": "2e03c323",
   "metadata": {},
   "outputs": [
    {
     "name": "stdout",
     "output_type": "stream",
     "text": [
      "\n",
      " The array [6, 5, 4, 3, 2, 1] is Monotonically decreasing\n",
      "\n",
      " The array [1, 2, 3, 4, 5, 6] is Monotonically increasing\n",
      "\n",
      " The array [3, 4, 1, 0, 9, 6, 8] is Not Monotonic\n"
     ]
    }
   ],
   "source": [
    "def mono(x):\n",
    "    inc = []\n",
    "    dec = []\n",
    "    for i in range(0, len(x)-1):\n",
    "        if x[i+1] > x[i]:\n",
    "            inc.append(x[i])\n",
    "        else:\n",
    "            dec.append(x[i])\n",
    "        \n",
    "    if len(dec) == 0:\n",
    "        print('Monotonically increasing')\n",
    "    elif len(inc) == 0:\n",
    "        print('Monotonically decreasing')\n",
    "    else:\n",
    "        print('Not Monotonic')\n",
    "        \n",
    "            \n",
    "a = [6, 5, 4, 3, 2, 1]\n",
    "print(f'\\n The array {a} is ', end = \"\")\n",
    "mono(a)\n",
    "\n",
    "\n",
    "b = [1, 2, 3, 4, 5, 6]\n",
    "print(f'\\n The array {b} is ', end = \"\")\n",
    "mono(b)\n",
    "\n",
    "\n",
    "c = [3, 4, 1, 0, 9, 6, 8]\n",
    "print(f'\\n The array {c} is ', end = \"\")\n",
    "mono(c)\n"
   ]
  }
 ],
 "metadata": {
  "kernelspec": {
   "display_name": "Python 3",
   "language": "python",
   "name": "python3"
  },
  "language_info": {
   "codemirror_mode": {
    "name": "ipython",
    "version": 3
   },
   "file_extension": ".py",
   "mimetype": "text/x-python",
   "name": "python",
   "nbconvert_exporter": "python",
   "pygments_lexer": "ipython3",
   "version": "3.8.8"
  }
 },
 "nbformat": 4,
 "nbformat_minor": 5
}
