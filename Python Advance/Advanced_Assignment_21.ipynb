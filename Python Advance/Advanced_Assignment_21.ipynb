{
  "nbformat": 4,
  "nbformat_minor": 0,
  "metadata": {
    "colab": {
      "name": "Advanced Assignment - 21.ipynb",
      "provenance": [],
      "collapsed_sections": []
    },
    "kernelspec": {
      "name": "python3",
      "display_name": "Python 3"
    },
    "language_info": {
      "name": "python"
    }
  },
  "cells": [
    {
      "cell_type": "markdown",
      "source": [
        "## **Advanced Assignment - 21**"
      ],
      "metadata": {
        "id": "_M1auu8YPeW3"
      }
    },
    {
      "cell_type": "markdown",
      "source": [
        "**1. What is a probability distribution, exactly? If the values are meant to be random, how can you predict them at all?**"
      ],
      "metadata": {
        "id": "rWG8QYbDP3RN"
      }
    },
    {
      "cell_type": "markdown",
      "source": [
        "A probability distribution refers to a statistical function defining all the possible values and probabilities that a random variable will take within a given range.\n",
        "\n",
        "A random variable is a variable that is subject to random variations so that it can take on multiple different values, each with an associated probability.\n",
        "Usually, past data is used to predict the probability of random variables."
      ],
      "metadata": {
        "id": "ZApRxY6KQA8s"
      }
    },
    {
      "cell_type": "markdown",
      "source": [
        "**2. Is there a distinction between true random numbers and pseudo-random numbers, if there is one? Why are the latter considered “good enough”?**"
      ],
      "metadata": {
        "id": "VkOe3DvDQPzE"
      }
    },
    {
      "cell_type": "markdown",
      "source": [
        "Random numbers are \"truly random\". They are unpredictable. The previous number will not indicate anything about the next number.\n",
        "\n",
        "Pseudo-random numbers have exactly the same properties as true random numbers but they’re generated from an algorithm and every value can be predicted."
      ],
      "metadata": {
        "id": "aZ2kOJ_jQP11"
      }
    },
    {
      "cell_type": "markdown",
      "source": [
        "**3. What are the two main factors that influence the behaviour of a &quot;normal&quot; probability distribution?**"
      ],
      "metadata": {
        "id": "mi14f07TQP4f"
      }
    },
    {
      "cell_type": "markdown",
      "source": [
        "The behavior of normal distribution is influenced by two parameters: the mean, or average, which is the maximum of the graph and about which the graph is always symmetric; and the standard deviation, which determines the amount of dispersion away from the mean."
      ],
      "metadata": {
        "id": "cOzdcsQRQP62"
      }
    },
    {
      "cell_type": "markdown",
      "source": [
        "**4. Provide a real-life example of a normal distribution.**"
      ],
      "metadata": {
        "id": "UgMgzWsgQQAS"
      }
    },
    {
      "cell_type": "markdown",
      "source": [
        "Real-life examples of normal distribution:\n",
        "\n",
        "1. Birthweight of babies\n",
        "2. Shoe sizes\n",
        "3. Blood pressure"
      ],
      "metadata": {
        "id": "-4Vr4ebeQQDn"
      }
    },
    {
      "cell_type": "markdown",
      "source": [
        "**5. In the short term, how can you expect a probability distribution to behave? What do you think will happen as the number of trials grows?**"
      ],
      "metadata": {
        "id": "3K--JQt2QQGB"
      }
    },
    {
      "cell_type": "markdown",
      "source": [
        "A small sample, will not reflect the true population characteristics.\n",
        "\n",
        "As a sample size grows, its mean gets closer to the average of the whole population. Also variance will decrease with number of trials."
      ],
      "metadata": {
        "id": "cYSWVaXNQQJG"
      }
    },
    {
      "cell_type": "markdown",
      "source": [
        "**6. What kind of object can be shuffled by using random.shuffle?**"
      ],
      "metadata": {
        "id": "9TgMl7AeQQLy"
      }
    },
    {
      "cell_type": "markdown",
      "source": [
        "lists (list), strings (str) and tuples (tuple) objects can be shuffled by using random.shuffle."
      ],
      "metadata": {
        "id": "nWg0Efx5QQOl"
      }
    },
    {
      "cell_type": "markdown",
      "source": [
        "**7. Describe the math package&#39;s general categories of functions.**"
      ],
      "metadata": {
        "id": "oMAAGkcmQQRh"
      }
    },
    {
      "cell_type": "markdown",
      "source": [
        "The Math package's general categories of functions are:\n",
        "\n",
        "1. Trigonometric functions\n",
        "2. Quadratic functions\n",
        "3. Exponential functions\n",
        "4. Hyperbolic functions\n",
        "5. Periodic functions\n",
        "6. Arithmetic functions\n",
        "7. Logarithimic functions\n",
        "8. Factorial function and "
      ],
      "metadata": {
        "id": "78JX0jHVQQUE"
      }
    },
    {
      "cell_type": "markdown",
      "source": [
        "**8. What is the relationship between exponentiation and logarithms?**"
      ],
      "metadata": {
        "id": "Wn-n-v6gQQXD"
      }
    },
    {
      "cell_type": "markdown",
      "source": [
        "Exponentiation and logarithms are inverse of each other."
      ],
      "metadata": {
        "id": "EhXODBVKQQZ1"
      }
    },
    {
      "cell_type": "markdown",
      "source": [
        "**9. What are the three logarithmic functions that Python supports?**"
      ],
      "metadata": {
        "id": "3krt2m-MQQcz"
      }
    },
    {
      "cell_type": "markdown",
      "source": [
        "The variants of logarithmic functions in Python are:\n",
        "\n",
        "1. log2(x) - logarithmic value of a numeric expression of base 2\n",
        "2. log(x, Base) - numeric expression for desired base value.  If no base value is provided, it calculates the log of the numeric expression to the base e.\n",
        "3. log10(x) - logarithmic value of the numeric expression to the base 10.\n",
        "4. log1p(x) - This function is used to compute logarithm(1+x)"
      ],
      "metadata": {
        "id": "P_4jjWafQQfU"
      }
    }
  ]
}