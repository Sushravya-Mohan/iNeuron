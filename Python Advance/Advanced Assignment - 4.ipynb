{
 "cells": [
  {
   "cell_type": "markdown",
   "id": "9fdaa66c",
   "metadata": {},
   "source": [
    "## Advanced Assignment - 4\n",
    "\n"
   ]
  },
  {
   "cell_type": "markdown",
   "id": "b1293915",
   "metadata": {},
   "source": [
    "#### 1)  Which two operator overloading methods can you use in your classes to support iteration?"
   ]
  },
  {
   "cell_type": "markdown",
   "id": "8b0cc541",
   "metadata": {},
   "source": [
    "***\n",
    "\n",
    "Two methods that can be used in classes to support iteration:\n",
    "\n",
    "1. `__iter__` method returns the iterator object and is implicitly called at the start of loop and the iteration is carried out through `__next__` method which returns the next value and is implicitly called at each loop increment.\n",
    "\n",
    "2. If `__iter__` method is not found by inheritance search, `__getitem__` indexing method is called repeatedly with successively higher indexes.\n",
    "\n",
    "***"
   ]
  },
  {
   "cell_type": "markdown",
   "id": "7b2bb95a",
   "metadata": {},
   "source": [
    "#### 2) In what contexts do the two operator overloading methods manage printing?"
   ]
  },
  {
   "cell_type": "markdown",
   "id": "9ca54b40",
   "metadata": {},
   "source": [
    "***\n",
    "\n",
    "We can use the `__str__` and `__repr__` methods to manage printing.\n",
    "\n",
    "1. `__str__` is used to print the informal (readable) string representation of an object that is user friendly.\n",
    "2. `__repr__` is used to print the official string representation of an object that is developer friendly. `__repr__` gives extra details or object's as code form.\n",
    "\n",
    "***"
   ]
  },
  {
   "cell_type": "markdown",
   "id": "d44a498a",
   "metadata": {},
   "source": [
    "#### 3) In a class, how do you intercept slice operations?"
   ]
  },
  {
   "cell_type": "markdown",
   "id": "af9ec0f4",
   "metadata": {},
   "source": [
    "***\n",
    "\n",
    "The `__getitem__` method allows its instances to use the `[]`(indexer) operators.\n",
    "`__getitem__` method can be used for accessing list items, array elements etc.\n",
    "\n",
    "Slicing is called with a slice object and slice objects may be passed on or inspected as needed. \n",
    "\n",
    "***"
   ]
  },
  {
   "cell_type": "markdown",
   "id": "864ebbe6",
   "metadata": {},
   "source": [
    "#### 4) In a class, how do you capture in-place addition?"
   ]
  },
  {
   "cell_type": "markdown",
   "id": "f363c7eb",
   "metadata": {},
   "source": [
    "***\n",
    "\n",
    "We can use the `__iadd__` method to capture in-place addition. It takes two parameters similar to the `__add__` method, but makes the change in-place, modifying the contents of the first parameter. \n",
    "If `__iadd__` method is not available, the object tries `__add__` with an assignment.\n",
    "\n",
    "***"
   ]
  },
  {
   "cell_type": "markdown",
   "id": "ce137f19",
   "metadata": {},
   "source": [
    "#### 5) When is it appropriate to use operator overloading?"
   ]
  },
  {
   "cell_type": "markdown",
   "id": "0f6786ec",
   "metadata": {},
   "source": [
    "***\n",
    "\n",
    "It is appropriate to use operator overloading when we want to give operators extended meaning beyond their operational meaning.\n",
    "\n",
    "Example:\n",
    "\n",
    "The operator `+` which is used to add integers, concatenate strings and append lists can also be used to add two objects.\n",
    "\n",
    "\n",
    "***"
   ]
  },
  {
   "cell_type": "code",
   "execution_count": 1,
   "id": "c3a58a65",
   "metadata": {},
   "outputs": [],
   "source": [
    "class Example:\n",
    "    \n",
    "    def __init__(self, a):\n",
    "        self.a = a\n",
    "        \n",
    "    def __add__(self, b):\n",
    "        return self.a + b.a\n"
   ]
  },
  {
   "cell_type": "code",
   "execution_count": 2,
   "id": "28073f2c",
   "metadata": {},
   "outputs": [
    {
     "name": "stdout",
     "output_type": "stream",
     "text": [
      "3\n"
     ]
    }
   ],
   "source": [
    "O1 = Example(1)\n",
    "O2 = Example(2)\n",
    "\n",
    "print(O1+O2)"
   ]
  }
 ],
 "metadata": {
  "kernelspec": {
   "display_name": "Python 3",
   "language": "python",
   "name": "python3"
  },
  "language_info": {
   "codemirror_mode": {
    "name": "ipython",
    "version": 3
   },
   "file_extension": ".py",
   "mimetype": "text/x-python",
   "name": "python",
   "nbconvert_exporter": "python",
   "pygments_lexer": "ipython3",
   "version": "3.8.8"
  }
 },
 "nbformat": 4,
 "nbformat_minor": 5
}
