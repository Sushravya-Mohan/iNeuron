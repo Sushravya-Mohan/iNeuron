{
  "nbformat": 4,
  "nbformat_minor": 0,
  "metadata": {
    "colab": {
      "name": "Advanced Assignment - 23.ipynb",
      "provenance": []
    },
    "kernelspec": {
      "name": "python3",
      "display_name": "Python 3"
    },
    "language_info": {
      "name": "python"
    }
  },
  "cells": [
    {
      "cell_type": "markdown",
      "source": [
        "## **Advanced Assignment - 23**"
      ],
      "metadata": {
        "id": "o-aQ1ltDLZpO"
      }
    },
    {
      "cell_type": "markdown",
      "source": [
        "**1. If you have any, what are your choices for increasing the comparison between different figures on the same graph?**"
      ],
      "metadata": {
        "id": "gCD168iFLcII"
      }
    },
    {
      "cell_type": "markdown",
      "source": [
        "Matplotlib provides a convenient method called subplots for increasing the comparison between different figures on the same graph. Subplots mean a group of smaller axes that can exist together within a single figure."
      ],
      "metadata": {
        "id": "v2nB8P_mLcFX"
      }
    },
    {
      "cell_type": "markdown",
      "source": [
        "**2. Can you explain the benefit of compound interest over a higher rate of interest that does not compound after reading this chapter?**"
      ],
      "metadata": {
        "id": "eh2TYAqoLcC0"
      }
    },
    {
      "cell_type": "markdown",
      "source": [
        "Compound interest makes a sum of money grow at a faster rate than simple interest,because in addition to earning returns on the money you invest, you also earn returns on those returns at the end of every compounding period, which could be daily, monthly, quarterly or annually."
      ],
      "metadata": {
        "id": "_L7oBTwlLb_m"
      }
    },
    {
      "cell_type": "markdown",
      "source": [
        "**3. What is a histogram, exactly? Name a numpy method for creating such a graph.**"
      ],
      "metadata": {
        "id": "yWlUZxvULb8r"
      }
    },
    {
      "cell_type": "markdown",
      "source": [
        "Histogram shows total values of X with respect to Y. Which means at any particular position of X, Y value shows the total number of counts or data for that value of X. \n",
        "\n",
        "numpy.histogram() is the built in function used to create a histogram."
      ],
      "metadata": {
        "id": "H5kx5hr3Lb5g"
      }
    },
    {
      "cell_type": "markdown",
      "source": [
        "**4. If necessary, how do you change the aspect ratios between the X and Y axes?**"
      ],
      "metadata": {
        "id": "TRNq7xosLb2g"
      }
    },
    {
      "cell_type": "markdown",
      "source": [
        "To change the aspect ratios between X and Y axes, we can use figure(figsize=(10,8)) function inside the matplot.pyplot library using which we can scale down or scale up the graph.\n",
        "\n"
      ],
      "metadata": {
        "id": "ouooxvPELbzV"
      }
    },
    {
      "cell_type": "markdown",
      "source": [
        "**5. Compare and contrast the three types of array multiplication between two numpy arrays: dot product, outer product, and regular multiplication of two numpy arrays.**"
      ],
      "metadata": {
        "id": "Ef8wgCeSLbv8"
      }
    },
    {
      "cell_type": "markdown",
      "source": [
        "In dot product there is row wise multiplication, row of one array with column of second array and so on.\n",
        "\n",
        "In outer multiplication every element of first array a1 will be multiply by every element of other array a2 such such the number of columns will be equal to the number of element in another array a2.\n",
        "\n",
        "Regular multiplication returns the element-wise product of two given arrays.\n"
      ],
      "metadata": {
        "id": "bviC628_Lbs4"
      }
    },
    {
      "cell_type": "markdown",
      "source": [
        "**6. Before you buy a home, which numpy function will you use to measure your monthly mortgage payment?**"
      ],
      "metadata": {
        "id": "Gd-mSr_hLbp4"
      }
    },
    {
      "cell_type": "markdown",
      "source": [
        "np.pmt(rate, nper, pv) function we will be using in order to calculate monthly mortgage payment before you purchase a house.\n",
        "\n",
        "* rate = The periodic interest rate br\n",
        "* nper = The number of payment periods\n",
        "* pv = The total value of the mortgage loan"
      ],
      "metadata": {
        "id": "mjYzfqHbLbm-"
      }
    },
    {
      "cell_type": "markdown",
      "source": [
        "**7. Can string data be stored in numpy arrays? If so, list at least one restriction that applies to this data.**"
      ],
      "metadata": {
        "id": "vC3qH3GjLbj1"
      }
    },
    {
      "cell_type": "markdown",
      "source": [
        "Yes, an array can store the string. The limitation which imposed on the string data is, whenever we store the data of string dtype then it should should keep in mind that the string which is having the maximum length is the limit."
      ],
      "metadata": {
        "id": "wrA-oDyrLbg4"
      }
    }
  ]
}