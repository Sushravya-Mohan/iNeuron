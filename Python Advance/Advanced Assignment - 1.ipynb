{
 "cells": [
  {
   "cell_type": "markdown",
   "id": "9fdaa66c",
   "metadata": {},
   "source": [
    "## Advanced Assignment - 1\n"
   ]
  },
  {
   "cell_type": "markdown",
   "id": "b1293915",
   "metadata": {},
   "source": [
    "#### 1)  What is the purpose of Python&#39;s OOP?"
   ]
  },
  {
   "cell_type": "markdown",
   "id": "c2bc6343",
   "metadata": {},
   "source": [
    "    Object Oriented Programming known as OOP is a programming model where complex programs can be considered as objects. \n",
    "    An object is a collection of attributes and methods. \n",
    "    \n",
    "    1. OOP allows us to code faster i.e. we can implement more features in less time using OOP.\n",
    "    2. Using OOP makes the code concise and legible. This makes others easy to understand the code.\n",
    "    3. We can use objects instead of using multiple nested if statements which makes the code easy to understand.\n",
    "    4. OOP is easier to debug and used in large projects."
   ]
  },
  {
   "cell_type": "markdown",
   "id": "7b2bb95a",
   "metadata": {},
   "source": [
    "#### 2) Where does an inheritance search look for an attribute?"
   ]
  },
  {
   "cell_type": "markdown",
   "id": "1a45993f",
   "metadata": {},
   "source": [
    "    The inheritance search first looks for the attribute in the instance object, then in the class the instance was created.\n",
    "    Then it searches for the attribute in the superclasses. \n",
    "    The search stops at the first place the attribute is found."
   ]
  },
  {
   "cell_type": "markdown",
   "id": "d44a498a",
   "metadata": {},
   "source": [
    "#### 3) How do you distinguish between a class object and an instance object?"
   ]
  },
  {
   "cell_type": "markdown",
   "id": "681287f2",
   "metadata": {},
   "source": [
    "    Class object is created when we create a class. We can have only one class objects for a class.\n",
    "    Instance object is created when we access the class with parentheses. We can have as many instance objects as we want.\n",
    "    "
   ]
  },
  {
   "cell_type": "code",
   "execution_count": 6,
   "id": "8ff50011",
   "metadata": {},
   "outputs": [
    {
     "name": "stdout",
     "output_type": "stream",
     "text": [
      "4\n"
     ]
    }
   ],
   "source": [
    "    # Class object:\n",
    "    \n",
    "    class example():\n",
    "        m = 4\n",
    "        def __init__(self, a):\n",
    "            self.a = a\n",
    "            \n",
    "    print(example.m)"
   ]
  },
  {
   "cell_type": "code",
   "execution_count": 7,
   "id": "3d0e970b",
   "metadata": {},
   "outputs": [
    {
     "name": "stdout",
     "output_type": "stream",
     "text": [
      "3\n"
     ]
    }
   ],
   "source": [
    "inst_1 = example(3)\n",
    "print(inst_1.a)"
   ]
  },
  {
   "cell_type": "markdown",
   "id": "864ebbe6",
   "metadata": {},
   "source": [
    "#### 4) What makes the first argument in a class’s method function special?"
   ]
  },
  {
   "cell_type": "markdown",
   "id": "716dba9e",
   "metadata": {},
   "source": [
    "    In a class's method function, the instance object is passed as the first argument. This is the implied subject of the method call. It is usually named as 'self'."
   ]
  },
  {
   "cell_type": "markdown",
   "id": "ce137f19",
   "metadata": {},
   "source": [
    "#### 5) What is the purpose of the __init__ method?"
   ]
  },
  {
   "cell_type": "markdown",
   "id": "906e928d",
   "metadata": {},
   "source": [
    "    The __init__ function is automatically called every time an object is created from the class. \n",
    "    __init__ method lets the class initialize the object's attributes."
   ]
  },
  {
   "cell_type": "markdown",
   "id": "9e34fd85",
   "metadata": {},
   "source": [
    "#### 6) What is the process for creating a class instance?"
   ]
  },
  {
   "cell_type": "markdown",
   "id": "2852f755",
   "metadata": {},
   "source": [
    "    A class instance is created by calling the Classname().\n",
    "    If parameters should be passed to the class instance, the class should have __init__ method.\n",
    "    Pass parameters the init method accepts.\n",
    "    "
   ]
  },
  {
   "cell_type": "markdown",
   "id": "d3651a08",
   "metadata": {},
   "source": [
    "#### 7) What is the process for creating a class?"
   ]
  },
  {
   "cell_type": "markdown",
   "id": "5759e5a7",
   "metadata": {},
   "source": [
    "    1. Start with the keyword class followed by the name you want to give to the class.\n",
    "    2. The body of the class should contain atleast one statement."
   ]
  },
  {
   "cell_type": "code",
   "execution_count": 10,
   "id": "851a1069",
   "metadata": {},
   "outputs": [],
   "source": [
    "class Cars():\n",
    "    pass"
   ]
  },
  {
   "cell_type": "markdown",
   "id": "712863c4",
   "metadata": {},
   "source": [
    "#### 8) How would you define the superclasses of a class?"
   ]
  },
  {
   "cell_type": "markdown",
   "id": "4013deb9",
   "metadata": {},
   "source": [
    "    The class from which a class inherits is called a superclass or parent. A class which inherits from the superclass is called a subclass. Superclasses are sometimes called ancestors."
   ]
  },
  {
   "cell_type": "code",
   "execution_count": null,
   "id": "a5c8d6f8",
   "metadata": {},
   "outputs": [],
   "source": []
  }
 ],
 "metadata": {
  "kernelspec": {
   "display_name": "Python 3",
   "language": "python",
   "name": "python3"
  },
  "language_info": {
   "codemirror_mode": {
    "name": "ipython",
    "version": 3
   },
   "file_extension": ".py",
   "mimetype": "text/x-python",
   "name": "python",
   "nbconvert_exporter": "python",
   "pygments_lexer": "ipython3",
   "version": "3.8.8"
  }
 },
 "nbformat": 4,
 "nbformat_minor": 5
}
