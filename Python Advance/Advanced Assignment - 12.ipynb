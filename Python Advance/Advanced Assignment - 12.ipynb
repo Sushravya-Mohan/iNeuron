{
 "cells": [
  {
   "cell_type": "markdown",
   "id": "9fdaa66c",
   "metadata": {},
   "source": [
    "## Advanced Assignment - 12\n",
    "\n"
   ]
  },
  {
   "cell_type": "markdown",
   "id": "b1293915",
   "metadata": {},
   "source": [
    "#### 1. Does assigning a value to a string&#39;s indexed character violate Python&#39;s string immutability?"
   ]
  },
  {
   "cell_type": "markdown",
   "id": "df8e3037",
   "metadata": {},
   "source": [
    "***\n",
    "\n",
    "We cannot assign a new value to string's indexed character as it violates string immutability.\n",
    "\n",
    "***"
   ]
  },
  {
   "cell_type": "code",
   "execution_count": 1,
   "id": "caa043ac",
   "metadata": {},
   "outputs": [
    {
     "ename": "TypeError",
     "evalue": "'str' object does not support item assignment",
     "output_type": "error",
     "traceback": [
      "\u001b[1;31m---------------------------------------------------------------------------\u001b[0m",
      "\u001b[1;31mTypeError\u001b[0m                                 Traceback (most recent call last)",
      "\u001b[1;32m<ipython-input-1-ed97ce7bf3b9>\u001b[0m in \u001b[0;36m<module>\u001b[1;34m\u001b[0m\n\u001b[0;32m      1\u001b[0m \u001b[0ma\u001b[0m \u001b[1;33m=\u001b[0m \u001b[1;34m\"good\"\u001b[0m\u001b[1;33m\u001b[0m\u001b[1;33m\u001b[0m\u001b[0m\n\u001b[1;32m----> 2\u001b[1;33m \u001b[0ma\u001b[0m\u001b[1;33m[\u001b[0m\u001b[1;36m0\u001b[0m\u001b[1;33m]\u001b[0m \u001b[1;33m=\u001b[0m \u001b[1;34m\"h\"\u001b[0m\u001b[1;33m\u001b[0m\u001b[1;33m\u001b[0m\u001b[0m\n\u001b[0m",
      "\u001b[1;31mTypeError\u001b[0m: 'str' object does not support item assignment"
     ]
    }
   ],
   "source": [
    "a = \"good\"\n",
    "a[0] = \"h\""
   ]
  },
  {
   "cell_type": "markdown",
   "id": "df1c8fff",
   "metadata": {},
   "source": [
    "####  2. Does using the += operator to concatenate strings violate Python&#39;s string immutability? Why or why not?\n"
   ]
  },
  {
   "cell_type": "markdown",
   "id": "73171841",
   "metadata": {},
   "source": [
    "***\n",
    "\n",
    "Using += operator to concatenate strings does not violate string immutability because += does not alter the string, it concatenates another string value to the string present on the left of +=\n",
    "\n",
    "***"
   ]
  },
  {
   "cell_type": "code",
   "execution_count": 2,
   "id": "c336e762",
   "metadata": {},
   "outputs": [
    {
     "data": {
      "text/plain": [
       "'goodbad'"
      ]
     },
     "execution_count": 2,
     "metadata": {},
     "output_type": "execute_result"
    }
   ],
   "source": [
    "a = \"good\"\n",
    "a += \"bad\"\n",
    "a"
   ]
  },
  {
   "cell_type": "markdown",
   "id": "5f400670",
   "metadata": {},
   "source": [
    "#### 3. In Python, how many different ways are there to index a character?\n"
   ]
  },
  {
   "cell_type": "markdown",
   "id": "4437c4f0",
   "metadata": {},
   "source": [
    "***\n",
    "\n",
    "A character can be indexed from a string using string name foloowed by the index number of character enclosed inside square bracket.\n",
    "\n",
    "There are two diiferent ways to index a character:\n",
    "1. Positive indexing : The indexing is from left to right and the index number starts from 0 and gets incremented by 1 \n",
    "2. Negative indexing : The indexing is from right to left and the index number starts from -1 and gets decremented by 1\n",
    "\n",
    "\n",
    "***"
   ]
  },
  {
   "cell_type": "code",
   "execution_count": 4,
   "id": "2410cbfa",
   "metadata": {},
   "outputs": [
    {
     "name": "stdout",
     "output_type": "stream",
     "text": [
      "d\n",
      "d\n"
     ]
    }
   ],
   "source": [
    "a = \"Saturday\"\n",
    "print(a[5])\n",
    "print(a[-3])"
   ]
  },
  {
   "cell_type": "markdown",
   "id": "6d7b6b49",
   "metadata": {},
   "source": [
    "#### 4. What is the relationship between indexing and slicing?\n"
   ]
  },
  {
   "cell_type": "markdown",
   "id": "fa82311a",
   "metadata": {},
   "source": [
    "***\n",
    "Indexing is used to obtain single elememts whereas slicing is used to obtain sequence of elements with the help of indices of the elements.\n",
    "\n",
    "***"
   ]
  },
  {
   "cell_type": "code",
   "execution_count": 5,
   "id": "eb4d12d8",
   "metadata": {},
   "outputs": [
    {
     "name": "stdout",
     "output_type": "stream",
     "text": [
      "r\n",
      "aturd\n"
     ]
    }
   ],
   "source": [
    "a = \"Saturday\"\n",
    "print(a[4])      # indexing the 5th element\n",
    "print(a[1:6])    # slicing elements from index 1 to index 5 "
   ]
  },
  {
   "cell_type": "markdown",
   "id": "d9341a61",
   "metadata": {},
   "source": [
    "#### 5. What is an indexed character&#39;s exact data type? What is the data form of a slicing-generated substring?\n"
   ]
  },
  {
   "cell_type": "markdown",
   "id": "f123c551",
   "metadata": {},
   "source": [
    "***\n",
    "\n",
    "The data type obtained by indexing and slicing of a string is \"string\".\n",
    "\n",
    "***"
   ]
  },
  {
   "cell_type": "code",
   "execution_count": 6,
   "id": "a292a867",
   "metadata": {},
   "outputs": [
    {
     "name": "stdout",
     "output_type": "stream",
     "text": [
      "<class 'str'>\n",
      "<class 'str'>\n"
     ]
    }
   ],
   "source": [
    "a = \"Saturday\"\n",
    "print(type(a[5]))\n",
    "print(type(a[1:6]))"
   ]
  },
  {
   "cell_type": "markdown",
   "id": "1bf860de",
   "metadata": {},
   "source": [
    "#### 6. What is the relationship between string and character &quot;types&quot; in Python?"
   ]
  },
  {
   "cell_type": "markdown",
   "id": "a9f1b149",
   "metadata": {},
   "source": [
    "***\n",
    "\n",
    "Sequence of characters are concatenated to form a string.\n",
    "\n",
    "\n",
    "***"
   ]
  },
  {
   "cell_type": "markdown",
   "id": "191c5e52",
   "metadata": {},
   "source": [
    "#### 7. Identify at least two operators and one method that allow you to combine one or more smaller strings to create a larger string."
   ]
  },
  {
   "cell_type": "markdown",
   "id": "56748971",
   "metadata": {},
   "source": [
    "***\n",
    "\n",
    "We can use the `+` and `*` operators to combine multiple strings.\n",
    "We can use the `join()` method to combine multiple strings.\n",
    "\n",
    "***"
   ]
  },
  {
   "cell_type": "code",
   "execution_count": 9,
   "id": "90a6b84d",
   "metadata": {},
   "outputs": [
    {
     "name": "stdout",
     "output_type": "stream",
     "text": [
      "DataScience\n",
      "DataDataData\n",
      "Data Science\n"
     ]
    }
   ],
   "source": [
    "print(\"Data\" + \"Science\")\n",
    "print(\"Data\"*3)\n",
    "print((\" \").join([\"Data\", \"Science\"]))"
   ]
  },
  {
   "cell_type": "markdown",
   "id": "1dc759a8",
   "metadata": {},
   "source": [
    "#### 8. What is the benefit of first checking the target string with in or not in before using the index method to find a substring?"
   ]
  },
  {
   "cell_type": "markdown",
   "id": "2f3a56dc",
   "metadata": {},
   "source": [
    "***\n",
    "\n",
    "Checking the target string with `in` or `not in` will let us know if the substring we want to find is available in the string.\n",
    "This avoids `ValueError`.\n",
    "\n",
    "***"
   ]
  },
  {
   "cell_type": "code",
   "execution_count": 11,
   "id": "df6379f6",
   "metadata": {},
   "outputs": [
    {
     "name": "stdout",
     "output_type": "stream",
     "text": [
      "True\n",
      "2\n"
     ]
    },
    {
     "ename": "ValueError",
     "evalue": "substring not found",
     "output_type": "error",
     "traceback": [
      "\u001b[1;31m---------------------------------------------------------------------------\u001b[0m",
      "\u001b[1;31mValueError\u001b[0m                                Traceback (most recent call last)",
      "\u001b[1;32m<ipython-input-11-4a084692ff6f>\u001b[0m in \u001b[0;36m<module>\u001b[1;34m\u001b[0m\n\u001b[0;32m      2\u001b[0m \u001b[0mprint\u001b[0m\u001b[1;33m(\u001b[0m\u001b[1;34m\"t\"\u001b[0m \u001b[1;32min\u001b[0m \u001b[0ma\u001b[0m\u001b[1;33m)\u001b[0m\u001b[1;33m\u001b[0m\u001b[1;33m\u001b[0m\u001b[0m\n\u001b[0;32m      3\u001b[0m \u001b[0mprint\u001b[0m\u001b[1;33m(\u001b[0m\u001b[0ma\u001b[0m\u001b[1;33m.\u001b[0m\u001b[0mindex\u001b[0m\u001b[1;33m(\u001b[0m\u001b[1;34m\"t\"\u001b[0m\u001b[1;33m)\u001b[0m\u001b[1;33m)\u001b[0m\u001b[1;33m\u001b[0m\u001b[1;33m\u001b[0m\u001b[0m\n\u001b[1;32m----> 4\u001b[1;33m \u001b[0mprint\u001b[0m\u001b[1;33m(\u001b[0m\u001b[0ma\u001b[0m\u001b[1;33m.\u001b[0m\u001b[0mindex\u001b[0m\u001b[1;33m(\u001b[0m\u001b[1;34m\"s\"\u001b[0m\u001b[1;33m)\u001b[0m\u001b[1;33m)\u001b[0m\u001b[1;33m\u001b[0m\u001b[1;33m\u001b[0m\u001b[0m\n\u001b[0m",
      "\u001b[1;31mValueError\u001b[0m: substring not found"
     ]
    }
   ],
   "source": [
    "a = \"Data\"\n",
    "print(\"t\" in a)\n",
    "print(a.index(\"t\"))\n",
    "print(a.index(\"s\"))"
   ]
  },
  {
   "cell_type": "markdown",
   "id": "ac8bd968",
   "metadata": {},
   "source": [
    "#### 9. Which operators and built-in string methods produce simple Boolean (true/false) results?"
   ]
  },
  {
   "cell_type": "markdown",
   "id": "b1f67a6e",
   "metadata": {},
   "source": [
    "***\n",
    "\n",
    "The operators and built-in string methods to produce Boolean results are:\n",
    "\n",
    "`in`\n",
    "<br>`not`\n",
    "<br>`my_string.isalnum()`\t\t\n",
    "`my_string.isalpha()`\t\t\n",
    "`my_string.isdigit()`\t\t\n",
    "`my_string.istitle()`\t\t\n",
    "`my_string.isupper()`\t\t\n",
    "`my_string.islower()`\t\t\n",
    "`my_string.isspace()`\t\t\n",
    "`my_string.endswith()`\n",
    "<br>`my_string.startswith()`\t\n",
    "\n",
    "\n",
    "***"
   ]
  }
 ],
 "metadata": {
  "kernelspec": {
   "display_name": "Python 3",
   "language": "python",
   "name": "python3"
  },
  "language_info": {
   "codemirror_mode": {
    "name": "ipython",
    "version": 3
   },
   "file_extension": ".py",
   "mimetype": "text/x-python",
   "name": "python",
   "nbconvert_exporter": "python",
   "pygments_lexer": "ipython3",
   "version": "3.8.8"
  }
 },
 "nbformat": 4,
 "nbformat_minor": 5
}
