{
 "cells": [
  {
   "cell_type": "markdown",
   "id": "9fdaa66c",
   "metadata": {},
   "source": [
    "## Advanced Assignment - 3\n",
    "\n"
   ]
  },
  {
   "cell_type": "markdown",
   "id": "b1293915",
   "metadata": {},
   "source": [
    "#### 1)  What is the concept of an abstract superclass?"
   ]
  },
  {
   "cell_type": "markdown",
   "id": "0437d06c",
   "metadata": {},
   "source": [
    "***\n",
    "\n",
    "A class is called abstract class if it contains one or more abstract methods. An abstract method is a method that is declared but is not implemented in the code. \n",
    "\n",
    "Abstract class is a parent class that has an abstract method but cannot be instantiated. The abstract methods must be implemented using the subclasses/child classes.\n",
    "\n",
    "Abstract classes are used to provide a common interface for different implementations of a component.\n",
    "\n",
    "***"
   ]
  },
  {
   "cell_type": "code",
   "execution_count": 4,
   "id": "564df142",
   "metadata": {},
   "outputs": [],
   "source": [
    "from abc import ABC, abstractmethod\n",
    "\n",
    "class Animal(ABC):    \n",
    "    def move(self):\n",
    "        pass    \n",
    "\n",
    "class Human(Animal):    \n",
    "    def move(self):\n",
    "        print(\"I can walk and run\")\n",
    "\n",
    "class Snake(Animal):    \n",
    "    def move(self):\n",
    "        print(\"I can crawl\")"
   ]
  },
  {
   "cell_type": "code",
   "execution_count": 5,
   "id": "b9339641",
   "metadata": {},
   "outputs": [
    {
     "name": "stdout",
     "output_type": "stream",
     "text": [
      "I can walk and run\n"
     ]
    }
   ],
   "source": [
    "A = Human()\n",
    "A.move()"
   ]
  },
  {
   "cell_type": "code",
   "execution_count": 6,
   "id": "72d71d7c",
   "metadata": {},
   "outputs": [
    {
     "name": "stdout",
     "output_type": "stream",
     "text": [
      "I can crawl\n"
     ]
    }
   ],
   "source": [
    "B = Snake()\n",
    "B.move()"
   ]
  },
  {
   "cell_type": "markdown",
   "id": "7b2bb95a",
   "metadata": {},
   "source": [
    "#### 2) What happens when a class statement&#39;s top level contains a basic assignment statement?"
   ]
  },
  {
   "cell_type": "markdown",
   "id": "7e2e98df",
   "metadata": {},
   "source": [
    "\n",
    "\n",
    "The basic assignment statement at top level of class is treated as class attribute or class level variable.\n",
    "\n",
    "`class Circle:\n",
    "    pi = 3.1416    \n",
    "    def __init__(self, r):\n",
    "    self.r = r`\n",
    "\n",
    "In the above code, pi is considered as a class attribute.\n",
    "\n",
    "***"
   ]
  },
  {
   "cell_type": "markdown",
   "id": "d44a498a",
   "metadata": {},
   "source": [
    "#### 3) Why does a class need to manually call a superclass&#39;s __init__ method?"
   ]
  },
  {
   "cell_type": "markdown",
   "id": "e318409d",
   "metadata": {},
   "source": [
    "***\n",
    "\n",
    "If the subclass/child class has the `__init__` method, it will override the `__init__` method of the superclass/parent class.\n",
    "Hence we need to manually call the `__init__` method of the superclass in the subclass.\n",
    "\n",
    "***"
   ]
  },
  {
   "cell_type": "code",
   "execution_count": 7,
   "id": "417daad7",
   "metadata": {},
   "outputs": [],
   "source": [
    "class Parent():\n",
    "    \n",
    "    def __init__(self):\n",
    "        print(\"Parent Class\")\n",
    "        \n",
    "class Child(Parent):\n",
    "    \n",
    "    def __init__(self):\n",
    "        super().__init__()\n",
    "        print(\"Child Class\")"
   ]
  },
  {
   "cell_type": "code",
   "execution_count": 9,
   "id": "5b67c313",
   "metadata": {},
   "outputs": [
    {
     "name": "stdout",
     "output_type": "stream",
     "text": [
      "Parent Class\n",
      "Child Class\n",
      "<__main__.Child object at 0x0000022D81534C10>\n"
     ]
    }
   ],
   "source": [
    "print(Child())"
   ]
  },
  {
   "cell_type": "markdown",
   "id": "864ebbe6",
   "metadata": {},
   "source": [
    "#### 4) How can you augment, instead of completely replacing, an inherited method?"
   ]
  },
  {
   "cell_type": "markdown",
   "id": "451fd476",
   "metadata": {},
   "source": [
    "***\n",
    "\n",
    "To augment, instead of completely replacing an inherited method, by calling to the original method (superclass method) from the new instance of the method in the subclass.\n",
    "\n",
    "Ex:\n",
    "`Superclass.method(self, args)`\n",
    "\n",
    "***"
   ]
  },
  {
   "cell_type": "markdown",
   "id": "ce137f19",
   "metadata": {},
   "source": [
    "#### 5) How is the local scope of a class different from that of a function?"
   ]
  },
  {
   "cell_type": "markdown",
   "id": "b7e01092",
   "metadata": {},
   "source": [
    "***\n",
    "\n",
    "A variable which is defined inside a function is local to the function. It is accessible from the point at which it is defined till the end of the function.\n",
    "\n",
    "The variables which are defined inside the class body but outside the class methods are called class attributes.We can reference them by bare names inside the scope. If we have to reference them outside the scope, we can use `(.)` operator on class or instance/object. \n",
    "\n",
    "***"
   ]
  }
 ],
 "metadata": {
  "kernelspec": {
   "display_name": "Python 3",
   "language": "python",
   "name": "python3"
  },
  "language_info": {
   "codemirror_mode": {
    "name": "ipython",
    "version": 3
   },
   "file_extension": ".py",
   "mimetype": "text/x-python",
   "name": "python",
   "nbconvert_exporter": "python",
   "pygments_lexer": "ipython3",
   "version": "3.8.8"
  }
 },
 "nbformat": 4,
 "nbformat_minor": 5
}
