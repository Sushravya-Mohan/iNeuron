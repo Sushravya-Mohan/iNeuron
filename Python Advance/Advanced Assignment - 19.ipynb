{
 "cells": [
  {
   "cell_type": "markdown",
   "id": "9fdaa66c",
   "metadata": {},
   "source": [
    "## Advanced Assignment - 19\n",
    "\n"
   ]
  },
  {
   "cell_type": "markdown",
   "id": "b1293915",
   "metadata": {},
   "source": [
    "#### 1. Define the relationship between a class and its instances. Is it a one-to-one or a one-to-many partnership, for example?"
   ]
  },
  {
   "cell_type": "markdown",
   "id": "df8e3037",
   "metadata": {},
   "source": [
    "***\n",
    "\n",
    "A class is a \"blueprint\" for creating objects. Instance is an individual object of a class.\n",
    "The relationship between a class and its instance is of type one-to-many.\n",
    "\n",
    "\n",
    "***"
   ]
  },
  {
   "cell_type": "markdown",
   "id": "df1c8fff",
   "metadata": {},
   "source": [
    "####  2. What kind of data is held only in an instance?\n",
    "\n"
   ]
  },
  {
   "cell_type": "markdown",
   "id": "73171841",
   "metadata": {},
   "source": [
    "***\n",
    "\n",
    "The instance variables i.e attributes given to that instance are specific to the instance object and cannot be accessed by other instances.\n",
    "\n",
    "\n",
    "***"
   ]
  },
  {
   "cell_type": "markdown",
   "id": "5f400670",
   "metadata": {},
   "source": [
    "#### 3. What kind of knowledge is stored in a class?\n"
   ]
  },
  {
   "cell_type": "markdown",
   "id": "4437c4f0",
   "metadata": {},
   "source": [
    "***\n",
    "\n",
    "A class is a \"blueprint\" from which objects/instances are created. We can build data and functionality together with the help of classes. \n",
    "\n",
    "Classes contain member variables and member functions in it.\n",
    "\n",
    "\n",
    "***"
   ]
  },
  {
   "cell_type": "markdown",
   "id": "6d7b6b49",
   "metadata": {},
   "source": [
    "#### 4. What exactly is a method, and how is it different from a regular function?\n"
   ]
  },
  {
   "cell_type": "markdown",
   "id": "fa82311a",
   "metadata": {},
   "source": [
    "***\n",
    "\n",
    "Methods differ from ordinary functions \n",
    "\n",
    "1. Methods are defined within a class definition; this is what makes them methods.\n",
    "2. Second, every time a method is called through an instance, a hidden argument is passed: a reference to the object through which it was called (self).\n",
    "\n",
    "\n",
    "***"
   ]
  },
  {
   "cell_type": "markdown",
   "id": "d9341a61",
   "metadata": {},
   "source": [
    "#### 5. Is inheritance supported in Python, and if so, what is the syntax?\n"
   ]
  },
  {
   "cell_type": "markdown",
   "id": "f123c551",
   "metadata": {},
   "source": [
    "***\n",
    "\n",
    "Yes, inheritance is supported in Python.\n",
    "\n",
    "The syntax is:\n",
    "\n",
    "**`class`** `class_name(base class):\n",
    "    statements`\n",
    "\n",
    "\n",
    "***"
   ]
  },
  {
   "cell_type": "markdown",
   "id": "1bf860de",
   "metadata": {},
   "source": [
    "#### 6. How much encapsulation (making instance or class variables private) does Python support?"
   ]
  },
  {
   "cell_type": "markdown",
   "id": "a9f1b149",
   "metadata": {},
   "source": [
    "***\n",
    "\n",
    "In Python, Variable and method names beginning with an underscore `_` are intended to be private. \n",
    "Also names beginning with a double underscore `__` are made inaccessible through a process called name mangling, assuming they are not “magic methods”.\n",
    "\n",
    "These variables are not accessible from outside. However, within the class itself, all variables are accessible.\n",
    "\n",
    "***"
   ]
  },
  {
   "cell_type": "markdown",
   "id": "191c5e52",
   "metadata": {},
   "source": [
    "#### 7. How do you distinguish between a class variable and an instance variable?"
   ]
  },
  {
   "cell_type": "markdown",
   "id": "56748971",
   "metadata": {},
   "source": [
    "***\n",
    "\n",
    "**Class variables** are accessible to all instances of the class whereas **Instance variables** are accessible only to instance of the class in which they are created.\n",
    "\n",
    "**Class variables** are shared by all instances of a class but **Instance variables** are not shared between all instances of the class.\n",
    "\n",
    "***"
   ]
  },
  {
   "cell_type": "markdown",
   "id": "1dc759a8",
   "metadata": {},
   "source": [
    "#### 8. When, if ever, can self be included in a class&#39;s method definitions?"
   ]
  },
  {
   "cell_type": "markdown",
   "id": "2f3a56dc",
   "metadata": {},
   "source": [
    "***\n",
    "\n",
    "`self` can be included in class's method definition because instance is identified as `self` and to call the instance variables we use `self.name`\n",
    "\n",
    "***"
   ]
  },
  {
   "cell_type": "markdown",
   "id": "ac8bd968",
   "metadata": {},
   "source": [
    "#### 9. What is the difference between the _ _add_ _ and the _ _radd_ _ methods?"
   ]
  },
  {
   "cell_type": "markdown",
   "id": "b1f67a6e",
   "metadata": {},
   "source": [
    "***\n",
    "\n",
    "Both methods are used when one object of a class is added to another object of the class.\n",
    "\n",
    "1. `__add__` : This method is invoked whenever an instance of the class is on the left side of an addition operation (+).\n",
    "\n",
    "2. `__radd__` : This method is invoked whenever an instance of the class is on the right side of an addition operation (+).\n",
    "\n",
    "\n",
    "***"
   ]
  },
  {
   "cell_type": "markdown",
   "id": "26ec80ff",
   "metadata": {},
   "source": [
    "#### 10. When is it necessary to use a reflection method? When do you not need it, even though you support the operation in question?"
   ]
  },
  {
   "cell_type": "markdown",
   "id": "2c559476",
   "metadata": {},
   "source": [
    "***\n",
    "\n",
    "Reflection methods, including `__radd__`, `__rsub__`, `__rmult__` and other names beginning with an r. It’s necessary to implement these methods when you want to support operations between your class and another class that doesn’t know about yours. These apply when your object is the operand on the right side.\n",
    "\n",
    "\n",
    "***"
   ]
  },
  {
   "cell_type": "markdown",
   "id": "49e74020",
   "metadata": {},
   "source": [
    "#### 11. What is the _ _iadd_ _ method called?"
   ]
  },
  {
   "cell_type": "markdown",
   "id": "959311fa",
   "metadata": {},
   "source": [
    "***\n",
    "\n",
    "`__iadd__` method is called the **Combined addition-assignment operator method**. This method is invoked in response to the `+=` operator being applied to an object of the class—that object being on the left side of the operator. \n",
    "\n",
    "\n",
    "***\n"
   ]
  },
  {
   "cell_type": "markdown",
   "id": "97ba2cd4",
   "metadata": {},
   "source": [
    "#### 12. Is the _ _init_ _ method inherited by subclasses? What do you do if you need to customize its behavior within a subclass?"
   ]
  },
  {
   "cell_type": "markdown",
   "id": "1e6d8496",
   "metadata": {},
   "source": [
    "***\n",
    "\n",
    "Yes, the `__init__` method is inherited by the subclasses. \n",
    "\n",
    "To customize the behaviour of `__init__` method within the subclass, write a new `__init__` method definition for the subclass, but make a call to base-class version of `__init__` using `super()`.\n",
    "\n",
    "***"
   ]
  }
 ],
 "metadata": {
  "kernelspec": {
   "display_name": "Python 3",
   "language": "python",
   "name": "python3"
  },
  "language_info": {
   "codemirror_mode": {
    "name": "ipython",
    "version": 3
   },
   "file_extension": ".py",
   "mimetype": "text/x-python",
   "name": "python",
   "nbconvert_exporter": "python",
   "pygments_lexer": "ipython3",
   "version": "3.8.8"
  }
 },
 "nbformat": 4,
 "nbformat_minor": 5
}
