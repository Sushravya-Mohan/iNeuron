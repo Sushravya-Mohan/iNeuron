{
 "cells": [
  {
   "cell_type": "markdown",
   "id": "9fdaa66c",
   "metadata": {},
   "source": [
    "## Advanced Assignment - 17\n",
    "\n"
   ]
  },
  {
   "cell_type": "markdown",
   "id": "b1293915",
   "metadata": {},
   "source": [
    "#### 1. Explain the difference between greedy and non-greedy syntax with visual terms in as few words as possible. What is the bare minimum effort required to transform a greedy pattern into a non-greedy one? What characters or characters can you introduce or change?"
   ]
  },
  {
   "cell_type": "markdown",
   "id": "df8e3037",
   "metadata": {},
   "source": [
    "***\n",
    "\n",
    "A greedy match means that the regex engine matches as many characters as possible. In other words, the greedy quantifiers give you the longest match from a given position in the string.\n",
    "\n",
    "A non-greedy match means that the regex engine matches as few characters as possible—so that it still can match the pattern in the given string. In other words, the non-greedy quantifiers give you the shortest possible match from a given position in the string.\n",
    "\n",
    "By adding a `?` to a greedy quantifier, we can transform it to a non-greedy quantifier.\n",
    "\n",
    "\n",
    "***"
   ]
  },
  {
   "cell_type": "code",
   "execution_count": 4,
   "id": "e4d0c947",
   "metadata": {},
   "outputs": [
    {
     "name": "stdout",
     "output_type": "stream",
     "text": [
      "['a', 'a', 'a', 'a', '']\n",
      "['', 'a', '', 'a', '', 'a', '', 'a', '']\n"
     ]
    }
   ],
   "source": [
    "import re\n",
    "\n",
    "# Greedy match\n",
    "\n",
    "print(re.findall(r'a?','aaaa'))\n",
    "\n",
    "#Non-Greedy match\n",
    "\n",
    "print(re.findall(r'a??','aaaa'))"
   ]
  },
  {
   "cell_type": "markdown",
   "id": "df1c8fff",
   "metadata": {},
   "source": [
    "####  2. When exactly does greedy versus non-greedy make a difference?  What if you&#39;re looking for a non-greedy match but the only one available is greedy?\n",
    "\n"
   ]
  },
  {
   "cell_type": "markdown",
   "id": "73171841",
   "metadata": {},
   "source": [
    "***\n",
    "\n",
    "Greedy and non-greedy modes affect the matching behavior of quantifier-modified subexpressions. Greedy modes match as many as possible if the whole expression matches successfully, while non-greedy modes match as few as possible if the whole expression matches successfully.\n",
    "\n",
    "**Example :** \n",
    "\n",
    "1. Count the number of sentences in a text file.\n",
    "\n",
    "In the above case, we use non-greedy match because if greedy match was used, it will report that only one sentence is present irrespective of the number of sentences in the text.\n",
    "\n",
    "If only greedy match is available, we can use other filtering or pattern matching methods of regex and further identify the required pattern.\n",
    "\n",
    "\n",
    "\n",
    "***"
   ]
  },
  {
   "cell_type": "markdown",
   "id": "5f400670",
   "metadata": {},
   "source": [
    "#### 3. In a simple match of a string, which looks only for one match and does not do any replacement, is the use of a nontagged group likely to make any practical difference?\n"
   ]
  },
  {
   "cell_type": "markdown",
   "id": "4437c4f0",
   "metadata": {},
   "source": [
    "***\n",
    "\n",
    "In the case where match of a string looks only for one match and does not do any replacement, the use of nontagged group will not make any difference.\n",
    "\n",
    "***"
   ]
  },
  {
   "cell_type": "code",
   "execution_count": 4,
   "id": "6ec97744",
   "metadata": {},
   "outputs": [
    {
     "name": "stdout",
     "output_type": "stream",
     "text": [
      "Data\n",
      "Data\n"
     ]
    }
   ],
   "source": [
    "import re\n",
    "\n",
    "text = re.compile(r'\\w+')\n",
    "text_search = text.search(\"Data Science Course\")\n",
    "print(text_search.group()) # Non tagged group\n",
    "print(text_search.group(0)) # Tagged group"
   ]
  },
  {
   "cell_type": "markdown",
   "id": "6d7b6b49",
   "metadata": {},
   "source": [
    "#### 4. Describe a scenario in which using a nontagged category would have a significant impact on the program&#39;s outcomes.\n"
   ]
  },
  {
   "cell_type": "code",
   "execution_count": 7,
   "id": "d2c40c26",
   "metadata": {},
   "outputs": [
    {
     "name": "stdout",
     "output_type": "stream",
     "text": [
      "(',000', '')\n",
      "('', '')\n",
      "('', '.12')\n"
     ]
    }
   ],
   "source": [
    "#Tagged\n",
    "\n",
    "import re\n",
    "pat = r'\\d{1,3}(,\\d{3})*(\\.\\d*)?\\b'\n",
    "s = '12,000 monkeys on 100 typewriters for 53.12 days.'\n",
    "lst = re.findall(pat, s)\n",
    "for item in lst:\n",
    "    print(item)"
   ]
  },
  {
   "cell_type": "code",
   "execution_count": 5,
   "id": "155108ef",
   "metadata": {},
   "outputs": [
    {
     "name": "stdout",
     "output_type": "stream",
     "text": [
      "12,000\n",
      "100\n",
      "53.12\n"
     ]
    }
   ],
   "source": [
    "# Non tagged\n",
    "import re\n",
    "pat = r'\\d{1,3}(?:,\\d{3})*(?:\\.\\d*)?\\b'\n",
    "s = '12,000 monkeys on 100 typewriters for 53.12 days.'\n",
    "lst = re.findall(pat, s)\n",
    "for item in lst:\n",
    "    print(item)"
   ]
  },
  {
   "cell_type": "markdown",
   "id": "fa82311a",
   "metadata": {},
   "source": [
    "***\n",
    "\n",
    "\n",
    "***"
   ]
  },
  {
   "cell_type": "markdown",
   "id": "d9341a61",
   "metadata": {},
   "source": [
    "#### 5. Unlike a normal regex pattern, a look-ahead condition does not consume the characters it examines. Describe a situation in which this could make a difference in the results of your programme.\n"
   ]
  },
  {
   "cell_type": "markdown",
   "id": "f123c551",
   "metadata": {},
   "source": [
    "***\n",
    "\n",
    "Look-ahead only asserts if a match is possible or not. It does not consume the characters. \n",
    "\n",
    "***"
   ]
  },
  {
   "cell_type": "code",
   "execution_count": 21,
   "id": "4be4e7d4",
   "metadata": {},
   "outputs": [
    {
     "name": "stdout",
     "output_type": "stream",
     "text": [
      "Using lookahead: geeks\n",
      "Without using lookahead: geeksforgeeks\n"
     ]
    }
   ],
   "source": [
    "import re\n",
    "  \n",
    "# using lookahead\n",
    "example1 = re.search(r'geeks(?=[a-z]+)',\n",
    "                     \"geeksforgeeks\")\n",
    "  \n",
    "print('Using lookahead:', example1.group())\n",
    "  \n",
    "# without using lookahead\n",
    "example2 = re.search(r'geeks([a-z]+)',\n",
    "                     \"geeksforgeeks\")\n",
    "  \n",
    "print('Without using lookahead:', example2.group())"
   ]
  },
  {
   "cell_type": "markdown",
   "id": "1bf860de",
   "metadata": {},
   "source": [
    "#### 6. In standard expressions, what is the difference between positive look-ahead and negative look- ahead?"
   ]
  },
  {
   "cell_type": "markdown",
   "id": "a9f1b149",
   "metadata": {},
   "source": [
    "***\n",
    "\n",
    "Positive Lookahead allows to add a condition for what follows. Negative Lookahead is similar, but it looks behind. That is, it allows to match a pattern only if there’s something before it.\n",
    "\n",
    "***"
   ]
  },
  {
   "cell_type": "markdown",
   "id": "191c5e52",
   "metadata": {},
   "source": [
    "#### 7. What is the benefit of referring to groups by name rather than by number in a standard expression?"
   ]
  },
  {
   "cell_type": "markdown",
   "id": "56748971",
   "metadata": {},
   "source": [
    "***\n",
    "\n",
    "Referring to groups by name rather than by number in a standard expression helps to keep the code clear and easy to understand.\n",
    "\n",
    "***"
   ]
  },
  {
   "cell_type": "markdown",
   "id": "1dc759a8",
   "metadata": {},
   "source": [
    "#### 8. Can you identify repeated items within a target string using named groups, as in &quot;The cow jumped over the moon&quot;?"
   ]
  },
  {
   "cell_type": "code",
   "execution_count": 9,
   "id": "2b547cbc",
   "metadata": {},
   "outputs": [
    {
     "name": "stdout",
     "output_type": "stream",
     "text": [
      "the the  found at  (20, 27)\n"
     ]
    }
   ],
   "source": [
    "\n",
    "import re\n",
    "s = 'The cow jumped over the the moon.'\n",
    "m = re.search(r'(\\w+) \\1', s)\n",
    "print(m.group(),' found at ', m.span())\n",
    "\n"
   ]
  },
  {
   "cell_type": "markdown",
   "id": "ac8bd968",
   "metadata": {},
   "source": [
    "#### 9. When parsing a string, what is at least one thing that the Scanner interface does for you that the re.findall feature does not?"
   ]
  },
  {
   "cell_type": "markdown",
   "id": "b1f67a6e",
   "metadata": {},
   "source": [
    "***\n",
    "\n",
    "We can implement a tokenizer using the Scanner interface which is not possible using the re.findall feature.\n",
    "\n",
    "***"
   ]
  },
  {
   "cell_type": "code",
   "execution_count": 14,
   "id": "a6461883",
   "metadata": {},
   "outputs": [
    {
     "name": "stdout",
     "output_type": "stream",
     "text": [
      "[('INTEGER', '45'), ('IDENTIFIER', 'pigeons'), ('PUNCTUATION', ','), ('INTEGER', '23'), ('IDENTIFIER', 'cows'), ('PUNCTUATION', ','), ('INTEGER', '11'), ('IDENTIFIER', 'spiders'), ('PUNCTUATION', '.')]\n"
     ]
    }
   ],
   "source": [
    "import re\n",
    "scanner=re.Scanner([\n",
    "  (r\"[0-9]+\",       lambda scanner,token:(\"INTEGER\", token)),\n",
    "  (r\"[a-z_]+\",      lambda scanner,token:(\"IDENTIFIER\", token)),\n",
    "  (r\"[,.]+\",        lambda scanner,token:(\"PUNCTUATION\", token)),\n",
    "  (r\"\\s+\", None), # None == skip token.\n",
    "])\n",
    "\n",
    "results, remainder=scanner.scan(\"45 pigeons, 23 cows, 11 spiders.\")\n",
    "print(results)"
   ]
  },
  {
   "cell_type": "markdown",
   "id": "26ec80ff",
   "metadata": {},
   "source": [
    "#### 10. Does a scanner object have to be named scanner?"
   ]
  },
  {
   "cell_type": "markdown",
   "id": "2c559476",
   "metadata": {},
   "source": [
    "***\n",
    "\n",
    "The scanner object need not be named scanner. We cab give any name to it.\n",
    "\n",
    "***"
   ]
  }
 ],
 "metadata": {
  "kernelspec": {
   "display_name": "Python 3",
   "language": "python",
   "name": "python3"
  },
  "language_info": {
   "codemirror_mode": {
    "name": "ipython",
    "version": 3
   },
   "file_extension": ".py",
   "mimetype": "text/x-python",
   "name": "python",
   "nbconvert_exporter": "python",
   "pygments_lexer": "ipython3",
   "version": "3.8.8"
  }
 },
 "nbformat": 4,
 "nbformat_minor": 5
}
