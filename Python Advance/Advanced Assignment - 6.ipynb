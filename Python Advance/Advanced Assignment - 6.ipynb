{
 "cells": [
  {
   "cell_type": "markdown",
   "id": "9fdaa66c",
   "metadata": {},
   "source": [
    "## Advanced Assignment - 6\n",
    "\n"
   ]
  },
  {
   "cell_type": "markdown",
   "id": "b1293915",
   "metadata": {},
   "source": [
    "#### 1) Describe three applications for exception processing.\n",
    "\n"
   ]
  },
  {
   "cell_type": "markdown",
   "id": "df8e3037",
   "metadata": {},
   "source": [
    "***\n",
    "\n",
    "Exception processing is useful for error handling, termination actions, and event notification. It can also simplify the handling of special cases and can be used to implement alternative control flows. In general, exception processing also cuts\n",
    "down on the amount of error-checking code the program may require—because all errors filter up to handlers, the outcome of every operation need not be tested.\n",
    "\n",
    "***"
   ]
  },
  {
   "cell_type": "markdown",
   "id": "df1c8fff",
   "metadata": {},
   "source": [
    "####  2. What happens if you don&#39;t do something extra to treat an exception?"
   ]
  },
  {
   "cell_type": "markdown",
   "id": "73171841",
   "metadata": {},
   "source": [
    "***\n",
    "\n",
    "Any uncaught exception eventually filters up to the default exception handler Python provides at the top of the program. This handler prints the familiar error message and shuts down the program.\n",
    "\n",
    "***"
   ]
  },
  {
   "cell_type": "markdown",
   "id": "5f400670",
   "metadata": {},
   "source": [
    "#### 3. What are your options for recovering from an exception in your script?"
   ]
  },
  {
   "cell_type": "markdown",
   "id": "4437c4f0",
   "metadata": {},
   "source": [
    "***\n",
    "\n",
    "To avoid the default message and shutdown, try/except statements can be added to the code to catch and recover from exceptions that are raised. Once an exception is caught, the exception is terminated and the program continues.\n",
    "\n",
    "***"
   ]
  },
  {
   "cell_type": "markdown",
   "id": "6d7b6b49",
   "metadata": {},
   "source": [
    "#### 4. Describe two methods for triggering exceptions in your script."
   ]
  },
  {
   "cell_type": "markdown",
   "id": "fa82311a",
   "metadata": {},
   "source": [
    "***\n",
    "\n",
    "The raise and assert statements can be used to trigger an exception, exactly as if it had been raised by Python itself. In principle, an exception can also be raised by making a programming mistake, but that’s not usually an explicit goal.\n",
    "\n",
    "\n",
    "***"
   ]
  },
  {
   "cell_type": "markdown",
   "id": "d9341a61",
   "metadata": {},
   "source": [
    "#### 5. Identify two methods for specifying actions to be executed at termination time, regardless of whether or not an exception exists."
   ]
  },
  {
   "cell_type": "markdown",
   "id": "f123c551",
   "metadata": {},
   "source": [
    "***\n",
    "\n",
    "The try/finally statement can be used to ensure actions are run after a block of code exits, regardless of whether it raises an exception or not. The with/as statement can also be used to ensure termination actions are run, but only when processing object types that support it.\n",
    "\n",
    "***"
   ]
  },
  {
   "cell_type": "code",
   "execution_count": null,
   "id": "16aa9fe4",
   "metadata": {},
   "outputs": [],
   "source": []
  }
 ],
 "metadata": {
  "kernelspec": {
   "display_name": "Python 3",
   "language": "python",
   "name": "python3"
  },
  "language_info": {
   "codemirror_mode": {
    "name": "ipython",
    "version": 3
   },
   "file_extension": ".py",
   "mimetype": "text/x-python",
   "name": "python",
   "nbconvert_exporter": "python",
   "pygments_lexer": "ipython3",
   "version": "3.8.8"
  }
 },
 "nbformat": 4,
 "nbformat_minor": 5
}
