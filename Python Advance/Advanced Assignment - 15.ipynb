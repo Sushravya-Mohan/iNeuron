{
 "cells": [
  {
   "cell_type": "markdown",
   "id": "9fdaa66c",
   "metadata": {},
   "source": [
    "## Advanced Assignment - 15\n",
    "\n"
   ]
  },
  {
   "cell_type": "markdown",
   "id": "b1293915",
   "metadata": {},
   "source": [
    "#### 1. What are the new features added in Python 3.8 version?"
   ]
  },
  {
   "cell_type": "markdown",
   "id": "df8e3037",
   "metadata": {},
   "source": [
    "***\n",
    "\n",
    "New features added in Python 3.8 version are:\n",
    "\n",
    "<br>\n",
    "\n",
    "1. **Assignment Expressions :** It assigns values to variables as part of an expression without the need to initialise the variables up front. They are written using the notation `:=`.  It is also known as walrus operator as it resembles the eyes and tusks of a walrus on its side.\n",
    "\n",
    "<br>\n",
    "\n",
    "2. **Positional only parameters(/) :**  `/` parameter indicates that the function accepts positional-only parameters and thus the arguments must be mapped to the parameters based solely on their order.\n",
    "\n",
    "<br>\n",
    "\n",
    "3. f-strings now support `=`\n",
    "\n",
    "<br>\n",
    "\n",
    "4. `yield` and `return` statement do not require parentheses to return multiple values.\n",
    "\n",
    "<br>\n",
    "\n",
    "5. **pow() function :** In the three-argument form of pow(), when the exponent is -1, the modular multiplicative inverse of the given value is calculated.\n",
    "\n",
    "<br>\n",
    "\n",
    "6. **SyntaxWarning :** In place of `TypeError`, `SyntaxWarning` is displayed.\n",
    "\n",
    "<br>\n",
    "\n",
    "7. **Dictionary comprehension :** Dict comprehensions have been modified so that the key is computed first and the value second.\n",
    "\n",
    "<br>\n",
    "\n",
    "8. **‘csv’ module :** The ‘csv.DictReader’ returns instances of dictionary instead of a ‘collections.OrderedDict’.\n",
    "\n",
    "<br>\n",
    "\n",
    "9. **importlib_metadata :** importlib_metadata is a new library added in the Python’s standard utility modules, that provides an API for accessing an installed package’s metadata, such as its entry points or its top-level name.\n",
    "\n",
    "***"
   ]
  },
  {
   "cell_type": "markdown",
   "id": "df1c8fff",
   "metadata": {},
   "source": [
    "####  2. What is monkey patching in Python?\n",
    "\n"
   ]
  },
  {
   "cell_type": "markdown",
   "id": "73171841",
   "metadata": {},
   "source": [
    "***\n",
    "\n",
    "Monkey-patching is a term that refers to modifying a class or module at a run time. That means, a class or module's work can be changed at the runtime.\n",
    "\n",
    "In monkey patching we can reopen the class and modify its behaviour.\n",
    "***"
   ]
  },
  {
   "cell_type": "markdown",
   "id": "5f400670",
   "metadata": {},
   "source": [
    "#### 3. What is the difference between a shallow copy and deep copy?\n"
   ]
  },
  {
   "cell_type": "markdown",
   "id": "4437c4f0",
   "metadata": {},
   "source": [
    "***\n",
    "\n",
    "1. **Shallow copy :** A shallow copy is a copy of an object that stores the reference of the original elements. It creates the new collection object and then occupying it with reference to the child objects found in the original. It makes copies of the nested objects' reference and doesn't create a copy of the nested objects. So if we make any changes to the copy of the object will reflect in the original object. We will use the **`copy()`** function to implement it.\n",
    "\n",
    "<br>\n",
    "\n",
    "2. **Deep copy :** A deep copy is a process where we create a new object and add copy elements recursively. We will use the **`deepcopy()`** method which present in copy module. The independent copy is created of original object and its entire object.\n",
    "\n",
    "\n",
    "***"
   ]
  },
  {
   "cell_type": "markdown",
   "id": "6d7b6b49",
   "metadata": {},
   "source": [
    "#### 4. What is the maximum possible length of an identifier?\n"
   ]
  },
  {
   "cell_type": "markdown",
   "id": "fa82311a",
   "metadata": {},
   "source": [
    "***\n",
    "\n",
    "Identifiers are unlimited in length. But as per **`PEP 8`** , you should imit all lines to a maximum of 79 characters for a better readability **`PEP 20`**\n",
    "\n",
    "***"
   ]
  },
  {
   "cell_type": "markdown",
   "id": "d9341a61",
   "metadata": {},
   "source": [
    "#### 5. What is generator comprehension?\n"
   ]
  },
  {
   "cell_type": "markdown",
   "id": "f123c551",
   "metadata": {},
   "source": [
    "***\n",
    "\n",
    "A generator comprehension is a single-line specification for defining a generator in Python. It is similar to list comprehension but instead of finding all the items you're interested and packing them into list, it waits, and yields each item out of the expression, one by one when `next()` is used on them.\n",
    "\n",
    "\n",
    "***"
   ]
  }
 ],
 "metadata": {
  "kernelspec": {
   "display_name": "Python 3",
   "language": "python",
   "name": "python3"
  },
  "language_info": {
   "codemirror_mode": {
    "name": "ipython",
    "version": 3
   },
   "file_extension": ".py",
   "mimetype": "text/x-python",
   "name": "python",
   "nbconvert_exporter": "python",
   "pygments_lexer": "ipython3",
   "version": "3.8.8"
  }
 },
 "nbformat": 4,
 "nbformat_minor": 5
}
