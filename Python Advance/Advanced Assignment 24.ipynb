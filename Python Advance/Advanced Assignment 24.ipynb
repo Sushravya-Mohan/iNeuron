{
  "nbformat": 4,
  "nbformat_minor": 0,
  "metadata": {
    "colab": {
      "name": "Advanced Assignment - 24.ipynb",
      "provenance": []
    },
    "kernelspec": {
      "name": "python3",
      "display_name": "Python 3"
    },
    "language_info": {
      "name": "python"
    }
  },
  "cells": [
    {
      "cell_type": "markdown",
      "source": [
        "## **Advanced Assignment - 24.ipynb**"
      ],
      "metadata": {
        "id": "_ai02mlqQnra"
      }
    },
    {
      "cell_type": "markdown",
      "source": [
        "**1. Is it permissible to use several import statements to import the same module? What would the goal be? Can you think of a situation where it would be beneficial?**"
      ],
      "metadata": {
        "id": "TW3rx1WEQqDA"
      }
    },
    {
      "cell_type": "markdown",
      "source": [
        "Yes, it is permissible to use several import statements to import the same module. It is used in case we have to import multiple functions from the same module."
      ],
      "metadata": {
        "id": "WLaPs_4pQqAX"
      }
    },
    {
      "cell_type": "markdown",
      "source": [
        "**2. What are some of a module&#39;s characteristics? (Name at least one.)**"
      ],
      "metadata": {
        "id": "hsgUcUYPQp-H"
      }
    },
    {
      "cell_type": "markdown",
      "source": [
        "The module attributes are:\n",
        "\n",
        "1. `_ _name_ _` : This returns the name of the module.\n",
        "2. `_ _doc_ _` : This denotes the documentation string line written in a module code.\n",
        "3. `_ _file_ _` : This holds the name and path of the module file from which it is loaded.\n",
        "4. `_ _dict_ _` : This returns the dictionary object of module attributes, functions and other definitions and their respective values."
      ],
      "metadata": {
        "id": "l_aI-hhiQp7R"
      }
    },
    {
      "cell_type": "markdown",
      "source": [
        "**3. Circular importing, such as when two modules import each other, can lead to dependencies and bugs that aren&#39;t visible. How can you go about creating a program that avoids mutual importing?**"
      ],
      "metadata": {
        "id": "IEM9KEFVQp4Z"
      }
    },
    {
      "cell_type": "markdown",
      "source": [
        "To solve the circular import problem, use `import my_module` syntax rather than `from my_module import some_object`. The former will always work. The latter only works if `my_object` is already defined in `my_module` which in a circular import may not be the case."
      ],
      "metadata": {
        "id": "QM_kRgIQQp2L"
      }
    },
    {
      "cell_type": "markdown",
      "source": [
        "**4. Why is `_ _all_ _ `in Python?**"
      ],
      "metadata": {
        "id": "e8lbZV4qQpzA"
      }
    },
    {
      "cell_type": "markdown",
      "source": [
        "`_ _all_ _` is a list of strings defining what symbols in a module will be exported when `from <module> import *` is used on the  module. "
      ],
      "metadata": {
        "id": "oqlK5pOwQpwP"
      }
    },
    {
      "cell_type": "markdown",
      "source": [
        "**5. In what situation is it useful to refer to the `_ _name_ _` attribute or the string &#39;`_ _main_ _`&#39;?**"
      ],
      "metadata": {
        "id": "JdbOf0XLQptf"
      }
    },
    {
      "cell_type": "markdown",
      "source": [
        "The `_ _name_ _` is a special built-in variable which evaluates to the name of the current module. However, if a module is being run directly (from command line), then `_ _name_ _` is set to the string `_ _main_ _`"
      ],
      "metadata": {
        "id": "ELeo6RTKQpqo"
      }
    },
    {
      "cell_type": "markdown",
      "source": [
        "**6. What are some of the benefits of attaching a program counter to the RPN interpreter application, which interprets an RPN script line by line?**"
      ],
      "metadata": {
        "id": "bl5_oL2nQpny"
      }
    },
    {
      "cell_type": "markdown",
      "source": [
        "By adding a program counter to the RPN interpreter application, it becomes easy to add a control structure to the RPN language. 'jump if not zero' - with this statement we can give RPN programs the ability to loop and make decisions thereby greatly increasing the usability of this language."
      ],
      "metadata": {
        "id": "SP3HZIMoQplP"
      }
    },
    {
      "cell_type": "markdown",
      "source": [
        "**7. What are the minimum expressions or statements (or both) that you&#39;d need to render a basic programming language like RPN primitive but complete— that is, capable of carrying out any computerised task theoretically possible?**"
      ],
      "metadata": {
        "id": "zWmdh21IQpin"
      }
    },
    {
      "cell_type": "markdown",
      "source": [
        "The expressions to be added to make RPN primitive but complete are ⁉\n",
        "\n",
        "1. `(?)` - jump if not zero operation \n",
        "2. `(>)` - comparison \n",
        "3. `(!)` - random number generator"
      ],
      "metadata": {
        "id": "xRdSzj58Qo1u"
      }
    }
  ]
}