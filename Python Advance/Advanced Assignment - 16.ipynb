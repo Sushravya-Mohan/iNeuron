{
 "cells": [
  {
   "cell_type": "markdown",
   "id": "9fdaa66c",
   "metadata": {},
   "source": [
    "## Advanced Assignment - 16\n",
    "\n"
   ]
  },
  {
   "cell_type": "markdown",
   "id": "b1293915",
   "metadata": {},
   "source": [
    "#### 1. What is the benefit of regular expressions?"
   ]
  },
  {
   "cell_type": "markdown",
   "id": "df8e3037",
   "metadata": {},
   "source": [
    "***\n",
    "\n",
    "A Regular Expression is used for identifying a search pattern in a text string. It also helps in finding out the correctness of the data and even operations such as finding, replacing and formatting the data is possible using Regular Expressions.\n",
    "\n",
    "\n",
    "***"
   ]
  },
  {
   "cell_type": "markdown",
   "id": "df1c8fff",
   "metadata": {},
   "source": [
    "####  2. Describe the difference between the effects of &quot;(ab)c+&quot; and &quot;a(bc)+.&quot; Which of these, if any, is the unqualified pattern &quot;abc+&quot;?\n",
    "\n"
   ]
  },
  {
   "cell_type": "markdown",
   "id": "73171841",
   "metadata": {},
   "source": [
    "***\n",
    "\n",
    "\"(ab)c+\" considers 'ab' as a group while \"a(bc)+\" considers 'bc' as a group.\n",
    "Both \"(ab)c+\" and \"a(bc)+\" do not match the pattern \"abc+\".\n",
    "\n",
    "***"
   ]
  },
  {
   "cell_type": "code",
   "execution_count": 6,
   "id": "b61c9084",
   "metadata": {},
   "outputs": [
    {
     "name": "stdout",
     "output_type": "stream",
     "text": [
      "['ab']\n",
      "['bc']\n",
      "['abc']\n"
     ]
    }
   ],
   "source": [
    "import re\n",
    "\n",
    "print(re.findall(r'(ab)c+',\"abcdcbab\"))\n",
    "print(re.findall(r'a(bc)+',\"abcdcbab\"))\n",
    "print(re.findall(r'abc+',\"abcdcbab\"))"
   ]
  },
  {
   "cell_type": "markdown",
   "id": "5f400670",
   "metadata": {},
   "source": [
    "#### 3. How much do you need to use the following sentence while using regular expressions?\n",
    "\n",
    "`import re`\n"
   ]
  },
  {
   "cell_type": "markdown",
   "id": "4437c4f0",
   "metadata": {},
   "source": [
    "***\n",
    "\n",
    "`import re` is necessary module that has to be imported before using regular expressions.\n",
    "\n",
    "\n",
    "***"
   ]
  },
  {
   "cell_type": "markdown",
   "id": "6d7b6b49",
   "metadata": {},
   "source": [
    "#### 4. Which characters have special significance in square brackets when expressing a range, and under what circumstances?\n"
   ]
  },
  {
   "cell_type": "markdown",
   "id": "fa82311a",
   "metadata": {},
   "source": [
    "***\n",
    "\n",
    "The characters `.,*,?,^,or,(),` have a special signiface when used with square brackets. They need not be be explicitly escaped by `\\` as in case of pattern texts in a raw string.\n",
    "\n",
    "\n",
    "***"
   ]
  },
  {
   "cell_type": "markdown",
   "id": "d9341a61",
   "metadata": {},
   "source": [
    "#### 5. How does compiling a regular-expression object benefit you?"
   ]
  },
  {
   "cell_type": "markdown",
   "id": "f123c551",
   "metadata": {},
   "source": [
    "***\n",
    "\n",
    "`re.compile()` method is used to compile a regular expression pattern provided as a string into a regex pattern object. This pattern object can later be used to search for a match inside different target strings using regex methods. \n",
    "\n",
    "***"
   ]
  },
  {
   "cell_type": "markdown",
   "id": "1bf860de",
   "metadata": {},
   "source": [
    "#### 6. What are some examples of how to use the match object returned by re.match and re.search?"
   ]
  },
  {
   "cell_type": "markdown",
   "id": "a9f1b149",
   "metadata": {},
   "source": [
    "***\n",
    "\n",
    "re.search() and re.match() search for a substring in the string. \n",
    "\n",
    "re.match() searches only from the beginning of the string and return match object if found. But if a match of substring is found somewhere in the middle of the string, it returns none. \n",
    "re.search() searches for the whole string even if the string contains multi-lines and tries to find a match of the substring in all the lines of string.\n",
    "\n",
    "\n",
    "***"
   ]
  },
  {
   "cell_type": "code",
   "execution_count": 10,
   "id": "9d232096",
   "metadata": {},
   "outputs": [
    {
     "name": "stdout",
     "output_type": "stream",
     "text": [
      "Science\n",
      "None\n",
      "Data\n"
     ]
    }
   ],
   "source": [
    "import re\n",
    "\n",
    "a = re.search(r'Science','Data Science Course')\n",
    "print(a.group(0))\n",
    "\n",
    "b = re.match(r'Science', 'Data Science Course')\n",
    "print(b)\n",
    "\n",
    "c = re.match(r'Data', 'Data Science Course')\n",
    "print(c.group(0))"
   ]
  },
  {
   "cell_type": "markdown",
   "id": "191c5e52",
   "metadata": {},
   "source": [
    "#### 7. What is the difference between using a vertical bar (|) as an alteration and using square brackets as a character set?"
   ]
  },
  {
   "cell_type": "markdown",
   "id": "56748971",
   "metadata": {},
   "source": [
    "***\n",
    "\n",
    "The vertical bar (|) character is used to match any one of a series of patterns, where the | character separates each pattern.\n",
    "Ex:\n",
    "\n",
    "`(pattern1|pattern2|pattern3)` means `pattern1` or `pattern2` or `pattern3`\n",
    "\n",
    "\n",
    "Using character set in square brackets searches for all the character set in the square bracket and if match is found, it returns it.\n",
    "\n",
    "***\n"
   ]
  },
  {
   "cell_type": "markdown",
   "id": "1dc759a8",
   "metadata": {},
   "source": [
    "#### 8. In regular-expression search patterns, why is it necessary to use the raw-string indicator (r)? In replacement strings?"
   ]
  },
  {
   "cell_type": "markdown",
   "id": "2f3a56dc",
   "metadata": {},
   "source": [
    "***\n",
    "\n",
    "Raw strings are used in regular expression search patterns, so that backslashes do not have to be escaped.\n",
    "\n",
    "***"
   ]
  }
 ],
 "metadata": {
  "kernelspec": {
   "display_name": "Python 3",
   "language": "python",
   "name": "python3"
  },
  "language_info": {
   "codemirror_mode": {
    "name": "ipython",
    "version": 3
   },
   "file_extension": ".py",
   "mimetype": "text/x-python",
   "name": "python",
   "nbconvert_exporter": "python",
   "pygments_lexer": "ipython3",
   "version": "3.8.8"
  }
 },
 "nbformat": 4,
 "nbformat_minor": 5
}
