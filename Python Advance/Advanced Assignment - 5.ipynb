{
 "cells": [
  {
   "cell_type": "markdown",
   "id": "9fdaa66c",
   "metadata": {},
   "source": [
    "## Advanced Assignment - 5\n",
    "\n"
   ]
  },
  {
   "cell_type": "markdown",
   "id": "b1293915",
   "metadata": {},
   "source": [
    "#### 1)  What is the meaning of multiple inheritance?"
   ]
  },
  {
   "cell_type": "markdown",
   "id": "2cff80da",
   "metadata": {},
   "source": [
    "***\n",
    "\n",
    "When a child class inherits from multiple parent classes. In multiple inheritance, the features of all parent classes are inherited into the derived class/child class. The left to right order in class statement headers determines the order of attribute searches.\n",
    "\n",
    "**Example:**\n",
    "\n",
    "`class Mother:\n",
    "             pass\n",
    " class Father:\n",
    "             pass\n",
    " class Child(Mother, Father):\n",
    "             pass`\n",
    "             \n",
    "***"
   ]
  },
  {
   "cell_type": "markdown",
   "id": "7b2bb95a",
   "metadata": {},
   "source": [
    "#### 2) What is the concept of delegation?"
   ]
  },
  {
   "cell_type": "markdown",
   "id": "dfcd4cf0",
   "metadata": {},
   "source": [
    "***\n",
    "\n",
    "Delegation involves wrapping an object in a proxy class, which adds extra behavior and passes other operations to the wrapped object. The proxy retains the interface of the wrapped object.\n",
    "\n",
    "***"
   ]
  },
  {
   "cell_type": "code",
   "execution_count": 2,
   "id": "14cbd00a",
   "metadata": {},
   "outputs": [
    {
     "name": "stdout",
     "output_type": "stream",
     "text": [
      "I have 3 sides\n"
     ]
    }
   ],
   "source": [
    "class Polygon:\n",
    "    def __init__(self, name, num_of_sides):\n",
    "        self.name = name\n",
    "        self.num_of_sides = num_of_sides\n",
    "  \n",
    "    def get_number_of_sides(self):\n",
    "        print(f\"I have {self.num_of_sides} sides\")\n",
    "\n",
    "class Triangle(Polygon):\n",
    "    def __init__(self, name, num_of_sides):\n",
    "        super().__init__(name, num_of_sides)\n",
    "\n",
    "triangle = Triangle('Equilateral', 3)\n",
    "triangle.get_number_of_sides()\n"
   ]
  },
  {
   "cell_type": "markdown",
   "id": "d44a498a",
   "metadata": {},
   "source": [
    "#### 3) What is the concept of composition?"
   ]
  },
  {
   "cell_type": "markdown",
   "id": "3b129abc",
   "metadata": {},
   "source": [
    "***\n",
    "\n",
    "Composition enables us to create complex objects by combining the objects in the program. This means composite class in a program can contain objects from other class components. Composition represents a has a relationship type.\n",
    "\n",
    "If the container objects (from which the content objects are created) are deleted, then content objects are also deleted. \n",
    "\n",
    "***"
   ]
  },
  {
   "cell_type": "code",
   "execution_count": 3,
   "id": "7309502c",
   "metadata": {},
   "outputs": [
    {
     "name": "stdout",
     "output_type": "stream",
     "text": [
      "Total: 7700\n"
     ]
    }
   ],
   "source": [
    "class Salary:\n",
    "    def __init__(self, pay):\n",
    "        self.pay = pay\n",
    " \n",
    "    def get_total(self):\n",
    "        return (self.pay*12)\n",
    " \n",
    " \n",
    "class Employee:\n",
    "    def __init__(self, pay, bonus):\n",
    "        self.pay = pay\n",
    "        self.bonus = bonus\n",
    "        self.obj_salary = Salary(self.pay)\n",
    " \n",
    "    def annual_salary(self):\n",
    "        return \"Total: \" + str(self.obj_salary.get_total() + self.bonus)\n",
    " \n",
    " \n",
    "obj_emp = Employee(600, 500)\n",
    "print(obj_emp.annual_salary())"
   ]
  },
  {
   "cell_type": "markdown",
   "id": "864ebbe6",
   "metadata": {},
   "source": [
    "#### 4) What are bound methods and how do we use them?"
   ]
  },
  {
   "cell_type": "markdown",
   "id": "5a888e19",
   "metadata": {},
   "source": [
    "***\n",
    "\n",
    "If a function is an attribute of class and it is accessed via the instances, they are called bound methods. \n",
    "A bound method is one that has ‘self‘ as its first argument. Since these are dependent on the instance of classes, \n",
    "these are also known as instance methods. Bound methods pass the instance as the first argument which is used to access the variables and functions.\n",
    "\n",
    "***\n"
   ]
  },
  {
   "cell_type": "code",
   "execution_count": 4,
   "id": "d2d9fc2d",
   "metadata": {},
   "outputs": [
    {
     "name": "stdout",
     "output_type": "stream",
     "text": [
      "Car1 gears before calling change_gears() =  5\n",
      "Gears after calling change_gears() =  6\n",
      "<bound method Car.change_gears of <class '__main__.Car'>>\n"
     ]
    }
   ],
   "source": [
    "class Car:\n",
    "    gears = 5\n",
    "  \n",
    "    @classmethod\n",
    "    def change_gears(cls, gears):\n",
    "        cls.gears = gears\n",
    "        \n",
    "Car1 = Car()\n",
    "print(\"Car1 gears before calling change_gears() = \", Car1.gears)\n",
    "Car1.change_gears(6) \n",
    "print(\"Gears after calling change_gears() = \", Car1.gears)\n",
    "\n",
    "print(Car1.change_gears)"
   ]
  },
  {
   "cell_type": "markdown",
   "id": "ce137f19",
   "metadata": {},
   "source": [
    "#### 5) What is the purpose of pseudoprivate attributes?"
   ]
  },
  {
   "cell_type": "markdown",
   "id": "c61a393b",
   "metadata": {},
   "source": [
    "***\n",
    "\n",
    "Pseudoprivate attributes (whose names begin with two leading underscores: `__X`) are used to localize names to the enclosing class. This includes both class attributes like methods defined inside the class, and self instance attributes assigned inside\n",
    "the class. Such names are expanded to include the class name, which makes them unique.\n",
    "\n",
    "***\n"
   ]
  }
 ],
 "metadata": {
  "kernelspec": {
   "display_name": "Python 3",
   "language": "python",
   "name": "python3"
  },
  "language_info": {
   "codemirror_mode": {
    "name": "ipython",
    "version": 3
   },
   "file_extension": ".py",
   "mimetype": "text/x-python",
   "name": "python",
   "nbconvert_exporter": "python",
   "pygments_lexer": "ipython3",
   "version": "3.8.8"
  }
 },
 "nbformat": 4,
 "nbformat_minor": 5
}
