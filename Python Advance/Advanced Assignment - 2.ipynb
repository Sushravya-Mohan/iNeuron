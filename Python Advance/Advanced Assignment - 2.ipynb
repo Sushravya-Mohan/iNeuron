{
 "cells": [
  {
   "cell_type": "markdown",
   "id": "9fdaa66c",
   "metadata": {},
   "source": [
    "## Advanced Assignment - 2\n",
    "\n"
   ]
  },
  {
   "cell_type": "markdown",
   "id": "b1293915",
   "metadata": {},
   "source": [
    "#### 1)  What is the relationship between classes and modules?"
   ]
  },
  {
   "cell_type": "markdown",
   "id": "ef52ead4",
   "metadata": {},
   "source": [
    "***\n",
    "\n",
    "Classes are templates based on which objects are created. Classes contain variables and functions which act on the object.\n",
    "    \n",
    "Modules in python are files with .py extension. We can reuse the elements inside the module. Python program may contain variables, functions and classes inside it. When we want to reuse a function code or same class, we can import the entire file as a module.\n",
    "\n",
    "****"
   ]
  },
  {
   "cell_type": "markdown",
   "id": "7b2bb95a",
   "metadata": {},
   "source": [
    "#### 2) How do you make instances and classes?"
   ]
  },
  {
   "cell_type": "markdown",
   "id": "4a1f14ca",
   "metadata": {},
   "source": [
    "***\n",
    "\n",
    "To create a class, we use the class keyword followed by the class name and colon.\n",
    "    \n",
    "**Example:**\n",
    "    \n",
    "`class Person:\n",
    "       def __init__(self, name, age):\n",
    "            self.name = name \n",
    "            self.age = age`\n",
    "          \n",
    "    \n",
    "\n",
    "To create instance of class, class is called using the class name and pass in the arguments __init__ method accepts.\n",
    "    \n",
    "**Example:** \n",
    "    \n",
    "`person1 = Person(\"sushravya\", 20)`\n",
    "<br>\n",
    "\n",
    "\n",
    "***"
   ]
  },
  {
   "cell_type": "markdown",
   "id": "d44a498a",
   "metadata": {},
   "source": [
    "#### 3) Where and how should be class attributes created?"
   ]
  },
  {
   "cell_type": "markdown",
   "id": "77ee3ff8",
   "metadata": {},
   "source": [
    "***\n",
    "\n",
    "Class attributes are shared by all instances of the class. Hence they are created/defined directly in the class. They can be accessed by classname.class_attribute or object.class_attribute\n",
    "    \n",
    "**Example:** \n",
    "    \n",
    "`class Test:       \n",
    "    a = 1\n",
    "    def __init__(self):\n",
    "        pass`\n",
    "\n",
    "<br>           \n",
    "In the above example, a is the class attribute.\n",
    "\n",
    "***"
   ]
  },
  {
   "cell_type": "markdown",
   "id": "864ebbe6",
   "metadata": {},
   "source": [
    "#### 4) Where and how are instance attributes created?"
   ]
  },
  {
   "cell_type": "markdown",
   "id": "7c8f1929",
   "metadata": {},
   "source": [
    "***\n",
    "\n",
    "Instance attributes are the variables belonging to only one object. This is accessible only in the scope of the object it belongs to. They are defined inside the constructor.\n",
    "\n",
    "**Example:**\n",
    "\n",
    "`class Person:\n",
    "    def __init__(self, name, age):\n",
    "        self.name = name\n",
    "        self.age = age`\n",
    "        \n",
    "<br>\n",
    "\n",
    "In the above example, **name** and **age** are instance attributes\n",
    "\n",
    "***"
   ]
  },
  {
   "cell_type": "markdown",
   "id": "ce137f19",
   "metadata": {},
   "source": [
    "#### 5) What does the term &quot;self&quot; in a Python class mean?"
   ]
  },
  {
   "cell_type": "markdown",
   "id": "97b6de22",
   "metadata": {},
   "source": [
    "***\n",
    "\n",
    "The self word is used to represent instance of the class. Using the self keyword, we can access the instances and methods of the each object of the class.\n",
    "\n",
    "**Example:**\n",
    "\n",
    "`class Person:\n",
    "    def __init__(self, name, age):\n",
    "        self.name = name\n",
    "        self.age = age\n",
    "    def person_name(self):\n",
    "        return self.name`\n",
    "        \n",
    "\n",
    "`person1 = Person(\"Mark\", 30)\n",
    " person1.person_name()`\n",
    "     \n",
    "***"
   ]
  },
  {
   "cell_type": "markdown",
   "id": "9e34fd85",
   "metadata": {},
   "source": [
    "#### 6) How does a Python class handle operator overloading?"
   ]
  },
  {
   "cell_type": "markdown",
   "id": "8a9d11b1",
   "metadata": {},
   "source": [
    "***\n",
    "\n",
    "Operators are used to perform certain operations on the operands in Python. Customizing the operator to have different meaning in different context is called **Operator Overloading**.\n",
    "<br>\n",
    "For handling operator overloading in classes, we use special functions.\n",
    "\n",
    "**Example:** For adding two objects of the class we can define it as given below.\n",
    "\n",
    "`class Point:\n",
    "    def __init__(self,x,y):\n",
    "        self.x = x\n",
    "        self.y = y\n",
    "    def __str__(self):\n",
    "        return (f'({self.x},{self.y})')\n",
    "    def __add__(self, other):\n",
    "        x = self.x + other.x\n",
    "        y = self.y + other.y\n",
    "        return Point(x, y)`\n",
    "    \n",
    "        \n",
    "`a = Point(3, 6)\n",
    " b = Point(2, 9)\n",
    " print(a+b)`\n",
    " \n",
    "***"
   ]
  },
  {
   "cell_type": "markdown",
   "id": "d3651a08",
   "metadata": {},
   "source": [
    "#### 7) When do you consider allowing operator overloading of your classes?"
   ]
  },
  {
   "cell_type": "markdown",
   "id": "d58fd8fa",
   "metadata": {},
   "source": [
    "***\n",
    "\n",
    "We use operator overloading of the classes, when we want the operator to behave in a different way according to the parameter passed to the objects.\n",
    "\n",
    "***"
   ]
  },
  {
   "cell_type": "markdown",
   "id": "712863c4",
   "metadata": {},
   "source": [
    "#### 8) What is the most popular form of operator overloading?"
   ]
  },
  {
   "cell_type": "markdown",
   "id": "c0ac0652",
   "metadata": {},
   "source": [
    "***\n",
    "\n",
    "The most popular form of operator overloading in python classes is **Magic methods**. Magic methods are special methods which have double underscores on both sides of the method name.\n",
    "\n",
    "**Examples:** \n",
    "\n",
    "`__add__, __sub__, __len__` etc\n",
    "\n",
    "***"
   ]
  },
  {
   "cell_type": "markdown",
   "id": "092131cc",
   "metadata": {},
   "source": [
    "#### 9) What are the two most important concepts to grasp in order to comprehend Python OOP code?"
   ]
  },
  {
   "cell_type": "markdown",
   "id": "07d08a58",
   "metadata": {},
   "source": [
    "***\n",
    "\n",
    "Classes and objects are two most important concepts one should understand to comprehend the OOP code in python.\n",
    "\n",
    "The other important concepts in OOP are:\n",
    "<br>\n",
    "- Inheritance\n",
    "- Encapsulation\n",
    "- Polymorphism \n",
    "- Data abstraction\n",
    "\n",
    "***"
   ]
  }
 ],
 "metadata": {
  "kernelspec": {
   "display_name": "Python 3",
   "language": "python",
   "name": "python3"
  },
  "language_info": {
   "codemirror_mode": {
    "name": "ipython",
    "version": 3
   },
   "file_extension": ".py",
   "mimetype": "text/x-python",
   "name": "python",
   "nbconvert_exporter": "python",
   "pygments_lexer": "ipython3",
   "version": "3.8.8"
  }
 },
 "nbformat": 4,
 "nbformat_minor": 5
}
