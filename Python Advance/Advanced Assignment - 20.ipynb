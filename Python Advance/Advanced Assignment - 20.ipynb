{
 "cells": [
  {
   "cell_type": "markdown",
   "id": "9fdaa66c",
   "metadata": {},
   "source": [
    "## Advanced Assignment - 20\n",
    "\n"
   ]
  },
  {
   "cell_type": "markdown",
   "id": "b1293915",
   "metadata": {},
   "source": [
    "#### 1. Compare and contrast the float and Decimal classes&#39; benefits and drawbacks."
   ]
  },
  {
   "cell_type": "markdown",
   "id": "df8e3037",
   "metadata": {},
   "source": [
    "***\n",
    "\n",
    "\n",
    "**Decimal** and **Float** both are used to store numerical values.\n",
    "\n",
    "<br>\n",
    "\n",
    "1. Float is Approximate-number data type, which means that not all values in the data type range can be represented exactly , it round up the values. Use floats when convenience and speed matter. One of the big issues with floats is the lack of reliable equality testing.\n",
    "\n",
    "<br>\n",
    "\n",
    "2. Whereas Decimal is Fixed-Precision data type, which means that all the values in the data type range can be represented exactly with precision and scale, it doesn’t round up the values. Use decimals when precision matters, such as with financial calculations.\n",
    "\n",
    "\n",
    "***"
   ]
  },
  {
   "cell_type": "markdown",
   "id": "df1c8fff",
   "metadata": {},
   "source": [
    "####  2. Decimal(&#39;1.200&#39;) and Decimal(&#39;1.2&#39;) are two objects to consider. In what sense are these the same object? Are these just two ways of representing the exact same value, or do they correspond to different internal states?\n",
    "\n"
   ]
  },
  {
   "cell_type": "markdown",
   "id": "73171841",
   "metadata": {},
   "source": [
    "***\n",
    "\n",
    "Both `Decimal('1.200')` and `Decimal('1.2')` represent the exact same value. But they correspond to two different internal state.\n",
    "\n",
    "`Decimal('1.200')` gives 1.200\n",
    "<br>\n",
    "`Decimal('1.2')` gives 1.2\n",
    "\n",
    "***"
   ]
  },
  {
   "cell_type": "markdown",
   "id": "5f400670",
   "metadata": {},
   "source": [
    "#### 3. What happens if the equality of Decimal(&#39;1.200&#39;) and Decimal(&#39;1.2&#39;) is checked?\n"
   ]
  },
  {
   "cell_type": "markdown",
   "id": "4437c4f0",
   "metadata": {},
   "source": [
    "***\n",
    "\n",
    "When equality of `Decimal('1.200')` and `Decimal('1.2')` is checked, both values are checked to be equal. Only their precision is different.\n",
    "\n",
    "***"
   ]
  },
  {
   "cell_type": "code",
   "execution_count": 2,
   "id": "18b8f84c",
   "metadata": {},
   "outputs": [],
   "source": [
    "from decimal import Decimal"
   ]
  },
  {
   "cell_type": "code",
   "execution_count": 6,
   "id": "cf3cd481",
   "metadata": {},
   "outputs": [
    {
     "data": {
      "text/plain": [
       "True"
      ]
     },
     "execution_count": 6,
     "metadata": {},
     "output_type": "execute_result"
    }
   ],
   "source": [
    "Decimal('1.200') == Decimal('1.2')"
   ]
  },
  {
   "cell_type": "markdown",
   "id": "6d7b6b49",
   "metadata": {},
   "source": [
    "#### 4. Why is it preferable to start a Decimal object with a string rather than a floating-point value?\n"
   ]
  },
  {
   "cell_type": "markdown",
   "id": "fa82311a",
   "metadata": {},
   "source": [
    "***\n",
    "\n",
    "If Decimal object is started with a floating-point value, it has to be converted to Decimal format. But floating-point value might already have rounding error.\n",
    "\n",
    "Hence it is preferable to start a Decimal object with a string.\n",
    "\n",
    "***"
   ]
  },
  {
   "cell_type": "markdown",
   "id": "d9341a61",
   "metadata": {},
   "source": [
    "#### 5. In an arithmetic phrase, how simple is it to combine Decimal objects with integers?"
   ]
  },
  {
   "cell_type": "markdown",
   "id": "f123c551",
   "metadata": {},
   "source": [
    "***\n",
    "\n",
    "We can combine Decimal objects with integers using `Decimal()`.\n",
    "***"
   ]
  },
  {
   "cell_type": "markdown",
   "id": "1bf860de",
   "metadata": {},
   "source": [
    "#### 6. Can Decimal objects and floating-point values be combined easily?"
   ]
  },
  {
   "cell_type": "markdown",
   "id": "a9f1b149",
   "metadata": {},
   "source": [
    "***\n",
    "\n",
    "Adding, Subtracting, Multiplying a Decimal object by floating-point value will generate an error\n",
    "\n",
    "Before combining Decimal objects and floating-point values, the floating-point values should be converted to Decimal objects.\n",
    "\n",
    "***"
   ]
  },
  {
   "cell_type": "markdown",
   "id": "191c5e52",
   "metadata": {},
   "source": [
    "#### 7. Using the Fraction class but not the Decimal class, give an example of a quantity that can be expressed with absolute precision."
   ]
  },
  {
   "cell_type": "markdown",
   "id": "56748971",
   "metadata": {},
   "source": [
    "***\n",
    "\n",
    "1/2, 2/4 and 100/200 can be expressed with absolute precision\n",
    "\n",
    "***"
   ]
  },
  {
   "cell_type": "code",
   "execution_count": 7,
   "id": "10dba6df",
   "metadata": {},
   "outputs": [
    {
     "name": "stdout",
     "output_type": "stream",
     "text": [
      "1/2\n",
      "1/2\n",
      "1/2\n"
     ]
    }
   ],
   "source": [
    "from fractions import Fraction\n",
    "\n",
    "print(Fraction(1, 2))\n",
    "print(Fraction(2, 4))\n",
    "print(Fraction(100, 200))"
   ]
  },
  {
   "cell_type": "markdown",
   "id": "1dc759a8",
   "metadata": {},
   "source": [
    "#### 8. Describe a quantity that can be accurately expressed by the Decimal or Fraction classes but not by a floating-point value."
   ]
  },
  {
   "cell_type": "markdown",
   "id": "2f3a56dc",
   "metadata": {},
   "source": [
    "***\n",
    "\n",
    "\"Money\" class can be accurately expressed by Decimal or Fraction classes but not by a floating-point value.\n",
    "\n",
    "***"
   ]
  },
  {
   "cell_type": "markdown",
   "id": "ac8bd968",
   "metadata": {},
   "source": [
    "#### 9. Consider the following two fraction objects: Fraction(1, 2) and Fraction (5, 10). Is the internal state of these two objects the same? Why do you think that is?"
   ]
  },
  {
   "cell_type": "markdown",
   "id": "b1f67a6e",
   "metadata": {},
   "source": [
    "***\n",
    "\n",
    "The internal state of both the objects will be same as both will be reduced to the fraction 1/2\n",
    "\n",
    "***"
   ]
  },
  {
   "cell_type": "code",
   "execution_count": 14,
   "id": "dd1741b2",
   "metadata": {},
   "outputs": [
    {
     "name": "stdout",
     "output_type": "stream",
     "text": [
      "1/2\n",
      "1/2\n"
     ]
    }
   ],
   "source": [
    "print(Fraction(1, 2))\n",
    "print(Fraction(5, 10))"
   ]
  },
  {
   "cell_type": "markdown",
   "id": "26ec80ff",
   "metadata": {},
   "source": [
    "#### 10. How do the Fraction class and the integer type (int) relate to each other? Containment or inheritance?"
   ]
  },
  {
   "cell_type": "markdown",
   "id": "2c559476",
   "metadata": {},
   "source": [
    "***\n",
    "\n",
    "The Fraction class and integer type have relationship of containment.\n",
    "\n",
    "The Fraction class contains two int values, one in the numerator and one in the denominator.\n",
    "\n",
    "\n",
    "***"
   ]
  }
 ],
 "metadata": {
  "kernelspec": {
   "display_name": "Python 3",
   "language": "python",
   "name": "python3"
  },
  "language_info": {
   "codemirror_mode": {
    "name": "ipython",
    "version": 3
   },
   "file_extension": ".py",
   "mimetype": "text/x-python",
   "name": "python",
   "nbconvert_exporter": "python",
   "pygments_lexer": "ipython3",
   "version": "3.8.8"
  }
 },
 "nbformat": 4,
 "nbformat_minor": 5
}
