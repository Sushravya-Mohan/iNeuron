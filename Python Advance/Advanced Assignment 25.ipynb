{
  "nbformat": 4,
  "nbformat_minor": 0,
  "metadata": {
    "colab": {
      "name": "Advanced Assignment - 25.ipynb",
      "provenance": []
    },
    "kernelspec": {
      "name": "python3",
      "display_name": "Python 3"
    },
    "language_info": {
      "name": "python"
    }
  },
  "cells": [
    {
      "cell_type": "markdown",
      "source": [
        "## **Advanced Assignment - 25**"
      ],
      "metadata": {
        "id": "sDpihU0ZQ0N7"
      }
    },
    {
      "cell_type": "markdown",
      "source": [
        "**1. What is the distinction between a numpy array and a pandas data frame? Is there a way to convert between the two if there is?**"
      ],
      "metadata": {
        "id": "6Knop_o7Q4AR"
      }
    },
    {
      "cell_type": "markdown",
      "source": [
        "Numpy Ndarray provides a lot of convenient and optimized methods for performing several mathematical operations on vectors.\n",
        "\n",
        "Pandas Dataframe is an in-memory 2-dimensional tabular representation of data. In simpler words, it can be seen as a spreadsheet having rows and columns.\n",
        "\n",
        "**Conversion :** Dataframe=pandas.DataFrame(array)"
      ],
      "metadata": {
        "id": "RBuU9FG7Q395"
      }
    },
    {
      "cell_type": "markdown",
      "source": [
        "**2. What can go wrong when an user enters in a stock-ticker symbol, and how do you handle it?**"
      ],
      "metadata": {
        "id": "LhosTn3nQ37c"
      }
    },
    {
      "cell_type": "markdown",
      "source": [
        "The stock-ticker symbol entered by the user can be invalid.\n",
        "\n",
        "This is handled by re-prompting the user until successful or until the user enters an empty string in which case the application terminates gracefully."
      ],
      "metadata": {
        "id": "b3KTu4XmQ342"
      }
    },
    {
      "cell_type": "markdown",
      "source": [
        "**3. Identify some of the plotting techniques that are used to produce a stock-market chart.**"
      ],
      "metadata": {
        "id": "JLyAorN4Q3zv"
      }
    },
    {
      "cell_type": "markdown",
      "source": [
        "Techniques for plotting stock-market chart are:\n",
        "\n",
        "1. A simple line chart to show the variation of price with respect to time.\n",
        "2. Comparing stocks of different companies.\n",
        "3. Daily high and daily low stock prices with respect to time. (Time series)\n",
        "4. Number of shares sold on any given day.\n",
        "5. Subplots of price and volume of stock next to each other.\n",
        "6. Moving average of stock prices."
      ],
      "metadata": {
        "id": "cPWB7n1GQ3xS"
      }
    },
    {
      "cell_type": "markdown",
      "source": [
        "**4. Why is it essential to print a legend on a stock market chart?**"
      ],
      "metadata": {
        "id": "5pMSpL-QQ3uk"
      }
    },
    {
      "cell_type": "markdown",
      "source": [
        "It is essential to print legend on a stock market chart so that we can differentiate between the stocks of various companies."
      ],
      "metadata": {
        "id": "GvRPIcAPQ3sN"
      }
    },
    {
      "cell_type": "markdown",
      "source": [
        "**5. What is the best way to limit the length of a pandas data frame to less than a year?**"
      ],
      "metadata": {
        "id": "Ofn3HFR-Q3pU"
      }
    },
    {
      "cell_type": "markdown",
      "source": [
        "The best way to limit the length of a pandas data frame to less than a year is by adding the start and end date. We can also add frequency parameter to get the daily, monthly, quarterly data."
      ],
      "metadata": {
        "id": "rqGVJXqPQ3m3"
      }
    },
    {
      "cell_type": "markdown",
      "source": [
        "**6. What is the definition of a 180-day moving average?**"
      ],
      "metadata": {
        "id": "48joqnY6Q3kt"
      }
    },
    {
      "cell_type": "markdown",
      "source": [
        "180-day moving average line is obtained by taking the average of price of all 180 dates preceding the current date. This process is carried out for all dates and the line chart connecting these points is produced."
      ],
      "metadata": {
        "id": "cje5v_ZUQ3h0"
      }
    },
    {
      "cell_type": "markdown",
      "source": [
        "**7. Did the chapter&#39;s final example use &quot;indirect&quot; importing? If so, how exactly do you do it?**"
      ],
      "metadata": {
        "id": "aVv9cZJyQ3fC"
      }
    },
    {
      "cell_type": "markdown",
      "source": [
        "Yes. Indirect importing was used.\n",
        "\n",
        "Module `stock_plot_v4.py` imports `stock_load.py`. Consequently `stock_demo` imports `stock_load` indirectly."
      ],
      "metadata": {
        "id": "QpFor9TcQ3c8"
      }
    }
  ]
}