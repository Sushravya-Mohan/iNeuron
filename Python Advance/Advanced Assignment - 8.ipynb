{
 "cells": [
  {
   "cell_type": "markdown",
   "id": "9fdaa66c",
   "metadata": {},
   "source": [
    "## Advanced Assignment - 8\n",
    "\n"
   ]
  },
  {
   "cell_type": "markdown",
   "id": "b1293915",
   "metadata": {},
   "source": [
    "#### 1. What are the two latest user-defined exception constraints in Python 3.X?"
   ]
  },
  {
   "cell_type": "markdown",
   "id": "df8e3037",
   "metadata": {},
   "source": [
    "***\n",
    "\n",
    "In 3.0, exceptions must be defined by classes (that is, a class instance object is raised and caught). In addition, exception classes must be derived from the built-in class BaseException (most programs inherit from its Exception subclass, to support\n",
    "catchall handlers for normal kinds of exceptions).\n",
    "\n",
    "\n",
    "***"
   ]
  },
  {
   "cell_type": "markdown",
   "id": "df1c8fff",
   "metadata": {},
   "source": [
    "####  2. How are class-based exceptions that have been raised matched to handlers?\n",
    "\n"
   ]
  },
  {
   "cell_type": "markdown",
   "id": "73171841",
   "metadata": {},
   "source": [
    "***\n",
    "\n",
    "Class-based exceptions match by superclass relationships: naming a superclass in an exception handler will catch instances of that class, as well as instances of any of its subclasses lower in the class tree. Because of this, you can think of superclasses as general exception categories and subclasses as more specific types of exceptions within those categories.\n",
    "\n",
    "***"
   ]
  },
  {
   "cell_type": "markdown",
   "id": "5f400670",
   "metadata": {},
   "source": [
    "#### 3. Describe two methods for attaching context information to exception artefacts.\n"
   ]
  },
  {
   "cell_type": "markdown",
   "id": "4437c4f0",
   "metadata": {},
   "source": [
    "***\n",
    "\n",
    "You can attach context information to class-based exceptions by filling out instance attributes in the instance object raised, usually in a custom class constructor. For simpler needs, built-in exception superclasses provide a constructor that stores its\n",
    "arguments on the instance automatically (in the attribute args). In exception handlers, you list a variable to be assigned to the raised instance, then go through this name to access attached state information and call any methods defined in the class.\n",
    "\n",
    "***"
   ]
  },
  {
   "cell_type": "markdown",
   "id": "6d7b6b49",
   "metadata": {},
   "source": [
    "#### 4. Describe two methods for specifying the text of an exception object&#39;s error message.\n"
   ]
  },
  {
   "cell_type": "markdown",
   "id": "fa82311a",
   "metadata": {},
   "source": [
    "***\n",
    "\n",
    "The error message text in class-based exceptions can be specified with a custom __str__ operator overloading method. For simpler needs, built-in exception superclasses automatically display anything you pass to the class constructor. Oper\u0002ations like print and str automatically fetch the display string of an exception object when is it printed either explicitly or as part of an error message.\n",
    "\n",
    "\n",
    "***"
   ]
  },
  {
   "cell_type": "markdown",
   "id": "d9341a61",
   "metadata": {},
   "source": [
    "#### 5. Why do you no longer use string-based exceptions?\n"
   ]
  },
  {
   "cell_type": "markdown",
   "id": "f123c551",
   "metadata": {},
   "source": [
    "***\n",
    " \n",
    "Because Guido said so—they have been removed in both Python 2.6 and 3.0. Really, there are good reasons for this: string-based exceptions did not support categories, state information, or behavior inheritance in the way class-based exceptions do. In practice, this made string-based exceptions easier to use at first, when programs were small, but more complex to use as programs grew larger.\n",
    "\n",
    "***"
   ]
  }
 ],
 "metadata": {
  "kernelspec": {
   "display_name": "Python 3",
   "language": "python",
   "name": "python3"
  },
  "language_info": {
   "codemirror_mode": {
    "name": "ipython",
    "version": 3
   },
   "file_extension": ".py",
   "mimetype": "text/x-python",
   "name": "python",
   "nbconvert_exporter": "python",
   "pygments_lexer": "ipython3",
   "version": "3.8.8"
  }
 },
 "nbformat": 4,
 "nbformat_minor": 5
}
