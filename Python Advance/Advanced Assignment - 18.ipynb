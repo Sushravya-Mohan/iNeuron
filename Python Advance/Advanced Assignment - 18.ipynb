{
 "cells": [
  {
   "cell_type": "markdown",
   "id": "9fdaa66c",
   "metadata": {},
   "source": [
    "## Advanced Assignment - 18\n",
    "\n"
   ]
  },
  {
   "cell_type": "markdown",
   "id": "b1293915",
   "metadata": {},
   "source": [
    "#### 1. Describe the differences between text and binary files in a single paragraph."
   ]
  },
  {
   "cell_type": "markdown",
   "id": "df8e3037",
   "metadata": {},
   "source": [
    "***\n",
    "\n",
    "**Text Files :** Text files are special subset of binary files that are used to store human readable characters as a rich text document or plain text document. Text files also store data in sequential bytes but bits in text file represents characters.\n",
    "\n",
    "**Binary Files :** Binary file are those typical files that store data in the form of sequence of bytes grouped into eight bits or sometimes sixteen bits. These bits represent custom data and such files can store multiple types of data (images, audio, text, etc) under a single file.\n",
    "\n",
    "Binary file can have custom file formats and the developer, who designs these custom file formats, converts the information, to be stored, in bits and arranges these bits in binary file so that they are well understood by the supporting application and when needed, can easily be read by the supporting application.\n",
    "\n",
    "\n",
    "***"
   ]
  },
  {
   "cell_type": "markdown",
   "id": "df1c8fff",
   "metadata": {},
   "source": [
    "####  2. What are some scenarios where using text files will be the better option? When would you like to use binary files instead of text files?\n",
    "\n"
   ]
  },
  {
   "cell_type": "markdown",
   "id": "73171841",
   "metadata": {},
   "source": [
    "***\n",
    "\n",
    "1. Text file: It is a better option to use text files when we require a simple format of text separated by newlines and you require to undo the changes easily. Text file can be opened by using a simple text editor.\n",
    "\n",
    "<br>\n",
    "\n",
    "2. Binary file: If a data file has a large amount of data and if it’s all numeric, then pro\u0002grams that use binary format to deal with it (as opposed to text format, the default) can frequently run several times faster. T\n",
    "\n",
    "\n",
    "***"
   ]
  },
  {
   "cell_type": "markdown",
   "id": "5f400670",
   "metadata": {},
   "source": [
    "#### 3. What are some of the issues with using binary operations to read and write a Python integer directly to disc?\n"
   ]
  },
  {
   "cell_type": "markdown",
   "id": "4437c4f0",
   "metadata": {},
   "source": [
    "***\n",
    "\n",
    "\n",
    "1. Reading and writing a Python integer using binary operation requires use of **bytes** class.\n",
    "\n",
    "<br>\n",
    "\n",
    "2. Strings may vary in length and using binary operations raises the question of just how many characters you should read or write.\n",
    "\n",
    "***"
   ]
  },
  {
   "cell_type": "markdown",
   "id": "6d7b6b49",
   "metadata": {},
   "source": [
    "#### 4. Describe a benefit of using the with keyword instead of explicitly opening a file.\n"
   ]
  },
  {
   "cell_type": "markdown",
   "id": "fa82311a",
   "metadata": {},
   "source": [
    "***\n",
    "\n",
    "Using the **`with`** keyword to open a file has the following advantages:\n",
    "\n",
    "1. If during the execution of the bloack, if an exceptions occur the file will automatically be closed.\n",
    "2. It automatically closes the file at the end of the file not leaving in open mode.\n",
    "3. We need not explicitly close the file.\n",
    "\n",
    "***"
   ]
  },
  {
   "cell_type": "markdown",
   "id": "d9341a61",
   "metadata": {},
   "source": [
    "#### 5. Does Python have the trailing newline while reading a line of text? Does Python append a newline when you write a line of text?\n"
   ]
  },
  {
   "cell_type": "markdown",
   "id": "f123c551",
   "metadata": {},
   "source": [
    "***\n",
    "\n",
    "Yes, Python has a trailing newline while reading a line of text.\n",
    "<br>\n",
    "But Python does not append a newline when we write a line of text. Hence, if we want to write text into file as separate lines, we will have to append the newlines.\n",
    "\n",
    "\n",
    "***"
   ]
  },
  {
   "cell_type": "markdown",
   "id": "1bf860de",
   "metadata": {},
   "source": [
    "#### 6. What file operations enable for random-access operation?"
   ]
  },
  {
   "cell_type": "markdown",
   "id": "a9f1b149",
   "metadata": {},
   "source": [
    "***\n",
    "\n",
    "The file operations enabling random access operation are \n",
    "1. `seek(pos, orig)`\n",
    "2. `seekable()`\n",
    "3. `tell()`\n",
    "\n",
    "\n",
    "***"
   ]
  },
  {
   "cell_type": "markdown",
   "id": "191c5e52",
   "metadata": {},
   "source": [
    "#### 7. When do you think you&#39;ll use the struct package the most?"
   ]
  },
  {
   "cell_type": "markdown",
   "id": "56748971",
   "metadata": {},
   "source": [
    "***\n",
    "\n",
    "`struct` package is used to convert Python built-in types (integers, floating point, strings) to \"C\" types. This handles packing Python variables into data fields of specific sizes.\n",
    "\n",
    "`struct` package standardizes both number and string storage so that it can be consistently read and written.\n",
    "\n",
    "\n",
    "\n",
    "\n",
    "\n",
    "***"
   ]
  },
  {
   "cell_type": "markdown",
   "id": "1dc759a8",
   "metadata": {},
   "source": [
    "#### 8. When is pickling the best option?"
   ]
  },
  {
   "cell_type": "markdown",
   "id": "2f3a56dc",
   "metadata": {},
   "source": [
    "***\n",
    "\n",
    "Pickling is the best option if we are creating an application that needs to read and write new data files from scratch.\n",
    "\n",
    "\n",
    "***"
   ]
  },
  {
   "cell_type": "markdown",
   "id": "ac8bd968",
   "metadata": {},
   "source": [
    "#### 9. When will it be best to use the shelve package?"
   ]
  },
  {
   "cell_type": "markdown",
   "id": "b1f67a6e",
   "metadata": {},
   "source": [
    "***\n",
    "\n",
    "The shelve package can be used to treat the entire data file as one big dictionary in which the keys must be strings.\n",
    "\n",
    "It is built on top of pickling and location of any desired object is looked up according to its key and the object is quickly found through random access.\n",
    "\n",
    "***"
   ]
  },
  {
   "cell_type": "markdown",
   "id": "26ec80ff",
   "metadata": {},
   "source": [
    "#### 10.  What is a special restriction when using the shelve package, as opposed to using other data dictionaries?"
   ]
  },
  {
   "cell_type": "markdown",
   "id": "2c559476",
   "metadata": {},
   "source": [
    "***\n",
    "\n",
    "The special restriction when using shelve package, as opposed to using other data dictionaries is that the key of the shelve package must always be strings.\n",
    "\n",
    "***"
   ]
  }
 ],
 "metadata": {
  "kernelspec": {
   "display_name": "Python 3",
   "language": "python",
   "name": "python3"
  },
  "language_info": {
   "codemirror_mode": {
    "name": "ipython",
    "version": 3
   },
   "file_extension": ".py",
   "mimetype": "text/x-python",
   "name": "python",
   "nbconvert_exporter": "python",
   "pygments_lexer": "ipython3",
   "version": "3.8.8"
  }
 },
 "nbformat": 4,
 "nbformat_minor": 5
}
