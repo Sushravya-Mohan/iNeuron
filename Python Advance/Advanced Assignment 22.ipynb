{
  "nbformat": 4,
  "nbformat_minor": 0,
  "metadata": {
    "colab": {
      "name": "Advanced Assignment - 22.ipynb",
      "provenance": []
    },
    "kernelspec": {
      "name": "python3",
      "display_name": "Python 3"
    },
    "language_info": {
      "name": "python"
    }
  },
  "cells": [
    {
      "cell_type": "markdown",
      "source": [
        "## **Advanced Assignment - 22**"
      ],
      "metadata": {
        "id": "qVFXLy4L-fl1"
      }
    },
    {
      "cell_type": "markdown",
      "source": [
        "**1. What are the benefits of the built-in array package, if any?**"
      ],
      "metadata": {
        "id": "Qjy48qI4-fo0"
      }
    },
    {
      "cell_type": "markdown",
      "source": [
        "Arrays represent multiple data items of the same type using a single name. In arrays, the elements can be accessed randomly by using the index number. Arrays allocate memory in contiguous memory locations for all its elements. Hence there is no chance of extra memory being allocated in case of arrays. This avoids memory overflow or shortage of memory in arrays."
      ],
      "metadata": {
        "id": "QRoGd2Bv-frW"
      }
    },
    {
      "cell_type": "markdown",
      "source": [
        "**2. What are some of the array package&#39;s limitations?**"
      ],
      "metadata": {
        "id": "vSVu7xGs-fup"
      }
    },
    {
      "cell_type": "markdown",
      "source": [
        "An array is a static structure. Once declared the size of the array/ the memory which is allocated to it cannot be increased or decreased. Hence the number of elements to be stored in an array should be known in advance.\n",
        "\n",
        "Insertion and deletion are quite difficult in an array as the elements are stored in consecutive memory locations and the shifting operation is costly.\n",
        "\n",
        "Allocating more memory than the requirement leads to wastage of memory space."
      ],
      "metadata": {
        "id": "P3E19o0a-fxX"
      }
    },
    {
      "cell_type": "markdown",
      "source": [
        "**3. Describe the main differences between the array and numpy packages.**"
      ],
      "metadata": {
        "id": "uKx0V--Y_kCe"
      }
    },
    {
      "cell_type": "markdown",
      "source": [
        "Using the array package we cannot perform numerical calculation with the items inside it while using NumPy a wide variety of numerical operations can be performed.\n",
        "\n",
        "An array is a single dimensional entity which hold the numerical data, while numpy can have more than 1 dimension.\n",
        "\n",
        "An item in an array can be accessed by its index position while in NumPy item is accessed by its column and row index."
      ],
      "metadata": {
        "id": "I5NG16Rc_kFl"
      }
    },
    {
      "cell_type": "markdown",
      "source": [
        "**4. Explain the distinctions between the empty, ones, and zeros functions.**"
      ],
      "metadata": {
        "id": "DoGs70oZ_kIz"
      }
    },
    {
      "cell_type": "markdown",
      "source": [
        "**Empty function:** numpy.empty() is used to create an array without initializing the entries of given shape and type.\n",
        "\n",
        "**Ones:** This function returns a new array of given shape and data type, where the element’s value is 1.\n",
        "\n",
        "**Zeros:** This function returns a new array of given shape and data type, where the element’s value is 0."
      ],
      "metadata": {
        "id": "lofZBzE2_kLr"
      }
    },
    {
      "cell_type": "markdown",
      "source": [
        "**5. In the fromfunction function, which is used to construct new arrays, what is the role of the callable argument?**"
      ],
      "metadata": {
        "id": "SD21lSrg_kOc"
      }
    },
    {
      "cell_type": "markdown",
      "source": [
        "The fromfunction() function is used to construct an array by executing a function over each coordinate. \n",
        "\n",
        "The resulting array therefore has a value fn(x, y, z) at coordinate (x, y, z)\n",
        "\n",
        "The function(callable argument) is called with N parameters, where N is the rank of shape. Each parameter represents the coordinates of the array varying along a specific axis."
      ],
      "metadata": {
        "id": "UvLgFjtL_kRo"
      }
    },
    {
      "cell_type": "markdown",
      "source": [
        "**6. What happens when a numpy array is combined with a single-value operand (a scalar, such as an int or a floating-point value) through addition, as in the expression A + n?**"
      ],
      "metadata": {
        "id": "-eykaDz1_kij"
      }
    },
    {
      "cell_type": "markdown",
      "source": [
        "When a numpy array is combined with a single-value operand(scalar), then the scalar will be added to each element in the NumPy array."
      ],
      "metadata": {
        "id": "F-k72ijD_klc"
      }
    },
    {
      "cell_type": "markdown",
      "source": [
        "**7. Can array-to-scalar operations use combined operation-assign operators (such as += or x=)? What is the outcome ?**"
      ],
      "metadata": {
        "id": "iAnzZr2qEHwW"
      }
    },
    {
      "cell_type": "markdown",
      "source": [
        "Yes, array-to-scalar operations can use combined operation-assign operators (such as += or *=).\n",
        "\n",
        "They will carry out provided operation on all elements of array."
      ],
      "metadata": {
        "id": "517LNoWZEHnZ"
      }
    },
    {
      "cell_type": "markdown",
      "source": [
        "**8. Does a numpy array contain fixed-length strings? What happens if you allocate a longer string to one of these arrays?**"
      ],
      "metadata": {
        "id": "c6Rs26WSEHlC"
      }
    },
    {
      "cell_type": "markdown",
      "source": [
        "Yes, numpy array can contain fixed-length strings. \n",
        "\n",
        "The dtype of any numpy array containing string values is the maximum length of any string present in the array.Once set, it will only be able to store new string having length not more than the maximum length at the time of the creation. \n",
        "\n",
        "If we try to reassign some another string value having length greater than the maximum length of the existing elements, it simply discards all the values beyond the maximum length accept upto those values which are under the limit."
      ],
      "metadata": {
        "id": "2Bdp4IcvEHh5"
      }
    },
    {
      "cell_type": "markdown",
      "source": [
        "**9. What happens when you combine two numpy arrays using an operation like addition or multiplication? What are the conditions for combining two numpy arrays?**"
      ],
      "metadata": {
        "id": "BO30JshYEHe5"
      }
    },
    {
      "cell_type": "markdown",
      "source": [
        "When two numpy arrays of same length are combined using an operation like addition(+) or multiplication(*), element wise addition or multiplication takes place."
      ],
      "metadata": {
        "id": "AcpJ7VmkEHcM"
      }
    },
    {
      "cell_type": "markdown",
      "source": [
        "**10. What is the best way to use a Boolean array to mask another array?**"
      ],
      "metadata": {
        "id": "0PjVSyB-EHZO"
      }
    },
    {
      "cell_type": "markdown",
      "source": [
        "The best way to use a Boolean array to mask another array is by using masked_where of numpy package."
      ],
      "metadata": {
        "id": "ZUTTMsLTEHWi"
      }
    },
    {
      "cell_type": "markdown",
      "source": [
        "**11. What are three different ways to get the standard deviation of a wide collection of data using both standard Python and its packages? Sort the three of them by how quickly they execute.**"
      ],
      "metadata": {
        "id": "2aMLeCoZEHTW"
      }
    },
    {
      "cell_type": "markdown",
      "source": [
        "1. Python function\n",
        "2. numpy.std()\n",
        "3. statistics.stdev()\n",
        "\n",
        "These are three different ways to get standard deviation using Python sorted by how quickly they execute.\n"
      ],
      "metadata": {
        "id": "DldEXubkEHNn"
      }
    },
    {
      "cell_type": "code",
      "source": [
        "test_list = [4, 5, 8, 9, 10]\n",
        "import statistics\n",
        "import numpy"
      ],
      "metadata": {
        "id": "rIJt9hz4IrlD"
      },
      "execution_count": 3,
      "outputs": []
    },
    {
      "cell_type": "code",
      "source": [
        "%%timeit \n",
        "mean = sum(test_list) / len(test_list)\n",
        "variance = sum([((x - mean) ** 2) for x in test_list]) / len(test_list)\n",
        "res = variance ** 0.5"
      ],
      "metadata": {
        "colab": {
          "base_uri": "https://localhost:8080/"
        },
        "id": "4WExQ2L_IoOz",
        "outputId": "c32e5181-2ac4-4d54-b5be-695e2672933d"
      },
      "execution_count": 2,
      "outputs": [
        {
          "output_type": "stream",
          "name": "stdout",
          "text": [
            "The slowest run took 16.54 times longer than the fastest. This could mean that an intermediate result is being cached.\n",
            "1000000 loops, best of 5: 1.43 µs per loop\n"
          ]
        }
      ]
    },
    {
      "cell_type": "code",
      "source": [
        "%%timeit\n",
        "statistics.stdev(test_list)"
      ],
      "metadata": {
        "colab": {
          "base_uri": "https://localhost:8080/"
        },
        "id": "TMZFeYYzJt-h",
        "outputId": "1ace4f8e-39c3-4eb5-af61-ea7f2910c1af"
      },
      "execution_count": 4,
      "outputs": [
        {
          "output_type": "stream",
          "name": "stdout",
          "text": [
            "10000 loops, best of 5: 78.8 µs per loop\n"
          ]
        }
      ]
    },
    {
      "cell_type": "code",
      "source": [
        "%%timeit\n",
        "numpy.std(test_list)"
      ],
      "metadata": {
        "colab": {
          "base_uri": "https://localhost:8080/"
        },
        "id": "2bSwzo5-Jtyi",
        "outputId": "7833c544-7416-4443-a3d3-d04bde9d0e2f"
      },
      "execution_count": 6,
      "outputs": [
        {
          "output_type": "stream",
          "name": "stdout",
          "text": [
            "The slowest run took 79.90 times longer than the fastest. This could mean that an intermediate result is being cached.\n",
            "10000 loops, best of 5: 34.8 µs per loop\n"
          ]
        }
      ]
    },
    {
      "cell_type": "markdown",
      "source": [
        "**12. What is the dimensionality of a Boolean mask-generated array?**"
      ],
      "metadata": {
        "id": "qchKjJpMEHKr"
      }
    },
    {
      "cell_type": "markdown",
      "source": [
        " Boolean mask generated array will have same dimensionality as input array."
      ],
      "metadata": {
        "id": "sO9JVrWcEG76"
      }
    }
  ]
}